{
 "cells": [
  {
   "cell_type": "markdown",
   "source": "\n<figure>\n<img src=\"/work/Modulo3_Caso4/fig/ISEADE LOGO Y ESCUDO.png\" align=\"center\"/> \n</figure> ",
   "metadata": {
    "cell_id": "aadf4d98-553a-430f-8803-072c4de3a998",
    "tags": [],
    "deepnote_cell_type": "markdown",
    "deepnote_cell_height": 387.71875
   }
  },
  {
   "cell_type": "markdown",
   "source": "# Caso 4 - Machine Learnig y K-Medias",
   "metadata": {
    "cell_id": "2f2712fe-912b-4f28-a2bf-62bb70e5c49d",
    "tags": [],
    "deepnote_cell_type": "markdown",
    "deepnote_cell_height": 82
   }
  },
  {
   "cell_type": "markdown",
   "source": "## 4.1. Problema de Negocio\n\nActualmente la empresa en la que se encuentra trabajando està teniendo un problema de retención de talento. Le ha sido asignada la tarea de entender este comportamiento y encontrar la razón por la cual las personas se van de la compañía.",
   "metadata": {
    "cell_id": "1bac6063-479c-41bb-886e-d1942af8652b",
    "tags": [],
    "deepnote_cell_type": "markdown",
    "deepnote_cell_height": 130.78125
   }
  },
  {
   "cell_type": "markdown",
   "source": "## 4.2. Definiciones\n### 4.2.1 Machine Learning\nEl aprendizaje automático es una clase de algoritmos computacionales que \"aprende\" iterativamente una aproximación a alguna función. Hay tres componentes que componen un algoritmo de aprendizaje automático: representación, evaluación y optimización.\nLa **representación** implica la transformación de entradas de un espacio a otro espacio más útil que puede interpretarse más fácilmente.\nLa **evaluación** es esencialmente la función de pérdida. ¿Con qué eficacia su algoritmo transformó sus datos en un espacio más útil?\nLa **optimización** es la última pieza del rompecabezas. Una vez que tenga el componente de evaluación, puede optimizar la función de representación para mejorar su métrica de evaluación.\n\nhttps://towardsdatascience.com/no-machine-learning-is-not-just-glorified-statistics-26d3952234e3\n\n### 4.2.2 Reconocimiento de Patrones\n\nEl reconocimiento de patrones es la búsqueda e identificación de patrones recurrentes con resultados aproximadamente similares.\n\nhttps://towardsdatascience.com/comparing-coffee-using-pattern-recognition-35b92cca4502\n\nhttps://towardsdatascience.com/technical-pattern-recognition-for-trading-in-python-63770aab422f\n\n### 4.2.2 Minería de datos\n\nAl recopilar e inspeccionar  datos, las personas pudieron descubrir algunos patrones. Incluso todo el conjunto de datos es basura, hay algunos patrones ocultos que se pueden extraer combinando múltiples fuentes de datos para proporcionar información valiosa.\n\nhttps://towardsdatascience.com/data-mining-in-brief-26483437f178\n\nhttps://towardsdatascience.com/your-ultimate-data-mining-machine-learning-cheat-sheet-9fce3fa16\n",
   "metadata": {
    "cell_id": "de972755-52bb-4ca4-acef-bf0a5233953c",
    "tags": [],
    "deepnote_cell_type": "markdown",
    "deepnote_cell_height": 1146.6875
   }
  },
  {
   "cell_type": "markdown",
   "source": "## 4.3. Importación de Módulos",
   "metadata": {
    "cell_id": "05d56d22-afe0-4d7d-a320-457a7ee2ecf8",
    "tags": [],
    "deepnote_cell_type": "markdown",
    "deepnote_cell_height": 70
   }
  },
  {
   "cell_type": "code",
   "metadata": {
    "cell_id": "a894bd6b-c710-44e5-ab60-6a02d724cf9e",
    "tags": [],
    "deepnote_to_be_reexecuted": false,
    "source_hash": "8017c452",
    "execution_start": 1646785693058,
    "execution_millis": 2471,
    "deepnote_cell_type": "code",
    "deepnote_cell_height": 207
   },
   "source": "import numpy as np \nimport pandas as pd \nimport seaborn as sns \nimport matplotlib.pyplot as plt\nimport sklearn\n\nfrom sklearn.cluster import KMeans\nfrom sklearn.preprocessing import MinMaxScaler, MaxAbsScaler, RobustScaler, StandardScaler, OrdinalEncoder",
   "execution_count": null,
   "outputs": []
  },
  {
   "cell_type": "markdown",
   "source": "## 4.4. Importación de Datos\n\nLa información fue descargada de un conjunto de datos disponible en [Kaggle](https://www.kaggle.com/pavansubhasht/ibm-hr-analytics-attrition-dataset). Estos datos son tabulares, y se encuentran en formato .csv. Por lo tanto pueden ser cargadas como una tabla en python. Esto puede ser realizado por medio de un DataFrame de pandas. ",
   "metadata": {
    "cell_id": "f2cdbd08-2ce0-4df9-b5b6-ef243d197077",
    "tags": [],
    "deepnote_cell_type": "markdown",
    "deepnote_cell_height": 152
   }
  },
  {
   "cell_type": "code",
   "metadata": {
    "cell_id": "cdaa7abe-97f9-4de3-94cf-5aa0565d778a",
    "tags": [],
    "deepnote_to_be_reexecuted": false,
    "source_hash": "463f6aa7",
    "execution_start": 1646785695530,
    "execution_millis": 128,
    "deepnote_cell_type": "code",
    "deepnote_cell_height": 377
   },
   "source": "df_HR = pd.read_csv('/work/Modulo3_Caso4/data/WA_Fn-UseC_-HR-Employee-Attrition.csv')\ndf_HR.head(5)",
   "execution_count": null,
   "outputs": [
    {
     "output_type": "execute_result",
     "execution_count": 2,
     "data": {
      "application/vnd.deepnote.dataframe.v3+json": {
       "column_count": 35,
       "row_count": 5,
       "columns": [
        {
         "name": "Age",
         "dtype": "int64",
         "stats": {
          "unique_count": 5,
          "nan_count": 0,
          "min": "27",
          "max": "49",
          "histogram": [
           {
            "bin_start": 27,
            "bin_end": 29.2,
            "count": 1
           },
           {
            "bin_start": 29.2,
            "bin_end": 31.4,
            "count": 0
           },
           {
            "bin_start": 31.4,
            "bin_end": 33.6,
            "count": 1
           },
           {
            "bin_start": 33.6,
            "bin_end": 35.8,
            "count": 0
           },
           {
            "bin_start": 35.8,
            "bin_end": 38,
            "count": 1
           },
           {
            "bin_start": 38,
            "bin_end": 40.2,
            "count": 0
           },
           {
            "bin_start": 40.2,
            "bin_end": 42.400000000000006,
            "count": 1
           },
           {
            "bin_start": 42.400000000000006,
            "bin_end": 44.6,
            "count": 0
           },
           {
            "bin_start": 44.6,
            "bin_end": 46.8,
            "count": 0
           },
           {
            "bin_start": 46.8,
            "bin_end": 49,
            "count": 1
           }
          ]
         }
        },
        {
         "name": "Attrition",
         "dtype": "object",
         "stats": {
          "unique_count": 2,
          "nan_count": 0,
          "categories": [
           {
            "name": "No",
            "count": 3
           },
           {
            "name": "Yes",
            "count": 2
           }
          ]
         }
        },
        {
         "name": "BusinessTravel",
         "dtype": "object",
         "stats": {
          "unique_count": 2,
          "nan_count": 0,
          "categories": [
           {
            "name": "Travel_Rarely",
            "count": 3
           },
           {
            "name": "Travel_Frequently",
            "count": 2
           }
          ]
         }
        },
        {
         "name": "DailyRate",
         "dtype": "int64",
         "stats": {
          "unique_count": 5,
          "nan_count": 0,
          "min": "279",
          "max": "1392",
          "histogram": [
           {
            "bin_start": 279,
            "bin_end": 390.3,
            "count": 1
           },
           {
            "bin_start": 390.3,
            "bin_end": 501.6,
            "count": 0
           },
           {
            "bin_start": 501.6,
            "bin_end": 612.9,
            "count": 1
           },
           {
            "bin_start": 612.9,
            "bin_end": 724.2,
            "count": 0
           },
           {
            "bin_start": 724.2,
            "bin_end": 835.5,
            "count": 0
           },
           {
            "bin_start": 835.5,
            "bin_end": 946.8,
            "count": 0
           },
           {
            "bin_start": 946.8,
            "bin_end": 1058.1,
            "count": 0
           },
           {
            "bin_start": 1058.1,
            "bin_end": 1169.4,
            "count": 1
           },
           {
            "bin_start": 1169.4,
            "bin_end": 1280.6999999999998,
            "count": 0
           },
           {
            "bin_start": 1280.6999999999998,
            "bin_end": 1392,
            "count": 2
           }
          ]
         }
        },
        {
         "name": "Department",
         "dtype": "object",
         "stats": {
          "unique_count": 2,
          "nan_count": 0,
          "categories": [
           {
            "name": "Research & Development",
            "count": 4
           },
           {
            "name": "Sales",
            "count": 1
           }
          ]
         }
        },
        {
         "name": "DistanceFromHome",
         "dtype": "int64",
         "stats": {
          "unique_count": 4,
          "nan_count": 0,
          "min": "1",
          "max": "8",
          "histogram": [
           {
            "bin_start": 1,
            "bin_end": 1.7,
            "count": 1
           },
           {
            "bin_start": 1.7,
            "bin_end": 2.4,
            "count": 2
           },
           {
            "bin_start": 2.4,
            "bin_end": 3.0999999999999996,
            "count": 1
           },
           {
            "bin_start": 3.0999999999999996,
            "bin_end": 3.8,
            "count": 0
           },
           {
            "bin_start": 3.8,
            "bin_end": 4.5,
            "count": 0
           },
           {
            "bin_start": 4.5,
            "bin_end": 5.199999999999999,
            "count": 0
           },
           {
            "bin_start": 5.199999999999999,
            "bin_end": 5.8999999999999995,
            "count": 0
           },
           {
            "bin_start": 5.8999999999999995,
            "bin_end": 6.6,
            "count": 0
           },
           {
            "bin_start": 6.6,
            "bin_end": 7.3,
            "count": 0
           },
           {
            "bin_start": 7.3,
            "bin_end": 8,
            "count": 1
           }
          ]
         }
        },
        {
         "name": "Education",
         "dtype": "int64",
         "stats": {
          "unique_count": 3,
          "nan_count": 0,
          "min": "1",
          "max": "4",
          "histogram": [
           {
            "bin_start": 1,
            "bin_end": 1.3,
            "count": 2
           },
           {
            "bin_start": 1.3,
            "bin_end": 1.6,
            "count": 0
           },
           {
            "bin_start": 1.6,
            "bin_end": 1.9,
            "count": 0
           },
           {
            "bin_start": 1.9,
            "bin_end": 2.2,
            "count": 2
           },
           {
            "bin_start": 2.2,
            "bin_end": 2.5,
            "count": 0
           },
           {
            "bin_start": 2.5,
            "bin_end": 2.8,
            "count": 0
           },
           {
            "bin_start": 2.8,
            "bin_end": 3.1,
            "count": 0
           },
           {
            "bin_start": 3.1,
            "bin_end": 3.4,
            "count": 0
           },
           {
            "bin_start": 3.4,
            "bin_end": 3.6999999999999997,
            "count": 0
           },
           {
            "bin_start": 3.6999999999999997,
            "bin_end": 4,
            "count": 1
           }
          ]
         }
        },
        {
         "name": "EducationField",
         "dtype": "object",
         "stats": {
          "unique_count": 3,
          "nan_count": 0,
          "categories": [
           {
            "name": "Life Sciences",
            "count": 3
           },
           {
            "name": "Other",
            "count": 1
           },
           {
            "name": "Medical",
            "count": 1
           }
          ]
         }
        },
        {
         "name": "EmployeeCount",
         "dtype": "int64",
         "stats": {
          "unique_count": 1,
          "nan_count": 0,
          "min": "1",
          "max": "1",
          "histogram": [
           {
            "bin_start": 0.5,
            "bin_end": 0.6,
            "count": 0
           },
           {
            "bin_start": 0.6,
            "bin_end": 0.7,
            "count": 0
           },
           {
            "bin_start": 0.7,
            "bin_end": 0.8,
            "count": 0
           },
           {
            "bin_start": 0.8,
            "bin_end": 0.9,
            "count": 0
           },
           {
            "bin_start": 0.9,
            "bin_end": 1,
            "count": 0
           },
           {
            "bin_start": 1,
            "bin_end": 1.1,
            "count": 5
           },
           {
            "bin_start": 1.1,
            "bin_end": 1.2000000000000002,
            "count": 0
           },
           {
            "bin_start": 1.2000000000000002,
            "bin_end": 1.3,
            "count": 0
           },
           {
            "bin_start": 1.3,
            "bin_end": 1.4,
            "count": 0
           },
           {
            "bin_start": 1.4,
            "bin_end": 1.5,
            "count": 0
           }
          ]
         }
        },
        {
         "name": "EmployeeNumber",
         "dtype": "int64",
         "stats": {
          "unique_count": 5,
          "nan_count": 0,
          "min": "1",
          "max": "7",
          "histogram": [
           {
            "bin_start": 1,
            "bin_end": 1.6,
            "count": 1
           },
           {
            "bin_start": 1.6,
            "bin_end": 2.2,
            "count": 1
           },
           {
            "bin_start": 2.2,
            "bin_end": 2.8,
            "count": 0
           },
           {
            "bin_start": 2.8,
            "bin_end": 3.4,
            "count": 0
           },
           {
            "bin_start": 3.4,
            "bin_end": 4,
            "count": 0
           },
           {
            "bin_start": 4,
            "bin_end": 4.6,
            "count": 1
           },
           {
            "bin_start": 4.6,
            "bin_end": 5.2,
            "count": 1
           },
           {
            "bin_start": 5.2,
            "bin_end": 5.8,
            "count": 0
           },
           {
            "bin_start": 5.8,
            "bin_end": 6.3999999999999995,
            "count": 0
           },
           {
            "bin_start": 6.3999999999999995,
            "bin_end": 7,
            "count": 1
           }
          ]
         }
        },
        {
         "name": "EnvironmentSatisfaction",
         "dtype": "int64",
         "stats": {
          "unique_count": 4,
          "nan_count": 0,
          "min": "1",
          "max": "4",
          "histogram": [
           {
            "bin_start": 1,
            "bin_end": 1.3,
            "count": 1
           },
           {
            "bin_start": 1.3,
            "bin_end": 1.6,
            "count": 0
           },
           {
            "bin_start": 1.6,
            "bin_end": 1.9,
            "count": 0
           },
           {
            "bin_start": 1.9,
            "bin_end": 2.2,
            "count": 1
           },
           {
            "bin_start": 2.2,
            "bin_end": 2.5,
            "count": 0
           },
           {
            "bin_start": 2.5,
            "bin_end": 2.8,
            "count": 0
           },
           {
            "bin_start": 2.8,
            "bin_end": 3.1,
            "count": 1
           },
           {
            "bin_start": 3.1,
            "bin_end": 3.4,
            "count": 0
           },
           {
            "bin_start": 3.4,
            "bin_end": 3.6999999999999997,
            "count": 0
           },
           {
            "bin_start": 3.6999999999999997,
            "bin_end": 4,
            "count": 2
           }
          ]
         }
        },
        {
         "name": "Gender",
         "dtype": "object",
         "stats": {
          "unique_count": 2,
          "nan_count": 0,
          "categories": [
           {
            "name": "Male",
            "count": 3
           },
           {
            "name": "Female",
            "count": 2
           }
          ]
         }
        },
        {
         "name": "HourlyRate",
         "dtype": "int64",
         "stats": {
          "unique_count": 5,
          "nan_count": 0,
          "min": "40",
          "max": "94",
          "histogram": [
           {
            "bin_start": 40,
            "bin_end": 45.4,
            "count": 1
           },
           {
            "bin_start": 45.4,
            "bin_end": 50.8,
            "count": 0
           },
           {
            "bin_start": 50.8,
            "bin_end": 56.2,
            "count": 1
           },
           {
            "bin_start": 56.2,
            "bin_end": 61.6,
            "count": 1
           },
           {
            "bin_start": 61.6,
            "bin_end": 67,
            "count": 0
           },
           {
            "bin_start": 67,
            "bin_end": 72.4,
            "count": 0
           },
           {
            "bin_start": 72.4,
            "bin_end": 77.80000000000001,
            "count": 0
           },
           {
            "bin_start": 77.80000000000001,
            "bin_end": 83.2,
            "count": 0
           },
           {
            "bin_start": 83.2,
            "bin_end": 88.6,
            "count": 0
           },
           {
            "bin_start": 88.6,
            "bin_end": 94,
            "count": 2
           }
          ]
         }
        },
        {
         "name": "JobInvolvement",
         "dtype": "int64",
         "stats": {
          "unique_count": 2,
          "nan_count": 0,
          "min": "2",
          "max": "3",
          "histogram": [
           {
            "bin_start": 2,
            "bin_end": 2.1,
            "count": 2
           },
           {
            "bin_start": 2.1,
            "bin_end": 2.2,
            "count": 0
           },
           {
            "bin_start": 2.2,
            "bin_end": 2.3,
            "count": 0
           },
           {
            "bin_start": 2.3,
            "bin_end": 2.4,
            "count": 0
           },
           {
            "bin_start": 2.4,
            "bin_end": 2.5,
            "count": 0
           },
           {
            "bin_start": 2.5,
            "bin_end": 2.6,
            "count": 0
           },
           {
            "bin_start": 2.6,
            "bin_end": 2.7,
            "count": 0
           },
           {
            "bin_start": 2.7,
            "bin_end": 2.8,
            "count": 0
           },
           {
            "bin_start": 2.8,
            "bin_end": 2.9,
            "count": 0
           },
           {
            "bin_start": 2.9,
            "bin_end": 3,
            "count": 3
           }
          ]
         }
        },
        {
         "name": "JobLevel",
         "dtype": "int64",
         "stats": {
          "unique_count": 2,
          "nan_count": 0,
          "min": "1",
          "max": "2",
          "histogram": [
           {
            "bin_start": 1,
            "bin_end": 1.1,
            "count": 3
           },
           {
            "bin_start": 1.1,
            "bin_end": 1.2,
            "count": 0
           },
           {
            "bin_start": 1.2,
            "bin_end": 1.3,
            "count": 0
           },
           {
            "bin_start": 1.3,
            "bin_end": 1.4,
            "count": 0
           },
           {
            "bin_start": 1.4,
            "bin_end": 1.5,
            "count": 0
           },
           {
            "bin_start": 1.5,
            "bin_end": 1.6,
            "count": 0
           },
           {
            "bin_start": 1.6,
            "bin_end": 1.7000000000000002,
            "count": 0
           },
           {
            "bin_start": 1.7000000000000002,
            "bin_end": 1.8,
            "count": 0
           },
           {
            "bin_start": 1.8,
            "bin_end": 1.9,
            "count": 0
           },
           {
            "bin_start": 1.9,
            "bin_end": 2,
            "count": 2
           }
          ]
         }
        },
        {
         "name": "JobRole",
         "dtype": "object",
         "stats": {
          "unique_count": 3,
          "nan_count": 0,
          "categories": [
           {
            "name": "Research Scientist",
            "count": 2
           },
           {
            "name": "Laboratory Technician",
            "count": 2
           },
           {
            "name": "Sales Executive",
            "count": 1
           }
          ]
         }
        },
        {
         "name": "JobSatisfaction",
         "dtype": "int64",
         "stats": {
          "unique_count": 3,
          "nan_count": 0,
          "min": "2",
          "max": "4",
          "histogram": [
           {
            "bin_start": 2,
            "bin_end": 2.2,
            "count": 2
           },
           {
            "bin_start": 2.2,
            "bin_end": 2.4,
            "count": 0
           },
           {
            "bin_start": 2.4,
            "bin_end": 2.6,
            "count": 0
           },
           {
            "bin_start": 2.6,
            "bin_end": 2.8,
            "count": 0
           },
           {
            "bin_start": 2.8,
            "bin_end": 3,
            "count": 0
           },
           {
            "bin_start": 3,
            "bin_end": 3.2,
            "count": 2
           },
           {
            "bin_start": 3.2,
            "bin_end": 3.4000000000000004,
            "count": 0
           },
           {
            "bin_start": 3.4000000000000004,
            "bin_end": 3.6,
            "count": 0
           },
           {
            "bin_start": 3.6,
            "bin_end": 3.8,
            "count": 0
           },
           {
            "bin_start": 3.8,
            "bin_end": 4,
            "count": 1
           }
          ]
         }
        },
        {
         "name": "MaritalStatus",
         "dtype": "object",
         "stats": {
          "unique_count": 2,
          "nan_count": 0,
          "categories": [
           {
            "name": "Married",
            "count": 3
           },
           {
            "name": "Single",
            "count": 2
           }
          ]
         }
        },
        {
         "name": "MonthlyIncome",
         "dtype": "int64",
         "stats": {
          "unique_count": 5,
          "nan_count": 0,
          "min": "2090",
          "max": "5993",
          "histogram": [
           {
            "bin_start": 2090,
            "bin_end": 2480.3,
            "count": 1
           },
           {
            "bin_start": 2480.3,
            "bin_end": 2870.6,
            "count": 0
           },
           {
            "bin_start": 2870.6,
            "bin_end": 3260.9,
            "count": 1
           },
           {
            "bin_start": 3260.9,
            "bin_end": 3651.2,
            "count": 1
           },
           {
            "bin_start": 3651.2,
            "bin_end": 4041.5,
            "count": 0
           },
           {
            "bin_start": 4041.5,
            "bin_end": 4431.8,
            "count": 0
           },
           {
            "bin_start": 4431.8,
            "bin_end": 4822.1,
            "count": 0
           },
           {
            "bin_start": 4822.1,
            "bin_end": 5212.4,
            "count": 1
           },
           {
            "bin_start": 5212.4,
            "bin_end": 5602.700000000001,
            "count": 0
           },
           {
            "bin_start": 5602.700000000001,
            "bin_end": 5993,
            "count": 1
           }
          ]
         }
        },
        {
         "name": "MonthlyRate",
         "dtype": "int64",
         "stats": {
          "unique_count": 5,
          "nan_count": 0,
          "min": "2396",
          "max": "24907",
          "histogram": [
           {
            "bin_start": 2396,
            "bin_end": 4647.1,
            "count": 1
           },
           {
            "bin_start": 4647.1,
            "bin_end": 6898.2,
            "count": 0
           },
           {
            "bin_start": 6898.2,
            "bin_end": 9149.3,
            "count": 0
           },
           {
            "bin_start": 9149.3,
            "bin_end": 11400.4,
            "count": 0
           },
           {
            "bin_start": 11400.4,
            "bin_end": 13651.5,
            "count": 0
           },
           {
            "bin_start": 13651.5,
            "bin_end": 15902.599999999999,
            "count": 0
           },
           {
            "bin_start": 15902.599999999999,
            "bin_end": 18153.699999999997,
            "count": 1
           },
           {
            "bin_start": 18153.699999999997,
            "bin_end": 20404.8,
            "count": 1
           },
           {
            "bin_start": 20404.8,
            "bin_end": 22655.899999999998,
            "count": 0
           },
           {
            "bin_start": 22655.899999999998,
            "bin_end": 24907,
            "count": 2
           }
          ]
         }
        },
        {
         "name": "NumCompaniesWorked",
         "dtype": "int64",
         "stats": {
          "unique_count": 4,
          "nan_count": 0,
          "min": "1",
          "max": "9",
          "histogram": [
           {
            "bin_start": 1,
            "bin_end": 1.8,
            "count": 2
           },
           {
            "bin_start": 1.8,
            "bin_end": 2.6,
            "count": 0
           },
           {
            "bin_start": 2.6,
            "bin_end": 3.4000000000000004,
            "count": 0
           },
           {
            "bin_start": 3.4000000000000004,
            "bin_end": 4.2,
            "count": 0
           },
           {
            "bin_start": 4.2,
            "bin_end": 5,
            "count": 0
           },
           {
            "bin_start": 5,
            "bin_end": 5.800000000000001,
            "count": 0
           },
           {
            "bin_start": 5.800000000000001,
            "bin_end": 6.6000000000000005,
            "count": 1
           },
           {
            "bin_start": 6.6000000000000005,
            "bin_end": 7.4,
            "count": 0
           },
           {
            "bin_start": 7.4,
            "bin_end": 8.2,
            "count": 1
           },
           {
            "bin_start": 8.2,
            "bin_end": 9,
            "count": 1
           }
          ]
         }
        },
        {
         "name": "Over18",
         "dtype": "object",
         "stats": {
          "unique_count": 1,
          "nan_count": 0,
          "categories": [
           {
            "name": "Y",
            "count": 5
           }
          ]
         }
        },
        {
         "name": "OverTime",
         "dtype": "object",
         "stats": {
          "unique_count": 2,
          "nan_count": 0,
          "categories": [
           {
            "name": "Yes",
            "count": 3
           },
           {
            "name": "No",
            "count": 2
           }
          ]
         }
        },
        {
         "name": "PercentSalaryHike",
         "dtype": "int64",
         "stats": {
          "unique_count": 4,
          "nan_count": 0,
          "min": "11",
          "max": "23",
          "histogram": [
           {
            "bin_start": 11,
            "bin_end": 12.2,
            "count": 3
           },
           {
            "bin_start": 12.2,
            "bin_end": 13.4,
            "count": 0
           },
           {
            "bin_start": 13.4,
            "bin_end": 14.6,
            "count": 0
           },
           {
            "bin_start": 14.6,
            "bin_end": 15.8,
            "count": 1
           },
           {
            "bin_start": 15.8,
            "bin_end": 17,
            "count": 0
           },
           {
            "bin_start": 17,
            "bin_end": 18.2,
            "count": 0
           },
           {
            "bin_start": 18.2,
            "bin_end": 19.4,
            "count": 0
           },
           {
            "bin_start": 19.4,
            "bin_end": 20.6,
            "count": 0
           },
           {
            "bin_start": 20.6,
            "bin_end": 21.799999999999997,
            "count": 0
           },
           {
            "bin_start": 21.799999999999997,
            "bin_end": 23,
            "count": 1
           }
          ]
         }
        },
        {
         "name": "PerformanceRating",
         "dtype": "int64",
         "stats": {
          "unique_count": 2,
          "nan_count": 0,
          "min": "3",
          "max": "4",
          "histogram": [
           {
            "bin_start": 3,
            "bin_end": 3.1,
            "count": 4
           },
           {
            "bin_start": 3.1,
            "bin_end": 3.2,
            "count": 0
           },
           {
            "bin_start": 3.2,
            "bin_end": 3.3,
            "count": 0
           },
           {
            "bin_start": 3.3,
            "bin_end": 3.4,
            "count": 0
           },
           {
            "bin_start": 3.4,
            "bin_end": 3.5,
            "count": 0
           },
           {
            "bin_start": 3.5,
            "bin_end": 3.6,
            "count": 0
           },
           {
            "bin_start": 3.6,
            "bin_end": 3.7,
            "count": 0
           },
           {
            "bin_start": 3.7,
            "bin_end": 3.8,
            "count": 0
           },
           {
            "bin_start": 3.8,
            "bin_end": 3.9,
            "count": 0
           },
           {
            "bin_start": 3.9,
            "bin_end": 4,
            "count": 1
           }
          ]
         }
        },
        {
         "name": "RelationshipSatisfaction",
         "dtype": "int64",
         "stats": {
          "unique_count": 4,
          "nan_count": 0,
          "min": "1",
          "max": "4",
          "histogram": [
           {
            "bin_start": 1,
            "bin_end": 1.3,
            "count": 1
           },
           {
            "bin_start": 1.3,
            "bin_end": 1.6,
            "count": 0
           },
           {
            "bin_start": 1.6,
            "bin_end": 1.9,
            "count": 0
           },
           {
            "bin_start": 1.9,
            "bin_end": 2.2,
            "count": 1
           },
           {
            "bin_start": 2.2,
            "bin_end": 2.5,
            "count": 0
           },
           {
            "bin_start": 2.5,
            "bin_end": 2.8,
            "count": 0
           },
           {
            "bin_start": 2.8,
            "bin_end": 3.1,
            "count": 1
           },
           {
            "bin_start": 3.1,
            "bin_end": 3.4,
            "count": 0
           },
           {
            "bin_start": 3.4,
            "bin_end": 3.6999999999999997,
            "count": 0
           },
           {
            "bin_start": 3.6999999999999997,
            "bin_end": 4,
            "count": 2
           }
          ]
         }
        },
        {
         "name": "StandardHours",
         "dtype": "int64",
         "stats": {
          "unique_count": 1,
          "nan_count": 0,
          "min": "80",
          "max": "80",
          "histogram": [
           {
            "bin_start": 79.5,
            "bin_end": 79.6,
            "count": 0
           },
           {
            "bin_start": 79.6,
            "bin_end": 79.7,
            "count": 0
           },
           {
            "bin_start": 79.7,
            "bin_end": 79.8,
            "count": 0
           },
           {
            "bin_start": 79.8,
            "bin_end": 79.9,
            "count": 0
           },
           {
            "bin_start": 79.9,
            "bin_end": 80,
            "count": 0
           },
           {
            "bin_start": 80,
            "bin_end": 80.1,
            "count": 5
           },
           {
            "bin_start": 80.1,
            "bin_end": 80.2,
            "count": 0
           },
           {
            "bin_start": 80.2,
            "bin_end": 80.3,
            "count": 0
           },
           {
            "bin_start": 80.3,
            "bin_end": 80.4,
            "count": 0
           },
           {
            "bin_start": 80.4,
            "bin_end": 80.5,
            "count": 0
           }
          ]
         }
        },
        {
         "name": "StockOptionLevel",
         "dtype": "int64",
         "stats": {
          "unique_count": 2,
          "nan_count": 0,
          "min": "0",
          "max": "1",
          "histogram": [
           {
            "bin_start": 0,
            "bin_end": 0.1,
            "count": 3
           },
           {
            "bin_start": 0.1,
            "bin_end": 0.2,
            "count": 0
           },
           {
            "bin_start": 0.2,
            "bin_end": 0.30000000000000004,
            "count": 0
           },
           {
            "bin_start": 0.30000000000000004,
            "bin_end": 0.4,
            "count": 0
           },
           {
            "bin_start": 0.4,
            "bin_end": 0.5,
            "count": 0
           },
           {
            "bin_start": 0.5,
            "bin_end": 0.6000000000000001,
            "count": 0
           },
           {
            "bin_start": 0.6000000000000001,
            "bin_end": 0.7000000000000001,
            "count": 0
           },
           {
            "bin_start": 0.7000000000000001,
            "bin_end": 0.8,
            "count": 0
           },
           {
            "bin_start": 0.8,
            "bin_end": 0.9,
            "count": 0
           },
           {
            "bin_start": 0.9,
            "bin_end": 1,
            "count": 2
           }
          ]
         }
        },
        {
         "name": "TotalWorkingYears",
         "dtype": "int64",
         "stats": {
          "unique_count": 4,
          "nan_count": 0,
          "min": "6",
          "max": "10",
          "histogram": [
           {
            "bin_start": 6,
            "bin_end": 6.4,
            "count": 1
           },
           {
            "bin_start": 6.4,
            "bin_end": 6.8,
            "count": 0
           },
           {
            "bin_start": 6.8,
            "bin_end": 7.2,
            "count": 1
           },
           {
            "bin_start": 7.2,
            "bin_end": 7.6,
            "count": 0
           },
           {
            "bin_start": 7.6,
            "bin_end": 8,
            "count": 0
           },
           {
            "bin_start": 8,
            "bin_end": 8.4,
            "count": 2
           },
           {
            "bin_start": 8.4,
            "bin_end": 8.8,
            "count": 0
           },
           {
            "bin_start": 8.8,
            "bin_end": 9.2,
            "count": 0
           },
           {
            "bin_start": 9.2,
            "bin_end": 9.6,
            "count": 0
           },
           {
            "bin_start": 9.6,
            "bin_end": 10,
            "count": 1
           }
          ]
         }
        },
        {
         "name": "TrainingTimesLastYear",
         "dtype": "int64",
         "stats": {
          "unique_count": 2,
          "nan_count": 0,
          "min": "0",
          "max": "3",
          "histogram": [
           {
            "bin_start": 0,
            "bin_end": 0.3,
            "count": 1
           },
           {
            "bin_start": 0.3,
            "bin_end": 0.6,
            "count": 0
           },
           {
            "bin_start": 0.6,
            "bin_end": 0.8999999999999999,
            "count": 0
           },
           {
            "bin_start": 0.8999999999999999,
            "bin_end": 1.2,
            "count": 0
           },
           {
            "bin_start": 1.2,
            "bin_end": 1.5,
            "count": 0
           },
           {
            "bin_start": 1.5,
            "bin_end": 1.7999999999999998,
            "count": 0
           },
           {
            "bin_start": 1.7999999999999998,
            "bin_end": 2.1,
            "count": 0
           },
           {
            "bin_start": 2.1,
            "bin_end": 2.4,
            "count": 0
           },
           {
            "bin_start": 2.4,
            "bin_end": 2.6999999999999997,
            "count": 0
           },
           {
            "bin_start": 2.6999999999999997,
            "bin_end": 3,
            "count": 4
           }
          ]
         }
        },
        {
         "name": "WorkLifeBalance",
         "dtype": "int64",
         "stats": {
          "unique_count": 2,
          "nan_count": 0,
          "min": "1",
          "max": "3",
          "histogram": [
           {
            "bin_start": 1,
            "bin_end": 1.2,
            "count": 1
           },
           {
            "bin_start": 1.2,
            "bin_end": 1.4,
            "count": 0
           },
           {
            "bin_start": 1.4,
            "bin_end": 1.6,
            "count": 0
           },
           {
            "bin_start": 1.6,
            "bin_end": 1.8,
            "count": 0
           },
           {
            "bin_start": 1.8,
            "bin_end": 2,
            "count": 0
           },
           {
            "bin_start": 2,
            "bin_end": 2.2,
            "count": 0
           },
           {
            "bin_start": 2.2,
            "bin_end": 2.4000000000000004,
            "count": 0
           },
           {
            "bin_start": 2.4000000000000004,
            "bin_end": 2.6,
            "count": 0
           },
           {
            "bin_start": 2.6,
            "bin_end": 2.8,
            "count": 0
           },
           {
            "bin_start": 2.8,
            "bin_end": 3,
            "count": 4
           }
          ]
         }
        },
        {
         "name": "YearsAtCompany",
         "dtype": "int64",
         "stats": {
          "unique_count": 5,
          "nan_count": 0,
          "min": "0",
          "max": "10",
          "histogram": [
           {
            "bin_start": 0,
            "bin_end": 1,
            "count": 1
           },
           {
            "bin_start": 1,
            "bin_end": 2,
            "count": 0
           },
           {
            "bin_start": 2,
            "bin_end": 3,
            "count": 1
           },
           {
            "bin_start": 3,
            "bin_end": 4,
            "count": 0
           },
           {
            "bin_start": 4,
            "bin_end": 5,
            "count": 0
           },
           {
            "bin_start": 5,
            "bin_end": 6,
            "count": 0
           },
           {
            "bin_start": 6,
            "bin_end": 7,
            "count": 1
           },
           {
            "bin_start": 7,
            "bin_end": 8,
            "count": 0
           },
           {
            "bin_start": 8,
            "bin_end": 9,
            "count": 1
           },
           {
            "bin_start": 9,
            "bin_end": 10,
            "count": 1
           }
          ]
         }
        },
        {
         "name": "YearsInCurrentRole",
         "dtype": "int64",
         "stats": {
          "unique_count": 4,
          "nan_count": 0,
          "min": "0",
          "max": "7",
          "histogram": [
           {
            "bin_start": 0,
            "bin_end": 0.7,
            "count": 1
           },
           {
            "bin_start": 0.7,
            "bin_end": 1.4,
            "count": 0
           },
           {
            "bin_start": 1.4,
            "bin_end": 2.0999999999999996,
            "count": 1
           },
           {
            "bin_start": 2.0999999999999996,
            "bin_end": 2.8,
            "count": 0
           },
           {
            "bin_start": 2.8,
            "bin_end": 3.5,
            "count": 0
           },
           {
            "bin_start": 3.5,
            "bin_end": 4.199999999999999,
            "count": 1
           },
           {
            "bin_start": 4.199999999999999,
            "bin_end": 4.8999999999999995,
            "count": 0
           },
           {
            "bin_start": 4.8999999999999995,
            "bin_end": 5.6,
            "count": 0
           },
           {
            "bin_start": 5.6,
            "bin_end": 6.3,
            "count": 0
           },
           {
            "bin_start": 6.3,
            "bin_end": 7,
            "count": 2
           }
          ]
         }
        },
        {
         "name": "YearsSinceLastPromotion",
         "dtype": "int64",
         "stats": {
          "unique_count": 4,
          "nan_count": 0,
          "min": "0",
          "max": "3",
          "histogram": [
           {
            "bin_start": 0,
            "bin_end": 0.3,
            "count": 2
           },
           {
            "bin_start": 0.3,
            "bin_end": 0.6,
            "count": 0
           },
           {
            "bin_start": 0.6,
            "bin_end": 0.8999999999999999,
            "count": 0
           },
           {
            "bin_start": 0.8999999999999999,
            "bin_end": 1.2,
            "count": 1
           },
           {
            "bin_start": 1.2,
            "bin_end": 1.5,
            "count": 0
           },
           {
            "bin_start": 1.5,
            "bin_end": 1.7999999999999998,
            "count": 0
           },
           {
            "bin_start": 1.7999999999999998,
            "bin_end": 2.1,
            "count": 1
           },
           {
            "bin_start": 2.1,
            "bin_end": 2.4,
            "count": 0
           },
           {
            "bin_start": 2.4,
            "bin_end": 2.6999999999999997,
            "count": 0
           },
           {
            "bin_start": 2.6999999999999997,
            "bin_end": 3,
            "count": 1
           }
          ]
         }
        },
        {
         "name": "YearsWithCurrManager",
         "dtype": "int64",
         "stats": {
          "unique_count": 4,
          "nan_count": 0,
          "min": "0",
          "max": "7",
          "histogram": [
           {
            "bin_start": 0,
            "bin_end": 0.7,
            "count": 2
           },
           {
            "bin_start": 0.7,
            "bin_end": 1.4,
            "count": 0
           },
           {
            "bin_start": 1.4,
            "bin_end": 2.0999999999999996,
            "count": 1
           },
           {
            "bin_start": 2.0999999999999996,
            "bin_end": 2.8,
            "count": 0
           },
           {
            "bin_start": 2.8,
            "bin_end": 3.5,
            "count": 0
           },
           {
            "bin_start": 3.5,
            "bin_end": 4.199999999999999,
            "count": 0
           },
           {
            "bin_start": 4.199999999999999,
            "bin_end": 4.8999999999999995,
            "count": 0
           },
           {
            "bin_start": 4.8999999999999995,
            "bin_end": 5.6,
            "count": 1
           },
           {
            "bin_start": 5.6,
            "bin_end": 6.3,
            "count": 0
           },
           {
            "bin_start": 6.3,
            "bin_end": 7,
            "count": 1
           }
          ]
         }
        },
        {
         "name": "_deepnote_index_column",
         "dtype": "int64"
        }
       ],
       "rows": [
        {
         "Age": 41,
         "Attrition": "Yes",
         "BusinessTravel": "Travel_Rarely",
         "DailyRate": 1102,
         "Department": "Sales",
         "DistanceFromHome": 1,
         "Education": 2,
         "EducationField": "Life Sciences",
         "EmployeeCount": 1,
         "EmployeeNumber": 1,
         "EnvironmentSatisfaction": 2,
         "Gender": "Female",
         "HourlyRate": 94,
         "JobInvolvement": 3,
         "JobLevel": 2,
         "JobRole": "Sales Executive",
         "JobSatisfaction": 4,
         "MaritalStatus": "Single",
         "MonthlyIncome": 5993,
         "MonthlyRate": 19479,
         "NumCompaniesWorked": 8,
         "Over18": "Y",
         "OverTime": "Yes",
         "PercentSalaryHike": 11,
         "PerformanceRating": 3,
         "RelationshipSatisfaction": 1,
         "StandardHours": 80,
         "StockOptionLevel": 0,
         "TotalWorkingYears": 8,
         "TrainingTimesLastYear": 0,
         "WorkLifeBalance": 1,
         "YearsAtCompany": 6,
         "YearsInCurrentRole": 4,
         "YearsSinceLastPromotion": 0,
         "YearsWithCurrManager": 5,
         "_deepnote_index_column": 0
        },
        {
         "Age": 49,
         "Attrition": "No",
         "BusinessTravel": "Travel_Frequently",
         "DailyRate": 279,
         "Department": "Research & Development",
         "DistanceFromHome": 8,
         "Education": 1,
         "EducationField": "Life Sciences",
         "EmployeeCount": 1,
         "EmployeeNumber": 2,
         "EnvironmentSatisfaction": 3,
         "Gender": "Male",
         "HourlyRate": 61,
         "JobInvolvement": 2,
         "JobLevel": 2,
         "JobRole": "Research Scientist",
         "JobSatisfaction": 2,
         "MaritalStatus": "Married",
         "MonthlyIncome": 5130,
         "MonthlyRate": 24907,
         "NumCompaniesWorked": 1,
         "Over18": "Y",
         "OverTime": "No",
         "PercentSalaryHike": 23,
         "PerformanceRating": 4,
         "RelationshipSatisfaction": 4,
         "StandardHours": 80,
         "StockOptionLevel": 1,
         "TotalWorkingYears": 10,
         "TrainingTimesLastYear": 3,
         "WorkLifeBalance": 3,
         "YearsAtCompany": 10,
         "YearsInCurrentRole": 7,
         "YearsSinceLastPromotion": 1,
         "YearsWithCurrManager": 7,
         "_deepnote_index_column": 1
        },
        {
         "Age": 37,
         "Attrition": "Yes",
         "BusinessTravel": "Travel_Rarely",
         "DailyRate": 1373,
         "Department": "Research & Development",
         "DistanceFromHome": 2,
         "Education": 2,
         "EducationField": "Other",
         "EmployeeCount": 1,
         "EmployeeNumber": 4,
         "EnvironmentSatisfaction": 4,
         "Gender": "Male",
         "HourlyRate": 92,
         "JobInvolvement": 2,
         "JobLevel": 1,
         "JobRole": "Laboratory Technician",
         "JobSatisfaction": 3,
         "MaritalStatus": "Single",
         "MonthlyIncome": 2090,
         "MonthlyRate": 2396,
         "NumCompaniesWorked": 6,
         "Over18": "Y",
         "OverTime": "Yes",
         "PercentSalaryHike": 15,
         "PerformanceRating": 3,
         "RelationshipSatisfaction": 2,
         "StandardHours": 80,
         "StockOptionLevel": 0,
         "TotalWorkingYears": 7,
         "TrainingTimesLastYear": 3,
         "WorkLifeBalance": 3,
         "YearsAtCompany": 0,
         "YearsInCurrentRole": 0,
         "YearsSinceLastPromotion": 0,
         "YearsWithCurrManager": 0,
         "_deepnote_index_column": 2
        },
        {
         "Age": 33,
         "Attrition": "No",
         "BusinessTravel": "Travel_Frequently",
         "DailyRate": 1392,
         "Department": "Research & Development",
         "DistanceFromHome": 3,
         "Education": 4,
         "EducationField": "Life Sciences",
         "EmployeeCount": 1,
         "EmployeeNumber": 5,
         "EnvironmentSatisfaction": 4,
         "Gender": "Female",
         "HourlyRate": 56,
         "JobInvolvement": 3,
         "JobLevel": 1,
         "JobRole": "Research Scientist",
         "JobSatisfaction": 3,
         "MaritalStatus": "Married",
         "MonthlyIncome": 2909,
         "MonthlyRate": 23159,
         "NumCompaniesWorked": 1,
         "Over18": "Y",
         "OverTime": "Yes",
         "PercentSalaryHike": 11,
         "PerformanceRating": 3,
         "RelationshipSatisfaction": 3,
         "StandardHours": 80,
         "StockOptionLevel": 0,
         "TotalWorkingYears": 8,
         "TrainingTimesLastYear": 3,
         "WorkLifeBalance": 3,
         "YearsAtCompany": 8,
         "YearsInCurrentRole": 7,
         "YearsSinceLastPromotion": 3,
         "YearsWithCurrManager": 0,
         "_deepnote_index_column": 3
        },
        {
         "Age": 27,
         "Attrition": "No",
         "BusinessTravel": "Travel_Rarely",
         "DailyRate": 591,
         "Department": "Research & Development",
         "DistanceFromHome": 2,
         "Education": 1,
         "EducationField": "Medical",
         "EmployeeCount": 1,
         "EmployeeNumber": 7,
         "EnvironmentSatisfaction": 1,
         "Gender": "Male",
         "HourlyRate": 40,
         "JobInvolvement": 3,
         "JobLevel": 1,
         "JobRole": "Laboratory Technician",
         "JobSatisfaction": 2,
         "MaritalStatus": "Married",
         "MonthlyIncome": 3468,
         "MonthlyRate": 16632,
         "NumCompaniesWorked": 9,
         "Over18": "Y",
         "OverTime": "No",
         "PercentSalaryHike": 12,
         "PerformanceRating": 3,
         "RelationshipSatisfaction": 4,
         "StandardHours": 80,
         "StockOptionLevel": 1,
         "TotalWorkingYears": 6,
         "TrainingTimesLastYear": 3,
         "WorkLifeBalance": 3,
         "YearsAtCompany": 2,
         "YearsInCurrentRole": 2,
         "YearsSinceLastPromotion": 2,
         "YearsWithCurrManager": 2,
         "_deepnote_index_column": 4
        }
       ]
      },
      "text/plain": "   Age Attrition     BusinessTravel  DailyRate              Department  \\\n0   41       Yes      Travel_Rarely       1102                   Sales   \n1   49        No  Travel_Frequently        279  Research & Development   \n2   37       Yes      Travel_Rarely       1373  Research & Development   \n3   33        No  Travel_Frequently       1392  Research & Development   \n4   27        No      Travel_Rarely        591  Research & Development   \n\n   DistanceFromHome  Education EducationField  EmployeeCount  EmployeeNumber  \\\n0                 1          2  Life Sciences              1               1   \n1                 8          1  Life Sciences              1               2   \n2                 2          2          Other              1               4   \n3                 3          4  Life Sciences              1               5   \n4                 2          1        Medical              1               7   \n\n   ...  RelationshipSatisfaction StandardHours  StockOptionLevel  \\\n0  ...                         1            80                 0   \n1  ...                         4            80                 1   \n2  ...                         2            80                 0   \n3  ...                         3            80                 0   \n4  ...                         4            80                 1   \n\n   TotalWorkingYears  TrainingTimesLastYear WorkLifeBalance  YearsAtCompany  \\\n0                  8                      0               1               6   \n1                 10                      3               3              10   \n2                  7                      3               3               0   \n3                  8                      3               3               8   \n4                  6                      3               3               2   \n\n  YearsInCurrentRole  YearsSinceLastPromotion  YearsWithCurrManager  \n0                  4                        0                     5  \n1                  7                        1                     7  \n2                  0                        0                     0  \n3                  7                        3                     0  \n4                  2                        2                     2  \n\n[5 rows x 35 columns]",
      "text/html": "<div>\n<style scoped>\n    .dataframe tbody tr th:only-of-type {\n        vertical-align: middle;\n    }\n\n    .dataframe tbody tr th {\n        vertical-align: top;\n    }\n\n    .dataframe thead th {\n        text-align: right;\n    }\n</style>\n<table border=\"1\" class=\"dataframe\">\n  <thead>\n    <tr style=\"text-align: right;\">\n      <th></th>\n      <th>Age</th>\n      <th>Attrition</th>\n      <th>BusinessTravel</th>\n      <th>DailyRate</th>\n      <th>Department</th>\n      <th>DistanceFromHome</th>\n      <th>Education</th>\n      <th>EducationField</th>\n      <th>EmployeeCount</th>\n      <th>EmployeeNumber</th>\n      <th>...</th>\n      <th>RelationshipSatisfaction</th>\n      <th>StandardHours</th>\n      <th>StockOptionLevel</th>\n      <th>TotalWorkingYears</th>\n      <th>TrainingTimesLastYear</th>\n      <th>WorkLifeBalance</th>\n      <th>YearsAtCompany</th>\n      <th>YearsInCurrentRole</th>\n      <th>YearsSinceLastPromotion</th>\n      <th>YearsWithCurrManager</th>\n    </tr>\n  </thead>\n  <tbody>\n    <tr>\n      <th>0</th>\n      <td>41</td>\n      <td>Yes</td>\n      <td>Travel_Rarely</td>\n      <td>1102</td>\n      <td>Sales</td>\n      <td>1</td>\n      <td>2</td>\n      <td>Life Sciences</td>\n      <td>1</td>\n      <td>1</td>\n      <td>...</td>\n      <td>1</td>\n      <td>80</td>\n      <td>0</td>\n      <td>8</td>\n      <td>0</td>\n      <td>1</td>\n      <td>6</td>\n      <td>4</td>\n      <td>0</td>\n      <td>5</td>\n    </tr>\n    <tr>\n      <th>1</th>\n      <td>49</td>\n      <td>No</td>\n      <td>Travel_Frequently</td>\n      <td>279</td>\n      <td>Research &amp; Development</td>\n      <td>8</td>\n      <td>1</td>\n      <td>Life Sciences</td>\n      <td>1</td>\n      <td>2</td>\n      <td>...</td>\n      <td>4</td>\n      <td>80</td>\n      <td>1</td>\n      <td>10</td>\n      <td>3</td>\n      <td>3</td>\n      <td>10</td>\n      <td>7</td>\n      <td>1</td>\n      <td>7</td>\n    </tr>\n    <tr>\n      <th>2</th>\n      <td>37</td>\n      <td>Yes</td>\n      <td>Travel_Rarely</td>\n      <td>1373</td>\n      <td>Research &amp; Development</td>\n      <td>2</td>\n      <td>2</td>\n      <td>Other</td>\n      <td>1</td>\n      <td>4</td>\n      <td>...</td>\n      <td>2</td>\n      <td>80</td>\n      <td>0</td>\n      <td>7</td>\n      <td>3</td>\n      <td>3</td>\n      <td>0</td>\n      <td>0</td>\n      <td>0</td>\n      <td>0</td>\n    </tr>\n    <tr>\n      <th>3</th>\n      <td>33</td>\n      <td>No</td>\n      <td>Travel_Frequently</td>\n      <td>1392</td>\n      <td>Research &amp; Development</td>\n      <td>3</td>\n      <td>4</td>\n      <td>Life Sciences</td>\n      <td>1</td>\n      <td>5</td>\n      <td>...</td>\n      <td>3</td>\n      <td>80</td>\n      <td>0</td>\n      <td>8</td>\n      <td>3</td>\n      <td>3</td>\n      <td>8</td>\n      <td>7</td>\n      <td>3</td>\n      <td>0</td>\n    </tr>\n    <tr>\n      <th>4</th>\n      <td>27</td>\n      <td>No</td>\n      <td>Travel_Rarely</td>\n      <td>591</td>\n      <td>Research &amp; Development</td>\n      <td>2</td>\n      <td>1</td>\n      <td>Medical</td>\n      <td>1</td>\n      <td>7</td>\n      <td>...</td>\n      <td>4</td>\n      <td>80</td>\n      <td>1</td>\n      <td>6</td>\n      <td>3</td>\n      <td>3</td>\n      <td>2</td>\n      <td>2</td>\n      <td>2</td>\n      <td>2</td>\n    </tr>\n  </tbody>\n</table>\n<p>5 rows × 35 columns</p>\n</div>"
     },
     "metadata": {}
    }
   ]
  },
  {
   "cell_type": "markdown",
   "source": "## 4.5. Análisis Exploratorio de datos",
   "metadata": {
    "cell_id": "2b12719c-0f9a-47b7-85c4-85b4143f49c6",
    "tags": [],
    "deepnote_cell_type": "markdown",
    "deepnote_cell_height": 70
   }
  },
  {
   "cell_type": "code",
   "metadata": {
    "cell_id": "7d0cb923-6cb2-4f71-ac68-a760e151dcad",
    "tags": [],
    "deepnote_to_be_reexecuted": false,
    "source_hash": "8a040dde",
    "execution_start": 1646785695649,
    "execution_millis": 9276,
    "deepnote_cell_type": "code",
    "deepnote_cell_height": 10437,
    "deepnote_output_heights": [
     264,
     264,
     265,
     264,
     266,
     264,
     268,
     264,
     264,
     264,
     264,
     264,
     264,
     264,
     264,
     264,
     264,
     266,
     264,
     264,
     264,
     264,
     264,
     264,
     264,
     264,
     264,
     264,
     264,
     264,
     264,
     264,
     264,
     265,
     264
    ]
   },
   "source": "for column in df_HR.columns:\n    sns.histplot(x= column,data = df_HR)\n    plt.show()",
   "execution_count": null,
   "outputs": [
    {
     "data": {
      "text/plain": "<Figure size 432x288 with 1 Axes>",
      "image/png": "[encoded data removed]"
     },
     "metadata": {
      "needs_background": "light",
      "image/png": {
       "width": 389,
       "height": 262
      }
     },
     "output_type": "display_data"
    },
    {
     "data": {
      "text/plain": "<Figure size 432x288 with 1 Axes>",
      "image/png": "[encoded data removed]"
     },
     "metadata": {
      "needs_background": "light",
      "image/png": {
       "width": 395,
       "height": 262
      }
     },
     "output_type": "display_data"
    },
    {
     "data": {
      "text/plain": "<Figure size 432x288 with 1 Axes>",
      "image/png": "[encoded data removed]"
     },
     "metadata": {
      "needs_background": "light",
      "image/png": {
       "width": 395,
       "height": 263
      }
     },
     "output_type": "display_data"
    },
    {
     "data": {
      "text/plain": "<Figure size 432x288 with 1 Axes>",
      "image/png": "[encoded data removed]"
     },
     "metadata": {
      "needs_background": "light",
      "image/png": {
       "width": 389,
       "height": 262
      }
     },
     "output_type": "display_data"
    },
    {
     "data": {
      "text/plain": "<Figure size 432x288 with 1 Axes>",
      "image/png": "[encoded data removed]"
     },
     "metadata": {
      "needs_background": "light",
      "image/png": {
       "width": 395,
       "height": 264
      }
     },
     "output_type": "display_data"
    },
    {
     "data": {
      "text/plain": "<Figure size 432x288 with 1 Axes>",
      "image/png": "[encoded data removed]"
     },
     "metadata": {
      "needs_background": "light",
      "image/png": {
       "width": 391,
       "height": 262
      }
     },
     "output_type": "display_data"
    },
    {
     "data": {
      "text/plain": "<Figure size 432x288 with 1 Axes>",
      "image/png": "[encoded data removed]"
     },
     "metadata": {
      "needs_background": "light",
      "image/png": {
       "width": 389,
       "height": 266
      }
     },
     "output_type": "display_data"
    },
    {
     "data": {
      "text/plain": "<Figure size 432x288 with 1 Axes>",
      "image/png": "[encoded data removed]"
     },
     "metadata": {
      "needs_background": "light",
      "image/png": {
       "width": 393,
       "height": 262
      }
     },
     "output_type": "display_data"
    },
    {
     "data": {
      "text/plain": "<Figure size 432x288 with 1 Axes>",
      "image/png": "[encoded data removed]"
     },
     "metadata": {
      "needs_background": "light",
      "image/png": {
       "width": 395,
       "height": 262
      }
     },
     "output_type": "display_data"
    },
    {
     "data": {
      "text/plain": "<Figure size 432x288 with 1 Axes>",
      "image/png": "[encoded data removed]"
     },
     "metadata": {
      "needs_background": "light",
      "image/png": {
       "width": 389,
       "height": 262
      }
     },
     "output_type": "display_data"
    },
    {
     "data": {
      "text/plain": "<Figure size 432x288 with 1 Axes>",
      "image/png": "[encoded data removed]"
     },
     "metadata": {
      "needs_background": "light",
      "image/png": {
       "width": 389,
       "height": 262
      }
     },
     "output_type": "display_data"
    },
    {
     "data": {
      "text/plain": "<Figure size 432x288 with 1 Axes>",
      "image/png": "[encoded data removed]"
     },
     "metadata": {
      "needs_background": "light",
      "image/png": {
       "width": 389,
       "height": 262
      }
     },
     "output_type": "display_data"
    },
    {
     "data": {
      "text/plain": "<Figure size 432x288 with 1 Axes>",
      "image/png": "[encoded data removed]"
     },
     "metadata": {
      "needs_background": "light",
      "image/png": {
       "width": 389,
       "height": 262
      }
     },
     "output_type": "display_data"
    },
    {
     "data": {
      "text/plain": "<Figure size 432x288 with 1 Axes>",
      "image/png": "[encoded data removed]"
     },
     "metadata": {
      "needs_background": "light",
      "image/png": {
       "width": 389,
       "height": 262
      }
     },
     "output_type": "display_data"
    },
    {
     "data": {
      "text/plain": "<Figure size 432x288 with 1 Axes>",
      "image/png": "[encoded data removed]"
     },
     "metadata": {
      "needs_background": "light",
      "image/png": {
       "width": 389,
       "height": 262
      }
     },
     "output_type": "display_data"
    },
    {
     "data": {
      "text/plain": "<Figure size 432x288 with 1 Axes>",
      "image/png": "[encoded data removed]"
     },
     "metadata": {
      "needs_background": "light",
      "image/png": {
       "width": 402,
       "height": 262
      }
     },
     "output_type": "display_data"
    },
    {
     "data": {
      "text/plain": "<Figure size 432x288 with 1 Axes>",
      "image/png": "[encoded data removed]"
     },
     "metadata": {
      "needs_background": "light",
      "image/png": {
       "width": 389,
       "height": 262
      }
     },
     "output_type": "display_data"
    },
    {
     "data": {
      "text/plain": "<Figure size 432x288 with 1 Axes>",
      "image/png": "[encoded data removed]"
     },
     "metadata": {
      "needs_background": "light",
      "image/png": {
       "width": 389,
       "height": 264
      }
     },
     "output_type": "display_data"
    },
    {
     "data": {
      "text/plain": "<Figure size 432x288 with 1 Axes>",
      "image/png": "[encoded data removed]"
     },
     "metadata": {
      "needs_background": "light",
      "image/png": {
       "width": 389,
       "height": 262
      }
     },
     "output_type": "display_data"
    },
    {
     "data": {
      "text/plain": "<Figure size 432x288 with 1 Axes>",
      "image/png": "[encoded data removed]"
     },
     "metadata": {
      "needs_background": "light",
      "image/png": {
       "width": 389,
       "height": 262
      }
     },
     "output_type": "display_data"
    },
    {
     "data": {
      "text/plain": "<Figure size 432x288 with 1 Axes>",
      "image/png": "[encoded data removed]"
     },
     "metadata": {
      "needs_background": "light",
      "image/png": {
       "width": 389,
       "height": 262
      }
     },
     "output_type": "display_data"
    },
    {
     "data": {
      "text/plain": "<Figure size 432x288 with 1 Axes>",
      "image/png": "[encoded data removed]"
     },
     "metadata": {
      "needs_background": "light",
      "image/png": {
       "width": 395,
       "height": 262
      }
     },
     "output_type": "display_data"
    },
    {
     "data": {
      "text/plain": "<Figure size 432x288 with 1 Axes>",
      "image/png": "[encoded data removed]"
     },
     "metadata": {
      "needs_background": "light",
      "image/png": {
       "width": 395,
       "height": 262
      }
     },
     "output_type": "display_data"
    },
    {
     "data": {
      "text/plain": "<Figure size 432x288 with 1 Axes>",
      "image/png": "[encoded data removed]"
     },
     "metadata": {
      "needs_background": "light",
      "image/png": {
       "width": 389,
       "height": 262
      }
     },
     "output_type": "display_data"
    },
    {
     "data": {
      "text/plain": "<Figure size 432x288 with 1 Axes>",
      "image/png": "[encoded data removed]"
     },
     "metadata": {
      "needs_background": "light",
      "image/png": {
       "width": 395,
       "height": 262
      }
     },
     "output_type": "display_data"
    },
    {
     "data": {
      "text/plain": "<Figure size 432x288 with 1 Axes>",
      "image/png": "[encoded data removed]"
     },
     "metadata": {
      "needs_background": "light",
      "image/png": {
       "width": 389,
       "height": 262
      }
     },
     "output_type": "display_data"
    },
    {
     "data": {
      "text/plain": "<Figure size 432x288 with 1 Axes>",
      "image/png": "[encoded data removed]"
     },
     "metadata": {
      "needs_background": "light",
      "image/png": {
       "width": 395,
       "height": 262
      }
     },
     "output_type": "display_data"
    },
    {
     "data": {
      "text/plain": "<Figure size 432x288 with 1 Axes>",
      "image/png": "[encoded data removed]"
     },
     "metadata": {
      "needs_background": "light",
      "image/png": {
       "width": 389,
       "height": 262
      }
     },
     "output_type": "display_data"
    },
    {
     "data": {
      "text/plain": "<Figure size 432x288 with 1 Axes>",
      "image/png": "[encoded data removed]"
     },
     "metadata": {
      "needs_background": "light",
      "image/png": {
       "width": 389,
       "height": 262
      }
     },
     "output_type": "display_data"
    },
    {
     "data": {
      "text/plain": "<Figure size 432x288 with 1 Axes>",
      "image/png": "[encoded data removed]"
     },
     "metadata": {
      "needs_background": "light",
      "image/png": {
       "width": 389,
       "height": 262
      }
     },
     "output_type": "display_data"
    },
    {
     "data": {
      "text/plain": "<Figure size 432x288 with 1 Axes>",
      "image/png": "[encoded data removed]"
     },
     "metadata": {
      "needs_background": "light",
      "image/png": {
       "width": 389,
       "height": 262
      }
     },
     "output_type": "display_data"
    },
    {
     "data": {
      "text/plain": "<Figure size 432x288 with 1 Axes>",
      "image/png": "[encoded data removed]"
     },
     "metadata": {
      "needs_background": "light",
      "image/png": {
       "width": 389,
       "height": 262
      }
     },
     "output_type": "display_data"
    },
    {
     "data": {
      "text/plain": "<Figure size 432x288 with 1 Axes>",
      "image/png": "[encoded data removed]"
     },
     "metadata": {
      "needs_background": "light",
      "image/png": {
       "width": 389,
       "height": 262
      }
     },
     "output_type": "display_data"
    },
    {
     "data": {
      "text/plain": "<Figure size 432x288 with 1 Axes>",
      "image/png": "[encoded data removed]"
     },
     "metadata": {
      "needs_background": "light",
      "image/png": {
       "width": 389,
       "height": 263
      }
     },
     "output_type": "display_data"
    },
    {
     "data": {
      "text/plain": "<Figure size 432x288 with 1 Axes>",
      "image/png": "[encoded data removed]"
     },
     "metadata": {
      "needs_background": "light",
      "image/png": {
       "width": 394,
       "height": 262
      }
     },
     "output_type": "display_data"
    }
   ]
  },
  {
   "cell_type": "markdown",
   "source": "## 4.6. Limpieza y Transformación de datos",
   "metadata": {
    "cell_id": "09de6471-ad0f-4918-8ac2-6874dc67e5de",
    "tags": [],
    "deepnote_cell_type": "markdown",
    "deepnote_cell_height": 70
   }
  },
  {
   "cell_type": "code",
   "metadata": {
    "cell_id": "191ce298-d552-4195-b966-310d19ac4233",
    "tags": [],
    "deepnote_to_be_reexecuted": false,
    "source_hash": "6b82fa57",
    "execution_start": 1646785704926,
    "execution_millis": 2,
    "deepnote_cell_type": "code",
    "deepnote_cell_height": 81
   },
   "source": "df_HR.drop(columns = ['EmployeeCount','Over18','StandardHours'],inplace= True)",
   "execution_count": null,
   "outputs": []
  },
  {
   "cell_type": "code",
   "metadata": {
    "cell_id": "4595584c-4001-4597-99f4-e826a21d191a",
    "tags": [],
    "deepnote_to_be_reexecuted": false,
    "source_hash": "4827c891",
    "execution_start": 1646785704930,
    "execution_millis": 113,
    "deepnote_cell_type": "code",
    "deepnote_cell_height": 359
   },
   "source": "df_HR.head(5)",
   "execution_count": null,
   "outputs": [
    {
     "output_type": "execute_result",
     "execution_count": 5,
     "data": {
      "application/vnd.deepnote.dataframe.v3+json": {
       "column_count": 32,
       "row_count": 5,
       "columns": [
        {
         "name": "Age",
         "dtype": "int64",
         "stats": {
          "unique_count": 5,
          "nan_count": 0,
          "min": "27",
          "max": "49",
          "histogram": [
           {
            "bin_start": 27,
            "bin_end": 29.2,
            "count": 1
           },
           {
            "bin_start": 29.2,
            "bin_end": 31.4,
            "count": 0
           },
           {
            "bin_start": 31.4,
            "bin_end": 33.6,
            "count": 1
           },
           {
            "bin_start": 33.6,
            "bin_end": 35.8,
            "count": 0
           },
           {
            "bin_start": 35.8,
            "bin_end": 38,
            "count": 1
           },
           {
            "bin_start": 38,
            "bin_end": 40.2,
            "count": 0
           },
           {
            "bin_start": 40.2,
            "bin_end": 42.400000000000006,
            "count": 1
           },
           {
            "bin_start": 42.400000000000006,
            "bin_end": 44.6,
            "count": 0
           },
           {
            "bin_start": 44.6,
            "bin_end": 46.8,
            "count": 0
           },
           {
            "bin_start": 46.8,
            "bin_end": 49,
            "count": 1
           }
          ]
         }
        },
        {
         "name": "Attrition",
         "dtype": "object",
         "stats": {
          "unique_count": 2,
          "nan_count": 0,
          "categories": [
           {
            "name": "No",
            "count": 3
           },
           {
            "name": "Yes",
            "count": 2
           }
          ]
         }
        },
        {
         "name": "BusinessTravel",
         "dtype": "object",
         "stats": {
          "unique_count": 2,
          "nan_count": 0,
          "categories": [
           {
            "name": "Travel_Rarely",
            "count": 3
           },
           {
            "name": "Travel_Frequently",
            "count": 2
           }
          ]
         }
        },
        {
         "name": "DailyRate",
         "dtype": "int64",
         "stats": {
          "unique_count": 5,
          "nan_count": 0,
          "min": "279",
          "max": "1392",
          "histogram": [
           {
            "bin_start": 279,
            "bin_end": 390.3,
            "count": 1
           },
           {
            "bin_start": 390.3,
            "bin_end": 501.6,
            "count": 0
           },
           {
            "bin_start": 501.6,
            "bin_end": 612.9,
            "count": 1
           },
           {
            "bin_start": 612.9,
            "bin_end": 724.2,
            "count": 0
           },
           {
            "bin_start": 724.2,
            "bin_end": 835.5,
            "count": 0
           },
           {
            "bin_start": 835.5,
            "bin_end": 946.8,
            "count": 0
           },
           {
            "bin_start": 946.8,
            "bin_end": 1058.1,
            "count": 0
           },
           {
            "bin_start": 1058.1,
            "bin_end": 1169.4,
            "count": 1
           },
           {
            "bin_start": 1169.4,
            "bin_end": 1280.6999999999998,
            "count": 0
           },
           {
            "bin_start": 1280.6999999999998,
            "bin_end": 1392,
            "count": 2
           }
          ]
         }
        },
        {
         "name": "Department",
         "dtype": "object",
         "stats": {
          "unique_count": 2,
          "nan_count": 0,
          "categories": [
           {
            "name": "Research & Development",
            "count": 4
           },
           {
            "name": "Sales",
            "count": 1
           }
          ]
         }
        },
        {
         "name": "DistanceFromHome",
         "dtype": "int64",
         "stats": {
          "unique_count": 4,
          "nan_count": 0,
          "min": "1",
          "max": "8",
          "histogram": [
           {
            "bin_start": 1,
            "bin_end": 1.7,
            "count": 1
           },
           {
            "bin_start": 1.7,
            "bin_end": 2.4,
            "count": 2
           },
           {
            "bin_start": 2.4,
            "bin_end": 3.0999999999999996,
            "count": 1
           },
           {
            "bin_start": 3.0999999999999996,
            "bin_end": 3.8,
            "count": 0
           },
           {
            "bin_start": 3.8,
            "bin_end": 4.5,
            "count": 0
           },
           {
            "bin_start": 4.5,
            "bin_end": 5.199999999999999,
            "count": 0
           },
           {
            "bin_start": 5.199999999999999,
            "bin_end": 5.8999999999999995,
            "count": 0
           },
           {
            "bin_start": 5.8999999999999995,
            "bin_end": 6.6,
            "count": 0
           },
           {
            "bin_start": 6.6,
            "bin_end": 7.3,
            "count": 0
           },
           {
            "bin_start": 7.3,
            "bin_end": 8,
            "count": 1
           }
          ]
         }
        },
        {
         "name": "Education",
         "dtype": "int64",
         "stats": {
          "unique_count": 3,
          "nan_count": 0,
          "min": "1",
          "max": "4",
          "histogram": [
           {
            "bin_start": 1,
            "bin_end": 1.3,
            "count": 2
           },
           {
            "bin_start": 1.3,
            "bin_end": 1.6,
            "count": 0
           },
           {
            "bin_start": 1.6,
            "bin_end": 1.9,
            "count": 0
           },
           {
            "bin_start": 1.9,
            "bin_end": 2.2,
            "count": 2
           },
           {
            "bin_start": 2.2,
            "bin_end": 2.5,
            "count": 0
           },
           {
            "bin_start": 2.5,
            "bin_end": 2.8,
            "count": 0
           },
           {
            "bin_start": 2.8,
            "bin_end": 3.1,
            "count": 0
           },
           {
            "bin_start": 3.1,
            "bin_end": 3.4,
            "count": 0
           },
           {
            "bin_start": 3.4,
            "bin_end": 3.6999999999999997,
            "count": 0
           },
           {
            "bin_start": 3.6999999999999997,
            "bin_end": 4,
            "count": 1
           }
          ]
         }
        },
        {
         "name": "EducationField",
         "dtype": "object",
         "stats": {
          "unique_count": 3,
          "nan_count": 0,
          "categories": [
           {
            "name": "Life Sciences",
            "count": 3
           },
           {
            "name": "Other",
            "count": 1
           },
           {
            "name": "Medical",
            "count": 1
           }
          ]
         }
        },
        {
         "name": "EmployeeNumber",
         "dtype": "int64",
         "stats": {
          "unique_count": 5,
          "nan_count": 0,
          "min": "1",
          "max": "7",
          "histogram": [
           {
            "bin_start": 1,
            "bin_end": 1.6,
            "count": 1
           },
           {
            "bin_start": 1.6,
            "bin_end": 2.2,
            "count": 1
           },
           {
            "bin_start": 2.2,
            "bin_end": 2.8,
            "count": 0
           },
           {
            "bin_start": 2.8,
            "bin_end": 3.4,
            "count": 0
           },
           {
            "bin_start": 3.4,
            "bin_end": 4,
            "count": 0
           },
           {
            "bin_start": 4,
            "bin_end": 4.6,
            "count": 1
           },
           {
            "bin_start": 4.6,
            "bin_end": 5.2,
            "count": 1
           },
           {
            "bin_start": 5.2,
            "bin_end": 5.8,
            "count": 0
           },
           {
            "bin_start": 5.8,
            "bin_end": 6.3999999999999995,
            "count": 0
           },
           {
            "bin_start": 6.3999999999999995,
            "bin_end": 7,
            "count": 1
           }
          ]
         }
        },
        {
         "name": "EnvironmentSatisfaction",
         "dtype": "int64",
         "stats": {
          "unique_count": 4,
          "nan_count": 0,
          "min": "1",
          "max": "4",
          "histogram": [
           {
            "bin_start": 1,
            "bin_end": 1.3,
            "count": 1
           },
           {
            "bin_start": 1.3,
            "bin_end": 1.6,
            "count": 0
           },
           {
            "bin_start": 1.6,
            "bin_end": 1.9,
            "count": 0
           },
           {
            "bin_start": 1.9,
            "bin_end": 2.2,
            "count": 1
           },
           {
            "bin_start": 2.2,
            "bin_end": 2.5,
            "count": 0
           },
           {
            "bin_start": 2.5,
            "bin_end": 2.8,
            "count": 0
           },
           {
            "bin_start": 2.8,
            "bin_end": 3.1,
            "count": 1
           },
           {
            "bin_start": 3.1,
            "bin_end": 3.4,
            "count": 0
           },
           {
            "bin_start": 3.4,
            "bin_end": 3.6999999999999997,
            "count": 0
           },
           {
            "bin_start": 3.6999999999999997,
            "bin_end": 4,
            "count": 2
           }
          ]
         }
        },
        {
         "name": "Gender",
         "dtype": "object",
         "stats": {
          "unique_count": 2,
          "nan_count": 0,
          "categories": [
           {
            "name": "Male",
            "count": 3
           },
           {
            "name": "Female",
            "count": 2
           }
          ]
         }
        },
        {
         "name": "HourlyRate",
         "dtype": "int64",
         "stats": {
          "unique_count": 5,
          "nan_count": 0,
          "min": "40",
          "max": "94",
          "histogram": [
           {
            "bin_start": 40,
            "bin_end": 45.4,
            "count": 1
           },
           {
            "bin_start": 45.4,
            "bin_end": 50.8,
            "count": 0
           },
           {
            "bin_start": 50.8,
            "bin_end": 56.2,
            "count": 1
           },
           {
            "bin_start": 56.2,
            "bin_end": 61.6,
            "count": 1
           },
           {
            "bin_start": 61.6,
            "bin_end": 67,
            "count": 0
           },
           {
            "bin_start": 67,
            "bin_end": 72.4,
            "count": 0
           },
           {
            "bin_start": 72.4,
            "bin_end": 77.80000000000001,
            "count": 0
           },
           {
            "bin_start": 77.80000000000001,
            "bin_end": 83.2,
            "count": 0
           },
           {
            "bin_start": 83.2,
            "bin_end": 88.6,
            "count": 0
           },
           {
            "bin_start": 88.6,
            "bin_end": 94,
            "count": 2
           }
          ]
         }
        },
        {
         "name": "JobInvolvement",
         "dtype": "int64",
         "stats": {
          "unique_count": 2,
          "nan_count": 0,
          "min": "2",
          "max": "3",
          "histogram": [
           {
            "bin_start": 2,
            "bin_end": 2.1,
            "count": 2
           },
           {
            "bin_start": 2.1,
            "bin_end": 2.2,
            "count": 0
           },
           {
            "bin_start": 2.2,
            "bin_end": 2.3,
            "count": 0
           },
           {
            "bin_start": 2.3,
            "bin_end": 2.4,
            "count": 0
           },
           {
            "bin_start": 2.4,
            "bin_end": 2.5,
            "count": 0
           },
           {
            "bin_start": 2.5,
            "bin_end": 2.6,
            "count": 0
           },
           {
            "bin_start": 2.6,
            "bin_end": 2.7,
            "count": 0
           },
           {
            "bin_start": 2.7,
            "bin_end": 2.8,
            "count": 0
           },
           {
            "bin_start": 2.8,
            "bin_end": 2.9,
            "count": 0
           },
           {
            "bin_start": 2.9,
            "bin_end": 3,
            "count": 3
           }
          ]
         }
        },
        {
         "name": "JobLevel",
         "dtype": "int64",
         "stats": {
          "unique_count": 2,
          "nan_count": 0,
          "min": "1",
          "max": "2",
          "histogram": [
           {
            "bin_start": 1,
            "bin_end": 1.1,
            "count": 3
           },
           {
            "bin_start": 1.1,
            "bin_end": 1.2,
            "count": 0
           },
           {
            "bin_start": 1.2,
            "bin_end": 1.3,
            "count": 0
           },
           {
            "bin_start": 1.3,
            "bin_end": 1.4,
            "count": 0
           },
           {
            "bin_start": 1.4,
            "bin_end": 1.5,
            "count": 0
           },
           {
            "bin_start": 1.5,
            "bin_end": 1.6,
            "count": 0
           },
           {
            "bin_start": 1.6,
            "bin_end": 1.7000000000000002,
            "count": 0
           },
           {
            "bin_start": 1.7000000000000002,
            "bin_end": 1.8,
            "count": 0
           },
           {
            "bin_start": 1.8,
            "bin_end": 1.9,
            "count": 0
           },
           {
            "bin_start": 1.9,
            "bin_end": 2,
            "count": 2
           }
          ]
         }
        },
        {
         "name": "JobRole",
         "dtype": "object",
         "stats": {
          "unique_count": 3,
          "nan_count": 0,
          "categories": [
           {
            "name": "Research Scientist",
            "count": 2
           },
           {
            "name": "Laboratory Technician",
            "count": 2
           },
           {
            "name": "Sales Executive",
            "count": 1
           }
          ]
         }
        },
        {
         "name": "JobSatisfaction",
         "dtype": "int64",
         "stats": {
          "unique_count": 3,
          "nan_count": 0,
          "min": "2",
          "max": "4",
          "histogram": [
           {
            "bin_start": 2,
            "bin_end": 2.2,
            "count": 2
           },
           {
            "bin_start": 2.2,
            "bin_end": 2.4,
            "count": 0
           },
           {
            "bin_start": 2.4,
            "bin_end": 2.6,
            "count": 0
           },
           {
            "bin_start": 2.6,
            "bin_end": 2.8,
            "count": 0
           },
           {
            "bin_start": 2.8,
            "bin_end": 3,
            "count": 0
           },
           {
            "bin_start": 3,
            "bin_end": 3.2,
            "count": 2
           },
           {
            "bin_start": 3.2,
            "bin_end": 3.4000000000000004,
            "count": 0
           },
           {
            "bin_start": 3.4000000000000004,
            "bin_end": 3.6,
            "count": 0
           },
           {
            "bin_start": 3.6,
            "bin_end": 3.8,
            "count": 0
           },
           {
            "bin_start": 3.8,
            "bin_end": 4,
            "count": 1
           }
          ]
         }
        },
        {
         "name": "MaritalStatus",
         "dtype": "object",
         "stats": {
          "unique_count": 2,
          "nan_count": 0,
          "categories": [
           {
            "name": "Married",
            "count": 3
           },
           {
            "name": "Single",
            "count": 2
           }
          ]
         }
        },
        {
         "name": "MonthlyIncome",
         "dtype": "int64",
         "stats": {
          "unique_count": 5,
          "nan_count": 0,
          "min": "2090",
          "max": "5993",
          "histogram": [
           {
            "bin_start": 2090,
            "bin_end": 2480.3,
            "count": 1
           },
           {
            "bin_start": 2480.3,
            "bin_end": 2870.6,
            "count": 0
           },
           {
            "bin_start": 2870.6,
            "bin_end": 3260.9,
            "count": 1
           },
           {
            "bin_start": 3260.9,
            "bin_end": 3651.2,
            "count": 1
           },
           {
            "bin_start": 3651.2,
            "bin_end": 4041.5,
            "count": 0
           },
           {
            "bin_start": 4041.5,
            "bin_end": 4431.8,
            "count": 0
           },
           {
            "bin_start": 4431.8,
            "bin_end": 4822.1,
            "count": 0
           },
           {
            "bin_start": 4822.1,
            "bin_end": 5212.4,
            "count": 1
           },
           {
            "bin_start": 5212.4,
            "bin_end": 5602.700000000001,
            "count": 0
           },
           {
            "bin_start": 5602.700000000001,
            "bin_end": 5993,
            "count": 1
           }
          ]
         }
        },
        {
         "name": "MonthlyRate",
         "dtype": "int64",
         "stats": {
          "unique_count": 5,
          "nan_count": 0,
          "min": "2396",
          "max": "24907",
          "histogram": [
           {
            "bin_start": 2396,
            "bin_end": 4647.1,
            "count": 1
           },
           {
            "bin_start": 4647.1,
            "bin_end": 6898.2,
            "count": 0
           },
           {
            "bin_start": 6898.2,
            "bin_end": 9149.3,
            "count": 0
           },
           {
            "bin_start": 9149.3,
            "bin_end": 11400.4,
            "count": 0
           },
           {
            "bin_start": 11400.4,
            "bin_end": 13651.5,
            "count": 0
           },
           {
            "bin_start": 13651.5,
            "bin_end": 15902.599999999999,
            "count": 0
           },
           {
            "bin_start": 15902.599999999999,
            "bin_end": 18153.699999999997,
            "count": 1
           },
           {
            "bin_start": 18153.699999999997,
            "bin_end": 20404.8,
            "count": 1
           },
           {
            "bin_start": 20404.8,
            "bin_end": 22655.899999999998,
            "count": 0
           },
           {
            "bin_start": 22655.899999999998,
            "bin_end": 24907,
            "count": 2
           }
          ]
         }
        },
        {
         "name": "NumCompaniesWorked",
         "dtype": "int64",
         "stats": {
          "unique_count": 4,
          "nan_count": 0,
          "min": "1",
          "max": "9",
          "histogram": [
           {
            "bin_start": 1,
            "bin_end": 1.8,
            "count": 2
           },
           {
            "bin_start": 1.8,
            "bin_end": 2.6,
            "count": 0
           },
           {
            "bin_start": 2.6,
            "bin_end": 3.4000000000000004,
            "count": 0
           },
           {
            "bin_start": 3.4000000000000004,
            "bin_end": 4.2,
            "count": 0
           },
           {
            "bin_start": 4.2,
            "bin_end": 5,
            "count": 0
           },
           {
            "bin_start": 5,
            "bin_end": 5.800000000000001,
            "count": 0
           },
           {
            "bin_start": 5.800000000000001,
            "bin_end": 6.6000000000000005,
            "count": 1
           },
           {
            "bin_start": 6.6000000000000005,
            "bin_end": 7.4,
            "count": 0
           },
           {
            "bin_start": 7.4,
            "bin_end": 8.2,
            "count": 1
           },
           {
            "bin_start": 8.2,
            "bin_end": 9,
            "count": 1
           }
          ]
         }
        },
        {
         "name": "OverTime",
         "dtype": "object",
         "stats": {
          "unique_count": 2,
          "nan_count": 0,
          "categories": [
           {
            "name": "Yes",
            "count": 3
           },
           {
            "name": "No",
            "count": 2
           }
          ]
         }
        },
        {
         "name": "PercentSalaryHike",
         "dtype": "int64",
         "stats": {
          "unique_count": 4,
          "nan_count": 0,
          "min": "11",
          "max": "23",
          "histogram": [
           {
            "bin_start": 11,
            "bin_end": 12.2,
            "count": 3
           },
           {
            "bin_start": 12.2,
            "bin_end": 13.4,
            "count": 0
           },
           {
            "bin_start": 13.4,
            "bin_end": 14.6,
            "count": 0
           },
           {
            "bin_start": 14.6,
            "bin_end": 15.8,
            "count": 1
           },
           {
            "bin_start": 15.8,
            "bin_end": 17,
            "count": 0
           },
           {
            "bin_start": 17,
            "bin_end": 18.2,
            "count": 0
           },
           {
            "bin_start": 18.2,
            "bin_end": 19.4,
            "count": 0
           },
           {
            "bin_start": 19.4,
            "bin_end": 20.6,
            "count": 0
           },
           {
            "bin_start": 20.6,
            "bin_end": 21.799999999999997,
            "count": 0
           },
           {
            "bin_start": 21.799999999999997,
            "bin_end": 23,
            "count": 1
           }
          ]
         }
        },
        {
         "name": "PerformanceRating",
         "dtype": "int64",
         "stats": {
          "unique_count": 2,
          "nan_count": 0,
          "min": "3",
          "max": "4",
          "histogram": [
           {
            "bin_start": 3,
            "bin_end": 3.1,
            "count": 4
           },
           {
            "bin_start": 3.1,
            "bin_end": 3.2,
            "count": 0
           },
           {
            "bin_start": 3.2,
            "bin_end": 3.3,
            "count": 0
           },
           {
            "bin_start": 3.3,
            "bin_end": 3.4,
            "count": 0
           },
           {
            "bin_start": 3.4,
            "bin_end": 3.5,
            "count": 0
           },
           {
            "bin_start": 3.5,
            "bin_end": 3.6,
            "count": 0
           },
           {
            "bin_start": 3.6,
            "bin_end": 3.7,
            "count": 0
           },
           {
            "bin_start": 3.7,
            "bin_end": 3.8,
            "count": 0
           },
           {
            "bin_start": 3.8,
            "bin_end": 3.9,
            "count": 0
           },
           {
            "bin_start": 3.9,
            "bin_end": 4,
            "count": 1
           }
          ]
         }
        },
        {
         "name": "RelationshipSatisfaction",
         "dtype": "int64",
         "stats": {
          "unique_count": 4,
          "nan_count": 0,
          "min": "1",
          "max": "4",
          "histogram": [
           {
            "bin_start": 1,
            "bin_end": 1.3,
            "count": 1
           },
           {
            "bin_start": 1.3,
            "bin_end": 1.6,
            "count": 0
           },
           {
            "bin_start": 1.6,
            "bin_end": 1.9,
            "count": 0
           },
           {
            "bin_start": 1.9,
            "bin_end": 2.2,
            "count": 1
           },
           {
            "bin_start": 2.2,
            "bin_end": 2.5,
            "count": 0
           },
           {
            "bin_start": 2.5,
            "bin_end": 2.8,
            "count": 0
           },
           {
            "bin_start": 2.8,
            "bin_end": 3.1,
            "count": 1
           },
           {
            "bin_start": 3.1,
            "bin_end": 3.4,
            "count": 0
           },
           {
            "bin_start": 3.4,
            "bin_end": 3.6999999999999997,
            "count": 0
           },
           {
            "bin_start": 3.6999999999999997,
            "bin_end": 4,
            "count": 2
           }
          ]
         }
        },
        {
         "name": "StockOptionLevel",
         "dtype": "int64",
         "stats": {
          "unique_count": 2,
          "nan_count": 0,
          "min": "0",
          "max": "1",
          "histogram": [
           {
            "bin_start": 0,
            "bin_end": 0.1,
            "count": 3
           },
           {
            "bin_start": 0.1,
            "bin_end": 0.2,
            "count": 0
           },
           {
            "bin_start": 0.2,
            "bin_end": 0.30000000000000004,
            "count": 0
           },
           {
            "bin_start": 0.30000000000000004,
            "bin_end": 0.4,
            "count": 0
           },
           {
            "bin_start": 0.4,
            "bin_end": 0.5,
            "count": 0
           },
           {
            "bin_start": 0.5,
            "bin_end": 0.6000000000000001,
            "count": 0
           },
           {
            "bin_start": 0.6000000000000001,
            "bin_end": 0.7000000000000001,
            "count": 0
           },
           {
            "bin_start": 0.7000000000000001,
            "bin_end": 0.8,
            "count": 0
           },
           {
            "bin_start": 0.8,
            "bin_end": 0.9,
            "count": 0
           },
           {
            "bin_start": 0.9,
            "bin_end": 1,
            "count": 2
           }
          ]
         }
        },
        {
         "name": "TotalWorkingYears",
         "dtype": "int64",
         "stats": {
          "unique_count": 4,
          "nan_count": 0,
          "min": "6",
          "max": "10",
          "histogram": [
           {
            "bin_start": 6,
            "bin_end": 6.4,
            "count": 1
           },
           {
            "bin_start": 6.4,
            "bin_end": 6.8,
            "count": 0
           },
           {
            "bin_start": 6.8,
            "bin_end": 7.2,
            "count": 1
           },
           {
            "bin_start": 7.2,
            "bin_end": 7.6,
            "count": 0
           },
           {
            "bin_start": 7.6,
            "bin_end": 8,
            "count": 0
           },
           {
            "bin_start": 8,
            "bin_end": 8.4,
            "count": 2
           },
           {
            "bin_start": 8.4,
            "bin_end": 8.8,
            "count": 0
           },
           {
            "bin_start": 8.8,
            "bin_end": 9.2,
            "count": 0
           },
           {
            "bin_start": 9.2,
            "bin_end": 9.6,
            "count": 0
           },
           {
            "bin_start": 9.6,
            "bin_end": 10,
            "count": 1
           }
          ]
         }
        },
        {
         "name": "TrainingTimesLastYear",
         "dtype": "int64",
         "stats": {
          "unique_count": 2,
          "nan_count": 0,
          "min": "0",
          "max": "3",
          "histogram": [
           {
            "bin_start": 0,
            "bin_end": 0.3,
            "count": 1
           },
           {
            "bin_start": 0.3,
            "bin_end": 0.6,
            "count": 0
           },
           {
            "bin_start": 0.6,
            "bin_end": 0.8999999999999999,
            "count": 0
           },
           {
            "bin_start": 0.8999999999999999,
            "bin_end": 1.2,
            "count": 0
           },
           {
            "bin_start": 1.2,
            "bin_end": 1.5,
            "count": 0
           },
           {
            "bin_start": 1.5,
            "bin_end": 1.7999999999999998,
            "count": 0
           },
           {
            "bin_start": 1.7999999999999998,
            "bin_end": 2.1,
            "count": 0
           },
           {
            "bin_start": 2.1,
            "bin_end": 2.4,
            "count": 0
           },
           {
            "bin_start": 2.4,
            "bin_end": 2.6999999999999997,
            "count": 0
           },
           {
            "bin_start": 2.6999999999999997,
            "bin_end": 3,
            "count": 4
           }
          ]
         }
        },
        {
         "name": "WorkLifeBalance",
         "dtype": "int64",
         "stats": {
          "unique_count": 2,
          "nan_count": 0,
          "min": "1",
          "max": "3",
          "histogram": [
           {
            "bin_start": 1,
            "bin_end": 1.2,
            "count": 1
           },
           {
            "bin_start": 1.2,
            "bin_end": 1.4,
            "count": 0
           },
           {
            "bin_start": 1.4,
            "bin_end": 1.6,
            "count": 0
           },
           {
            "bin_start": 1.6,
            "bin_end": 1.8,
            "count": 0
           },
           {
            "bin_start": 1.8,
            "bin_end": 2,
            "count": 0
           },
           {
            "bin_start": 2,
            "bin_end": 2.2,
            "count": 0
           },
           {
            "bin_start": 2.2,
            "bin_end": 2.4000000000000004,
            "count": 0
           },
           {
            "bin_start": 2.4000000000000004,
            "bin_end": 2.6,
            "count": 0
           },
           {
            "bin_start": 2.6,
            "bin_end": 2.8,
            "count": 0
           },
           {
            "bin_start": 2.8,
            "bin_end": 3,
            "count": 4
           }
          ]
         }
        },
        {
         "name": "YearsAtCompany",
         "dtype": "int64",
         "stats": {
          "unique_count": 5,
          "nan_count": 0,
          "min": "0",
          "max": "10",
          "histogram": [
           {
            "bin_start": 0,
            "bin_end": 1,
            "count": 1
           },
           {
            "bin_start": 1,
            "bin_end": 2,
            "count": 0
           },
           {
            "bin_start": 2,
            "bin_end": 3,
            "count": 1
           },
           {
            "bin_start": 3,
            "bin_end": 4,
            "count": 0
           },
           {
            "bin_start": 4,
            "bin_end": 5,
            "count": 0
           },
           {
            "bin_start": 5,
            "bin_end": 6,
            "count": 0
           },
           {
            "bin_start": 6,
            "bin_end": 7,
            "count": 1
           },
           {
            "bin_start": 7,
            "bin_end": 8,
            "count": 0
           },
           {
            "bin_start": 8,
            "bin_end": 9,
            "count": 1
           },
           {
            "bin_start": 9,
            "bin_end": 10,
            "count": 1
           }
          ]
         }
        },
        {
         "name": "YearsInCurrentRole",
         "dtype": "int64",
         "stats": {
          "unique_count": 4,
          "nan_count": 0,
          "min": "0",
          "max": "7",
          "histogram": [
           {
            "bin_start": 0,
            "bin_end": 0.7,
            "count": 1
           },
           {
            "bin_start": 0.7,
            "bin_end": 1.4,
            "count": 0
           },
           {
            "bin_start": 1.4,
            "bin_end": 2.0999999999999996,
            "count": 1
           },
           {
            "bin_start": 2.0999999999999996,
            "bin_end": 2.8,
            "count": 0
           },
           {
            "bin_start": 2.8,
            "bin_end": 3.5,
            "count": 0
           },
           {
            "bin_start": 3.5,
            "bin_end": 4.199999999999999,
            "count": 1
           },
           {
            "bin_start": 4.199999999999999,
            "bin_end": 4.8999999999999995,
            "count": 0
           },
           {
            "bin_start": 4.8999999999999995,
            "bin_end": 5.6,
            "count": 0
           },
           {
            "bin_start": 5.6,
            "bin_end": 6.3,
            "count": 0
           },
           {
            "bin_start": 6.3,
            "bin_end": 7,
            "count": 2
           }
          ]
         }
        },
        {
         "name": "YearsSinceLastPromotion",
         "dtype": "int64",
         "stats": {
          "unique_count": 4,
          "nan_count": 0,
          "min": "0",
          "max": "3",
          "histogram": [
           {
            "bin_start": 0,
            "bin_end": 0.3,
            "count": 2
           },
           {
            "bin_start": 0.3,
            "bin_end": 0.6,
            "count": 0
           },
           {
            "bin_start": 0.6,
            "bin_end": 0.8999999999999999,
            "count": 0
           },
           {
            "bin_start": 0.8999999999999999,
            "bin_end": 1.2,
            "count": 1
           },
           {
            "bin_start": 1.2,
            "bin_end": 1.5,
            "count": 0
           },
           {
            "bin_start": 1.5,
            "bin_end": 1.7999999999999998,
            "count": 0
           },
           {
            "bin_start": 1.7999999999999998,
            "bin_end": 2.1,
            "count": 1
           },
           {
            "bin_start": 2.1,
            "bin_end": 2.4,
            "count": 0
           },
           {
            "bin_start": 2.4,
            "bin_end": 2.6999999999999997,
            "count": 0
           },
           {
            "bin_start": 2.6999999999999997,
            "bin_end": 3,
            "count": 1
           }
          ]
         }
        },
        {
         "name": "YearsWithCurrManager",
         "dtype": "int64",
         "stats": {
          "unique_count": 4,
          "nan_count": 0,
          "min": "0",
          "max": "7",
          "histogram": [
           {
            "bin_start": 0,
            "bin_end": 0.7,
            "count": 2
           },
           {
            "bin_start": 0.7,
            "bin_end": 1.4,
            "count": 0
           },
           {
            "bin_start": 1.4,
            "bin_end": 2.0999999999999996,
            "count": 1
           },
           {
            "bin_start": 2.0999999999999996,
            "bin_end": 2.8,
            "count": 0
           },
           {
            "bin_start": 2.8,
            "bin_end": 3.5,
            "count": 0
           },
           {
            "bin_start": 3.5,
            "bin_end": 4.199999999999999,
            "count": 0
           },
           {
            "bin_start": 4.199999999999999,
            "bin_end": 4.8999999999999995,
            "count": 0
           },
           {
            "bin_start": 4.8999999999999995,
            "bin_end": 5.6,
            "count": 1
           },
           {
            "bin_start": 5.6,
            "bin_end": 6.3,
            "count": 0
           },
           {
            "bin_start": 6.3,
            "bin_end": 7,
            "count": 1
           }
          ]
         }
        },
        {
         "name": "_deepnote_index_column",
         "dtype": "int64"
        }
       ],
       "rows": [
        {
         "Age": 41,
         "Attrition": "Yes",
         "BusinessTravel": "Travel_Rarely",
         "DailyRate": 1102,
         "Department": "Sales",
         "DistanceFromHome": 1,
         "Education": 2,
         "EducationField": "Life Sciences",
         "EmployeeNumber": 1,
         "EnvironmentSatisfaction": 2,
         "Gender": "Female",
         "HourlyRate": 94,
         "JobInvolvement": 3,
         "JobLevel": 2,
         "JobRole": "Sales Executive",
         "JobSatisfaction": 4,
         "MaritalStatus": "Single",
         "MonthlyIncome": 5993,
         "MonthlyRate": 19479,
         "NumCompaniesWorked": 8,
         "OverTime": "Yes",
         "PercentSalaryHike": 11,
         "PerformanceRating": 3,
         "RelationshipSatisfaction": 1,
         "StockOptionLevel": 0,
         "TotalWorkingYears": 8,
         "TrainingTimesLastYear": 0,
         "WorkLifeBalance": 1,
         "YearsAtCompany": 6,
         "YearsInCurrentRole": 4,
         "YearsSinceLastPromotion": 0,
         "YearsWithCurrManager": 5,
         "_deepnote_index_column": 0
        },
        {
         "Age": 49,
         "Attrition": "No",
         "BusinessTravel": "Travel_Frequently",
         "DailyRate": 279,
         "Department": "Research & Development",
         "DistanceFromHome": 8,
         "Education": 1,
         "EducationField": "Life Sciences",
         "EmployeeNumber": 2,
         "EnvironmentSatisfaction": 3,
         "Gender": "Male",
         "HourlyRate": 61,
         "JobInvolvement": 2,
         "JobLevel": 2,
         "JobRole": "Research Scientist",
         "JobSatisfaction": 2,
         "MaritalStatus": "Married",
         "MonthlyIncome": 5130,
         "MonthlyRate": 24907,
         "NumCompaniesWorked": 1,
         "OverTime": "No",
         "PercentSalaryHike": 23,
         "PerformanceRating": 4,
         "RelationshipSatisfaction": 4,
         "StockOptionLevel": 1,
         "TotalWorkingYears": 10,
         "TrainingTimesLastYear": 3,
         "WorkLifeBalance": 3,
         "YearsAtCompany": 10,
         "YearsInCurrentRole": 7,
         "YearsSinceLastPromotion": 1,
         "YearsWithCurrManager": 7,
         "_deepnote_index_column": 1
        },
        {
         "Age": 37,
         "Attrition": "Yes",
         "BusinessTravel": "Travel_Rarely",
         "DailyRate": 1373,
         "Department": "Research & Development",
         "DistanceFromHome": 2,
         "Education": 2,
         "EducationField": "Other",
         "EmployeeNumber": 4,
         "EnvironmentSatisfaction": 4,
         "Gender": "Male",
         "HourlyRate": 92,
         "JobInvolvement": 2,
         "JobLevel": 1,
         "JobRole": "Laboratory Technician",
         "JobSatisfaction": 3,
         "MaritalStatus": "Single",
         "MonthlyIncome": 2090,
         "MonthlyRate": 2396,
         "NumCompaniesWorked": 6,
         "OverTime": "Yes",
         "PercentSalaryHike": 15,
         "PerformanceRating": 3,
         "RelationshipSatisfaction": 2,
         "StockOptionLevel": 0,
         "TotalWorkingYears": 7,
         "TrainingTimesLastYear": 3,
         "WorkLifeBalance": 3,
         "YearsAtCompany": 0,
         "YearsInCurrentRole": 0,
         "YearsSinceLastPromotion": 0,
         "YearsWithCurrManager": 0,
         "_deepnote_index_column": 2
        },
        {
         "Age": 33,
         "Attrition": "No",
         "BusinessTravel": "Travel_Frequently",
         "DailyRate": 1392,
         "Department": "Research & Development",
         "DistanceFromHome": 3,
         "Education": 4,
         "EducationField": "Life Sciences",
         "EmployeeNumber": 5,
         "EnvironmentSatisfaction": 4,
         "Gender": "Female",
         "HourlyRate": 56,
         "JobInvolvement": 3,
         "JobLevel": 1,
         "JobRole": "Research Scientist",
         "JobSatisfaction": 3,
         "MaritalStatus": "Married",
         "MonthlyIncome": 2909,
         "MonthlyRate": 23159,
         "NumCompaniesWorked": 1,
         "OverTime": "Yes",
         "PercentSalaryHike": 11,
         "PerformanceRating": 3,
         "RelationshipSatisfaction": 3,
         "StockOptionLevel": 0,
         "TotalWorkingYears": 8,
         "TrainingTimesLastYear": 3,
         "WorkLifeBalance": 3,
         "YearsAtCompany": 8,
         "YearsInCurrentRole": 7,
         "YearsSinceLastPromotion": 3,
         "YearsWithCurrManager": 0,
         "_deepnote_index_column": 3
        },
        {
         "Age": 27,
         "Attrition": "No",
         "BusinessTravel": "Travel_Rarely",
         "DailyRate": 591,
         "Department": "Research & Development",
         "DistanceFromHome": 2,
         "Education": 1,
         "EducationField": "Medical",
         "EmployeeNumber": 7,
         "EnvironmentSatisfaction": 1,
         "Gender": "Male",
         "HourlyRate": 40,
         "JobInvolvement": 3,
         "JobLevel": 1,
         "JobRole": "Laboratory Technician",
         "JobSatisfaction": 2,
         "MaritalStatus": "Married",
         "MonthlyIncome": 3468,
         "MonthlyRate": 16632,
         "NumCompaniesWorked": 9,
         "OverTime": "No",
         "PercentSalaryHike": 12,
         "PerformanceRating": 3,
         "RelationshipSatisfaction": 4,
         "StockOptionLevel": 1,
         "TotalWorkingYears": 6,
         "TrainingTimesLastYear": 3,
         "WorkLifeBalance": 3,
         "YearsAtCompany": 2,
         "YearsInCurrentRole": 2,
         "YearsSinceLastPromotion": 2,
         "YearsWithCurrManager": 2,
         "_deepnote_index_column": 4
        }
       ]
      },
      "text/plain": "   Age Attrition     BusinessTravel  DailyRate              Department  \\\n0   41       Yes      Travel_Rarely       1102                   Sales   \n1   49        No  Travel_Frequently        279  Research & Development   \n2   37       Yes      Travel_Rarely       1373  Research & Development   \n3   33        No  Travel_Frequently       1392  Research & Development   \n4   27        No      Travel_Rarely        591  Research & Development   \n\n   DistanceFromHome  Education EducationField  EmployeeNumber  \\\n0                 1          2  Life Sciences               1   \n1                 8          1  Life Sciences               2   \n2                 2          2          Other               4   \n3                 3          4  Life Sciences               5   \n4                 2          1        Medical               7   \n\n   EnvironmentSatisfaction  ... PerformanceRating  RelationshipSatisfaction  \\\n0                        2  ...                 3                         1   \n1                        3  ...                 4                         4   \n2                        4  ...                 3                         2   \n3                        4  ...                 3                         3   \n4                        1  ...                 3                         4   \n\n   StockOptionLevel  TotalWorkingYears TrainingTimesLastYear  WorkLifeBalance  \\\n0                 0                  8                     0                1   \n1                 1                 10                     3                3   \n2                 0                  7                     3                3   \n3                 0                  8                     3                3   \n4                 1                  6                     3                3   \n\n  YearsAtCompany  YearsInCurrentRole  YearsSinceLastPromotion  \\\n0              6                   4                        0   \n1             10                   7                        1   \n2              0                   0                        0   \n3              8                   7                        3   \n4              2                   2                        2   \n\n   YearsWithCurrManager  \n0                     5  \n1                     7  \n2                     0  \n3                     0  \n4                     2  \n\n[5 rows x 32 columns]",
      "text/html": "<div>\n<style scoped>\n    .dataframe tbody tr th:only-of-type {\n        vertical-align: middle;\n    }\n\n    .dataframe tbody tr th {\n        vertical-align: top;\n    }\n\n    .dataframe thead th {\n        text-align: right;\n    }\n</style>\n<table border=\"1\" class=\"dataframe\">\n  <thead>\n    <tr style=\"text-align: right;\">\n      <th></th>\n      <th>Age</th>\n      <th>Attrition</th>\n      <th>BusinessTravel</th>\n      <th>DailyRate</th>\n      <th>Department</th>\n      <th>DistanceFromHome</th>\n      <th>Education</th>\n      <th>EducationField</th>\n      <th>EmployeeNumber</th>\n      <th>EnvironmentSatisfaction</th>\n      <th>...</th>\n      <th>PerformanceRating</th>\n      <th>RelationshipSatisfaction</th>\n      <th>StockOptionLevel</th>\n      <th>TotalWorkingYears</th>\n      <th>TrainingTimesLastYear</th>\n      <th>WorkLifeBalance</th>\n      <th>YearsAtCompany</th>\n      <th>YearsInCurrentRole</th>\n      <th>YearsSinceLastPromotion</th>\n      <th>YearsWithCurrManager</th>\n    </tr>\n  </thead>\n  <tbody>\n    <tr>\n      <th>0</th>\n      <td>41</td>\n      <td>Yes</td>\n      <td>Travel_Rarely</td>\n      <td>1102</td>\n      <td>Sales</td>\n      <td>1</td>\n      <td>2</td>\n      <td>Life Sciences</td>\n      <td>1</td>\n      <td>2</td>\n      <td>...</td>\n      <td>3</td>\n      <td>1</td>\n      <td>0</td>\n      <td>8</td>\n      <td>0</td>\n      <td>1</td>\n      <td>6</td>\n      <td>4</td>\n      <td>0</td>\n      <td>5</td>\n    </tr>\n    <tr>\n      <th>1</th>\n      <td>49</td>\n      <td>No</td>\n      <td>Travel_Frequently</td>\n      <td>279</td>\n      <td>Research &amp; Development</td>\n      <td>8</td>\n      <td>1</td>\n      <td>Life Sciences</td>\n      <td>2</td>\n      <td>3</td>\n      <td>...</td>\n      <td>4</td>\n      <td>4</td>\n      <td>1</td>\n      <td>10</td>\n      <td>3</td>\n      <td>3</td>\n      <td>10</td>\n      <td>7</td>\n      <td>1</td>\n      <td>7</td>\n    </tr>\n    <tr>\n      <th>2</th>\n      <td>37</td>\n      <td>Yes</td>\n      <td>Travel_Rarely</td>\n      <td>1373</td>\n      <td>Research &amp; Development</td>\n      <td>2</td>\n      <td>2</td>\n      <td>Other</td>\n      <td>4</td>\n      <td>4</td>\n      <td>...</td>\n      <td>3</td>\n      <td>2</td>\n      <td>0</td>\n      <td>7</td>\n      <td>3</td>\n      <td>3</td>\n      <td>0</td>\n      <td>0</td>\n      <td>0</td>\n      <td>0</td>\n    </tr>\n    <tr>\n      <th>3</th>\n      <td>33</td>\n      <td>No</td>\n      <td>Travel_Frequently</td>\n      <td>1392</td>\n      <td>Research &amp; Development</td>\n      <td>3</td>\n      <td>4</td>\n      <td>Life Sciences</td>\n      <td>5</td>\n      <td>4</td>\n      <td>...</td>\n      <td>3</td>\n      <td>3</td>\n      <td>0</td>\n      <td>8</td>\n      <td>3</td>\n      <td>3</td>\n      <td>8</td>\n      <td>7</td>\n      <td>3</td>\n      <td>0</td>\n    </tr>\n    <tr>\n      <th>4</th>\n      <td>27</td>\n      <td>No</td>\n      <td>Travel_Rarely</td>\n      <td>591</td>\n      <td>Research &amp; Development</td>\n      <td>2</td>\n      <td>1</td>\n      <td>Medical</td>\n      <td>7</td>\n      <td>1</td>\n      <td>...</td>\n      <td>3</td>\n      <td>4</td>\n      <td>1</td>\n      <td>6</td>\n      <td>3</td>\n      <td>3</td>\n      <td>2</td>\n      <td>2</td>\n      <td>2</td>\n      <td>2</td>\n    </tr>\n  </tbody>\n</table>\n<p>5 rows × 32 columns</p>\n</div>"
     },
     "metadata": {}
    }
   ]
  },
  {
   "cell_type": "code",
   "metadata": {
    "cell_id": "754174f1-c0fa-4a21-b3e8-ed8c6ecc90c9",
    "tags": [],
    "deepnote_to_be_reexecuted": false,
    "source_hash": "8a874463",
    "execution_start": 1646785705044,
    "execution_millis": 2,
    "deepnote_cell_type": "code",
    "deepnote_cell_height": 118.1875,
    "deepnote_output_heights": [
     21.1875
    ]
   },
   "source": "df_HR['OverTime'].unique()",
   "execution_count": null,
   "outputs": [
    {
     "output_type": "execute_result",
     "execution_count": 6,
     "data": {
      "text/plain": "array(['Yes', 'No'], dtype=object)"
     },
     "metadata": {}
    }
   ]
  },
  {
   "cell_type": "code",
   "metadata": {
    "cell_id": "7f0514d3-fa9d-4e87-924a-117e587397b6",
    "tags": [],
    "deepnote_to_be_reexecuted": false,
    "source_hash": "10792249",
    "execution_start": 1646785705112,
    "execution_millis": 3,
    "deepnote_cell_type": "code",
    "deepnote_cell_height": 225
   },
   "source": "df_HR_KMeans = df_HR.copy()\n\ndf_HR_KMeans['Attrition'].replace(['No','Yes',],[0, 1], inplace=True)\ndf_HR_KMeans = df_HR_KMeans[df_HR_KMeans['Attrition']== 0]\ndf_HR_KMeans.drop(columns=['Attrition'],inplace = True)\ndf_HR_KMeans['Education'].replace(['No','Yes',],[0, 1], inplace=True)\ndf_HR_KMeans['BusinessTravel'].replace([ 'Non-Travel','Travel_Rarely', 'Travel_Frequently'],[0, 1,2], inplace=True)\ndf_HR_KMeans['Gender'].replace(['Female', 'Male'],[0, 1], inplace=True)\ndf_HR_KMeans['OverTime'].replace(['Yes', 'No'],[1, 0], inplace=True)",
   "execution_count": null,
   "outputs": []
  },
  {
   "cell_type": "code",
   "metadata": {
    "cell_id": "3581b4b5-ea46-477c-88d9-cbebf110a771",
    "tags": [],
    "deepnote_to_be_reexecuted": false,
    "source_hash": "29df3af7",
    "execution_start": 1646785705136,
    "execution_millis": 114,
    "deepnote_cell_type": "code",
    "deepnote_cell_height": 66
   },
   "source": "df_HR_KMeans.head(5)",
   "execution_count": null,
   "outputs": [
    {
     "output_type": "execute_result",
     "execution_count": 8,
     "data": {
      "application/vnd.deepnote.dataframe.v3+json": {
       "column_count": 31,
       "row_count": 5,
       "columns": [
        {
         "name": "Age",
         "dtype": "int64",
         "stats": {
          "unique_count": 5,
          "nan_count": 0,
          "min": "27",
          "max": "59",
          "histogram": [
           {
            "bin_start": 27,
            "bin_end": 30.2,
            "count": 1
           },
           {
            "bin_start": 30.2,
            "bin_end": 33.4,
            "count": 2
           },
           {
            "bin_start": 33.4,
            "bin_end": 36.6,
            "count": 0
           },
           {
            "bin_start": 36.6,
            "bin_end": 39.8,
            "count": 0
           },
           {
            "bin_start": 39.8,
            "bin_end": 43,
            "count": 0
           },
           {
            "bin_start": 43,
            "bin_end": 46.2,
            "count": 0
           },
           {
            "bin_start": 46.2,
            "bin_end": 49.400000000000006,
            "count": 1
           },
           {
            "bin_start": 49.400000000000006,
            "bin_end": 52.6,
            "count": 0
           },
           {
            "bin_start": 52.6,
            "bin_end": 55.8,
            "count": 0
           },
           {
            "bin_start": 55.8,
            "bin_end": 59,
            "count": 1
           }
          ]
         }
        },
        {
         "name": "BusinessTravel",
         "dtype": "int64",
         "stats": {
          "unique_count": 2,
          "nan_count": 0,
          "min": "1",
          "max": "2",
          "histogram": [
           {
            "bin_start": 1,
            "bin_end": 1.1,
            "count": 2
           },
           {
            "bin_start": 1.1,
            "bin_end": 1.2,
            "count": 0
           },
           {
            "bin_start": 1.2,
            "bin_end": 1.3,
            "count": 0
           },
           {
            "bin_start": 1.3,
            "bin_end": 1.4,
            "count": 0
           },
           {
            "bin_start": 1.4,
            "bin_end": 1.5,
            "count": 0
           },
           {
            "bin_start": 1.5,
            "bin_end": 1.6,
            "count": 0
           },
           {
            "bin_start": 1.6,
            "bin_end": 1.7000000000000002,
            "count": 0
           },
           {
            "bin_start": 1.7000000000000002,
            "bin_end": 1.8,
            "count": 0
           },
           {
            "bin_start": 1.8,
            "bin_end": 1.9,
            "count": 0
           },
           {
            "bin_start": 1.9,
            "bin_end": 2,
            "count": 3
           }
          ]
         }
        },
        {
         "name": "DailyRate",
         "dtype": "int64",
         "stats": {
          "unique_count": 5,
          "nan_count": 0,
          "min": "279",
          "max": "1392",
          "histogram": [
           {
            "bin_start": 279,
            "bin_end": 390.3,
            "count": 1
           },
           {
            "bin_start": 390.3,
            "bin_end": 501.6,
            "count": 0
           },
           {
            "bin_start": 501.6,
            "bin_end": 612.9,
            "count": 1
           },
           {
            "bin_start": 612.9,
            "bin_end": 724.2,
            "count": 0
           },
           {
            "bin_start": 724.2,
            "bin_end": 835.5,
            "count": 0
           },
           {
            "bin_start": 835.5,
            "bin_end": 946.8,
            "count": 0
           },
           {
            "bin_start": 946.8,
            "bin_end": 1058.1,
            "count": 1
           },
           {
            "bin_start": 1058.1,
            "bin_end": 1169.4,
            "count": 0
           },
           {
            "bin_start": 1169.4,
            "bin_end": 1280.6999999999998,
            "count": 0
           },
           {
            "bin_start": 1280.6999999999998,
            "bin_end": 1392,
            "count": 2
           }
          ]
         }
        },
        {
         "name": "Department",
         "dtype": "object",
         "stats": {
          "unique_count": 1,
          "nan_count": 0,
          "categories": [
           {
            "name": "Research & Development",
            "count": 5
           }
          ]
         }
        },
        {
         "name": "DistanceFromHome",
         "dtype": "int64",
         "stats": {
          "unique_count": 3,
          "nan_count": 0,
          "min": "2",
          "max": "8",
          "histogram": [
           {
            "bin_start": 2,
            "bin_end": 2.6,
            "count": 2
           },
           {
            "bin_start": 2.6,
            "bin_end": 3.2,
            "count": 2
           },
           {
            "bin_start": 3.2,
            "bin_end": 3.8,
            "count": 0
           },
           {
            "bin_start": 3.8,
            "bin_end": 4.4,
            "count": 0
           },
           {
            "bin_start": 4.4,
            "bin_end": 5,
            "count": 0
           },
           {
            "bin_start": 5,
            "bin_end": 5.6,
            "count": 0
           },
           {
            "bin_start": 5.6,
            "bin_end": 6.2,
            "count": 0
           },
           {
            "bin_start": 6.2,
            "bin_end": 6.8,
            "count": 0
           },
           {
            "bin_start": 6.8,
            "bin_end": 7.3999999999999995,
            "count": 0
           },
           {
            "bin_start": 7.3999999999999995,
            "bin_end": 8,
            "count": 1
           }
          ]
         }
        },
        {
         "name": "Education",
         "dtype": "int64",
         "stats": {
          "unique_count": 4,
          "nan_count": 0,
          "min": "1",
          "max": "4",
          "histogram": [
           {
            "bin_start": 1,
            "bin_end": 1.3,
            "count": 2
           },
           {
            "bin_start": 1.3,
            "bin_end": 1.6,
            "count": 0
           },
           {
            "bin_start": 1.6,
            "bin_end": 1.9,
            "count": 0
           },
           {
            "bin_start": 1.9,
            "bin_end": 2.2,
            "count": 1
           },
           {
            "bin_start": 2.2,
            "bin_end": 2.5,
            "count": 0
           },
           {
            "bin_start": 2.5,
            "bin_end": 2.8,
            "count": 0
           },
           {
            "bin_start": 2.8,
            "bin_end": 3.1,
            "count": 1
           },
           {
            "bin_start": 3.1,
            "bin_end": 3.4,
            "count": 0
           },
           {
            "bin_start": 3.4,
            "bin_end": 3.6999999999999997,
            "count": 0
           },
           {
            "bin_start": 3.6999999999999997,
            "bin_end": 4,
            "count": 1
           }
          ]
         }
        },
        {
         "name": "EducationField",
         "dtype": "object",
         "stats": {
          "unique_count": 2,
          "nan_count": 0,
          "categories": [
           {
            "name": "Life Sciences",
            "count": 3
           },
           {
            "name": "Medical",
            "count": 2
           }
          ]
         }
        },
        {
         "name": "EmployeeNumber",
         "dtype": "int64",
         "stats": {
          "unique_count": 5,
          "nan_count": 0,
          "min": "2",
          "max": "10",
          "histogram": [
           {
            "bin_start": 2,
            "bin_end": 2.8,
            "count": 1
           },
           {
            "bin_start": 2.8,
            "bin_end": 3.6,
            "count": 0
           },
           {
            "bin_start": 3.6,
            "bin_end": 4.4,
            "count": 0
           },
           {
            "bin_start": 4.4,
            "bin_end": 5.2,
            "count": 1
           },
           {
            "bin_start": 5.2,
            "bin_end": 6,
            "count": 0
           },
           {
            "bin_start": 6,
            "bin_end": 6.800000000000001,
            "count": 0
           },
           {
            "bin_start": 6.800000000000001,
            "bin_end": 7.6000000000000005,
            "count": 1
           },
           {
            "bin_start": 7.6000000000000005,
            "bin_end": 8.4,
            "count": 1
           },
           {
            "bin_start": 8.4,
            "bin_end": 9.2,
            "count": 0
           },
           {
            "bin_start": 9.2,
            "bin_end": 10,
            "count": 1
           }
          ]
         }
        },
        {
         "name": "EnvironmentSatisfaction",
         "dtype": "int64",
         "stats": {
          "unique_count": 3,
          "nan_count": 0,
          "min": "1",
          "max": "4",
          "histogram": [
           {
            "bin_start": 1,
            "bin_end": 1.3,
            "count": 1
           },
           {
            "bin_start": 1.3,
            "bin_end": 1.6,
            "count": 0
           },
           {
            "bin_start": 1.6,
            "bin_end": 1.9,
            "count": 0
           },
           {
            "bin_start": 1.9,
            "bin_end": 2.2,
            "count": 0
           },
           {
            "bin_start": 2.2,
            "bin_end": 2.5,
            "count": 0
           },
           {
            "bin_start": 2.5,
            "bin_end": 2.8,
            "count": 0
           },
           {
            "bin_start": 2.8,
            "bin_end": 3.1,
            "count": 2
           },
           {
            "bin_start": 3.1,
            "bin_end": 3.4,
            "count": 0
           },
           {
            "bin_start": 3.4,
            "bin_end": 3.6999999999999997,
            "count": 0
           },
           {
            "bin_start": 3.6999999999999997,
            "bin_end": 4,
            "count": 2
           }
          ]
         }
        },
        {
         "name": "Gender",
         "dtype": "int64",
         "stats": {
          "unique_count": 2,
          "nan_count": 0,
          "min": "0",
          "max": "1",
          "histogram": [
           {
            "bin_start": 0,
            "bin_end": 0.1,
            "count": 2
           },
           {
            "bin_start": 0.1,
            "bin_end": 0.2,
            "count": 0
           },
           {
            "bin_start": 0.2,
            "bin_end": 0.30000000000000004,
            "count": 0
           },
           {
            "bin_start": 0.30000000000000004,
            "bin_end": 0.4,
            "count": 0
           },
           {
            "bin_start": 0.4,
            "bin_end": 0.5,
            "count": 0
           },
           {
            "bin_start": 0.5,
            "bin_end": 0.6000000000000001,
            "count": 0
           },
           {
            "bin_start": 0.6000000000000001,
            "bin_end": 0.7000000000000001,
            "count": 0
           },
           {
            "bin_start": 0.7000000000000001,
            "bin_end": 0.8,
            "count": 0
           },
           {
            "bin_start": 0.8,
            "bin_end": 0.9,
            "count": 0
           },
           {
            "bin_start": 0.9,
            "bin_end": 1,
            "count": 3
           }
          ]
         }
        },
        {
         "name": "HourlyRate",
         "dtype": "int64",
         "stats": {
          "unique_count": 5,
          "nan_count": 0,
          "min": "40",
          "max": "81",
          "histogram": [
           {
            "bin_start": 40,
            "bin_end": 44.1,
            "count": 1
           },
           {
            "bin_start": 44.1,
            "bin_end": 48.2,
            "count": 0
           },
           {
            "bin_start": 48.2,
            "bin_end": 52.3,
            "count": 0
           },
           {
            "bin_start": 52.3,
            "bin_end": 56.4,
            "count": 1
           },
           {
            "bin_start": 56.4,
            "bin_end": 60.5,
            "count": 0
           },
           {
            "bin_start": 60.5,
            "bin_end": 64.6,
            "count": 1
           },
           {
            "bin_start": 64.6,
            "bin_end": 68.69999999999999,
            "count": 0
           },
           {
            "bin_start": 68.69999999999999,
            "bin_end": 72.8,
            "count": 0
           },
           {
            "bin_start": 72.8,
            "bin_end": 76.9,
            "count": 0
           },
           {
            "bin_start": 76.9,
            "bin_end": 81,
            "count": 2
           }
          ]
         }
        },
        {
         "name": "JobInvolvement",
         "dtype": "int64",
         "stats": {
          "unique_count": 3,
          "nan_count": 0,
          "min": "2",
          "max": "4",
          "histogram": [
           {
            "bin_start": 2,
            "bin_end": 2.2,
            "count": 1
           },
           {
            "bin_start": 2.2,
            "bin_end": 2.4,
            "count": 0
           },
           {
            "bin_start": 2.4,
            "bin_end": 2.6,
            "count": 0
           },
           {
            "bin_start": 2.6,
            "bin_end": 2.8,
            "count": 0
           },
           {
            "bin_start": 2.8,
            "bin_end": 3,
            "count": 0
           },
           {
            "bin_start": 3,
            "bin_end": 3.2,
            "count": 3
           },
           {
            "bin_start": 3.2,
            "bin_end": 3.4000000000000004,
            "count": 0
           },
           {
            "bin_start": 3.4000000000000004,
            "bin_end": 3.6,
            "count": 0
           },
           {
            "bin_start": 3.6,
            "bin_end": 3.8,
            "count": 0
           },
           {
            "bin_start": 3.8,
            "bin_end": 4,
            "count": 1
           }
          ]
         }
        },
        {
         "name": "JobLevel",
         "dtype": "int64",
         "stats": {
          "unique_count": 2,
          "nan_count": 0,
          "min": "1",
          "max": "2",
          "histogram": [
           {
            "bin_start": 1,
            "bin_end": 1.1,
            "count": 4
           },
           {
            "bin_start": 1.1,
            "bin_end": 1.2,
            "count": 0
           },
           {
            "bin_start": 1.2,
            "bin_end": 1.3,
            "count": 0
           },
           {
            "bin_start": 1.3,
            "bin_end": 1.4,
            "count": 0
           },
           {
            "bin_start": 1.4,
            "bin_end": 1.5,
            "count": 0
           },
           {
            "bin_start": 1.5,
            "bin_end": 1.6,
            "count": 0
           },
           {
            "bin_start": 1.6,
            "bin_end": 1.7000000000000002,
            "count": 0
           },
           {
            "bin_start": 1.7000000000000002,
            "bin_end": 1.8,
            "count": 0
           },
           {
            "bin_start": 1.8,
            "bin_end": 1.9,
            "count": 0
           },
           {
            "bin_start": 1.9,
            "bin_end": 2,
            "count": 1
           }
          ]
         }
        },
        {
         "name": "JobRole",
         "dtype": "object",
         "stats": {
          "unique_count": 2,
          "nan_count": 0,
          "categories": [
           {
            "name": "Laboratory Technician",
            "count": 3
           },
           {
            "name": "Research Scientist",
            "count": 2
           }
          ]
         }
        },
        {
         "name": "JobSatisfaction",
         "dtype": "int64",
         "stats": {
          "unique_count": 4,
          "nan_count": 0,
          "min": "1",
          "max": "4",
          "histogram": [
           {
            "bin_start": 1,
            "bin_end": 1.3,
            "count": 1
           },
           {
            "bin_start": 1.3,
            "bin_end": 1.6,
            "count": 0
           },
           {
            "bin_start": 1.6,
            "bin_end": 1.9,
            "count": 0
           },
           {
            "bin_start": 1.9,
            "bin_end": 2.2,
            "count": 2
           },
           {
            "bin_start": 2.2,
            "bin_end": 2.5,
            "count": 0
           },
           {
            "bin_start": 2.5,
            "bin_end": 2.8,
            "count": 0
           },
           {
            "bin_start": 2.8,
            "bin_end": 3.1,
            "count": 1
           },
           {
            "bin_start": 3.1,
            "bin_end": 3.4,
            "count": 0
           },
           {
            "bin_start": 3.4,
            "bin_end": 3.6999999999999997,
            "count": 0
           },
           {
            "bin_start": 3.6999999999999997,
            "bin_end": 4,
            "count": 1
           }
          ]
         }
        },
        {
         "name": "MaritalStatus",
         "dtype": "object",
         "stats": {
          "unique_count": 2,
          "nan_count": 0,
          "categories": [
           {
            "name": "Married",
            "count": 4
           },
           {
            "name": "Single",
            "count": 1
           }
          ]
         }
        },
        {
         "name": "MonthlyIncome",
         "dtype": "int64",
         "stats": {
          "unique_count": 5,
          "nan_count": 0,
          "min": "2670",
          "max": "5130",
          "histogram": [
           {
            "bin_start": 2670,
            "bin_end": 2916,
            "count": 2
           },
           {
            "bin_start": 2916,
            "bin_end": 3162,
            "count": 1
           },
           {
            "bin_start": 3162,
            "bin_end": 3408,
            "count": 0
           },
           {
            "bin_start": 3408,
            "bin_end": 3654,
            "count": 1
           },
           {
            "bin_start": 3654,
            "bin_end": 3900,
            "count": 0
           },
           {
            "bin_start": 3900,
            "bin_end": 4146,
            "count": 0
           },
           {
            "bin_start": 4146,
            "bin_end": 4392,
            "count": 0
           },
           {
            "bin_start": 4392,
            "bin_end": 4638,
            "count": 0
           },
           {
            "bin_start": 4638,
            "bin_end": 4884,
            "count": 0
           },
           {
            "bin_start": 4884,
            "bin_end": 5130,
            "count": 1
           }
          ]
         }
        },
        {
         "name": "MonthlyRate",
         "dtype": "int64",
         "stats": {
          "unique_count": 5,
          "nan_count": 0,
          "min": "9964",
          "max": "24907",
          "histogram": [
           {
            "bin_start": 9964,
            "bin_end": 11458.3,
            "count": 1
           },
           {
            "bin_start": 11458.3,
            "bin_end": 12952.6,
            "count": 1
           },
           {
            "bin_start": 12952.6,
            "bin_end": 14446.9,
            "count": 0
           },
           {
            "bin_start": 14446.9,
            "bin_end": 15941.2,
            "count": 0
           },
           {
            "bin_start": 15941.2,
            "bin_end": 17435.5,
            "count": 1
           },
           {
            "bin_start": 17435.5,
            "bin_end": 18929.8,
            "count": 0
           },
           {
            "bin_start": 18929.8,
            "bin_end": 20424.1,
            "count": 0
           },
           {
            "bin_start": 20424.1,
            "bin_end": 21918.4,
            "count": 0
           },
           {
            "bin_start": 21918.4,
            "bin_end": 23412.699999999997,
            "count": 1
           },
           {
            "bin_start": 23412.699999999997,
            "bin_end": 24907,
            "count": 1
           }
          ]
         }
        },
        {
         "name": "NumCompaniesWorked",
         "dtype": "int64",
         "stats": {
          "unique_count": 4,
          "nan_count": 0,
          "min": "0",
          "max": "9",
          "histogram": [
           {
            "bin_start": 0,
            "bin_end": 0.9,
            "count": 1
           },
           {
            "bin_start": 0.9,
            "bin_end": 1.8,
            "count": 2
           },
           {
            "bin_start": 1.8,
            "bin_end": 2.7,
            "count": 0
           },
           {
            "bin_start": 2.7,
            "bin_end": 3.6,
            "count": 0
           },
           {
            "bin_start": 3.6,
            "bin_end": 4.5,
            "count": 1
           },
           {
            "bin_start": 4.5,
            "bin_end": 5.4,
            "count": 0
           },
           {
            "bin_start": 5.4,
            "bin_end": 6.3,
            "count": 0
           },
           {
            "bin_start": 6.3,
            "bin_end": 7.2,
            "count": 0
           },
           {
            "bin_start": 7.2,
            "bin_end": 8.1,
            "count": 0
           },
           {
            "bin_start": 8.1,
            "bin_end": 9,
            "count": 1
           }
          ]
         }
        },
        {
         "name": "OverTime",
         "dtype": "int64",
         "stats": {
          "unique_count": 2,
          "nan_count": 0,
          "min": "0",
          "max": "1",
          "histogram": [
           {
            "bin_start": 0,
            "bin_end": 0.1,
            "count": 3
           },
           {
            "bin_start": 0.1,
            "bin_end": 0.2,
            "count": 0
           },
           {
            "bin_start": 0.2,
            "bin_end": 0.30000000000000004,
            "count": 0
           },
           {
            "bin_start": 0.30000000000000004,
            "bin_end": 0.4,
            "count": 0
           },
           {
            "bin_start": 0.4,
            "bin_end": 0.5,
            "count": 0
           },
           {
            "bin_start": 0.5,
            "bin_end": 0.6000000000000001,
            "count": 0
           },
           {
            "bin_start": 0.6000000000000001,
            "bin_end": 0.7000000000000001,
            "count": 0
           },
           {
            "bin_start": 0.7000000000000001,
            "bin_end": 0.8,
            "count": 0
           },
           {
            "bin_start": 0.8,
            "bin_end": 0.9,
            "count": 0
           },
           {
            "bin_start": 0.9,
            "bin_end": 1,
            "count": 2
           }
          ]
         }
        },
        {
         "name": "PercentSalaryHike",
         "dtype": "int64",
         "stats": {
          "unique_count": 5,
          "nan_count": 0,
          "min": "11",
          "max": "23",
          "histogram": [
           {
            "bin_start": 11,
            "bin_end": 12.2,
            "count": 2
           },
           {
            "bin_start": 12.2,
            "bin_end": 13.4,
            "count": 1
           },
           {
            "bin_start": 13.4,
            "bin_end": 14.6,
            "count": 0
           },
           {
            "bin_start": 14.6,
            "bin_end": 15.8,
            "count": 0
           },
           {
            "bin_start": 15.8,
            "bin_end": 17,
            "count": 0
           },
           {
            "bin_start": 17,
            "bin_end": 18.2,
            "count": 0
           },
           {
            "bin_start": 18.2,
            "bin_end": 19.4,
            "count": 0
           },
           {
            "bin_start": 19.4,
            "bin_end": 20.6,
            "count": 1
           },
           {
            "bin_start": 20.6,
            "bin_end": 21.799999999999997,
            "count": 0
           },
           {
            "bin_start": 21.799999999999997,
            "bin_end": 23,
            "count": 1
           }
          ]
         }
        },
        {
         "name": "PerformanceRating",
         "dtype": "int64",
         "stats": {
          "unique_count": 2,
          "nan_count": 0,
          "min": "3",
          "max": "4",
          "histogram": [
           {
            "bin_start": 3,
            "bin_end": 3.1,
            "count": 3
           },
           {
            "bin_start": 3.1,
            "bin_end": 3.2,
            "count": 0
           },
           {
            "bin_start": 3.2,
            "bin_end": 3.3,
            "count": 0
           },
           {
            "bin_start": 3.3,
            "bin_end": 3.4,
            "count": 0
           },
           {
            "bin_start": 3.4,
            "bin_end": 3.5,
            "count": 0
           },
           {
            "bin_start": 3.5,
            "bin_end": 3.6,
            "count": 0
           },
           {
            "bin_start": 3.6,
            "bin_end": 3.7,
            "count": 0
           },
           {
            "bin_start": 3.7,
            "bin_end": 3.8,
            "count": 0
           },
           {
            "bin_start": 3.8,
            "bin_end": 3.9,
            "count": 0
           },
           {
            "bin_start": 3.9,
            "bin_end": 4,
            "count": 2
           }
          ]
         }
        },
        {
         "name": "RelationshipSatisfaction",
         "dtype": "int64",
         "stats": {
          "unique_count": 3,
          "nan_count": 0,
          "min": "1",
          "max": "4",
          "histogram": [
           {
            "bin_start": 1,
            "bin_end": 1.3,
            "count": 1
           },
           {
            "bin_start": 1.3,
            "bin_end": 1.6,
            "count": 0
           },
           {
            "bin_start": 1.6,
            "bin_end": 1.9,
            "count": 0
           },
           {
            "bin_start": 1.9,
            "bin_end": 2.2,
            "count": 0
           },
           {
            "bin_start": 2.2,
            "bin_end": 2.5,
            "count": 0
           },
           {
            "bin_start": 2.5,
            "bin_end": 2.8,
            "count": 0
           },
           {
            "bin_start": 2.8,
            "bin_end": 3.1,
            "count": 2
           },
           {
            "bin_start": 3.1,
            "bin_end": 3.4,
            "count": 0
           },
           {
            "bin_start": 3.4,
            "bin_end": 3.6999999999999997,
            "count": 0
           },
           {
            "bin_start": 3.6999999999999997,
            "bin_end": 4,
            "count": 2
           }
          ]
         }
        },
        {
         "name": "StockOptionLevel",
         "dtype": "int64",
         "stats": {
          "unique_count": 3,
          "nan_count": 0,
          "min": "0",
          "max": "3",
          "histogram": [
           {
            "bin_start": 0,
            "bin_end": 0.3,
            "count": 2
           },
           {
            "bin_start": 0.3,
            "bin_end": 0.6,
            "count": 0
           },
           {
            "bin_start": 0.6,
            "bin_end": 0.8999999999999999,
            "count": 0
           },
           {
            "bin_start": 0.8999999999999999,
            "bin_end": 1.2,
            "count": 2
           },
           {
            "bin_start": 1.2,
            "bin_end": 1.5,
            "count": 0
           },
           {
            "bin_start": 1.5,
            "bin_end": 1.7999999999999998,
            "count": 0
           },
           {
            "bin_start": 1.7999999999999998,
            "bin_end": 2.1,
            "count": 0
           },
           {
            "bin_start": 2.1,
            "bin_end": 2.4,
            "count": 0
           },
           {
            "bin_start": 2.4,
            "bin_end": 2.6999999999999997,
            "count": 0
           },
           {
            "bin_start": 2.6999999999999997,
            "bin_end": 3,
            "count": 1
           }
          ]
         }
        },
        {
         "name": "TotalWorkingYears",
         "dtype": "int64",
         "stats": {
          "unique_count": 4,
          "nan_count": 0,
          "min": "6",
          "max": "12",
          "histogram": [
           {
            "bin_start": 6,
            "bin_end": 6.6,
            "count": 1
           },
           {
            "bin_start": 6.6,
            "bin_end": 7.2,
            "count": 0
           },
           {
            "bin_start": 7.2,
            "bin_end": 7.8,
            "count": 0
           },
           {
            "bin_start": 7.8,
            "bin_end": 8.4,
            "count": 2
           },
           {
            "bin_start": 8.4,
            "bin_end": 9,
            "count": 0
           },
           {
            "bin_start": 9,
            "bin_end": 9.6,
            "count": 0
           },
           {
            "bin_start": 9.6,
            "bin_end": 10.2,
            "count": 1
           },
           {
            "bin_start": 10.2,
            "bin_end": 10.8,
            "count": 0
           },
           {
            "bin_start": 10.8,
            "bin_end": 11.399999999999999,
            "count": 0
           },
           {
            "bin_start": 11.399999999999999,
            "bin_end": 12,
            "count": 1
           }
          ]
         }
        },
        {
         "name": "TrainingTimesLastYear",
         "dtype": "int64",
         "stats": {
          "unique_count": 2,
          "nan_count": 0,
          "min": "2",
          "max": "3",
          "histogram": [
           {
            "bin_start": 2,
            "bin_end": 2.1,
            "count": 1
           },
           {
            "bin_start": 2.1,
            "bin_end": 2.2,
            "count": 0
           },
           {
            "bin_start": 2.2,
            "bin_end": 2.3,
            "count": 0
           },
           {
            "bin_start": 2.3,
            "bin_end": 2.4,
            "count": 0
           },
           {
            "bin_start": 2.4,
            "bin_end": 2.5,
            "count": 0
           },
           {
            "bin_start": 2.5,
            "bin_end": 2.6,
            "count": 0
           },
           {
            "bin_start": 2.6,
            "bin_end": 2.7,
            "count": 0
           },
           {
            "bin_start": 2.7,
            "bin_end": 2.8,
            "count": 0
           },
           {
            "bin_start": 2.8,
            "bin_end": 2.9,
            "count": 0
           },
           {
            "bin_start": 2.9,
            "bin_end": 3,
            "count": 4
           }
          ]
         }
        },
        {
         "name": "WorkLifeBalance",
         "dtype": "int64",
         "stats": {
          "unique_count": 2,
          "nan_count": 0,
          "min": "2",
          "max": "3",
          "histogram": [
           {
            "bin_start": 2,
            "bin_end": 2.1,
            "count": 2
           },
           {
            "bin_start": 2.1,
            "bin_end": 2.2,
            "count": 0
           },
           {
            "bin_start": 2.2,
            "bin_end": 2.3,
            "count": 0
           },
           {
            "bin_start": 2.3,
            "bin_end": 2.4,
            "count": 0
           },
           {
            "bin_start": 2.4,
            "bin_end": 2.5,
            "count": 0
           },
           {
            "bin_start": 2.5,
            "bin_end": 2.6,
            "count": 0
           },
           {
            "bin_start": 2.6,
            "bin_end": 2.7,
            "count": 0
           },
           {
            "bin_start": 2.7,
            "bin_end": 2.8,
            "count": 0
           },
           {
            "bin_start": 2.8,
            "bin_end": 2.9,
            "count": 0
           },
           {
            "bin_start": 2.9,
            "bin_end": 3,
            "count": 3
           }
          ]
         }
        },
        {
         "name": "YearsAtCompany",
         "dtype": "int64",
         "stats": {
          "unique_count": 5,
          "nan_count": 0,
          "min": "1",
          "max": "10",
          "histogram": [
           {
            "bin_start": 1,
            "bin_end": 1.9,
            "count": 1
           },
           {
            "bin_start": 1.9,
            "bin_end": 2.8,
            "count": 1
           },
           {
            "bin_start": 2.8,
            "bin_end": 3.7,
            "count": 0
           },
           {
            "bin_start": 3.7,
            "bin_end": 4.6,
            "count": 0
           },
           {
            "bin_start": 4.6,
            "bin_end": 5.5,
            "count": 0
           },
           {
            "bin_start": 5.5,
            "bin_end": 6.4,
            "count": 0
           },
           {
            "bin_start": 6.4,
            "bin_end": 7.3,
            "count": 1
           },
           {
            "bin_start": 7.3,
            "bin_end": 8.2,
            "count": 1
           },
           {
            "bin_start": 8.2,
            "bin_end": 9.1,
            "count": 0
           },
           {
            "bin_start": 9.1,
            "bin_end": 10,
            "count": 1
           }
          ]
         }
        },
        {
         "name": "YearsInCurrentRole",
         "dtype": "int64",
         "stats": {
          "unique_count": 3,
          "nan_count": 0,
          "min": "0",
          "max": "7",
          "histogram": [
           {
            "bin_start": 0,
            "bin_end": 0.7,
            "count": 1
           },
           {
            "bin_start": 0.7,
            "bin_end": 1.4,
            "count": 0
           },
           {
            "bin_start": 1.4,
            "bin_end": 2.0999999999999996,
            "count": 1
           },
           {
            "bin_start": 2.0999999999999996,
            "bin_end": 2.8,
            "count": 0
           },
           {
            "bin_start": 2.8,
            "bin_end": 3.5,
            "count": 0
           },
           {
            "bin_start": 3.5,
            "bin_end": 4.199999999999999,
            "count": 0
           },
           {
            "bin_start": 4.199999999999999,
            "bin_end": 4.8999999999999995,
            "count": 0
           },
           {
            "bin_start": 4.8999999999999995,
            "bin_end": 5.6,
            "count": 0
           },
           {
            "bin_start": 5.6,
            "bin_end": 6.3,
            "count": 0
           },
           {
            "bin_start": 6.3,
            "bin_end": 7,
            "count": 3
           }
          ]
         }
        },
        {
         "name": "YearsSinceLastPromotion",
         "dtype": "int64",
         "stats": {
          "unique_count": 4,
          "nan_count": 0,
          "min": "0",
          "max": "3",
          "histogram": [
           {
            "bin_start": 0,
            "bin_end": 0.3,
            "count": 1
           },
           {
            "bin_start": 0.3,
            "bin_end": 0.6,
            "count": 0
           },
           {
            "bin_start": 0.6,
            "bin_end": 0.8999999999999999,
            "count": 0
           },
           {
            "bin_start": 0.8999999999999999,
            "bin_end": 1.2,
            "count": 1
           },
           {
            "bin_start": 1.2,
            "bin_end": 1.5,
            "count": 0
           },
           {
            "bin_start": 1.5,
            "bin_end": 1.7999999999999998,
            "count": 0
           },
           {
            "bin_start": 1.7999999999999998,
            "bin_end": 2.1,
            "count": 1
           },
           {
            "bin_start": 2.1,
            "bin_end": 2.4,
            "count": 0
           },
           {
            "bin_start": 2.4,
            "bin_end": 2.6999999999999997,
            "count": 0
           },
           {
            "bin_start": 2.6999999999999997,
            "bin_end": 3,
            "count": 2
           }
          ]
         }
        },
        {
         "name": "YearsWithCurrManager",
         "dtype": "int64",
         "stats": {
          "unique_count": 4,
          "nan_count": 0,
          "min": "0",
          "max": "7",
          "histogram": [
           {
            "bin_start": 0,
            "bin_end": 0.7,
            "count": 2
           },
           {
            "bin_start": 0.7,
            "bin_end": 1.4,
            "count": 0
           },
           {
            "bin_start": 1.4,
            "bin_end": 2.0999999999999996,
            "count": 1
           },
           {
            "bin_start": 2.0999999999999996,
            "bin_end": 2.8,
            "count": 0
           },
           {
            "bin_start": 2.8,
            "bin_end": 3.5,
            "count": 0
           },
           {
            "bin_start": 3.5,
            "bin_end": 4.199999999999999,
            "count": 0
           },
           {
            "bin_start": 4.199999999999999,
            "bin_end": 4.8999999999999995,
            "count": 0
           },
           {
            "bin_start": 4.8999999999999995,
            "bin_end": 5.6,
            "count": 0
           },
           {
            "bin_start": 5.6,
            "bin_end": 6.3,
            "count": 1
           },
           {
            "bin_start": 6.3,
            "bin_end": 7,
            "count": 1
           }
          ]
         }
        },
        {
         "name": "_deepnote_index_column",
         "dtype": "int64"
        }
       ],
       "rows": [
        {
         "Age": 49,
         "BusinessTravel": 2,
         "DailyRate": 279,
         "Department": "Research & Development",
         "DistanceFromHome": 8,
         "Education": 1,
         "EducationField": "Life Sciences",
         "EmployeeNumber": 2,
         "EnvironmentSatisfaction": 3,
         "Gender": 1,
         "HourlyRate": 61,
         "JobInvolvement": 2,
         "JobLevel": 2,
         "JobRole": "Research Scientist",
         "JobSatisfaction": 2,
         "MaritalStatus": "Married",
         "MonthlyIncome": 5130,
         "MonthlyRate": 24907,
         "NumCompaniesWorked": 1,
         "OverTime": 0,
         "PercentSalaryHike": 23,
         "PerformanceRating": 4,
         "RelationshipSatisfaction": 4,
         "StockOptionLevel": 1,
         "TotalWorkingYears": 10,
         "TrainingTimesLastYear": 3,
         "WorkLifeBalance": 3,
         "YearsAtCompany": 10,
         "YearsInCurrentRole": 7,
         "YearsSinceLastPromotion": 1,
         "YearsWithCurrManager": 7,
         "_deepnote_index_column": 1
        },
        {
         "Age": 33,
         "BusinessTravel": 2,
         "DailyRate": 1392,
         "Department": "Research & Development",
         "DistanceFromHome": 3,
         "Education": 4,
         "EducationField": "Life Sciences",
         "EmployeeNumber": 5,
         "EnvironmentSatisfaction": 4,
         "Gender": 0,
         "HourlyRate": 56,
         "JobInvolvement": 3,
         "JobLevel": 1,
         "JobRole": "Research Scientist",
         "JobSatisfaction": 3,
         "MaritalStatus": "Married",
         "MonthlyIncome": 2909,
         "MonthlyRate": 23159,
         "NumCompaniesWorked": 1,
         "OverTime": 1,
         "PercentSalaryHike": 11,
         "PerformanceRating": 3,
         "RelationshipSatisfaction": 3,
         "StockOptionLevel": 0,
         "TotalWorkingYears": 8,
         "TrainingTimesLastYear": 3,
         "WorkLifeBalance": 3,
         "YearsAtCompany": 8,
         "YearsInCurrentRole": 7,
         "YearsSinceLastPromotion": 3,
         "YearsWithCurrManager": 0,
         "_deepnote_index_column": 3
        },
        {
         "Age": 27,
         "BusinessTravel": 1,
         "DailyRate": 591,
         "Department": "Research & Development",
         "DistanceFromHome": 2,
         "Education": 1,
         "EducationField": "Medical",
         "EmployeeNumber": 7,
         "EnvironmentSatisfaction": 1,
         "Gender": 1,
         "HourlyRate": 40,
         "JobInvolvement": 3,
         "JobLevel": 1,
         "JobRole": "Laboratory Technician",
         "JobSatisfaction": 2,
         "MaritalStatus": "Married",
         "MonthlyIncome": 3468,
         "MonthlyRate": 16632,
         "NumCompaniesWorked": 9,
         "OverTime": 0,
         "PercentSalaryHike": 12,
         "PerformanceRating": 3,
         "RelationshipSatisfaction": 4,
         "StockOptionLevel": 1,
         "TotalWorkingYears": 6,
         "TrainingTimesLastYear": 3,
         "WorkLifeBalance": 3,
         "YearsAtCompany": 2,
         "YearsInCurrentRole": 2,
         "YearsSinceLastPromotion": 2,
         "YearsWithCurrManager": 2,
         "_deepnote_index_column": 4
        },
        {
         "Age": 32,
         "BusinessTravel": 2,
         "DailyRate": 1005,
         "Department": "Research & Development",
         "DistanceFromHome": 2,
         "Education": 2,
         "EducationField": "Life Sciences",
         "EmployeeNumber": 8,
         "EnvironmentSatisfaction": 4,
         "Gender": 1,
         "HourlyRate": 79,
         "JobInvolvement": 3,
         "JobLevel": 1,
         "JobRole": "Laboratory Technician",
         "JobSatisfaction": 4,
         "MaritalStatus": "Single",
         "MonthlyIncome": 3068,
         "MonthlyRate": 11864,
         "NumCompaniesWorked": 0,
         "OverTime": 0,
         "PercentSalaryHike": 13,
         "PerformanceRating": 3,
         "RelationshipSatisfaction": 3,
         "StockOptionLevel": 0,
         "TotalWorkingYears": 8,
         "TrainingTimesLastYear": 2,
         "WorkLifeBalance": 2,
         "YearsAtCompany": 7,
         "YearsInCurrentRole": 7,
         "YearsSinceLastPromotion": 3,
         "YearsWithCurrManager": 6,
         "_deepnote_index_column": 5
        },
        {
         "Age": 59,
         "BusinessTravel": 1,
         "DailyRate": 1324,
         "Department": "Research & Development",
         "DistanceFromHome": 3,
         "Education": 3,
         "EducationField": "Medical",
         "EmployeeNumber": 10,
         "EnvironmentSatisfaction": 3,
         "Gender": 0,
         "HourlyRate": 81,
         "JobInvolvement": 4,
         "JobLevel": 1,
         "JobRole": "Laboratory Technician",
         "JobSatisfaction": 1,
         "MaritalStatus": "Married",
         "MonthlyIncome": 2670,
         "MonthlyRate": 9964,
         "NumCompaniesWorked": 4,
         "OverTime": 1,
         "PercentSalaryHike": 20,
         "PerformanceRating": 4,
         "RelationshipSatisfaction": 1,
         "StockOptionLevel": 3,
         "TotalWorkingYears": 12,
         "TrainingTimesLastYear": 3,
         "WorkLifeBalance": 2,
         "YearsAtCompany": 1,
         "YearsInCurrentRole": 0,
         "YearsSinceLastPromotion": 0,
         "YearsWithCurrManager": 0,
         "_deepnote_index_column": 6
        }
       ]
      },
      "text/plain": "   Age  BusinessTravel  DailyRate              Department  DistanceFromHome  \\\n1   49               2        279  Research & Development                 8   \n3   33               2       1392  Research & Development                 3   \n4   27               1        591  Research & Development                 2   \n5   32               2       1005  Research & Development                 2   \n6   59               1       1324  Research & Development                 3   \n\n   Education EducationField  EmployeeNumber  EnvironmentSatisfaction  Gender  \\\n1          1  Life Sciences               2                        3       1   \n3          4  Life Sciences               5                        4       0   \n4          1        Medical               7                        1       1   \n5          2  Life Sciences               8                        4       1   \n6          3        Medical              10                        3       0   \n\n   ...  PerformanceRating  RelationshipSatisfaction  StockOptionLevel  \\\n1  ...                  4                         4                 1   \n3  ...                  3                         3                 0   \n4  ...                  3                         4                 1   \n5  ...                  3                         3                 0   \n6  ...                  4                         1                 3   \n\n  TotalWorkingYears  TrainingTimesLastYear WorkLifeBalance  YearsAtCompany  \\\n1                10                      3               3              10   \n3                 8                      3               3               8   \n4                 6                      3               3               2   \n5                 8                      2               2               7   \n6                12                      3               2               1   \n\n   YearsInCurrentRole  YearsSinceLastPromotion  YearsWithCurrManager  \n1                   7                        1                     7  \n3                   7                        3                     0  \n4                   2                        2                     2  \n5                   7                        3                     6  \n6                   0                        0                     0  \n\n[5 rows x 31 columns]",
      "text/html": "<div>\n<style scoped>\n    .dataframe tbody tr th:only-of-type {\n        vertical-align: middle;\n    }\n\n    .dataframe tbody tr th {\n        vertical-align: top;\n    }\n\n    .dataframe thead th {\n        text-align: right;\n    }\n</style>\n<table border=\"1\" class=\"dataframe\">\n  <thead>\n    <tr style=\"text-align: right;\">\n      <th></th>\n      <th>Age</th>\n      <th>BusinessTravel</th>\n      <th>DailyRate</th>\n      <th>Department</th>\n      <th>DistanceFromHome</th>\n      <th>Education</th>\n      <th>EducationField</th>\n      <th>EmployeeNumber</th>\n      <th>EnvironmentSatisfaction</th>\n      <th>Gender</th>\n      <th>...</th>\n      <th>PerformanceRating</th>\n      <th>RelationshipSatisfaction</th>\n      <th>StockOptionLevel</th>\n      <th>TotalWorkingYears</th>\n      <th>TrainingTimesLastYear</th>\n      <th>WorkLifeBalance</th>\n      <th>YearsAtCompany</th>\n      <th>YearsInCurrentRole</th>\n      <th>YearsSinceLastPromotion</th>\n      <th>YearsWithCurrManager</th>\n    </tr>\n  </thead>\n  <tbody>\n    <tr>\n      <th>1</th>\n      <td>49</td>\n      <td>2</td>\n      <td>279</td>\n      <td>Research &amp; Development</td>\n      <td>8</td>\n      <td>1</td>\n      <td>Life Sciences</td>\n      <td>2</td>\n      <td>3</td>\n      <td>1</td>\n      <td>...</td>\n      <td>4</td>\n      <td>4</td>\n      <td>1</td>\n      <td>10</td>\n      <td>3</td>\n      <td>3</td>\n      <td>10</td>\n      <td>7</td>\n      <td>1</td>\n      <td>7</td>\n    </tr>\n    <tr>\n      <th>3</th>\n      <td>33</td>\n      <td>2</td>\n      <td>1392</td>\n      <td>Research &amp; Development</td>\n      <td>3</td>\n      <td>4</td>\n      <td>Life Sciences</td>\n      <td>5</td>\n      <td>4</td>\n      <td>0</td>\n      <td>...</td>\n      <td>3</td>\n      <td>3</td>\n      <td>0</td>\n      <td>8</td>\n      <td>3</td>\n      <td>3</td>\n      <td>8</td>\n      <td>7</td>\n      <td>3</td>\n      <td>0</td>\n    </tr>\n    <tr>\n      <th>4</th>\n      <td>27</td>\n      <td>1</td>\n      <td>591</td>\n      <td>Research &amp; Development</td>\n      <td>2</td>\n      <td>1</td>\n      <td>Medical</td>\n      <td>7</td>\n      <td>1</td>\n      <td>1</td>\n      <td>...</td>\n      <td>3</td>\n      <td>4</td>\n      <td>1</td>\n      <td>6</td>\n      <td>3</td>\n      <td>3</td>\n      <td>2</td>\n      <td>2</td>\n      <td>2</td>\n      <td>2</td>\n    </tr>\n    <tr>\n      <th>5</th>\n      <td>32</td>\n      <td>2</td>\n      <td>1005</td>\n      <td>Research &amp; Development</td>\n      <td>2</td>\n      <td>2</td>\n      <td>Life Sciences</td>\n      <td>8</td>\n      <td>4</td>\n      <td>1</td>\n      <td>...</td>\n      <td>3</td>\n      <td>3</td>\n      <td>0</td>\n      <td>8</td>\n      <td>2</td>\n      <td>2</td>\n      <td>7</td>\n      <td>7</td>\n      <td>3</td>\n      <td>6</td>\n    </tr>\n    <tr>\n      <th>6</th>\n      <td>59</td>\n      <td>1</td>\n      <td>1324</td>\n      <td>Research &amp; Development</td>\n      <td>3</td>\n      <td>3</td>\n      <td>Medical</td>\n      <td>10</td>\n      <td>3</td>\n      <td>0</td>\n      <td>...</td>\n      <td>4</td>\n      <td>1</td>\n      <td>3</td>\n      <td>12</td>\n      <td>3</td>\n      <td>2</td>\n      <td>1</td>\n      <td>0</td>\n      <td>0</td>\n      <td>0</td>\n    </tr>\n  </tbody>\n</table>\n<p>5 rows × 31 columns</p>\n</div>"
     },
     "metadata": {}
    }
   ]
  },
  {
   "cell_type": "code",
   "metadata": {
    "cell_id": "1bda92b6-e246-411c-8870-eb106291f9d2",
    "tags": [],
    "deepnote_to_be_reexecuted": false,
    "source_hash": "b5235bb0",
    "execution_start": 1646785705229,
    "execution_millis": 164,
    "deepnote_cell_type": "code",
    "deepnote_cell_height": 503
   },
   "source": "df_HR_dummies = pd.get_dummies(df_HR_KMeans[['Department','EducationField','JobRole','MaritalStatus']])\ndf_HR_KMeans = pd.concat([df_HR_KMeans,df_HR_dummies],axis=1)\ndf_HR_KMeans.drop(columns = ['Department','EducationField','JobRole','MaritalStatus'],inplace=True)\n\n\nfor column in df_HR_KMeans.columns:\n    scaler = MinMaxScaler()\n    df_HR_KMeans[column] = scaler.fit_transform(df_HR_KMeans[column].values.reshape(-1,1))\ndf_HR_KMeans.head(5)",
   "execution_count": null,
   "outputs": [
    {
     "output_type": "execute_result",
     "execution_count": 9,
     "data": {
      "application/vnd.deepnote.dataframe.v3+json": {
       "column_count": 48,
       "row_count": 5,
       "columns": [
        {
         "name": "Age",
         "dtype": "float64",
         "stats": {
          "unique_count": 5,
          "nan_count": 0,
          "min": "0.21428571428571425",
          "max": "0.976190476190476",
          "histogram": [
           {
            "bin_start": 0.21428571428571425,
            "bin_end": 0.29047619047619044,
            "count": 1
           },
           {
            "bin_start": 0.29047619047619044,
            "bin_end": 0.3666666666666666,
            "count": 2
           },
           {
            "bin_start": 0.3666666666666666,
            "bin_end": 0.4428571428571428,
            "count": 0
           },
           {
            "bin_start": 0.4428571428571428,
            "bin_end": 0.519047619047619,
            "count": 0
           },
           {
            "bin_start": 0.519047619047619,
            "bin_end": 0.5952380952380951,
            "count": 0
           },
           {
            "bin_start": 0.5952380952380951,
            "bin_end": 0.6714285714285713,
            "count": 0
           },
           {
            "bin_start": 0.6714285714285713,
            "bin_end": 0.7476190476190476,
            "count": 1
           },
           {
            "bin_start": 0.7476190476190476,
            "bin_end": 0.8238095238095238,
            "count": 0
           },
           {
            "bin_start": 0.8238095238095238,
            "bin_end": 0.8999999999999999,
            "count": 0
           },
           {
            "bin_start": 0.8999999999999999,
            "bin_end": 0.976190476190476,
            "count": 1
           }
          ]
         }
        },
        {
         "name": "BusinessTravel",
         "dtype": "float64",
         "stats": {
          "unique_count": 2,
          "nan_count": 0,
          "min": "0.5",
          "max": "1.0",
          "histogram": [
           {
            "bin_start": 0.5,
            "bin_end": 0.55,
            "count": 2
           },
           {
            "bin_start": 0.55,
            "bin_end": 0.6,
            "count": 0
           },
           {
            "bin_start": 0.6,
            "bin_end": 0.65,
            "count": 0
           },
           {
            "bin_start": 0.65,
            "bin_end": 0.7,
            "count": 0
           },
           {
            "bin_start": 0.7,
            "bin_end": 0.75,
            "count": 0
           },
           {
            "bin_start": 0.75,
            "bin_end": 0.8,
            "count": 0
           },
           {
            "bin_start": 0.8,
            "bin_end": 0.8500000000000001,
            "count": 0
           },
           {
            "bin_start": 0.8500000000000001,
            "bin_end": 0.9,
            "count": 0
           },
           {
            "bin_start": 0.9,
            "bin_end": 0.95,
            "count": 0
           },
           {
            "bin_start": 0.95,
            "bin_end": 1,
            "count": 3
           }
          ]
         }
        },
        {
         "name": "DailyRate",
         "dtype": "float64",
         "stats": {
          "unique_count": 5,
          "nan_count": 0,
          "min": "0.12670007158196134",
          "max": "0.9234073013600572",
          "histogram": [
           {
            "bin_start": 0.12670007158196134,
            "bin_end": 0.20637079455977092,
            "count": 1
           },
           {
            "bin_start": 0.20637079455977092,
            "bin_end": 0.28604151753758056,
            "count": 0
           },
           {
            "bin_start": 0.28604151753758056,
            "bin_end": 0.36571224051539014,
            "count": 1
           },
           {
            "bin_start": 0.36571224051539014,
            "bin_end": 0.4453829634931997,
            "count": 0
           },
           {
            "bin_start": 0.4453829634931997,
            "bin_end": 0.5250536864710094,
            "count": 0
           },
           {
            "bin_start": 0.5250536864710094,
            "bin_end": 0.6047244094488189,
            "count": 0
           },
           {
            "bin_start": 0.6047244094488189,
            "bin_end": 0.6843951324266284,
            "count": 1
           },
           {
            "bin_start": 0.6843951324266284,
            "bin_end": 0.7640658554044382,
            "count": 0
           },
           {
            "bin_start": 0.7640658554044382,
            "bin_end": 0.8437365783822477,
            "count": 0
           },
           {
            "bin_start": 0.8437365783822477,
            "bin_end": 0.9234073013600572,
            "count": 2
           }
          ]
         }
        },
        {
         "name": "DistanceFromHome",
         "dtype": "float64",
         "stats": {
          "unique_count": 3,
          "nan_count": 0,
          "min": "0.03571428571428571",
          "max": "0.25",
          "histogram": [
           {
            "bin_start": 0.03571428571428571,
            "bin_end": 0.05714285714285714,
            "count": 2
           },
           {
            "bin_start": 0.05714285714285714,
            "bin_end": 0.07857142857142857,
            "count": 2
           },
           {
            "bin_start": 0.07857142857142857,
            "bin_end": 0.09999999999999999,
            "count": 0
           },
           {
            "bin_start": 0.09999999999999999,
            "bin_end": 0.12142857142857143,
            "count": 0
           },
           {
            "bin_start": 0.12142857142857143,
            "bin_end": 0.14285714285714285,
            "count": 0
           },
           {
            "bin_start": 0.14285714285714285,
            "bin_end": 0.16428571428571426,
            "count": 0
           },
           {
            "bin_start": 0.16428571428571426,
            "bin_end": 0.18571428571428572,
            "count": 0
           },
           {
            "bin_start": 0.18571428571428572,
            "bin_end": 0.20714285714285713,
            "count": 0
           },
           {
            "bin_start": 0.20714285714285713,
            "bin_end": 0.2285714285714286,
            "count": 0
           },
           {
            "bin_start": 0.2285714285714286,
            "bin_end": 0.25,
            "count": 1
           }
          ]
         }
        },
        {
         "name": "Education",
         "dtype": "float64",
         "stats": {
          "unique_count": 4,
          "nan_count": 0,
          "min": "0.0",
          "max": "0.75",
          "histogram": [
           {
            "bin_start": 0,
            "bin_end": 0.075,
            "count": 2
           },
           {
            "bin_start": 0.075,
            "bin_end": 0.15,
            "count": 0
           },
           {
            "bin_start": 0.15,
            "bin_end": 0.22499999999999998,
            "count": 0
           },
           {
            "bin_start": 0.22499999999999998,
            "bin_end": 0.3,
            "count": 1
           },
           {
            "bin_start": 0.3,
            "bin_end": 0.375,
            "count": 0
           },
           {
            "bin_start": 0.375,
            "bin_end": 0.44999999999999996,
            "count": 0
           },
           {
            "bin_start": 0.44999999999999996,
            "bin_end": 0.525,
            "count": 1
           },
           {
            "bin_start": 0.525,
            "bin_end": 0.6,
            "count": 0
           },
           {
            "bin_start": 0.6,
            "bin_end": 0.6749999999999999,
            "count": 0
           },
           {
            "bin_start": 0.6749999999999999,
            "bin_end": 0.75,
            "count": 1
           }
          ]
         }
        },
        {
         "name": "EmployeeNumber",
         "dtype": "float64",
         "stats": {
          "unique_count": 5,
          "nan_count": 0,
          "min": "0.0",
          "max": "0.0038722168441432726",
          "histogram": [
           {
            "bin_start": 0,
            "bin_end": 0.0003872216844143273,
            "count": 1
           },
           {
            "bin_start": 0.0003872216844143273,
            "bin_end": 0.0007744433688286546,
            "count": 0
           },
           {
            "bin_start": 0.0007744433688286546,
            "bin_end": 0.0011616650532429817,
            "count": 0
           },
           {
            "bin_start": 0.0011616650532429817,
            "bin_end": 0.0015488867376573091,
            "count": 1
           },
           {
            "bin_start": 0.0015488867376573091,
            "bin_end": 0.0019361084220716365,
            "count": 0
           },
           {
            "bin_start": 0.0019361084220716365,
            "bin_end": 0.0023233301064859635,
            "count": 0
           },
           {
            "bin_start": 0.0023233301064859635,
            "bin_end": 0.002710551790900291,
            "count": 1
           },
           {
            "bin_start": 0.002710551790900291,
            "bin_end": 0.0030977734753146182,
            "count": 1
           },
           {
            "bin_start": 0.0030977734753146182,
            "bin_end": 0.0034849951597289456,
            "count": 0
           },
           {
            "bin_start": 0.0034849951597289456,
            "bin_end": 0.0038722168441432726,
            "count": 1
           }
          ]
         }
        },
        {
         "name": "EnvironmentSatisfaction",
         "dtype": "float64",
         "stats": {
          "unique_count": 3,
          "nan_count": 0,
          "min": "0.0",
          "max": "1.0",
          "histogram": [
           {
            "bin_start": 0,
            "bin_end": 0.1,
            "count": 1
           },
           {
            "bin_start": 0.1,
            "bin_end": 0.2,
            "count": 0
           },
           {
            "bin_start": 0.2,
            "bin_end": 0.30000000000000004,
            "count": 0
           },
           {
            "bin_start": 0.30000000000000004,
            "bin_end": 0.4,
            "count": 0
           },
           {
            "bin_start": 0.4,
            "bin_end": 0.5,
            "count": 0
           },
           {
            "bin_start": 0.5,
            "bin_end": 0.6000000000000001,
            "count": 0
           },
           {
            "bin_start": 0.6000000000000001,
            "bin_end": 0.7000000000000001,
            "count": 2
           },
           {
            "bin_start": 0.7000000000000001,
            "bin_end": 0.8,
            "count": 0
           },
           {
            "bin_start": 0.8,
            "bin_end": 0.9,
            "count": 0
           },
           {
            "bin_start": 0.9,
            "bin_end": 1,
            "count": 2
           }
          ]
         }
        },
        {
         "name": "Gender",
         "dtype": "float64",
         "stats": {
          "unique_count": 2,
          "nan_count": 0,
          "min": "0.0",
          "max": "1.0",
          "histogram": [
           {
            "bin_start": 0,
            "bin_end": 0.1,
            "count": 2
           },
           {
            "bin_start": 0.1,
            "bin_end": 0.2,
            "count": 0
           },
           {
            "bin_start": 0.2,
            "bin_end": 0.30000000000000004,
            "count": 0
           },
           {
            "bin_start": 0.30000000000000004,
            "bin_end": 0.4,
            "count": 0
           },
           {
            "bin_start": 0.4,
            "bin_end": 0.5,
            "count": 0
           },
           {
            "bin_start": 0.5,
            "bin_end": 0.6000000000000001,
            "count": 0
           },
           {
            "bin_start": 0.6000000000000001,
            "bin_end": 0.7000000000000001,
            "count": 0
           },
           {
            "bin_start": 0.7000000000000001,
            "bin_end": 0.8,
            "count": 0
           },
           {
            "bin_start": 0.8,
            "bin_end": 0.9,
            "count": 0
           },
           {
            "bin_start": 0.9,
            "bin_end": 1,
            "count": 3
           }
          ]
         }
        },
        {
         "name": "HourlyRate",
         "dtype": "float64",
         "stats": {
          "unique_count": 5,
          "nan_count": 0,
          "min": "0.14285714285714285",
          "max": "0.7285714285714284",
          "histogram": [
           {
            "bin_start": 0.14285714285714285,
            "bin_end": 0.2014285714285714,
            "count": 1
           },
           {
            "bin_start": 0.2014285714285714,
            "bin_end": 0.26,
            "count": 0
           },
           {
            "bin_start": 0.26,
            "bin_end": 0.31857142857142856,
            "count": 0
           },
           {
            "bin_start": 0.31857142857142856,
            "bin_end": 0.3771428571428571,
            "count": 1
           },
           {
            "bin_start": 0.3771428571428571,
            "bin_end": 0.43571428571428567,
            "count": 0
           },
           {
            "bin_start": 0.43571428571428567,
            "bin_end": 0.4942857142857143,
            "count": 1
           },
           {
            "bin_start": 0.4942857142857143,
            "bin_end": 0.5528571428571428,
            "count": 0
           },
           {
            "bin_start": 0.5528571428571428,
            "bin_end": 0.6114285714285714,
            "count": 0
           },
           {
            "bin_start": 0.6114285714285714,
            "bin_end": 0.6699999999999999,
            "count": 0
           },
           {
            "bin_start": 0.6699999999999999,
            "bin_end": 0.7285714285714284,
            "count": 2
           }
          ]
         }
        },
        {
         "name": "JobInvolvement",
         "dtype": "float64",
         "stats": {
          "unique_count": 3,
          "nan_count": 0,
          "min": "0.3333333333333333",
          "max": "1.0",
          "histogram": [
           {
            "bin_start": 0.3333333333333333,
            "bin_end": 0.4,
            "count": 1
           },
           {
            "bin_start": 0.4,
            "bin_end": 0.4666666666666667,
            "count": 0
           },
           {
            "bin_start": 0.4666666666666667,
            "bin_end": 0.5333333333333333,
            "count": 0
           },
           {
            "bin_start": 0.5333333333333333,
            "bin_end": 0.6000000000000001,
            "count": 0
           },
           {
            "bin_start": 0.6000000000000001,
            "bin_end": 0.6666666666666667,
            "count": 0
           },
           {
            "bin_start": 0.6666666666666667,
            "bin_end": 0.7333333333333334,
            "count": 3
           },
           {
            "bin_start": 0.7333333333333334,
            "bin_end": 0.8,
            "count": 0
           },
           {
            "bin_start": 0.8,
            "bin_end": 0.8666666666666667,
            "count": 0
           },
           {
            "bin_start": 0.8666666666666667,
            "bin_end": 0.9333333333333333,
            "count": 0
           },
           {
            "bin_start": 0.9333333333333333,
            "bin_end": 1,
            "count": 1
           }
          ]
         }
        },
        {
         "name": "JobLevel",
         "dtype": "float64",
         "stats": {
          "unique_count": 2,
          "nan_count": 0,
          "min": "0.0",
          "max": "0.25",
          "histogram": [
           {
            "bin_start": 0,
            "bin_end": 0.025,
            "count": 4
           },
           {
            "bin_start": 0.025,
            "bin_end": 0.05,
            "count": 0
           },
           {
            "bin_start": 0.05,
            "bin_end": 0.07500000000000001,
            "count": 0
           },
           {
            "bin_start": 0.07500000000000001,
            "bin_end": 0.1,
            "count": 0
           },
           {
            "bin_start": 0.1,
            "bin_end": 0.125,
            "count": 0
           },
           {
            "bin_start": 0.125,
            "bin_end": 0.15000000000000002,
            "count": 0
           },
           {
            "bin_start": 0.15000000000000002,
            "bin_end": 0.17500000000000002,
            "count": 0
           },
           {
            "bin_start": 0.17500000000000002,
            "bin_end": 0.2,
            "count": 0
           },
           {
            "bin_start": 0.2,
            "bin_end": 0.225,
            "count": 0
           },
           {
            "bin_start": 0.225,
            "bin_end": 0.25,
            "count": 1
           }
          ]
         }
        },
        {
         "name": "JobSatisfaction",
         "dtype": "float64",
         "stats": {
          "unique_count": 4,
          "nan_count": 0,
          "min": "0.0",
          "max": "1.0",
          "histogram": [
           {
            "bin_start": 0,
            "bin_end": 0.1,
            "count": 1
           },
           {
            "bin_start": 0.1,
            "bin_end": 0.2,
            "count": 0
           },
           {
            "bin_start": 0.2,
            "bin_end": 0.30000000000000004,
            "count": 0
           },
           {
            "bin_start": 0.30000000000000004,
            "bin_end": 0.4,
            "count": 2
           },
           {
            "bin_start": 0.4,
            "bin_end": 0.5,
            "count": 0
           },
           {
            "bin_start": 0.5,
            "bin_end": 0.6000000000000001,
            "count": 0
           },
           {
            "bin_start": 0.6000000000000001,
            "bin_end": 0.7000000000000001,
            "count": 1
           },
           {
            "bin_start": 0.7000000000000001,
            "bin_end": 0.8,
            "count": 0
           },
           {
            "bin_start": 0.8,
            "bin_end": 0.9,
            "count": 0
           },
           {
            "bin_start": 0.9,
            "bin_end": 1,
            "count": 1
           }
          ]
         }
        },
        {
         "name": "MonthlyIncome",
         "dtype": "float64",
         "stats": {
          "unique_count": 5,
          "nan_count": 0,
          "min": "0.08544437407641967",
          "max": "0.21527337977622968",
          "histogram": [
           {
            "bin_start": 0.08544437407641967,
            "bin_end": 0.09842727464640066,
            "count": 2
           },
           {
            "bin_start": 0.09842727464640066,
            "bin_end": 0.11141017521638166,
            "count": 1
           },
           {
            "bin_start": 0.11141017521638166,
            "bin_end": 0.12439307578636268,
            "count": 0
           },
           {
            "bin_start": 0.12439307578636268,
            "bin_end": 0.1373759763563437,
            "count": 1
           },
           {
            "bin_start": 0.1373759763563437,
            "bin_end": 0.15035887692632466,
            "count": 0
           },
           {
            "bin_start": 0.15035887692632466,
            "bin_end": 0.16334177749630568,
            "count": 0
           },
           {
            "bin_start": 0.16334177749630568,
            "bin_end": 0.17632467806628668,
            "count": 0
           },
           {
            "bin_start": 0.17632467806628668,
            "bin_end": 0.18930757863626768,
            "count": 0
           },
           {
            "bin_start": 0.18930757863626768,
            "bin_end": 0.20229047920624868,
            "count": 0
           },
           {
            "bin_start": 0.20229047920624868,
            "bin_end": 0.21527337977622968,
            "count": 1
           }
          ]
         }
        },
        {
         "name": "MonthlyRate",
         "dtype": "float64",
         "stats": {
          "unique_count": 5,
          "nan_count": 0,
          "min": "0.31602618158454804",
          "max": "0.9160743685499739",
          "histogram": [
           {
            "bin_start": 0.31602618158454804,
            "bin_end": 0.37603100028109065,
            "count": 1
           },
           {
            "bin_start": 0.37603100028109065,
            "bin_end": 0.4360358189776332,
            "count": 1
           },
           {
            "bin_start": 0.4360358189776332,
            "bin_end": 0.49604063767417583,
            "count": 0
           },
           {
            "bin_start": 0.49604063767417583,
            "bin_end": 0.5560454563707184,
            "count": 0
           },
           {
            "bin_start": 0.5560454563707184,
            "bin_end": 0.616050275067261,
            "count": 1
           },
           {
            "bin_start": 0.616050275067261,
            "bin_end": 0.6760550937638037,
            "count": 0
           },
           {
            "bin_start": 0.6760550937638037,
            "bin_end": 0.7360599124603462,
            "count": 0
           },
           {
            "bin_start": 0.7360599124603462,
            "bin_end": 0.7960647311568888,
            "count": 0
           },
           {
            "bin_start": 0.7960647311568888,
            "bin_end": 0.8560695498534314,
            "count": 1
           },
           {
            "bin_start": 0.8560695498534314,
            "bin_end": 0.9160743685499739,
            "count": 1
           }
          ]
         }
        },
        {
         "name": "NumCompaniesWorked",
         "dtype": "float64",
         "stats": {
          "unique_count": 4,
          "nan_count": 0,
          "min": "0.0",
          "max": "1.0",
          "histogram": [
           {
            "bin_start": 0,
            "bin_end": 0.1,
            "count": 1
           },
           {
            "bin_start": 0.1,
            "bin_end": 0.2,
            "count": 2
           },
           {
            "bin_start": 0.2,
            "bin_end": 0.30000000000000004,
            "count": 0
           },
           {
            "bin_start": 0.30000000000000004,
            "bin_end": 0.4,
            "count": 0
           },
           {
            "bin_start": 0.4,
            "bin_end": 0.5,
            "count": 1
           },
           {
            "bin_start": 0.5,
            "bin_end": 0.6000000000000001,
            "count": 0
           },
           {
            "bin_start": 0.6000000000000001,
            "bin_end": 0.7000000000000001,
            "count": 0
           },
           {
            "bin_start": 0.7000000000000001,
            "bin_end": 0.8,
            "count": 0
           },
           {
            "bin_start": 0.8,
            "bin_end": 0.9,
            "count": 0
           },
           {
            "bin_start": 0.9,
            "bin_end": 1,
            "count": 1
           }
          ]
         }
        },
        {
         "name": "OverTime",
         "dtype": "float64",
         "stats": {
          "unique_count": 2,
          "nan_count": 0,
          "min": "0.0",
          "max": "1.0",
          "histogram": [
           {
            "bin_start": 0,
            "bin_end": 0.1,
            "count": 3
           },
           {
            "bin_start": 0.1,
            "bin_end": 0.2,
            "count": 0
           },
           {
            "bin_start": 0.2,
            "bin_end": 0.30000000000000004,
            "count": 0
           },
           {
            "bin_start": 0.30000000000000004,
            "bin_end": 0.4,
            "count": 0
           },
           {
            "bin_start": 0.4,
            "bin_end": 0.5,
            "count": 0
           },
           {
            "bin_start": 0.5,
            "bin_end": 0.6000000000000001,
            "count": 0
           },
           {
            "bin_start": 0.6000000000000001,
            "bin_end": 0.7000000000000001,
            "count": 0
           },
           {
            "bin_start": 0.7000000000000001,
            "bin_end": 0.8,
            "count": 0
           },
           {
            "bin_start": 0.8,
            "bin_end": 0.9,
            "count": 0
           },
           {
            "bin_start": 0.9,
            "bin_end": 1,
            "count": 2
           }
          ]
         }
        },
        {
         "name": "PercentSalaryHike",
         "dtype": "float64",
         "stats": {
          "unique_count": 5,
          "nan_count": 0,
          "min": "0.0",
          "max": "0.8571428571428571",
          "histogram": [
           {
            "bin_start": 0,
            "bin_end": 0.08571428571428572,
            "count": 2
           },
           {
            "bin_start": 0.08571428571428572,
            "bin_end": 0.17142857142857143,
            "count": 1
           },
           {
            "bin_start": 0.17142857142857143,
            "bin_end": 0.2571428571428571,
            "count": 0
           },
           {
            "bin_start": 0.2571428571428571,
            "bin_end": 0.34285714285714286,
            "count": 0
           },
           {
            "bin_start": 0.34285714285714286,
            "bin_end": 0.4285714285714286,
            "count": 0
           },
           {
            "bin_start": 0.4285714285714286,
            "bin_end": 0.5142857142857142,
            "count": 0
           },
           {
            "bin_start": 0.5142857142857142,
            "bin_end": 0.6,
            "count": 0
           },
           {
            "bin_start": 0.6,
            "bin_end": 0.6857142857142857,
            "count": 1
           },
           {
            "bin_start": 0.6857142857142857,
            "bin_end": 0.7714285714285715,
            "count": 0
           },
           {
            "bin_start": 0.7714285714285715,
            "bin_end": 0.8571428571428571,
            "count": 1
           }
          ]
         }
        },
        {
         "name": "PerformanceRating",
         "dtype": "float64",
         "stats": {
          "unique_count": 2,
          "nan_count": 0,
          "min": "0.0",
          "max": "1.0",
          "histogram": [
           {
            "bin_start": 0,
            "bin_end": 0.1,
            "count": 3
           },
           {
            "bin_start": 0.1,
            "bin_end": 0.2,
            "count": 0
           },
           {
            "bin_start": 0.2,
            "bin_end": 0.30000000000000004,
            "count": 0
           },
           {
            "bin_start": 0.30000000000000004,
            "bin_end": 0.4,
            "count": 0
           },
           {
            "bin_start": 0.4,
            "bin_end": 0.5,
            "count": 0
           },
           {
            "bin_start": 0.5,
            "bin_end": 0.6000000000000001,
            "count": 0
           },
           {
            "bin_start": 0.6000000000000001,
            "bin_end": 0.7000000000000001,
            "count": 0
           },
           {
            "bin_start": 0.7000000000000001,
            "bin_end": 0.8,
            "count": 0
           },
           {
            "bin_start": 0.8,
            "bin_end": 0.9,
            "count": 0
           },
           {
            "bin_start": 0.9,
            "bin_end": 1,
            "count": 2
           }
          ]
         }
        },
        {
         "name": "RelationshipSatisfaction",
         "dtype": "float64",
         "stats": {
          "unique_count": 3,
          "nan_count": 0,
          "min": "0.0",
          "max": "1.0",
          "histogram": [
           {
            "bin_start": 0,
            "bin_end": 0.1,
            "count": 1
           },
           {
            "bin_start": 0.1,
            "bin_end": 0.2,
            "count": 0
           },
           {
            "bin_start": 0.2,
            "bin_end": 0.30000000000000004,
            "count": 0
           },
           {
            "bin_start": 0.30000000000000004,
            "bin_end": 0.4,
            "count": 0
           },
           {
            "bin_start": 0.4,
            "bin_end": 0.5,
            "count": 0
           },
           {
            "bin_start": 0.5,
            "bin_end": 0.6000000000000001,
            "count": 0
           },
           {
            "bin_start": 0.6000000000000001,
            "bin_end": 0.7000000000000001,
            "count": 2
           },
           {
            "bin_start": 0.7000000000000001,
            "bin_end": 0.8,
            "count": 0
           },
           {
            "bin_start": 0.8,
            "bin_end": 0.9,
            "count": 0
           },
           {
            "bin_start": 0.9,
            "bin_end": 1,
            "count": 2
           }
          ]
         }
        },
        {
         "name": "StockOptionLevel",
         "dtype": "float64",
         "stats": {
          "unique_count": 3,
          "nan_count": 0,
          "min": "0.0",
          "max": "1.0",
          "histogram": [
           {
            "bin_start": 0,
            "bin_end": 0.1,
            "count": 2
           },
           {
            "bin_start": 0.1,
            "bin_end": 0.2,
            "count": 0
           },
           {
            "bin_start": 0.2,
            "bin_end": 0.30000000000000004,
            "count": 0
           },
           {
            "bin_start": 0.30000000000000004,
            "bin_end": 0.4,
            "count": 2
           },
           {
            "bin_start": 0.4,
            "bin_end": 0.5,
            "count": 0
           },
           {
            "bin_start": 0.5,
            "bin_end": 0.6000000000000001,
            "count": 0
           },
           {
            "bin_start": 0.6000000000000001,
            "bin_end": 0.7000000000000001,
            "count": 0
           },
           {
            "bin_start": 0.7000000000000001,
            "bin_end": 0.8,
            "count": 0
           },
           {
            "bin_start": 0.8,
            "bin_end": 0.9,
            "count": 0
           },
           {
            "bin_start": 0.9,
            "bin_end": 1,
            "count": 1
           }
          ]
         }
        },
        {
         "name": "TotalWorkingYears",
         "dtype": "float64",
         "stats": {
          "unique_count": 4,
          "nan_count": 0,
          "min": "0.15789473684210525",
          "max": "0.3157894736842105",
          "histogram": [
           {
            "bin_start": 0.15789473684210525,
            "bin_end": 0.17368421052631577,
            "count": 1
           },
           {
            "bin_start": 0.17368421052631577,
            "bin_end": 0.1894736842105263,
            "count": 0
           },
           {
            "bin_start": 0.1894736842105263,
            "bin_end": 0.20526315789473684,
            "count": 0
           },
           {
            "bin_start": 0.20526315789473684,
            "bin_end": 0.22105263157894736,
            "count": 2
           },
           {
            "bin_start": 0.22105263157894736,
            "bin_end": 0.23684210526315788,
            "count": 0
           },
           {
            "bin_start": 0.23684210526315788,
            "bin_end": 0.25263157894736843,
            "count": 0
           },
           {
            "bin_start": 0.25263157894736843,
            "bin_end": 0.26842105263157895,
            "count": 1
           },
           {
            "bin_start": 0.26842105263157895,
            "bin_end": 0.28421052631578947,
            "count": 0
           },
           {
            "bin_start": 0.28421052631578947,
            "bin_end": 0.3,
            "count": 0
           },
           {
            "bin_start": 0.3,
            "bin_end": 0.3157894736842105,
            "count": 1
           }
          ]
         }
        },
        {
         "name": "TrainingTimesLastYear",
         "dtype": "float64",
         "stats": {
          "unique_count": 2,
          "nan_count": 0,
          "min": "0.3333333333333333",
          "max": "0.5",
          "histogram": [
           {
            "bin_start": 0.3333333333333333,
            "bin_end": 0.35,
            "count": 1
           },
           {
            "bin_start": 0.35,
            "bin_end": 0.36666666666666664,
            "count": 0
           },
           {
            "bin_start": 0.36666666666666664,
            "bin_end": 0.3833333333333333,
            "count": 0
           },
           {
            "bin_start": 0.3833333333333333,
            "bin_end": 0.4,
            "count": 0
           },
           {
            "bin_start": 0.4,
            "bin_end": 0.41666666666666663,
            "count": 0
           },
           {
            "bin_start": 0.41666666666666663,
            "bin_end": 0.43333333333333335,
            "count": 0
           },
           {
            "bin_start": 0.43333333333333335,
            "bin_end": 0.45,
            "count": 0
           },
           {
            "bin_start": 0.45,
            "bin_end": 0.4666666666666667,
            "count": 0
           },
           {
            "bin_start": 0.4666666666666667,
            "bin_end": 0.48333333333333334,
            "count": 0
           },
           {
            "bin_start": 0.48333333333333334,
            "bin_end": 0.5,
            "count": 4
           }
          ]
         }
        },
        {
         "name": "WorkLifeBalance",
         "dtype": "float64",
         "stats": {
          "unique_count": 2,
          "nan_count": 0,
          "min": "0.3333333333333333",
          "max": "0.6666666666666667",
          "histogram": [
           {
            "bin_start": 0.3333333333333333,
            "bin_end": 0.36666666666666664,
            "count": 2
           },
           {
            "bin_start": 0.36666666666666664,
            "bin_end": 0.4,
            "count": 0
           },
           {
            "bin_start": 0.4,
            "bin_end": 0.43333333333333335,
            "count": 0
           },
           {
            "bin_start": 0.43333333333333335,
            "bin_end": 0.4666666666666667,
            "count": 0
           },
           {
            "bin_start": 0.4666666666666667,
            "bin_end": 0.5,
            "count": 0
           },
           {
            "bin_start": 0.5,
            "bin_end": 0.5333333333333333,
            "count": 0
           },
           {
            "bin_start": 0.5333333333333333,
            "bin_end": 0.5666666666666667,
            "count": 0
           },
           {
            "bin_start": 0.5666666666666667,
            "bin_end": 0.6000000000000001,
            "count": 0
           },
           {
            "bin_start": 0.6000000000000001,
            "bin_end": 0.6333333333333333,
            "count": 0
           },
           {
            "bin_start": 0.6333333333333333,
            "bin_end": 0.6666666666666667,
            "count": 3
           }
          ]
         }
        },
        {
         "name": "YearsAtCompany",
         "dtype": "float64",
         "stats": {
          "unique_count": 5,
          "nan_count": 0,
          "min": "0.02702702702702703",
          "max": "0.2702702702702703",
          "histogram": [
           {
            "bin_start": 0.02702702702702703,
            "bin_end": 0.051351351351351354,
            "count": 1
           },
           {
            "bin_start": 0.051351351351351354,
            "bin_end": 0.07567567567567568,
            "count": 1
           },
           {
            "bin_start": 0.07567567567567568,
            "bin_end": 0.1,
            "count": 0
           },
           {
            "bin_start": 0.1,
            "bin_end": 0.12432432432432433,
            "count": 0
           },
           {
            "bin_start": 0.12432432432432433,
            "bin_end": 0.14864864864864866,
            "count": 0
           },
           {
            "bin_start": 0.14864864864864866,
            "bin_end": 0.17297297297297298,
            "count": 0
           },
           {
            "bin_start": 0.17297297297297298,
            "bin_end": 0.1972972972972973,
            "count": 1
           },
           {
            "bin_start": 0.1972972972972973,
            "bin_end": 0.22162162162162163,
            "count": 1
           },
           {
            "bin_start": 0.22162162162162163,
            "bin_end": 0.24594594594594596,
            "count": 0
           },
           {
            "bin_start": 0.24594594594594596,
            "bin_end": 0.2702702702702703,
            "count": 1
           }
          ]
         }
        },
        {
         "name": "YearsInCurrentRole",
         "dtype": "float64",
         "stats": {
          "unique_count": 3,
          "nan_count": 0,
          "min": "0.0",
          "max": "0.38888888888888884",
          "histogram": [
           {
            "bin_start": 0,
            "bin_end": 0.03888888888888888,
            "count": 1
           },
           {
            "bin_start": 0.03888888888888888,
            "bin_end": 0.07777777777777777,
            "count": 0
           },
           {
            "bin_start": 0.07777777777777777,
            "bin_end": 0.11666666666666664,
            "count": 1
           },
           {
            "bin_start": 0.11666666666666664,
            "bin_end": 0.15555555555555553,
            "count": 0
           },
           {
            "bin_start": 0.15555555555555553,
            "bin_end": 0.19444444444444442,
            "count": 0
           },
           {
            "bin_start": 0.19444444444444442,
            "bin_end": 0.23333333333333328,
            "count": 0
           },
           {
            "bin_start": 0.23333333333333328,
            "bin_end": 0.2722222222222222,
            "count": 0
           },
           {
            "bin_start": 0.2722222222222222,
            "bin_end": 0.31111111111111106,
            "count": 0
           },
           {
            "bin_start": 0.31111111111111106,
            "bin_end": 0.3499999999999999,
            "count": 0
           },
           {
            "bin_start": 0.3499999999999999,
            "bin_end": 0.38888888888888884,
            "count": 3
           }
          ]
         }
        },
        {
         "name": "YearsSinceLastPromotion",
         "dtype": "float64",
         "stats": {
          "unique_count": 4,
          "nan_count": 0,
          "min": "0.0",
          "max": "0.2",
          "histogram": [
           {
            "bin_start": 0,
            "bin_end": 0.02,
            "count": 1
           },
           {
            "bin_start": 0.02,
            "bin_end": 0.04,
            "count": 0
           },
           {
            "bin_start": 0.04,
            "bin_end": 0.06,
            "count": 0
           },
           {
            "bin_start": 0.06,
            "bin_end": 0.08,
            "count": 1
           },
           {
            "bin_start": 0.08,
            "bin_end": 0.1,
            "count": 0
           },
           {
            "bin_start": 0.1,
            "bin_end": 0.12,
            "count": 0
           },
           {
            "bin_start": 0.12,
            "bin_end": 0.14,
            "count": 1
           },
           {
            "bin_start": 0.14,
            "bin_end": 0.16,
            "count": 0
           },
           {
            "bin_start": 0.16,
            "bin_end": 0.18,
            "count": 0
           },
           {
            "bin_start": 0.18,
            "bin_end": 0.2,
            "count": 2
           }
          ]
         }
        },
        {
         "name": "YearsWithCurrManager",
         "dtype": "float64",
         "stats": {
          "unique_count": 4,
          "nan_count": 0,
          "min": "0.0",
          "max": "0.4117647058823529",
          "histogram": [
           {
            "bin_start": 0,
            "bin_end": 0.041176470588235294,
            "count": 2
           },
           {
            "bin_start": 0.041176470588235294,
            "bin_end": 0.08235294117647059,
            "count": 0
           },
           {
            "bin_start": 0.08235294117647059,
            "bin_end": 0.12352941176470589,
            "count": 1
           },
           {
            "bin_start": 0.12352941176470589,
            "bin_end": 0.16470588235294117,
            "count": 0
           },
           {
            "bin_start": 0.16470588235294117,
            "bin_end": 0.20588235294117646,
            "count": 0
           },
           {
            "bin_start": 0.20588235294117646,
            "bin_end": 0.24705882352941178,
            "count": 0
           },
           {
            "bin_start": 0.24705882352941178,
            "bin_end": 0.28823529411764703,
            "count": 0
           },
           {
            "bin_start": 0.28823529411764703,
            "bin_end": 0.32941176470588235,
            "count": 0
           },
           {
            "bin_start": 0.32941176470588235,
            "bin_end": 0.37058823529411766,
            "count": 1
           },
           {
            "bin_start": 0.37058823529411766,
            "bin_end": 0.4117647058823529,
            "count": 1
           }
          ]
         }
        },
        {
         "name": "Department_Human Resources",
         "dtype": "float64",
         "stats": {
          "unique_count": 1,
          "nan_count": 0,
          "min": "0.0",
          "max": "0.0",
          "histogram": [
           {
            "bin_start": -0.5,
            "bin_end": -0.4,
            "count": 0
           },
           {
            "bin_start": -0.4,
            "bin_end": -0.3,
            "count": 0
           },
           {
            "bin_start": -0.3,
            "bin_end": -0.19999999999999996,
            "count": 0
           },
           {
            "bin_start": -0.19999999999999996,
            "bin_end": -0.09999999999999998,
            "count": 0
           },
           {
            "bin_start": -0.09999999999999998,
            "bin_end": 0,
            "count": 0
           },
           {
            "bin_start": 0,
            "bin_end": 0.10000000000000009,
            "count": 5
           },
           {
            "bin_start": 0.10000000000000009,
            "bin_end": 0.20000000000000007,
            "count": 0
           },
           {
            "bin_start": 0.20000000000000007,
            "bin_end": 0.30000000000000004,
            "count": 0
           },
           {
            "bin_start": 0.30000000000000004,
            "bin_end": 0.4,
            "count": 0
           },
           {
            "bin_start": 0.4,
            "bin_end": 0.5,
            "count": 0
           }
          ]
         }
        },
        {
         "name": "Department_Research & Development",
         "dtype": "float64",
         "stats": {
          "unique_count": 1,
          "nan_count": 0,
          "min": "1.0",
          "max": "1.0",
          "histogram": [
           {
            "bin_start": 0.5,
            "bin_end": 0.6,
            "count": 0
           },
           {
            "bin_start": 0.6,
            "bin_end": 0.7,
            "count": 0
           },
           {
            "bin_start": 0.7,
            "bin_end": 0.8,
            "count": 0
           },
           {
            "bin_start": 0.8,
            "bin_end": 0.9,
            "count": 0
           },
           {
            "bin_start": 0.9,
            "bin_end": 1,
            "count": 0
           },
           {
            "bin_start": 1,
            "bin_end": 1.1,
            "count": 5
           },
           {
            "bin_start": 1.1,
            "bin_end": 1.2000000000000002,
            "count": 0
           },
           {
            "bin_start": 1.2000000000000002,
            "bin_end": 1.3,
            "count": 0
           },
           {
            "bin_start": 1.3,
            "bin_end": 1.4,
            "count": 0
           },
           {
            "bin_start": 1.4,
            "bin_end": 1.5,
            "count": 0
           }
          ]
         }
        },
        {
         "name": "Department_Sales",
         "dtype": "float64",
         "stats": {
          "unique_count": 1,
          "nan_count": 0,
          "min": "0.0",
          "max": "0.0",
          "histogram": [
           {
            "bin_start": -0.5,
            "bin_end": -0.4,
            "count": 0
           },
           {
            "bin_start": -0.4,
            "bin_end": -0.3,
            "count": 0
           },
           {
            "bin_start": -0.3,
            "bin_end": -0.19999999999999996,
            "count": 0
           },
           {
            "bin_start": -0.19999999999999996,
            "bin_end": -0.09999999999999998,
            "count": 0
           },
           {
            "bin_start": -0.09999999999999998,
            "bin_end": 0,
            "count": 0
           },
           {
            "bin_start": 0,
            "bin_end": 0.10000000000000009,
            "count": 5
           },
           {
            "bin_start": 0.10000000000000009,
            "bin_end": 0.20000000000000007,
            "count": 0
           },
           {
            "bin_start": 0.20000000000000007,
            "bin_end": 0.30000000000000004,
            "count": 0
           },
           {
            "bin_start": 0.30000000000000004,
            "bin_end": 0.4,
            "count": 0
           },
           {
            "bin_start": 0.4,
            "bin_end": 0.5,
            "count": 0
           }
          ]
         }
        },
        {
         "name": "EducationField_Human Resources",
         "dtype": "float64",
         "stats": {
          "unique_count": 1,
          "nan_count": 0,
          "min": "0.0",
          "max": "0.0",
          "histogram": [
           {
            "bin_start": -0.5,
            "bin_end": -0.4,
            "count": 0
           },
           {
            "bin_start": -0.4,
            "bin_end": -0.3,
            "count": 0
           },
           {
            "bin_start": -0.3,
            "bin_end": -0.19999999999999996,
            "count": 0
           },
           {
            "bin_start": -0.19999999999999996,
            "bin_end": -0.09999999999999998,
            "count": 0
           },
           {
            "bin_start": -0.09999999999999998,
            "bin_end": 0,
            "count": 0
           },
           {
            "bin_start": 0,
            "bin_end": 0.10000000000000009,
            "count": 5
           },
           {
            "bin_start": 0.10000000000000009,
            "bin_end": 0.20000000000000007,
            "count": 0
           },
           {
            "bin_start": 0.20000000000000007,
            "bin_end": 0.30000000000000004,
            "count": 0
           },
           {
            "bin_start": 0.30000000000000004,
            "bin_end": 0.4,
            "count": 0
           },
           {
            "bin_start": 0.4,
            "bin_end": 0.5,
            "count": 0
           }
          ]
         }
        },
        {
         "name": "EducationField_Life Sciences",
         "dtype": "float64",
         "stats": {
          "unique_count": 2,
          "nan_count": 0,
          "min": "0.0",
          "max": "1.0",
          "histogram": [
           {
            "bin_start": 0,
            "bin_end": 0.1,
            "count": 2
           },
           {
            "bin_start": 0.1,
            "bin_end": 0.2,
            "count": 0
           },
           {
            "bin_start": 0.2,
            "bin_end": 0.30000000000000004,
            "count": 0
           },
           {
            "bin_start": 0.30000000000000004,
            "bin_end": 0.4,
            "count": 0
           },
           {
            "bin_start": 0.4,
            "bin_end": 0.5,
            "count": 0
           },
           {
            "bin_start": 0.5,
            "bin_end": 0.6000000000000001,
            "count": 0
           },
           {
            "bin_start": 0.6000000000000001,
            "bin_end": 0.7000000000000001,
            "count": 0
           },
           {
            "bin_start": 0.7000000000000001,
            "bin_end": 0.8,
            "count": 0
           },
           {
            "bin_start": 0.8,
            "bin_end": 0.9,
            "count": 0
           },
           {
            "bin_start": 0.9,
            "bin_end": 1,
            "count": 3
           }
          ]
         }
        },
        {
         "name": "EducationField_Marketing",
         "dtype": "float64",
         "stats": {
          "unique_count": 1,
          "nan_count": 0,
          "min": "0.0",
          "max": "0.0",
          "histogram": [
           {
            "bin_start": -0.5,
            "bin_end": -0.4,
            "count": 0
           },
           {
            "bin_start": -0.4,
            "bin_end": -0.3,
            "count": 0
           },
           {
            "bin_start": -0.3,
            "bin_end": -0.19999999999999996,
            "count": 0
           },
           {
            "bin_start": -0.19999999999999996,
            "bin_end": -0.09999999999999998,
            "count": 0
           },
           {
            "bin_start": -0.09999999999999998,
            "bin_end": 0,
            "count": 0
           },
           {
            "bin_start": 0,
            "bin_end": 0.10000000000000009,
            "count": 5
           },
           {
            "bin_start": 0.10000000000000009,
            "bin_end": 0.20000000000000007,
            "count": 0
           },
           {
            "bin_start": 0.20000000000000007,
            "bin_end": 0.30000000000000004,
            "count": 0
           },
           {
            "bin_start": 0.30000000000000004,
            "bin_end": 0.4,
            "count": 0
           },
           {
            "bin_start": 0.4,
            "bin_end": 0.5,
            "count": 0
           }
          ]
         }
        },
        {
         "name": "EducationField_Medical",
         "dtype": "float64",
         "stats": {
          "unique_count": 2,
          "nan_count": 0,
          "min": "0.0",
          "max": "1.0",
          "histogram": [
           {
            "bin_start": 0,
            "bin_end": 0.1,
            "count": 3
           },
           {
            "bin_start": 0.1,
            "bin_end": 0.2,
            "count": 0
           },
           {
            "bin_start": 0.2,
            "bin_end": 0.30000000000000004,
            "count": 0
           },
           {
            "bin_start": 0.30000000000000004,
            "bin_end": 0.4,
            "count": 0
           },
           {
            "bin_start": 0.4,
            "bin_end": 0.5,
            "count": 0
           },
           {
            "bin_start": 0.5,
            "bin_end": 0.6000000000000001,
            "count": 0
           },
           {
            "bin_start": 0.6000000000000001,
            "bin_end": 0.7000000000000001,
            "count": 0
           },
           {
            "bin_start": 0.7000000000000001,
            "bin_end": 0.8,
            "count": 0
           },
           {
            "bin_start": 0.8,
            "bin_end": 0.9,
            "count": 0
           },
           {
            "bin_start": 0.9,
            "bin_end": 1,
            "count": 2
           }
          ]
         }
        },
        {
         "name": "EducationField_Other",
         "dtype": "float64",
         "stats": {
          "unique_count": 1,
          "nan_count": 0,
          "min": "0.0",
          "max": "0.0",
          "histogram": [
           {
            "bin_start": -0.5,
            "bin_end": -0.4,
            "count": 0
           },
           {
            "bin_start": -0.4,
            "bin_end": -0.3,
            "count": 0
           },
           {
            "bin_start": -0.3,
            "bin_end": -0.19999999999999996,
            "count": 0
           },
           {
            "bin_start": -0.19999999999999996,
            "bin_end": -0.09999999999999998,
            "count": 0
           },
           {
            "bin_start": -0.09999999999999998,
            "bin_end": 0,
            "count": 0
           },
           {
            "bin_start": 0,
            "bin_end": 0.10000000000000009,
            "count": 5
           },
           {
            "bin_start": 0.10000000000000009,
            "bin_end": 0.20000000000000007,
            "count": 0
           },
           {
            "bin_start": 0.20000000000000007,
            "bin_end": 0.30000000000000004,
            "count": 0
           },
           {
            "bin_start": 0.30000000000000004,
            "bin_end": 0.4,
            "count": 0
           },
           {
            "bin_start": 0.4,
            "bin_end": 0.5,
            "count": 0
           }
          ]
         }
        },
        {
         "name": "EducationField_Technical Degree",
         "dtype": "float64",
         "stats": {
          "unique_count": 1,
          "nan_count": 0,
          "min": "0.0",
          "max": "0.0",
          "histogram": [
           {
            "bin_start": -0.5,
            "bin_end": -0.4,
            "count": 0
           },
           {
            "bin_start": -0.4,
            "bin_end": -0.3,
            "count": 0
           },
           {
            "bin_start": -0.3,
            "bin_end": -0.19999999999999996,
            "count": 0
           },
           {
            "bin_start": -0.19999999999999996,
            "bin_end": -0.09999999999999998,
            "count": 0
           },
           {
            "bin_start": -0.09999999999999998,
            "bin_end": 0,
            "count": 0
           },
           {
            "bin_start": 0,
            "bin_end": 0.10000000000000009,
            "count": 5
           },
           {
            "bin_start": 0.10000000000000009,
            "bin_end": 0.20000000000000007,
            "count": 0
           },
           {
            "bin_start": 0.20000000000000007,
            "bin_end": 0.30000000000000004,
            "count": 0
           },
           {
            "bin_start": 0.30000000000000004,
            "bin_end": 0.4,
            "count": 0
           },
           {
            "bin_start": 0.4,
            "bin_end": 0.5,
            "count": 0
           }
          ]
         }
        },
        {
         "name": "JobRole_Healthcare Representative",
         "dtype": "float64",
         "stats": {
          "unique_count": 1,
          "nan_count": 0,
          "min": "0.0",
          "max": "0.0",
          "histogram": [
           {
            "bin_start": -0.5,
            "bin_end": -0.4,
            "count": 0
           },
           {
            "bin_start": -0.4,
            "bin_end": -0.3,
            "count": 0
           },
           {
            "bin_start": -0.3,
            "bin_end": -0.19999999999999996,
            "count": 0
           },
           {
            "bin_start": -0.19999999999999996,
            "bin_end": -0.09999999999999998,
            "count": 0
           },
           {
            "bin_start": -0.09999999999999998,
            "bin_end": 0,
            "count": 0
           },
           {
            "bin_start": 0,
            "bin_end": 0.10000000000000009,
            "count": 5
           },
           {
            "bin_start": 0.10000000000000009,
            "bin_end": 0.20000000000000007,
            "count": 0
           },
           {
            "bin_start": 0.20000000000000007,
            "bin_end": 0.30000000000000004,
            "count": 0
           },
           {
            "bin_start": 0.30000000000000004,
            "bin_end": 0.4,
            "count": 0
           },
           {
            "bin_start": 0.4,
            "bin_end": 0.5,
            "count": 0
           }
          ]
         }
        },
        {
         "name": "JobRole_Human Resources",
         "dtype": "float64",
         "stats": {
          "unique_count": 1,
          "nan_count": 0,
          "min": "0.0",
          "max": "0.0",
          "histogram": [
           {
            "bin_start": -0.5,
            "bin_end": -0.4,
            "count": 0
           },
           {
            "bin_start": -0.4,
            "bin_end": -0.3,
            "count": 0
           },
           {
            "bin_start": -0.3,
            "bin_end": -0.19999999999999996,
            "count": 0
           },
           {
            "bin_start": -0.19999999999999996,
            "bin_end": -0.09999999999999998,
            "count": 0
           },
           {
            "bin_start": -0.09999999999999998,
            "bin_end": 0,
            "count": 0
           },
           {
            "bin_start": 0,
            "bin_end": 0.10000000000000009,
            "count": 5
           },
           {
            "bin_start": 0.10000000000000009,
            "bin_end": 0.20000000000000007,
            "count": 0
           },
           {
            "bin_start": 0.20000000000000007,
            "bin_end": 0.30000000000000004,
            "count": 0
           },
           {
            "bin_start": 0.30000000000000004,
            "bin_end": 0.4,
            "count": 0
           },
           {
            "bin_start": 0.4,
            "bin_end": 0.5,
            "count": 0
           }
          ]
         }
        },
        {
         "name": "JobRole_Laboratory Technician",
         "dtype": "float64",
         "stats": {
          "unique_count": 2,
          "nan_count": 0,
          "min": "0.0",
          "max": "1.0",
          "histogram": [
           {
            "bin_start": 0,
            "bin_end": 0.1,
            "count": 2
           },
           {
            "bin_start": 0.1,
            "bin_end": 0.2,
            "count": 0
           },
           {
            "bin_start": 0.2,
            "bin_end": 0.30000000000000004,
            "count": 0
           },
           {
            "bin_start": 0.30000000000000004,
            "bin_end": 0.4,
            "count": 0
           },
           {
            "bin_start": 0.4,
            "bin_end": 0.5,
            "count": 0
           },
           {
            "bin_start": 0.5,
            "bin_end": 0.6000000000000001,
            "count": 0
           },
           {
            "bin_start": 0.6000000000000001,
            "bin_end": 0.7000000000000001,
            "count": 0
           },
           {
            "bin_start": 0.7000000000000001,
            "bin_end": 0.8,
            "count": 0
           },
           {
            "bin_start": 0.8,
            "bin_end": 0.9,
            "count": 0
           },
           {
            "bin_start": 0.9,
            "bin_end": 1,
            "count": 3
           }
          ]
         }
        },
        {
         "name": "JobRole_Manager",
         "dtype": "float64",
         "stats": {
          "unique_count": 1,
          "nan_count": 0,
          "min": "0.0",
          "max": "0.0",
          "histogram": [
           {
            "bin_start": -0.5,
            "bin_end": -0.4,
            "count": 0
           },
           {
            "bin_start": -0.4,
            "bin_end": -0.3,
            "count": 0
           },
           {
            "bin_start": -0.3,
            "bin_end": -0.19999999999999996,
            "count": 0
           },
           {
            "bin_start": -0.19999999999999996,
            "bin_end": -0.09999999999999998,
            "count": 0
           },
           {
            "bin_start": -0.09999999999999998,
            "bin_end": 0,
            "count": 0
           },
           {
            "bin_start": 0,
            "bin_end": 0.10000000000000009,
            "count": 5
           },
           {
            "bin_start": 0.10000000000000009,
            "bin_end": 0.20000000000000007,
            "count": 0
           },
           {
            "bin_start": 0.20000000000000007,
            "bin_end": 0.30000000000000004,
            "count": 0
           },
           {
            "bin_start": 0.30000000000000004,
            "bin_end": 0.4,
            "count": 0
           },
           {
            "bin_start": 0.4,
            "bin_end": 0.5,
            "count": 0
           }
          ]
         }
        },
        {
         "name": "JobRole_Manufacturing Director",
         "dtype": "float64",
         "stats": {
          "unique_count": 1,
          "nan_count": 0,
          "min": "0.0",
          "max": "0.0",
          "histogram": [
           {
            "bin_start": -0.5,
            "bin_end": -0.4,
            "count": 0
           },
           {
            "bin_start": -0.4,
            "bin_end": -0.3,
            "count": 0
           },
           {
            "bin_start": -0.3,
            "bin_end": -0.19999999999999996,
            "count": 0
           },
           {
            "bin_start": -0.19999999999999996,
            "bin_end": -0.09999999999999998,
            "count": 0
           },
           {
            "bin_start": -0.09999999999999998,
            "bin_end": 0,
            "count": 0
           },
           {
            "bin_start": 0,
            "bin_end": 0.10000000000000009,
            "count": 5
           },
           {
            "bin_start": 0.10000000000000009,
            "bin_end": 0.20000000000000007,
            "count": 0
           },
           {
            "bin_start": 0.20000000000000007,
            "bin_end": 0.30000000000000004,
            "count": 0
           },
           {
            "bin_start": 0.30000000000000004,
            "bin_end": 0.4,
            "count": 0
           },
           {
            "bin_start": 0.4,
            "bin_end": 0.5,
            "count": 0
           }
          ]
         }
        },
        {
         "name": "JobRole_Research Director",
         "dtype": "float64",
         "stats": {
          "unique_count": 1,
          "nan_count": 0,
          "min": "0.0",
          "max": "0.0",
          "histogram": [
           {
            "bin_start": -0.5,
            "bin_end": -0.4,
            "count": 0
           },
           {
            "bin_start": -0.4,
            "bin_end": -0.3,
            "count": 0
           },
           {
            "bin_start": -0.3,
            "bin_end": -0.19999999999999996,
            "count": 0
           },
           {
            "bin_start": -0.19999999999999996,
            "bin_end": -0.09999999999999998,
            "count": 0
           },
           {
            "bin_start": -0.09999999999999998,
            "bin_end": 0,
            "count": 0
           },
           {
            "bin_start": 0,
            "bin_end": 0.10000000000000009,
            "count": 5
           },
           {
            "bin_start": 0.10000000000000009,
            "bin_end": 0.20000000000000007,
            "count": 0
           },
           {
            "bin_start": 0.20000000000000007,
            "bin_end": 0.30000000000000004,
            "count": 0
           },
           {
            "bin_start": 0.30000000000000004,
            "bin_end": 0.4,
            "count": 0
           },
           {
            "bin_start": 0.4,
            "bin_end": 0.5,
            "count": 0
           }
          ]
         }
        },
        {
         "name": "JobRole_Research Scientist",
         "dtype": "float64",
         "stats": {
          "unique_count": 2,
          "nan_count": 0,
          "min": "0.0",
          "max": "1.0",
          "histogram": [
           {
            "bin_start": 0,
            "bin_end": 0.1,
            "count": 3
           },
           {
            "bin_start": 0.1,
            "bin_end": 0.2,
            "count": 0
           },
           {
            "bin_start": 0.2,
            "bin_end": 0.30000000000000004,
            "count": 0
           },
           {
            "bin_start": 0.30000000000000004,
            "bin_end": 0.4,
            "count": 0
           },
           {
            "bin_start": 0.4,
            "bin_end": 0.5,
            "count": 0
           },
           {
            "bin_start": 0.5,
            "bin_end": 0.6000000000000001,
            "count": 0
           },
           {
            "bin_start": 0.6000000000000001,
            "bin_end": 0.7000000000000001,
            "count": 0
           },
           {
            "bin_start": 0.7000000000000001,
            "bin_end": 0.8,
            "count": 0
           },
           {
            "bin_start": 0.8,
            "bin_end": 0.9,
            "count": 0
           },
           {
            "bin_start": 0.9,
            "bin_end": 1,
            "count": 2
           }
          ]
         }
        },
        {
         "name": "JobRole_Sales Executive",
         "dtype": "float64",
         "stats": {
          "unique_count": 1,
          "nan_count": 0,
          "min": "0.0",
          "max": "0.0",
          "histogram": [
           {
            "bin_start": -0.5,
            "bin_end": -0.4,
            "count": 0
           },
           {
            "bin_start": -0.4,
            "bin_end": -0.3,
            "count": 0
           },
           {
            "bin_start": -0.3,
            "bin_end": -0.19999999999999996,
            "count": 0
           },
           {
            "bin_start": -0.19999999999999996,
            "bin_end": -0.09999999999999998,
            "count": 0
           },
           {
            "bin_start": -0.09999999999999998,
            "bin_end": 0,
            "count": 0
           },
           {
            "bin_start": 0,
            "bin_end": 0.10000000000000009,
            "count": 5
           },
           {
            "bin_start": 0.10000000000000009,
            "bin_end": 0.20000000000000007,
            "count": 0
           },
           {
            "bin_start": 0.20000000000000007,
            "bin_end": 0.30000000000000004,
            "count": 0
           },
           {
            "bin_start": 0.30000000000000004,
            "bin_end": 0.4,
            "count": 0
           },
           {
            "bin_start": 0.4,
            "bin_end": 0.5,
            "count": 0
           }
          ]
         }
        },
        {
         "name": "JobRole_Sales Representative",
         "dtype": "float64",
         "stats": {
          "unique_count": 1,
          "nan_count": 0,
          "min": "0.0",
          "max": "0.0",
          "histogram": [
           {
            "bin_start": -0.5,
            "bin_end": -0.4,
            "count": 0
           },
           {
            "bin_start": -0.4,
            "bin_end": -0.3,
            "count": 0
           },
           {
            "bin_start": -0.3,
            "bin_end": -0.19999999999999996,
            "count": 0
           },
           {
            "bin_start": -0.19999999999999996,
            "bin_end": -0.09999999999999998,
            "count": 0
           },
           {
            "bin_start": -0.09999999999999998,
            "bin_end": 0,
            "count": 0
           },
           {
            "bin_start": 0,
            "bin_end": 0.10000000000000009,
            "count": 5
           },
           {
            "bin_start": 0.10000000000000009,
            "bin_end": 0.20000000000000007,
            "count": 0
           },
           {
            "bin_start": 0.20000000000000007,
            "bin_end": 0.30000000000000004,
            "count": 0
           },
           {
            "bin_start": 0.30000000000000004,
            "bin_end": 0.4,
            "count": 0
           },
           {
            "bin_start": 0.4,
            "bin_end": 0.5,
            "count": 0
           }
          ]
         }
        },
        {
         "name": "MaritalStatus_Divorced",
         "dtype": "float64",
         "stats": {
          "unique_count": 1,
          "nan_count": 0,
          "min": "0.0",
          "max": "0.0",
          "histogram": [
           {
            "bin_start": -0.5,
            "bin_end": -0.4,
            "count": 0
           },
           {
            "bin_start": -0.4,
            "bin_end": -0.3,
            "count": 0
           },
           {
            "bin_start": -0.3,
            "bin_end": -0.19999999999999996,
            "count": 0
           },
           {
            "bin_start": -0.19999999999999996,
            "bin_end": -0.09999999999999998,
            "count": 0
           },
           {
            "bin_start": -0.09999999999999998,
            "bin_end": 0,
            "count": 0
           },
           {
            "bin_start": 0,
            "bin_end": 0.10000000000000009,
            "count": 5
           },
           {
            "bin_start": 0.10000000000000009,
            "bin_end": 0.20000000000000007,
            "count": 0
           },
           {
            "bin_start": 0.20000000000000007,
            "bin_end": 0.30000000000000004,
            "count": 0
           },
           {
            "bin_start": 0.30000000000000004,
            "bin_end": 0.4,
            "count": 0
           },
           {
            "bin_start": 0.4,
            "bin_end": 0.5,
            "count": 0
           }
          ]
         }
        },
        {
         "name": "MaritalStatus_Married",
         "dtype": "float64",
         "stats": {
          "unique_count": 2,
          "nan_count": 0,
          "min": "0.0",
          "max": "1.0",
          "histogram": [
           {
            "bin_start": 0,
            "bin_end": 0.1,
            "count": 1
           },
           {
            "bin_start": 0.1,
            "bin_end": 0.2,
            "count": 0
           },
           {
            "bin_start": 0.2,
            "bin_end": 0.30000000000000004,
            "count": 0
           },
           {
            "bin_start": 0.30000000000000004,
            "bin_end": 0.4,
            "count": 0
           },
           {
            "bin_start": 0.4,
            "bin_end": 0.5,
            "count": 0
           },
           {
            "bin_start": 0.5,
            "bin_end": 0.6000000000000001,
            "count": 0
           },
           {
            "bin_start": 0.6000000000000001,
            "bin_end": 0.7000000000000001,
            "count": 0
           },
           {
            "bin_start": 0.7000000000000001,
            "bin_end": 0.8,
            "count": 0
           },
           {
            "bin_start": 0.8,
            "bin_end": 0.9,
            "count": 0
           },
           {
            "bin_start": 0.9,
            "bin_end": 1,
            "count": 4
           }
          ]
         }
        },
        {
         "name": "MaritalStatus_Single",
         "dtype": "float64",
         "stats": {
          "unique_count": 2,
          "nan_count": 0,
          "min": "0.0",
          "max": "1.0",
          "histogram": [
           {
            "bin_start": 0,
            "bin_end": 0.1,
            "count": 4
           },
           {
            "bin_start": 0.1,
            "bin_end": 0.2,
            "count": 0
           },
           {
            "bin_start": 0.2,
            "bin_end": 0.30000000000000004,
            "count": 0
           },
           {
            "bin_start": 0.30000000000000004,
            "bin_end": 0.4,
            "count": 0
           },
           {
            "bin_start": 0.4,
            "bin_end": 0.5,
            "count": 0
           },
           {
            "bin_start": 0.5,
            "bin_end": 0.6000000000000001,
            "count": 0
           },
           {
            "bin_start": 0.6000000000000001,
            "bin_end": 0.7000000000000001,
            "count": 0
           },
           {
            "bin_start": 0.7000000000000001,
            "bin_end": 0.8,
            "count": 0
           },
           {
            "bin_start": 0.8,
            "bin_end": 0.9,
            "count": 0
           },
           {
            "bin_start": 0.9,
            "bin_end": 1,
            "count": 1
           }
          ]
         }
        },
        {
         "name": "_deepnote_index_column",
         "dtype": "int64"
        }
       ],
       "rows": [
        {
         "Age": 0.7380952380952379,
         "BusinessTravel": 1,
         "DailyRate": 0.12670007158196134,
         "DistanceFromHome": 0.25,
         "Education": 0,
         "EmployeeNumber": 0,
         "EnvironmentSatisfaction": 0.6666666666666667,
         "Gender": 1,
         "HourlyRate": 0.4428571428571429,
         "JobInvolvement": 0.3333333333333333,
         "JobLevel": 0.25,
         "JobSatisfaction": 0.3333333333333333,
         "MonthlyIncome": 0.21527337977622968,
         "MonthlyRate": 0.9160743685499739,
         "NumCompaniesWorked": 0.1111111111111111,
         "OverTime": 0,
         "PercentSalaryHike": 0.8571428571428571,
         "PerformanceRating": 1,
         "RelationshipSatisfaction": 1,
         "StockOptionLevel": 0.3333333333333333,
         "TotalWorkingYears": 0.2631578947368421,
         "TrainingTimesLastYear": 0.5,
         "WorkLifeBalance": 0.6666666666666667,
         "YearsAtCompany": 0.2702702702702703,
         "YearsInCurrentRole": 0.38888888888888884,
         "YearsSinceLastPromotion": 0.06666666666666667,
         "YearsWithCurrManager": 0.4117647058823529,
         "Department_Human Resources": 0,
         "Department_Research & Development": 1,
         "Department_Sales": 0,
         "EducationField_Human Resources": 0,
         "EducationField_Life Sciences": 1,
         "EducationField_Marketing": 0,
         "EducationField_Medical": 0,
         "EducationField_Other": 0,
         "EducationField_Technical Degree": 0,
         "JobRole_Healthcare Representative": 0,
         "JobRole_Human Resources": 0,
         "JobRole_Laboratory Technician": 0,
         "JobRole_Manager": 0,
         "JobRole_Manufacturing Director": 0,
         "JobRole_Research Director": 0,
         "JobRole_Research Scientist": 1,
         "JobRole_Sales Executive": 0,
         "JobRole_Sales Representative": 0,
         "MaritalStatus_Divorced": 0,
         "MaritalStatus_Married": 1,
         "MaritalStatus_Single": 0,
         "_deepnote_index_column": 1
        },
        {
         "Age": 0.35714285714285715,
         "BusinessTravel": 1,
         "DailyRate": 0.9234073013600572,
         "DistanceFromHome": 0.07142857142857142,
         "Education": 0.75,
         "EmployeeNumber": 0.0014520813165537273,
         "EnvironmentSatisfaction": 1,
         "Gender": 0,
         "HourlyRate": 0.3714285714285714,
         "JobInvolvement": 0.6666666666666667,
         "JobLevel": 0,
         "JobSatisfaction": 0.6666666666666667,
         "MonthlyIncome": 0.09805784251636057,
         "MonthlyRate": 0.8458820222463157,
         "NumCompaniesWorked": 0.1111111111111111,
         "OverTime": 1,
         "PercentSalaryHike": 0,
         "PerformanceRating": 0,
         "RelationshipSatisfaction": 0.6666666666666667,
         "StockOptionLevel": 0,
         "TotalWorkingYears": 0.21052631578947367,
         "TrainingTimesLastYear": 0.5,
         "WorkLifeBalance": 0.6666666666666667,
         "YearsAtCompany": 0.21621621621621623,
         "YearsInCurrentRole": 0.38888888888888884,
         "YearsSinceLastPromotion": 0.2,
         "YearsWithCurrManager": 0,
         "Department_Human Resources": 0,
         "Department_Research & Development": 1,
         "Department_Sales": 0,
         "EducationField_Human Resources": 0,
         "EducationField_Life Sciences": 1,
         "EducationField_Marketing": 0,
         "EducationField_Medical": 0,
         "EducationField_Other": 0,
         "EducationField_Technical Degree": 0,
         "JobRole_Healthcare Representative": 0,
         "JobRole_Human Resources": 0,
         "JobRole_Laboratory Technician": 0,
         "JobRole_Manager": 0,
         "JobRole_Manufacturing Director": 0,
         "JobRole_Research Director": 0,
         "JobRole_Research Scientist": 1,
         "JobRole_Sales Executive": 0,
         "JobRole_Sales Representative": 0,
         "MaritalStatus_Divorced": 0,
         "MaritalStatus_Married": 1,
         "MaritalStatus_Single": 0,
         "_deepnote_index_column": 3
        },
        {
         "Age": 0.21428571428571425,
         "BusinessTravel": 0.5,
         "DailyRate": 0.35003579098067283,
         "DistanceFromHome": 0.03571428571428571,
         "Education": 0,
         "EmployeeNumber": 0.002420135527589545,
         "EnvironmentSatisfaction": 0,
         "Gender": 1,
         "HourlyRate": 0.14285714285714285,
         "JobInvolvement": 0.6666666666666667,
         "JobLevel": 0,
         "JobSatisfaction": 0.3333333333333333,
         "MonthlyIncome": 0.1275596369009922,
         "MonthlyRate": 0.5837850861342007,
         "NumCompaniesWorked": 1,
         "OverTime": 0,
         "PercentSalaryHike": 0.0714285714285714,
         "PerformanceRating": 0,
         "RelationshipSatisfaction": 1,
         "StockOptionLevel": 0.3333333333333333,
         "TotalWorkingYears": 0.15789473684210525,
         "TrainingTimesLastYear": 0.5,
         "WorkLifeBalance": 0.6666666666666667,
         "YearsAtCompany": 0.05405405405405406,
         "YearsInCurrentRole": 0.1111111111111111,
         "YearsSinceLastPromotion": 0.13333333333333333,
         "YearsWithCurrManager": 0.11764705882352941,
         "Department_Human Resources": 0,
         "Department_Research & Development": 1,
         "Department_Sales": 0,
         "EducationField_Human Resources": 0,
         "EducationField_Life Sciences": 0,
         "EducationField_Marketing": 0,
         "EducationField_Medical": 1,
         "EducationField_Other": 0,
         "EducationField_Technical Degree": 0,
         "JobRole_Healthcare Representative": 0,
         "JobRole_Human Resources": 0,
         "JobRole_Laboratory Technician": 1,
         "JobRole_Manager": 0,
         "JobRole_Manufacturing Director": 0,
         "JobRole_Research Director": 0,
         "JobRole_Research Scientist": 0,
         "JobRole_Sales Executive": 0,
         "JobRole_Sales Representative": 0,
         "MaritalStatus_Divorced": 0,
         "MaritalStatus_Married": 1,
         "MaritalStatus_Single": 0,
         "_deepnote_index_column": 4
        },
        {
         "Age": 0.3333333333333333,
         "BusinessTravel": 1,
         "DailyRate": 0.64638511095204,
         "DistanceFromHome": 0.03571428571428571,
         "Education": 0.25,
         "EmployeeNumber": 0.002904162633107454,
         "EnvironmentSatisfaction": 1,
         "Gender": 1,
         "HourlyRate": 0.7,
         "JobInvolvement": 0.6666666666666667,
         "JobLevel": 0,
         "JobSatisfaction": 1,
         "MonthlyIncome": 0.10644922947012878,
         "MonthlyRate": 0.39232221017548086,
         "NumCompaniesWorked": 0,
         "OverTime": 0,
         "PercentSalaryHike": 0.1428571428571428,
         "PerformanceRating": 0,
         "RelationshipSatisfaction": 0.6666666666666667,
         "StockOptionLevel": 0,
         "TotalWorkingYears": 0.21052631578947367,
         "TrainingTimesLastYear": 0.3333333333333333,
         "WorkLifeBalance": 0.3333333333333333,
         "YearsAtCompany": 0.1891891891891892,
         "YearsInCurrentRole": 0.38888888888888884,
         "YearsSinceLastPromotion": 0.2,
         "YearsWithCurrManager": 0.3529411764705882,
         "Department_Human Resources": 0,
         "Department_Research & Development": 1,
         "Department_Sales": 0,
         "EducationField_Human Resources": 0,
         "EducationField_Life Sciences": 1,
         "EducationField_Marketing": 0,
         "EducationField_Medical": 0,
         "EducationField_Other": 0,
         "EducationField_Technical Degree": 0,
         "JobRole_Healthcare Representative": 0,
         "JobRole_Human Resources": 0,
         "JobRole_Laboratory Technician": 1,
         "JobRole_Manager": 0,
         "JobRole_Manufacturing Director": 0,
         "JobRole_Research Director": 0,
         "JobRole_Research Scientist": 0,
         "JobRole_Sales Executive": 0,
         "JobRole_Sales Representative": 0,
         "MaritalStatus_Divorced": 0,
         "MaritalStatus_Married": 0,
         "MaritalStatus_Single": 1,
         "_deepnote_index_column": 5
        },
        {
         "Age": 0.976190476190476,
         "BusinessTravel": 0.5,
         "DailyRate": 0.8747315676449534,
         "DistanceFromHome": 0.07142857142857142,
         "Education": 0.5,
         "EmployeeNumber": 0.0038722168441432726,
         "EnvironmentSatisfaction": 0.6666666666666667,
         "Gender": 0,
         "HourlyRate": 0.7285714285714284,
         "JobInvolvement": 1,
         "JobLevel": 0,
         "JobSatisfaction": 0,
         "MonthlyIncome": 0.08544437407641967,
         "MonthlyRate": 0.31602618158454804,
         "NumCompaniesWorked": 0.4444444444444444,
         "OverTime": 1,
         "PercentSalaryHike": 0.6428571428571427,
         "PerformanceRating": 1,
         "RelationshipSatisfaction": 0,
         "StockOptionLevel": 1,
         "TotalWorkingYears": 0.3157894736842105,
         "TrainingTimesLastYear": 0.5,
         "WorkLifeBalance": 0.3333333333333333,
         "YearsAtCompany": 0.02702702702702703,
         "YearsInCurrentRole": 0,
         "YearsSinceLastPromotion": 0,
         "YearsWithCurrManager": 0,
         "Department_Human Resources": 0,
         "Department_Research & Development": 1,
         "Department_Sales": 0,
         "EducationField_Human Resources": 0,
         "EducationField_Life Sciences": 0,
         "EducationField_Marketing": 0,
         "EducationField_Medical": 1,
         "EducationField_Other": 0,
         "EducationField_Technical Degree": 0,
         "JobRole_Healthcare Representative": 0,
         "JobRole_Human Resources": 0,
         "JobRole_Laboratory Technician": 1,
         "JobRole_Manager": 0,
         "JobRole_Manufacturing Director": 0,
         "JobRole_Research Director": 0,
         "JobRole_Research Scientist": 0,
         "JobRole_Sales Executive": 0,
         "JobRole_Sales Representative": 0,
         "MaritalStatus_Divorced": 0,
         "MaritalStatus_Married": 1,
         "MaritalStatus_Single": 0,
         "_deepnote_index_column": 6
        }
       ]
      },
      "text/plain": "        Age  BusinessTravel  DailyRate  DistanceFromHome  Education  \\\n1  0.738095             1.0   0.126700          0.250000       0.00   \n3  0.357143             1.0   0.923407          0.071429       0.75   \n4  0.214286             0.5   0.350036          0.035714       0.00   \n5  0.333333             1.0   0.646385          0.035714       0.25   \n6  0.976190             0.5   0.874732          0.071429       0.50   \n\n   EmployeeNumber  EnvironmentSatisfaction  Gender  HourlyRate  \\\n1        0.000000                 0.666667     1.0    0.442857   \n3        0.001452                 1.000000     0.0    0.371429   \n4        0.002420                 0.000000     1.0    0.142857   \n5        0.002904                 1.000000     1.0    0.700000   \n6        0.003872                 0.666667     0.0    0.728571   \n\n   JobInvolvement  ...  JobRole_Laboratory Technician  JobRole_Manager  \\\n1        0.333333  ...                            0.0              0.0   \n3        0.666667  ...                            0.0              0.0   \n4        0.666667  ...                            1.0              0.0   \n5        0.666667  ...                            1.0              0.0   \n6        1.000000  ...                            1.0              0.0   \n\n   JobRole_Manufacturing Director  JobRole_Research Director  \\\n1                             0.0                        0.0   \n3                             0.0                        0.0   \n4                             0.0                        0.0   \n5                             0.0                        0.0   \n6                             0.0                        0.0   \n\n   JobRole_Research Scientist  JobRole_Sales Executive  \\\n1                         1.0                      0.0   \n3                         1.0                      0.0   \n4                         0.0                      0.0   \n5                         0.0                      0.0   \n6                         0.0                      0.0   \n\n   JobRole_Sales Representative  MaritalStatus_Divorced  \\\n1                           0.0                     0.0   \n3                           0.0                     0.0   \n4                           0.0                     0.0   \n5                           0.0                     0.0   \n6                           0.0                     0.0   \n\n   MaritalStatus_Married  MaritalStatus_Single  \n1                    1.0                   0.0  \n3                    1.0                   0.0  \n4                    1.0                   0.0  \n5                    0.0                   1.0  \n6                    1.0                   0.0  \n\n[5 rows x 48 columns]",
      "text/html": "<div>\n<style scoped>\n    .dataframe tbody tr th:only-of-type {\n        vertical-align: middle;\n    }\n\n    .dataframe tbody tr th {\n        vertical-align: top;\n    }\n\n    .dataframe thead th {\n        text-align: right;\n    }\n</style>\n<table border=\"1\" class=\"dataframe\">\n  <thead>\n    <tr style=\"text-align: right;\">\n      <th></th>\n      <th>Age</th>\n      <th>BusinessTravel</th>\n      <th>DailyRate</th>\n      <th>DistanceFromHome</th>\n      <th>Education</th>\n      <th>EmployeeNumber</th>\n      <th>EnvironmentSatisfaction</th>\n      <th>Gender</th>\n      <th>HourlyRate</th>\n      <th>JobInvolvement</th>\n      <th>...</th>\n      <th>JobRole_Laboratory Technician</th>\n      <th>JobRole_Manager</th>\n      <th>JobRole_Manufacturing Director</th>\n      <th>JobRole_Research Director</th>\n      <th>JobRole_Research Scientist</th>\n      <th>JobRole_Sales Executive</th>\n      <th>JobRole_Sales Representative</th>\n      <th>MaritalStatus_Divorced</th>\n      <th>MaritalStatus_Married</th>\n      <th>MaritalStatus_Single</th>\n    </tr>\n  </thead>\n  <tbody>\n    <tr>\n      <th>1</th>\n      <td>0.738095</td>\n      <td>1.0</td>\n      <td>0.126700</td>\n      <td>0.250000</td>\n      <td>0.00</td>\n      <td>0.000000</td>\n      <td>0.666667</td>\n      <td>1.0</td>\n      <td>0.442857</td>\n      <td>0.333333</td>\n      <td>...</td>\n      <td>0.0</td>\n      <td>0.0</td>\n      <td>0.0</td>\n      <td>0.0</td>\n      <td>1.0</td>\n      <td>0.0</td>\n      <td>0.0</td>\n      <td>0.0</td>\n      <td>1.0</td>\n      <td>0.0</td>\n    </tr>\n    <tr>\n      <th>3</th>\n      <td>0.357143</td>\n      <td>1.0</td>\n      <td>0.923407</td>\n      <td>0.071429</td>\n      <td>0.75</td>\n      <td>0.001452</td>\n      <td>1.000000</td>\n      <td>0.0</td>\n      <td>0.371429</td>\n      <td>0.666667</td>\n      <td>...</td>\n      <td>0.0</td>\n      <td>0.0</td>\n      <td>0.0</td>\n      <td>0.0</td>\n      <td>1.0</td>\n      <td>0.0</td>\n      <td>0.0</td>\n      <td>0.0</td>\n      <td>1.0</td>\n      <td>0.0</td>\n    </tr>\n    <tr>\n      <th>4</th>\n      <td>0.214286</td>\n      <td>0.5</td>\n      <td>0.350036</td>\n      <td>0.035714</td>\n      <td>0.00</td>\n      <td>0.002420</td>\n      <td>0.000000</td>\n      <td>1.0</td>\n      <td>0.142857</td>\n      <td>0.666667</td>\n      <td>...</td>\n      <td>1.0</td>\n      <td>0.0</td>\n      <td>0.0</td>\n      <td>0.0</td>\n      <td>0.0</td>\n      <td>0.0</td>\n      <td>0.0</td>\n      <td>0.0</td>\n      <td>1.0</td>\n      <td>0.0</td>\n    </tr>\n    <tr>\n      <th>5</th>\n      <td>0.333333</td>\n      <td>1.0</td>\n      <td>0.646385</td>\n      <td>0.035714</td>\n      <td>0.25</td>\n      <td>0.002904</td>\n      <td>1.000000</td>\n      <td>1.0</td>\n      <td>0.700000</td>\n      <td>0.666667</td>\n      <td>...</td>\n      <td>1.0</td>\n      <td>0.0</td>\n      <td>0.0</td>\n      <td>0.0</td>\n      <td>0.0</td>\n      <td>0.0</td>\n      <td>0.0</td>\n      <td>0.0</td>\n      <td>0.0</td>\n      <td>1.0</td>\n    </tr>\n    <tr>\n      <th>6</th>\n      <td>0.976190</td>\n      <td>0.5</td>\n      <td>0.874732</td>\n      <td>0.071429</td>\n      <td>0.50</td>\n      <td>0.003872</td>\n      <td>0.666667</td>\n      <td>0.0</td>\n      <td>0.728571</td>\n      <td>1.000000</td>\n      <td>...</td>\n      <td>1.0</td>\n      <td>0.0</td>\n      <td>0.0</td>\n      <td>0.0</td>\n      <td>0.0</td>\n      <td>0.0</td>\n      <td>0.0</td>\n      <td>0.0</td>\n      <td>1.0</td>\n      <td>0.0</td>\n    </tr>\n  </tbody>\n</table>\n<p>5 rows × 48 columns</p>\n</div>"
     },
     "metadata": {}
    }
   ]
  },
  {
   "cell_type": "markdown",
   "source": "## 4.7. Machine Learning\n",
   "metadata": {
    "cell_id": "40bcdbe8-d36c-4d75-a98c-b9644d70d6e4",
    "tags": [],
    "deepnote_cell_type": "markdown",
    "deepnote_cell_height": 70
   }
  },
  {
   "cell_type": "markdown",
   "source": "### 4.7.1. Aprendizaje No Supervisado\n\n",
   "metadata": {
    "cell_id": "a08dfe2f-3154-40d2-9129-a66175a796c0",
    "tags": [],
    "deepnote_cell_type": "markdown",
    "deepnote_cell_height": 62
   }
  },
  {
   "cell_type": "markdown",
   "source": "Se utiliza cuando deseamos aprender la estructura inherente de nuestros datos sin usar etiquetas proporcionadas explícitamente. Es muy útil en el análisis exploratorio porque puede identificar automáticamente la estructura de los datos.\n<figure>\n<img src=\"/work/Modulo3_Caso4/fig/unsupervised_learning.png\" align=\"center\"/> \n</figure> \n\n\nhttps://towardsdatascience.com/supervised-vs-unsupervised-learning-14f68e32ea8d",
   "metadata": {
    "cell_id": "8efea7a6-edc0-407e-a775-6a1cbed94a7a",
    "tags": [],
    "deepnote_cell_type": "markdown",
    "deepnote_cell_height": 577.171875
   }
  },
  {
   "cell_type": "markdown",
   "source": "#### 4.7.1.1. Algoritmos de Agrupación: K-Medias\n\n",
   "metadata": {
    "cell_id": "effe91bc-227b-42df-a8da-d409d5148c0c",
    "tags": [],
    "deepnote_cell_type": "markdown",
    "deepnote_cell_height": 54
   }
  },
  {
   "cell_type": "markdown",
   "source": "El objetivo de K-means es simple: agrupar puntos de datos similares y descubrir patrones subyacentes. Para lograr este objetivo, K-means busca un número fijo (k) de clústeres en un dataset.\n\n<figure>\n<img src=\"/work/Modulo3_Caso4/fig/KMeans Example.png\" align=\"center\"/> \n</figure> ",
   "metadata": {
    "cell_id": "f7e3bb62-2027-4d04-bac5-450310cf4e7d",
    "tags": [],
    "deepnote_cell_type": "markdown",
    "deepnote_cell_height": 481.390625
   }
  },
  {
   "cell_type": "code",
   "metadata": {
    "cell_id": "4e1a2f7f-2ab5-4955-87b5-5132c560d95e",
    "tags": [],
    "deepnote_to_be_reexecuted": false,
    "source_hash": "3aaaa7ef",
    "execution_start": 1646785705389,
    "execution_millis": 3808,
    "deepnote_cell_type": "code",
    "deepnote_cell_height": 854,
    "deepnote_output_heights": [
     397
    ]
   },
   "source": "sum_sq_d = []\nK = range(1,11)\n\nfor k in K:\n    km = KMeans(n_clusters=k)\n    km = km.fit(df_HR_KMeans)\n    sum_sq_d.append(km.inertia_)\n    \nplt.figure(figsize=(8,6))\n\nplt.plot(K, sum_sq_d, 'rx-.')\n\nplt.xlabel('Number of Clusters, k', fontsize=12)\nplt.xticks(range(1,11), fontsize=12)\n\nplt.ylabel('Sum of Squared Distances', fontsize=12)\nplt.xticks(fontsize=12)\n\nplt.title('Elbow Method For Determining k', fontsize=16)\n\nplt.show()",
   "execution_count": null,
   "outputs": [
    {
     "data": {
      "text/plain": "<Figure size 576x432 with 1 Axes>",
      "image/png": "[encoded data removed]"
     },
     "metadata": {
      "needs_background": "light",
      "image/png": {
       "width": 510,
       "height": 395
      }
     },
     "output_type": "display_data"
    }
   ]
  },
  {
   "cell_type": "code",
   "metadata": {
    "cell_id": "d3950d5e-ebcf-4f35-969c-6739a9bbda8a",
    "tags": [],
    "deepnote_to_be_reexecuted": false,
    "source_hash": "220d7e67",
    "execution_start": 1646785709204,
    "execution_millis": 396,
    "deepnote_cell_type": "code",
    "deepnote_cell_height": 416
   },
   "source": "k = 2\n\nkmeans = KMeans(n_clusters=k, init='k-means++')\nkmeans.fit(df_HR_KMeans)\nlabels = kmeans.predict(df_HR_KMeans)\n\ndf_HR_KMeans['labels']=labels\n\ndf_HR_KMeans_grouped = df_HR_KMeans.groupby(['labels']).mean()\ndf_HR_KMeans_grouped['label'] = [0,1]\ndf_HR_KMeans_grouped.head(5)",
   "execution_count": null,
   "outputs": [
    {
     "output_type": "execute_result",
     "execution_count": 11,
     "data": {
      "application/vnd.deepnote.dataframe.v3+json": {
       "column_count": 49,
       "row_count": 2,
       "columns": [
        {
         "name": "Age",
         "dtype": "float64",
         "stats": {
          "unique_count": 2,
          "nan_count": 0,
          "min": "0.4556093623890234",
          "max": "0.4698250176065875",
          "histogram": [
           {
            "bin_start": 0.4556093623890234,
            "bin_end": 0.4570309279107798,
            "count": 1
           },
           {
            "bin_start": 0.4570309279107798,
            "bin_end": 0.4584524934325362,
            "count": 0
           },
           {
            "bin_start": 0.4584524934325362,
            "bin_end": 0.4598740589542926,
            "count": 0
           },
           {
            "bin_start": 0.4598740589542926,
            "bin_end": 0.46129562447604905,
            "count": 0
           },
           {
            "bin_start": 0.46129562447604905,
            "bin_end": 0.4627171899978054,
            "count": 0
           },
           {
            "bin_start": 0.4627171899978054,
            "bin_end": 0.46413875551956185,
            "count": 0
           },
           {
            "bin_start": 0.46413875551956185,
            "bin_end": 0.4655603210413183,
            "count": 0
           },
           {
            "bin_start": 0.4655603210413183,
            "bin_end": 0.4669818865630747,
            "count": 0
           },
           {
            "bin_start": 0.4669818865630747,
            "bin_end": 0.4684034520848311,
            "count": 0
           },
           {
            "bin_start": 0.4684034520848311,
            "bin_end": 0.4698250176065875,
            "count": 1
           }
          ]
         }
        },
        {
         "name": "BusinessTravel",
         "dtype": "float64",
         "stats": {
          "unique_count": 2,
          "nan_count": 0,
          "min": "0.518361581920904",
          "max": "0.5324232081911263",
          "histogram": [
           {
            "bin_start": 0.518361581920904,
            "bin_end": 0.5197677445479262,
            "count": 1
           },
           {
            "bin_start": 0.5197677445479262,
            "bin_end": 0.5211739071749485,
            "count": 0
           },
           {
            "bin_start": 0.5211739071749485,
            "bin_end": 0.5225800698019707,
            "count": 0
           },
           {
            "bin_start": 0.5225800698019707,
            "bin_end": 0.5239862324289929,
            "count": 0
           },
           {
            "bin_start": 0.5239862324289929,
            "bin_end": 0.5253923950560151,
            "count": 0
           },
           {
            "bin_start": 0.5253923950560151,
            "bin_end": 0.5267985576830374,
            "count": 0
           },
           {
            "bin_start": 0.5267985576830374,
            "bin_end": 0.5282047203100596,
            "count": 0
           },
           {
            "bin_start": 0.5282047203100596,
            "bin_end": 0.5296108829370818,
            "count": 0
           },
           {
            "bin_start": 0.5296108829370818,
            "bin_end": 0.5310170455641041,
            "count": 0
           },
           {
            "bin_start": 0.5310170455641041,
            "bin_end": 0.5324232081911263,
            "count": 1
           }
          ]
         }
        },
        {
         "name": "DailyRate",
         "dtype": "float64",
         "stats": {
          "unique_count": 2,
          "nan_count": 0,
          "min": "0.5079297991877605",
          "max": "0.5102398602331873",
          "histogram": [
           {
            "bin_start": 0.5079297991877605,
            "bin_end": 0.5081608052923032,
            "count": 1
           },
           {
            "bin_start": 0.5081608052923032,
            "bin_end": 0.5083918113968459,
            "count": 0
           },
           {
            "bin_start": 0.5083918113968459,
            "bin_end": 0.5086228175013885,
            "count": 0
           },
           {
            "bin_start": 0.5086228175013885,
            "bin_end": 0.5088538236059312,
            "count": 0
           },
           {
            "bin_start": 0.5088538236059312,
            "bin_end": 0.509084829710474,
            "count": 0
           },
           {
            "bin_start": 0.509084829710474,
            "bin_end": 0.5093158358150166,
            "count": 0
           },
           {
            "bin_start": 0.5093158358150166,
            "bin_end": 0.5095468419195592,
            "count": 0
           },
           {
            "bin_start": 0.5095468419195592,
            "bin_end": 0.509777848024102,
            "count": 0
           },
           {
            "bin_start": 0.509777848024102,
            "bin_end": 0.5100088541286447,
            "count": 0
           },
           {
            "bin_start": 0.5100088541286447,
            "bin_end": 0.5102398602331873,
            "count": 1
           }
          ]
         }
        },
        {
         "name": "DistanceFromHome",
         "dtype": "float64",
         "stats": {
          "unique_count": 2,
          "nan_count": 0,
          "min": "0.2816105964570128",
          "max": "0.285411622276029",
          "histogram": [
           {
            "bin_start": 0.2816105964570128,
            "bin_end": 0.28199069903891444,
            "count": 1
           },
           {
            "bin_start": 0.28199069903891444,
            "bin_end": 0.28237080162081607,
            "count": 0
           },
           {
            "bin_start": 0.28237080162081607,
            "bin_end": 0.28275090420271765,
            "count": 0
           },
           {
            "bin_start": 0.28275090420271765,
            "bin_end": 0.2831310067846193,
            "count": 0
           },
           {
            "bin_start": 0.2831310067846193,
            "bin_end": 0.2835111093665209,
            "count": 0
           },
           {
            "bin_start": 0.2835111093665209,
            "bin_end": 0.28389121194842254,
            "count": 0
           },
           {
            "bin_start": 0.28389121194842254,
            "bin_end": 0.28427131453032417,
            "count": 0
           },
           {
            "bin_start": 0.28427131453032417,
            "bin_end": 0.28465141711222575,
            "count": 0
           },
           {
            "bin_start": 0.28465141711222575,
            "bin_end": 0.2850315196941274,
            "count": 0
           },
           {
            "bin_start": 0.2850315196941274,
            "bin_end": 0.285411622276029,
            "count": 1
           }
          ]
         }
        },
        {
         "name": "Education",
         "dtype": "float64",
         "stats": {
          "unique_count": 2,
          "nan_count": 0,
          "min": "0.47838452787258245",
          "max": "0.4901129943502825",
          "histogram": [
           {
            "bin_start": 0.47838452787258245,
            "bin_end": 0.47955737452035246,
            "count": 1
           },
           {
            "bin_start": 0.47955737452035246,
            "bin_end": 0.4807302211681225,
            "count": 0
           },
           {
            "bin_start": 0.4807302211681225,
            "bin_end": 0.4819030678158925,
            "count": 0
           },
           {
            "bin_start": 0.4819030678158925,
            "bin_end": 0.4830759144636625,
            "count": 0
           },
           {
            "bin_start": 0.4830759144636625,
            "bin_end": 0.48424876111143245,
            "count": 0
           },
           {
            "bin_start": 0.48424876111143245,
            "bin_end": 0.48542160775920246,
            "count": 0
           },
           {
            "bin_start": 0.48542160775920246,
            "bin_end": 0.48659445440697247,
            "count": 0
           },
           {
            "bin_start": 0.48659445440697247,
            "bin_end": 0.4877673010547425,
            "count": 0
           },
           {
            "bin_start": 0.4877673010547425,
            "bin_end": 0.4889401477025125,
            "count": 0
           },
           {
            "bin_start": 0.4889401477025125,
            "bin_end": 0.4901129943502825,
            "count": 1
           }
          ]
         }
        },
        {
         "name": "EmployeeNumber",
         "dtype": "float64",
         "stats": {
          "unique_count": 2,
          "nan_count": 0,
          "min": "0.4954460703496779",
          "max": "0.498926663056973",
          "histogram": [
           {
            "bin_start": 0.4954460703496779,
            "bin_end": 0.4957941296204074,
            "count": 1
           },
           {
            "bin_start": 0.4957941296204074,
            "bin_end": 0.4961421888911369,
            "count": 0
           },
           {
            "bin_start": 0.4961421888911369,
            "bin_end": 0.49649024816186643,
            "count": 0
           },
           {
            "bin_start": 0.49649024816186643,
            "bin_end": 0.49683830743259594,
            "count": 0
           },
           {
            "bin_start": 0.49683830743259594,
            "bin_end": 0.49718636670332544,
            "count": 0
           },
           {
            "bin_start": 0.49718636670332544,
            "bin_end": 0.49753442597405495,
            "count": 0
           },
           {
            "bin_start": 0.49753442597405495,
            "bin_end": 0.49788248524478446,
            "count": 0
           },
           {
            "bin_start": 0.49788248524478446,
            "bin_end": 0.49823054451551396,
            "count": 0
           },
           {
            "bin_start": 0.49823054451551396,
            "bin_end": 0.49857860378624347,
            "count": 0
           },
           {
            "bin_start": 0.49857860378624347,
            "bin_end": 0.498926663056973,
            "count": 1
           }
          ]
         }
        },
        {
         "name": "EnvironmentSatisfaction",
         "dtype": "float64",
         "stats": {
          "unique_count": 2,
          "nan_count": 0,
          "min": "0.5781544256120528",
          "max": "0.5953735305271142",
          "histogram": [
           {
            "bin_start": 0.5781544256120528,
            "bin_end": 0.5798763361035589,
            "count": 1
           },
           {
            "bin_start": 0.5798763361035589,
            "bin_end": 0.5815982465950651,
            "count": 0
           },
           {
            "bin_start": 0.5815982465950651,
            "bin_end": 0.5833201570865711,
            "count": 0
           },
           {
            "bin_start": 0.5833201570865711,
            "bin_end": 0.5850420675780773,
            "count": 0
           },
           {
            "bin_start": 0.5850420675780773,
            "bin_end": 0.5867639780695835,
            "count": 0
           },
           {
            "bin_start": 0.5867639780695835,
            "bin_end": 0.5884858885610896,
            "count": 0
           },
           {
            "bin_start": 0.5884858885610896,
            "bin_end": 0.5902077990525958,
            "count": 0
           },
           {
            "bin_start": 0.5902077990525958,
            "bin_end": 0.5919297095441018,
            "count": 0
           },
           {
            "bin_start": 0.5919297095441018,
            "bin_end": 0.593651620035608,
            "count": 0
           },
           {
            "bin_start": 0.593651620035608,
            "bin_end": 0.5953735305271142,
            "count": 1
           }
          ]
         }
        },
        {
         "name": "Gender",
         "dtype": "float64",
         "stats": {
          "unique_count": 2,
          "nan_count": 0,
          "min": "0.5734463276836158",
          "max": "0.6018202502844141",
          "histogram": [
           {
            "bin_start": 0.5734463276836158,
            "bin_end": 0.5762837199436956,
            "count": 1
           },
           {
            "bin_start": 0.5762837199436956,
            "bin_end": 0.5791211122037755,
            "count": 0
           },
           {
            "bin_start": 0.5791211122037755,
            "bin_end": 0.5819585044638553,
            "count": 0
           },
           {
            "bin_start": 0.5819585044638553,
            "bin_end": 0.5847958967239352,
            "count": 0
           },
           {
            "bin_start": 0.5847958967239352,
            "bin_end": 0.587633288984015,
            "count": 0
           },
           {
            "bin_start": 0.587633288984015,
            "bin_end": 0.5904706812440947,
            "count": 0
           },
           {
            "bin_start": 0.5904706812440947,
            "bin_end": 0.5933080735041746,
            "count": 0
           },
           {
            "bin_start": 0.5933080735041746,
            "bin_end": 0.5961454657642544,
            "count": 0
           },
           {
            "bin_start": 0.5961454657642544,
            "bin_end": 0.5989828580243343,
            "count": 0
           },
           {
            "bin_start": 0.5989828580243343,
            "bin_end": 0.6018202502844141,
            "count": 1
           }
          ]
         }
        },
        {
         "name": "HourlyRate",
         "dtype": "float64",
         "stats": {
          "unique_count": 2,
          "nan_count": 0,
          "min": "0.5127118644067796",
          "max": "0.5139606695920689",
          "histogram": [
           {
            "bin_start": 0.5127118644067796,
            "bin_end": 0.5128367449253085,
            "count": 1
           },
           {
            "bin_start": 0.5128367449253085,
            "bin_end": 0.5129616254438375,
            "count": 0
           },
           {
            "bin_start": 0.5129616254438375,
            "bin_end": 0.5130865059623664,
            "count": 0
           },
           {
            "bin_start": 0.5130865059623664,
            "bin_end": 0.5132113864808954,
            "count": 0
           },
           {
            "bin_start": 0.5132113864808954,
            "bin_end": 0.5133362669994243,
            "count": 0
           },
           {
            "bin_start": 0.5133362669994243,
            "bin_end": 0.5134611475179531,
            "count": 0
           },
           {
            "bin_start": 0.5134611475179531,
            "bin_end": 0.5135860280364821,
            "count": 0
           },
           {
            "bin_start": 0.5135860280364821,
            "bin_end": 0.513710908555011,
            "count": 0
           },
           {
            "bin_start": 0.513710908555011,
            "bin_end": 0.51383578907354,
            "count": 0
           },
           {
            "bin_start": 0.51383578907354,
            "bin_end": 0.5139606695920689,
            "count": 1
           }
          ]
         }
        },
        {
         "name": "JobInvolvement",
         "dtype": "float64",
         "stats": {
          "unique_count": 2,
          "nan_count": 0,
          "min": "0.5875706214689266",
          "max": "0.5912021236253319",
          "histogram": [
           {
            "bin_start": 0.5875706214689266,
            "bin_end": 0.5879337716845671,
            "count": 1
           },
           {
            "bin_start": 0.5879337716845671,
            "bin_end": 0.5882969219002077,
            "count": 0
           },
           {
            "bin_start": 0.5882969219002077,
            "bin_end": 0.5886600721158481,
            "count": 0
           },
           {
            "bin_start": 0.5886600721158481,
            "bin_end": 0.5890232223314887,
            "count": 0
           },
           {
            "bin_start": 0.5890232223314887,
            "bin_end": 0.5893863725471292,
            "count": 0
           },
           {
            "bin_start": 0.5893863725471292,
            "bin_end": 0.5897495227627697,
            "count": 0
           },
           {
            "bin_start": 0.5897495227627697,
            "bin_end": 0.5901126729784103,
            "count": 0
           },
           {
            "bin_start": 0.5901126729784103,
            "bin_end": 0.5904758231940508,
            "count": 0
           },
           {
            "bin_start": 0.5904758231940508,
            "bin_end": 0.5908389734096914,
            "count": 0
           },
           {
            "bin_start": 0.5908389734096914,
            "bin_end": 0.5912021236253319,
            "count": 1
           }
          ]
         }
        },
        {
         "name": "JobLevel",
         "dtype": "float64",
         "stats": {
          "unique_count": 2,
          "nan_count": 0,
          "min": "0.2684869169510808",
          "max": "0.3312146892655367",
          "histogram": [
           {
            "bin_start": 0.2684869169510808,
            "bin_end": 0.2747596941825264,
            "count": 1
           },
           {
            "bin_start": 0.2747596941825264,
            "bin_end": 0.281032471413972,
            "count": 0
           },
           {
            "bin_start": 0.281032471413972,
            "bin_end": 0.28730524864541757,
            "count": 0
           },
           {
            "bin_start": 0.28730524864541757,
            "bin_end": 0.29357802587686316,
            "count": 0
           },
           {
            "bin_start": 0.29357802587686316,
            "bin_end": 0.29985080310830875,
            "count": 0
           },
           {
            "bin_start": 0.29985080310830875,
            "bin_end": 0.30612358033975434,
            "count": 0
           },
           {
            "bin_start": 0.30612358033975434,
            "bin_end": 0.31239635757119993,
            "count": 0
           },
           {
            "bin_start": 0.31239635757119993,
            "bin_end": 0.3186691348026455,
            "count": 0
           },
           {
            "bin_start": 0.3186691348026455,
            "bin_end": 0.3249419120340911,
            "count": 0
           },
           {
            "bin_start": 0.3249419120340911,
            "bin_end": 0.3312146892655367,
            "count": 1
           }
          ]
         }
        },
        {
         "name": "JobSatisfaction",
         "dtype": "float64",
         "stats": {
          "unique_count": 2,
          "nan_count": 0,
          "min": "0.5885475919605613",
          "max": "0.603578154425612",
          "histogram": [
           {
            "bin_start": 0.5885475919605613,
            "bin_end": 0.5900506482070663,
            "count": 1
           },
           {
            "bin_start": 0.5900506482070663,
            "bin_end": 0.5915537044535715,
            "count": 0
           },
           {
            "bin_start": 0.5915537044535715,
            "bin_end": 0.5930567607000765,
            "count": 0
           },
           {
            "bin_start": 0.5930567607000765,
            "bin_end": 0.5945598169465816,
            "count": 0
           },
           {
            "bin_start": 0.5945598169465816,
            "bin_end": 0.5960628731930866,
            "count": 0
           },
           {
            "bin_start": 0.5960628731930866,
            "bin_end": 0.5975659294395917,
            "count": 0
           },
           {
            "bin_start": 0.5975659294395917,
            "bin_end": 0.5990689856860968,
            "count": 0
           },
           {
            "bin_start": 0.5990689856860968,
            "bin_end": 0.6005720419326018,
            "count": 0
           },
           {
            "bin_start": 0.6005720419326018,
            "bin_end": 0.602075098179107,
            "count": 0
           },
           {
            "bin_start": 0.602075098179107,
            "bin_end": 0.603578154425612,
            "count": 1
           }
          ]
         }
        },
        {
         "name": "MonthlyIncome",
         "dtype": "float64",
         "stats": {
          "unique_count": 2,
          "nan_count": 0,
          "min": "0.29664601497229826",
          "max": "0.3262212430332674",
          "histogram": [
           {
            "bin_start": 0.29664601497229826,
            "bin_end": 0.29960353777839516,
            "count": 1
           },
           {
            "bin_start": 0.29960353777839516,
            "bin_end": 0.30256106058449206,
            "count": 0
           },
           {
            "bin_start": 0.30256106058449206,
            "bin_end": 0.305518583390589,
            "count": 0
           },
           {
            "bin_start": 0.305518583390589,
            "bin_end": 0.3084761061966859,
            "count": 0
           },
           {
            "bin_start": 0.3084761061966859,
            "bin_end": 0.3114336290027828,
            "count": 0
           },
           {
            "bin_start": 0.3114336290027828,
            "bin_end": 0.3143911518088797,
            "count": 0
           },
           {
            "bin_start": 0.3143911518088797,
            "bin_end": 0.3173486746149766,
            "count": 0
           },
           {
            "bin_start": 0.3173486746149766,
            "bin_end": 0.3203061974210736,
            "count": 0
           },
           {
            "bin_start": 0.3203061974210736,
            "bin_end": 0.3232637202271705,
            "count": 0
           },
           {
            "bin_start": 0.3232637202271705,
            "bin_end": 0.3262212430332674,
            "count": 1
           }
          ]
         }
        },
        {
         "name": "MonthlyRate",
         "dtype": "float64",
         "stats": {
          "unique_count": 2,
          "nan_count": 0,
          "min": "0.4884697258129906",
          "max": "0.48888755493042235",
          "histogram": [
           {
            "bin_start": 0.4884697258129906,
            "bin_end": 0.48851150872473376,
            "count": 1
           },
           {
            "bin_start": 0.48851150872473376,
            "bin_end": 0.4885532916364769,
            "count": 0
           },
           {
            "bin_start": 0.4885532916364769,
            "bin_end": 0.4885950745482201,
            "count": 0
           },
           {
            "bin_start": 0.4885950745482201,
            "bin_end": 0.48863685745996327,
            "count": 0
           },
           {
            "bin_start": 0.48863685745996327,
            "bin_end": 0.4886786403717065,
            "count": 0
           },
           {
            "bin_start": 0.4886786403717065,
            "bin_end": 0.48872042328344967,
            "count": 0
           },
           {
            "bin_start": 0.48872042328344967,
            "bin_end": 0.48876220619519284,
            "count": 0
           },
           {
            "bin_start": 0.48876220619519284,
            "bin_end": 0.488803989106936,
            "count": 0
           },
           {
            "bin_start": 0.488803989106936,
            "bin_end": 0.4888457720186792,
            "count": 0
           },
           {
            "bin_start": 0.4888457720186792,
            "bin_end": 0.48888755493042235,
            "count": 1
           }
          ]
         }
        },
        {
         "name": "NumCompaniesWorked",
         "dtype": "float64",
         "stats": {
          "unique_count": 2,
          "nan_count": 0,
          "min": "0.2746390458254865",
          "max": "0.3017317658955884",
          "histogram": [
           {
            "bin_start": 0.2746390458254865,
            "bin_end": 0.2773483178324967,
            "count": 1
           },
           {
            "bin_start": 0.2773483178324967,
            "bin_end": 0.28005758983950685,
            "count": 0
           },
           {
            "bin_start": 0.28005758983950685,
            "bin_end": 0.28276686184651706,
            "count": 0
           },
           {
            "bin_start": 0.28276686184651706,
            "bin_end": 0.28547613385352727,
            "count": 0
           },
           {
            "bin_start": 0.28547613385352727,
            "bin_end": 0.2881854058605374,
            "count": 0
           },
           {
            "bin_start": 0.2881854058605374,
            "bin_end": 0.29089467786754764,
            "count": 0
           },
           {
            "bin_start": 0.29089467786754764,
            "bin_end": 0.29360394987455785,
            "count": 0
           },
           {
            "bin_start": 0.29360394987455785,
            "bin_end": 0.29631322188156806,
            "count": 0
           },
           {
            "bin_start": 0.29631322188156806,
            "bin_end": 0.2990224938885782,
            "count": 0
           },
           {
            "bin_start": 0.2990224938885782,
            "bin_end": 0.3017317658955884,
            "count": 1
           }
          ]
         }
        },
        {
         "name": "OverTime",
         "dtype": "float64",
         "stats": {
          "unique_count": 2,
          "nan_count": 0,
          "min": "0.22598870056497175",
          "max": "0.23777019340159272",
          "histogram": [
           {
            "bin_start": 0.22598870056497175,
            "bin_end": 0.22716684984863383,
            "count": 1
           },
           {
            "bin_start": 0.22716684984863383,
            "bin_end": 0.22834499913229594,
            "count": 0
           },
           {
            "bin_start": 0.22834499913229594,
            "bin_end": 0.22952314841595806,
            "count": 0
           },
           {
            "bin_start": 0.22952314841595806,
            "bin_end": 0.23070129769962014,
            "count": 0
           },
           {
            "bin_start": 0.23070129769962014,
            "bin_end": 0.23187944698328222,
            "count": 0
           },
           {
            "bin_start": 0.23187944698328222,
            "bin_end": 0.23305759626694433,
            "count": 0
           },
           {
            "bin_start": 0.23305759626694433,
            "bin_end": 0.23423574555060644,
            "count": 0
           },
           {
            "bin_start": 0.23423574555060644,
            "bin_end": 0.23541389483426853,
            "count": 0
           },
           {
            "bin_start": 0.23541389483426853,
            "bin_end": 0.2365920441179306,
            "count": 0
           },
           {
            "bin_start": 0.2365920441179306,
            "bin_end": 0.23777019340159272,
            "count": 1
           }
          ]
         }
        },
        {
         "name": "PercentSalaryHike",
         "dtype": "float64",
         "stats": {
          "unique_count": 2,
          "nan_count": 0,
          "min": "0.2951977401129943",
          "max": "0.30505444498618556",
          "histogram": [
           {
            "bin_start": 0.2951977401129943,
            "bin_end": 0.29618341060031345,
            "count": 1
           },
           {
            "bin_start": 0.29618341060031345,
            "bin_end": 0.29716908108763257,
            "count": 0
           },
           {
            "bin_start": 0.29716908108763257,
            "bin_end": 0.2981547515749517,
            "count": 0
           },
           {
            "bin_start": 0.2981547515749517,
            "bin_end": 0.2991404220622708,
            "count": 0
           },
           {
            "bin_start": 0.2991404220622708,
            "bin_end": 0.30012609254958994,
            "count": 0
           },
           {
            "bin_start": 0.30012609254958994,
            "bin_end": 0.30111176303690906,
            "count": 0
           },
           {
            "bin_start": 0.30111176303690906,
            "bin_end": 0.3020974335242282,
            "count": 0
           },
           {
            "bin_start": 0.3020974335242282,
            "bin_end": 0.3030831040115473,
            "count": 0
           },
           {
            "bin_start": 0.3030831040115473,
            "bin_end": 0.30406877449886643,
            "count": 0
           },
           {
            "bin_start": 0.30406877449886643,
            "bin_end": 0.30505444498618556,
            "count": 1
           }
          ]
         }
        },
        {
         "name": "PerformanceRating",
         "dtype": "float64",
         "stats": {
          "unique_count": 2,
          "nan_count": 0,
          "min": "0.1440677966101695",
          "max": "0.15699658703071673",
          "histogram": [
           {
            "bin_start": 0.1440677966101695,
            "bin_end": 0.1453606756522242,
            "count": 1
           },
           {
            "bin_start": 0.1453606756522242,
            "bin_end": 0.14665355469427893,
            "count": 0
           },
           {
            "bin_start": 0.14665355469427893,
            "bin_end": 0.14794643373633368,
            "count": 0
           },
           {
            "bin_start": 0.14794643373633368,
            "bin_end": 0.1492393127783884,
            "count": 0
           },
           {
            "bin_start": 0.1492393127783884,
            "bin_end": 0.1505321918204431,
            "count": 0
           },
           {
            "bin_start": 0.1505321918204431,
            "bin_end": 0.15182507086249783,
            "count": 0
           },
           {
            "bin_start": 0.15182507086249783,
            "bin_end": 0.15311794990455255,
            "count": 0
           },
           {
            "bin_start": 0.15311794990455255,
            "bin_end": 0.1544108289466073,
            "count": 0
           },
           {
            "bin_start": 0.1544108289466073,
            "bin_end": 0.155703707988662,
            "count": 0
           },
           {
            "bin_start": 0.155703707988662,
            "bin_end": 0.15699658703071673,
            "count": 1
           }
          ]
         }
        },
        {
         "name": "RelationshipSatisfaction",
         "dtype": "float64",
         "stats": {
          "unique_count": 2,
          "nan_count": 0,
          "min": "0.568738229755179",
          "max": "0.5817216533940084",
          "histogram": [
           {
            "bin_start": 0.568738229755179,
            "bin_end": 0.5700365721190619,
            "count": 1
           },
           {
            "bin_start": 0.5700365721190619,
            "bin_end": 0.5713349144829448,
            "count": 0
           },
           {
            "bin_start": 0.5713349144829448,
            "bin_end": 0.5726332568468278,
            "count": 0
           },
           {
            "bin_start": 0.5726332568468278,
            "bin_end": 0.5739315992107107,
            "count": 0
           },
           {
            "bin_start": 0.5739315992107107,
            "bin_end": 0.5752299415745936,
            "count": 0
           },
           {
            "bin_start": 0.5752299415745936,
            "bin_end": 0.5765282839384767,
            "count": 0
           },
           {
            "bin_start": 0.5765282839384767,
            "bin_end": 0.5778266263023596,
            "count": 0
           },
           {
            "bin_start": 0.5778266263023596,
            "bin_end": 0.5791249686662425,
            "count": 0
           },
           {
            "bin_start": 0.5791249686662425,
            "bin_end": 0.5804233110301255,
            "count": 0
           },
           {
            "bin_start": 0.5804233110301255,
            "bin_end": 0.5817216533940084,
            "count": 1
           }
          ]
         }
        },
        {
         "name": "StockOptionLevel",
         "dtype": "float64",
         "stats": {
          "unique_count": 2,
          "nan_count": 0,
          "min": "0.2815442561205273",
          "max": "0.2817595752749336",
          "histogram": [
           {
            "bin_start": 0.2815442561205273,
            "bin_end": 0.28156578803596793,
            "count": 1
           },
           {
            "bin_start": 0.28156578803596793,
            "bin_end": 0.28158731995140857,
            "count": 0
           },
           {
            "bin_start": 0.28158731995140857,
            "bin_end": 0.2816088518668492,
            "count": 0
           },
           {
            "bin_start": 0.2816088518668492,
            "bin_end": 0.28163038378228983,
            "count": 0
           },
           {
            "bin_start": 0.28163038378228983,
            "bin_end": 0.28165191569773046,
            "count": 0
           },
           {
            "bin_start": 0.28165191569773046,
            "bin_end": 0.2816734476131711,
            "count": 0
           },
           {
            "bin_start": 0.2816734476131711,
            "bin_end": 0.2816949795286117,
            "count": 0
           },
           {
            "bin_start": 0.2816949795286117,
            "bin_end": 0.28171651144405235,
            "count": 0
           },
           {
            "bin_start": 0.28171651144405235,
            "bin_end": 0.281738043359493,
            "count": 0
           },
           {
            "bin_start": 0.281738043359493,
            "bin_end": 0.2817595752749336,
            "count": 1
           }
          ]
         }
        },
        {
         "name": "TotalWorkingYears",
         "dtype": "float64",
         "stats": {
          "unique_count": 2,
          "nan_count": 0,
          "min": "0.30828129646149266",
          "max": "0.31375366744506317",
          "histogram": [
           {
            "bin_start": 0.30828129646149266,
            "bin_end": 0.30882853355984974,
            "count": 1
           },
           {
            "bin_start": 0.30882853355984974,
            "bin_end": 0.30937577065820676,
            "count": 0
           },
           {
            "bin_start": 0.30937577065820676,
            "bin_end": 0.3099230077565638,
            "count": 0
           },
           {
            "bin_start": 0.3099230077565638,
            "bin_end": 0.31047024485492086,
            "count": 0
           },
           {
            "bin_start": 0.31047024485492086,
            "bin_end": 0.31101748195327794,
            "count": 0
           },
           {
            "bin_start": 0.31101748195327794,
            "bin_end": 0.31156471905163496,
            "count": 0
           },
           {
            "bin_start": 0.31156471905163496,
            "bin_end": 0.312111956149992,
            "count": 0
           },
           {
            "bin_start": 0.312111956149992,
            "bin_end": 0.31265919324834907,
            "count": 0
           },
           {
            "bin_start": 0.31265919324834907,
            "bin_end": 0.31320643034670614,
            "count": 0
           },
           {
            "bin_start": 0.31320643034670614,
            "bin_end": 0.31375366744506317,
            "count": 1
           }
          ]
         }
        },
        {
         "name": "TrainingTimesLastYear",
         "dtype": "float64",
         "stats": {
          "unique_count": 2,
          "nan_count": 0,
          "min": "0.46947288585513836",
          "max": "0.4788135593220339",
          "histogram": [
           {
            "bin_start": 0.46947288585513836,
            "bin_end": 0.4704069532018279,
            "count": 1
           },
           {
            "bin_start": 0.4704069532018279,
            "bin_end": 0.47134102054851745,
            "count": 0
           },
           {
            "bin_start": 0.47134102054851745,
            "bin_end": 0.472275087895207,
            "count": 0
           },
           {
            "bin_start": 0.472275087895207,
            "bin_end": 0.47320915524189655,
            "count": 0
           },
           {
            "bin_start": 0.47320915524189655,
            "bin_end": 0.4741432225885861,
            "count": 0
           },
           {
            "bin_start": 0.4741432225885861,
            "bin_end": 0.4750772899352757,
            "count": 0
           },
           {
            "bin_start": 0.4750772899352757,
            "bin_end": 0.47601135728196525,
            "count": 0
           },
           {
            "bin_start": 0.47601135728196525,
            "bin_end": 0.4769454246286548,
            "count": 0
           },
           {
            "bin_start": 0.4769454246286548,
            "bin_end": 0.47787949197534435,
            "count": 0
           },
           {
            "bin_start": 0.47787949197534435,
            "bin_end": 0.4788135593220339,
            "count": 1
           }
          ]
         }
        },
        {
         "name": "WorkLifeBalance",
         "dtype": "float64",
         "stats": {
          "unique_count": 2,
          "nan_count": 0,
          "min": "0.5862722791050436",
          "max": "0.6120527306967986",
          "histogram": [
           {
            "bin_start": 0.5862722791050436,
            "bin_end": 0.5888503242642191,
            "count": 1
           },
           {
            "bin_start": 0.5888503242642191,
            "bin_end": 0.5914283694233946,
            "count": 0
           },
           {
            "bin_start": 0.5914283694233946,
            "bin_end": 0.5940064145825701,
            "count": 0
           },
           {
            "bin_start": 0.5940064145825701,
            "bin_end": 0.5965844597417456,
            "count": 0
           },
           {
            "bin_start": 0.5965844597417456,
            "bin_end": 0.599162504900921,
            "count": 0
           },
           {
            "bin_start": 0.599162504900921,
            "bin_end": 0.6017405500600966,
            "count": 0
           },
           {
            "bin_start": 0.6017405500600966,
            "bin_end": 0.6043185952192721,
            "count": 0
           },
           {
            "bin_start": 0.6043185952192721,
            "bin_end": 0.6068966403784476,
            "count": 0
           },
           {
            "bin_start": 0.6068966403784476,
            "bin_end": 0.6094746855376231,
            "count": 0
           },
           {
            "bin_start": 0.6094746855376231,
            "bin_end": 0.6120527306967986,
            "count": 1
           }
          ]
         }
        },
        {
         "name": "YearsAtCompany",
         "dtype": "float64",
         "stats": {
          "unique_count": 2,
          "nan_count": 0,
          "min": "0.19506195615410635",
          "max": "0.2093449381584975",
          "histogram": [
           {
            "bin_start": 0.19506195615410635,
            "bin_end": 0.19649025435454545,
            "count": 1
           },
           {
            "bin_start": 0.19649025435454545,
            "bin_end": 0.19791855255498458,
            "count": 0
           },
           {
            "bin_start": 0.19791855255498458,
            "bin_end": 0.1993468507554237,
            "count": 0
           },
           {
            "bin_start": 0.1993468507554237,
            "bin_end": 0.20077514895586282,
            "count": 0
           },
           {
            "bin_start": 0.20077514895586282,
            "bin_end": 0.20220344715630192,
            "count": 0
           },
           {
            "bin_start": 0.20220344715630192,
            "bin_end": 0.20363174535674103,
            "count": 0
           },
           {
            "bin_start": 0.20363174535674103,
            "bin_end": 0.20506004355718016,
            "count": 0
           },
           {
            "bin_start": 0.20506004355718016,
            "bin_end": 0.20648834175761926,
            "count": 0
           },
           {
            "bin_start": 0.20648834175761926,
            "bin_end": 0.2079166399580584,
            "count": 0
           },
           {
            "bin_start": 0.2079166399580584,
            "bin_end": 0.2093449381584975,
            "count": 1
           }
          ]
         }
        },
        {
         "name": "YearsInCurrentRole",
         "dtype": "float64",
         "stats": {
          "unique_count": 2,
          "nan_count": 0,
          "min": "0.24219441284287702",
          "max": "0.26632140615191463",
          "histogram": [
           {
            "bin_start": 0.24219441284287702,
            "bin_end": 0.24460711217378078,
            "count": 1
           },
           {
            "bin_start": 0.24460711217378078,
            "bin_end": 0.24701981150468455,
            "count": 0
           },
           {
            "bin_start": 0.24701981150468455,
            "bin_end": 0.2494325108355883,
            "count": 0
           },
           {
            "bin_start": 0.2494325108355883,
            "bin_end": 0.2518452101664921,
            "count": 0
           },
           {
            "bin_start": 0.2518452101664921,
            "bin_end": 0.2542579094973958,
            "count": 0
           },
           {
            "bin_start": 0.2542579094973958,
            "bin_end": 0.25667060882829956,
            "count": 0
           },
           {
            "bin_start": 0.25667060882829956,
            "bin_end": 0.25908330815920333,
            "count": 0
           },
           {
            "bin_start": 0.25908330815920333,
            "bin_end": 0.2614960074901071,
            "count": 0
           },
           {
            "bin_start": 0.2614960074901071,
            "bin_end": 0.26390870682101086,
            "count": 0
           },
           {
            "bin_start": 0.26390870682101086,
            "bin_end": 0.26632140615191463,
            "count": 1
           }
          ]
         }
        },
        {
         "name": "YearsSinceLastPromotion",
         "dtype": "float64",
         "stats": {
          "unique_count": 2,
          "nan_count": 0,
          "min": "0.1446340538490709",
          "max": "0.15969868173258003",
          "histogram": [
           {
            "bin_start": 0.1446340538490709,
            "bin_end": 0.14614051663742184,
            "count": 1
           },
           {
            "bin_start": 0.14614051663742184,
            "bin_end": 0.14764697942577273,
            "count": 0
           },
           {
            "bin_start": 0.14764697942577273,
            "bin_end": 0.14915344221412363,
            "count": 0
           },
           {
            "bin_start": 0.14915344221412363,
            "bin_end": 0.15065990500247456,
            "count": 0
           },
           {
            "bin_start": 0.15065990500247456,
            "bin_end": 0.15216636779082549,
            "count": 0
           },
           {
            "bin_start": 0.15216636779082549,
            "bin_end": 0.15367283057917638,
            "count": 0
           },
           {
            "bin_start": 0.15367283057917638,
            "bin_end": 0.15517929336752728,
            "count": 0
           },
           {
            "bin_start": 0.15517929336752728,
            "bin_end": 0.1566857561558782,
            "count": 0
           },
           {
            "bin_start": 0.1566857561558782,
            "bin_end": 0.15819221894422913,
            "count": 0
           },
           {
            "bin_start": 0.15819221894422913,
            "bin_end": 0.15969868173258003,
            "count": 1
           }
          ]
         }
        },
        {
         "name": "YearsWithCurrManager",
         "dtype": "float64",
         "stats": {
          "unique_count": 2,
          "nan_count": 0,
          "min": "0.251555912467376",
          "max": "0.27018943170488535",
          "histogram": [
           {
            "bin_start": 0.251555912467376,
            "bin_end": 0.25341926439112694,
            "count": 1
           },
           {
            "bin_start": 0.25341926439112694,
            "bin_end": 0.25528261631487786,
            "count": 0
           },
           {
            "bin_start": 0.25528261631487786,
            "bin_end": 0.25714596823862884,
            "count": 0
           },
           {
            "bin_start": 0.25714596823862884,
            "bin_end": 0.25900932016237976,
            "count": 0
           },
           {
            "bin_start": 0.25900932016237976,
            "bin_end": 0.2608726720861307,
            "count": 0
           },
           {
            "bin_start": 0.2608726720861307,
            "bin_end": 0.2627360240098816,
            "count": 0
           },
           {
            "bin_start": 0.2627360240098816,
            "bin_end": 0.26459937593363253,
            "count": 0
           },
           {
            "bin_start": 0.26459937593363253,
            "bin_end": 0.2664627278573835,
            "count": 0
           },
           {
            "bin_start": 0.2664627278573835,
            "bin_end": 0.26832607978113443,
            "count": 0
           },
           {
            "bin_start": 0.26832607978113443,
            "bin_end": 0.27018943170488535,
            "count": 1
           }
          ]
         }
        },
        {
         "name": "Department_Human Resources",
         "dtype": "float64",
         "stats": {
          "unique_count": 2,
          "nan_count": 0,
          "min": "0.0",
          "max": "0.05802047781569966",
          "histogram": [
           {
            "bin_start": 0,
            "bin_end": 0.005802047781569966,
            "count": 1
           },
           {
            "bin_start": 0.005802047781569966,
            "bin_end": 0.011604095563139932,
            "count": 0
           },
           {
            "bin_start": 0.011604095563139932,
            "bin_end": 0.0174061433447099,
            "count": 0
           },
           {
            "bin_start": 0.0174061433447099,
            "bin_end": 0.023208191126279865,
            "count": 0
           },
           {
            "bin_start": 0.023208191126279865,
            "bin_end": 0.02901023890784983,
            "count": 0
           },
           {
            "bin_start": 0.02901023890784983,
            "bin_end": 0.0348122866894198,
            "count": 0
           },
           {
            "bin_start": 0.0348122866894198,
            "bin_end": 0.04061433447098976,
            "count": 0
           },
           {
            "bin_start": 0.04061433447098976,
            "bin_end": 0.04641638225255973,
            "count": 0
           },
           {
            "bin_start": 0.04641638225255973,
            "bin_end": 0.052218430034129695,
            "count": 0
           },
           {
            "bin_start": 0.052218430034129695,
            "bin_end": 0.05802047781569966,
            "count": 1
           }
          ]
         }
        },
        {
         "name": "Department_Research & Development",
         "dtype": "float64",
         "stats": {
          "unique_count": 2,
          "nan_count": 0,
          "min": "0.0",
          "max": "0.9419795221843004",
          "histogram": [
           {
            "bin_start": 0,
            "bin_end": 0.09419795221843004,
            "count": 1
           },
           {
            "bin_start": 0.09419795221843004,
            "bin_end": 0.18839590443686008,
            "count": 0
           },
           {
            "bin_start": 0.18839590443686008,
            "bin_end": 0.28259385665529013,
            "count": 0
           },
           {
            "bin_start": 0.28259385665529013,
            "bin_end": 0.37679180887372016,
            "count": 0
           },
           {
            "bin_start": 0.37679180887372016,
            "bin_end": 0.4709897610921502,
            "count": 0
           },
           {
            "bin_start": 0.4709897610921502,
            "bin_end": 0.5651877133105803,
            "count": 0
           },
           {
            "bin_start": 0.5651877133105803,
            "bin_end": 0.6593856655290102,
            "count": 0
           },
           {
            "bin_start": 0.6593856655290102,
            "bin_end": 0.7535836177474403,
            "count": 0
           },
           {
            "bin_start": 0.7535836177474403,
            "bin_end": 0.8477815699658704,
            "count": 0
           },
           {
            "bin_start": 0.8477815699658704,
            "bin_end": 0.9419795221843004,
            "count": 1
           }
          ]
         }
        },
        {
         "name": "Department_Sales",
         "dtype": "float64",
         "stats": {
          "unique_count": 2,
          "nan_count": 0,
          "min": "0.0",
          "max": "1.0",
          "histogram": [
           {
            "bin_start": 0,
            "bin_end": 0.1,
            "count": 1
           },
           {
            "bin_start": 0.1,
            "bin_end": 0.2,
            "count": 0
           },
           {
            "bin_start": 0.2,
            "bin_end": 0.30000000000000004,
            "count": 0
           },
           {
            "bin_start": 0.30000000000000004,
            "bin_end": 0.4,
            "count": 0
           },
           {
            "bin_start": 0.4,
            "bin_end": 0.5,
            "count": 0
           },
           {
            "bin_start": 0.5,
            "bin_end": 0.6000000000000001,
            "count": 0
           },
           {
            "bin_start": 0.6000000000000001,
            "bin_end": 0.7000000000000001,
            "count": 0
           },
           {
            "bin_start": 0.7000000000000001,
            "bin_end": 0.8,
            "count": 0
           },
           {
            "bin_start": 0.8,
            "bin_end": 0.9,
            "count": 0
           },
           {
            "bin_start": 0.9,
            "bin_end": 1,
            "count": 1
           }
          ]
         }
        },
        {
         "name": "EducationField_Human Resources",
         "dtype": "float64",
         "stats": {
          "unique_count": 2,
          "nan_count": 0,
          "min": "0.0",
          "max": "0.022753128555176336",
          "histogram": [
           {
            "bin_start": 0,
            "bin_end": 0.0022753128555176336,
            "count": 1
           },
           {
            "bin_start": 0.0022753128555176336,
            "bin_end": 0.004550625711035267,
            "count": 0
           },
           {
            "bin_start": 0.004550625711035267,
            "bin_end": 0.0068259385665529,
            "count": 0
           },
           {
            "bin_start": 0.0068259385665529,
            "bin_end": 0.009101251422070534,
            "count": 0
           },
           {
            "bin_start": 0.009101251422070534,
            "bin_end": 0.011376564277588168,
            "count": 0
           },
           {
            "bin_start": 0.011376564277588168,
            "bin_end": 0.0136518771331058,
            "count": 0
           },
           {
            "bin_start": 0.0136518771331058,
            "bin_end": 0.015927189988623434,
            "count": 0
           },
           {
            "bin_start": 0.015927189988623434,
            "bin_end": 0.01820250284414107,
            "count": 0
           },
           {
            "bin_start": 0.01820250284414107,
            "bin_end": 0.020477815699658702,
            "count": 0
           },
           {
            "bin_start": 0.020477815699658702,
            "bin_end": 0.022753128555176336,
            "count": 1
           }
          ]
         }
        },
        {
         "name": "EducationField_Life Sciences",
         "dtype": "float64",
         "stats": {
          "unique_count": 2,
          "nan_count": 0,
          "min": "0.3418079096045198",
          "max": "0.45051194539249145",
          "histogram": [
           {
            "bin_start": 0.3418079096045198,
            "bin_end": 0.35267831318331694,
            "count": 1
           },
           {
            "bin_start": 0.35267831318331694,
            "bin_end": 0.36354871676211414,
            "count": 0
           },
           {
            "bin_start": 0.36354871676211414,
            "bin_end": 0.3744191203409113,
            "count": 0
           },
           {
            "bin_start": 0.3744191203409113,
            "bin_end": 0.38528952391970844,
            "count": 0
           },
           {
            "bin_start": 0.38528952391970844,
            "bin_end": 0.3961599274985056,
            "count": 0
           },
           {
            "bin_start": 0.3961599274985056,
            "bin_end": 0.4070303310773028,
            "count": 0
           },
           {
            "bin_start": 0.4070303310773028,
            "bin_end": 0.41790073465609995,
            "count": 0
           },
           {
            "bin_start": 0.41790073465609995,
            "bin_end": 0.4287711382348971,
            "count": 0
           },
           {
            "bin_start": 0.4287711382348971,
            "bin_end": 0.4396415418136943,
            "count": 0
           },
           {
            "bin_start": 0.4396415418136943,
            "bin_end": 0.45051194539249145,
            "count": 1
           }
          ]
         }
        },
        {
         "name": "EducationField_Marketing",
         "dtype": "float64",
         "stats": {
          "unique_count": 2,
          "nan_count": 0,
          "min": "0.0",
          "max": "0.3502824858757062",
          "histogram": [
           {
            "bin_start": 0,
            "bin_end": 0.03502824858757062,
            "count": 1
           },
           {
            "bin_start": 0.03502824858757062,
            "bin_end": 0.07005649717514124,
            "count": 0
           },
           {
            "bin_start": 0.07005649717514124,
            "bin_end": 0.10508474576271187,
            "count": 0
           },
           {
            "bin_start": 0.10508474576271187,
            "bin_end": 0.1401129943502825,
            "count": 0
           },
           {
            "bin_start": 0.1401129943502825,
            "bin_end": 0.1751412429378531,
            "count": 0
           },
           {
            "bin_start": 0.1751412429378531,
            "bin_end": 0.21016949152542375,
            "count": 0
           },
           {
            "bin_start": 0.21016949152542375,
            "bin_end": 0.24519774011299436,
            "count": 0
           },
           {
            "bin_start": 0.24519774011299436,
            "bin_end": 0.280225988700565,
            "count": 0
           },
           {
            "bin_start": 0.280225988700565,
            "bin_end": 0.3152542372881356,
            "count": 0
           },
           {
            "bin_start": 0.3152542372881356,
            "bin_end": 0.3502824858757062,
            "count": 1
           }
          ]
         }
        },
        {
         "name": "EducationField_Medical",
         "dtype": "float64",
         "stats": {
          "unique_count": 2,
          "nan_count": 0,
          "min": "0.20903954802259886",
          "max": "0.3720136518771331",
          "histogram": [
           {
            "bin_start": 0.20903954802259886,
            "bin_end": 0.2253369584080523,
            "count": 1
           },
           {
            "bin_start": 0.2253369584080523,
            "bin_end": 0.2416343687935057,
            "count": 0
           },
           {
            "bin_start": 0.2416343687935057,
            "bin_end": 0.25793177917895915,
            "count": 0
           },
           {
            "bin_start": 0.25793177917895915,
            "bin_end": 0.27422918956441256,
            "count": 0
           },
           {
            "bin_start": 0.27422918956441256,
            "bin_end": 0.29052659994986596,
            "count": 0
           },
           {
            "bin_start": 0.29052659994986596,
            "bin_end": 0.3068240103353194,
            "count": 0
           },
           {
            "bin_start": 0.3068240103353194,
            "bin_end": 0.3231214207207728,
            "count": 0
           },
           {
            "bin_start": 0.3231214207207728,
            "bin_end": 0.3394188311062263,
            "count": 0
           },
           {
            "bin_start": 0.3394188311062263,
            "bin_end": 0.3557162414916797,
            "count": 0
           },
           {
            "bin_start": 0.3557162414916797,
            "bin_end": 0.3720136518771331,
            "count": 1
           }
          ]
         }
        },
        {
         "name": "EducationField_Other",
         "dtype": "float64",
         "stats": {
          "unique_count": 2,
          "nan_count": 0,
          "min": "0.031073446327683617",
          "max": "0.06825938566552901",
          "histogram": [
           {
            "bin_start": 0.031073446327683617,
            "bin_end": 0.034792040261468156,
            "count": 1
           },
           {
            "bin_start": 0.034792040261468156,
            "bin_end": 0.0385106341952527,
            "count": 0
           },
           {
            "bin_start": 0.0385106341952527,
            "bin_end": 0.04222922812903723,
            "count": 0
           },
           {
            "bin_start": 0.04222922812903723,
            "bin_end": 0.045947822062821775,
            "count": 0
           },
           {
            "bin_start": 0.045947822062821775,
            "bin_end": 0.04966641599660632,
            "count": 0
           },
           {
            "bin_start": 0.04966641599660632,
            "bin_end": 0.05338500993039086,
            "count": 0
           },
           {
            "bin_start": 0.05338500993039086,
            "bin_end": 0.057103603864175394,
            "count": 0
           },
           {
            "bin_start": 0.057103603864175394,
            "bin_end": 0.06082219779795993,
            "count": 0
           },
           {
            "bin_start": 0.06082219779795993,
            "bin_end": 0.06454079173174447,
            "count": 0
           },
           {
            "bin_start": 0.06454079173174447,
            "bin_end": 0.06825938566552901,
            "count": 1
           }
          ]
         }
        },
        {
         "name": "EducationField_Technical Degree",
         "dtype": "float64",
         "stats": {
          "unique_count": 2,
          "nan_count": 0,
          "min": "0.06779661016949153",
          "max": "0.08646188850967008",
          "histogram": [
           {
            "bin_start": 0.06779661016949153,
            "bin_end": 0.06966313800350939,
            "count": 1
           },
           {
            "bin_start": 0.06966313800350939,
            "bin_end": 0.07152966583752723,
            "count": 0
           },
           {
            "bin_start": 0.07152966583752723,
            "bin_end": 0.0733961936715451,
            "count": 0
           },
           {
            "bin_start": 0.0733961936715451,
            "bin_end": 0.07526272150556294,
            "count": 0
           },
           {
            "bin_start": 0.07526272150556294,
            "bin_end": 0.0771292493395808,
            "count": 0
           },
           {
            "bin_start": 0.0771292493395808,
            "bin_end": 0.07899577717359865,
            "count": 0
           },
           {
            "bin_start": 0.07899577717359865,
            "bin_end": 0.08086230500761651,
            "count": 0
           },
           {
            "bin_start": 0.08086230500761651,
            "bin_end": 0.08272883284163438,
            "count": 0
           },
           {
            "bin_start": 0.08272883284163438,
            "bin_end": 0.08459536067565222,
            "count": 0
           },
           {
            "bin_start": 0.08459536067565222,
            "bin_end": 0.08646188850967008,
            "count": 1
           }
          ]
         }
        },
        {
         "name": "JobRole_Healthcare Representative",
         "dtype": "float64",
         "stats": {
          "unique_count": 2,
          "nan_count": 0,
          "min": "0.0",
          "max": "0.13879408418657566",
          "histogram": [
           {
            "bin_start": 0,
            "bin_end": 0.013879408418657566,
            "count": 1
           },
           {
            "bin_start": 0.013879408418657566,
            "bin_end": 0.027758816837315133,
            "count": 0
           },
           {
            "bin_start": 0.027758816837315133,
            "bin_end": 0.0416382252559727,
            "count": 0
           },
           {
            "bin_start": 0.0416382252559727,
            "bin_end": 0.055517633674630265,
            "count": 0
           },
           {
            "bin_start": 0.055517633674630265,
            "bin_end": 0.06939704209328783,
            "count": 0
           },
           {
            "bin_start": 0.06939704209328783,
            "bin_end": 0.0832764505119454,
            "count": 0
           },
           {
            "bin_start": 0.0832764505119454,
            "bin_end": 0.09715585893060297,
            "count": 0
           },
           {
            "bin_start": 0.09715585893060297,
            "bin_end": 0.11103526734926053,
            "count": 0
           },
           {
            "bin_start": 0.11103526734926053,
            "bin_end": 0.12491467576791809,
            "count": 0
           },
           {
            "bin_start": 0.12491467576791809,
            "bin_end": 0.13879408418657566,
            "count": 1
           }
          ]
         }
        },
        {
         "name": "JobRole_Human Resources",
         "dtype": "float64",
         "stats": {
          "unique_count": 2,
          "nan_count": 0,
          "min": "0.0",
          "max": "0.04550625711035267",
          "histogram": [
           {
            "bin_start": 0,
            "bin_end": 0.004550625711035267,
            "count": 1
           },
           {
            "bin_start": 0.004550625711035267,
            "bin_end": 0.009101251422070534,
            "count": 0
           },
           {
            "bin_start": 0.009101251422070534,
            "bin_end": 0.0136518771331058,
            "count": 0
           },
           {
            "bin_start": 0.0136518771331058,
            "bin_end": 0.01820250284414107,
            "count": 0
           },
           {
            "bin_start": 0.01820250284414107,
            "bin_end": 0.022753128555176336,
            "count": 0
           },
           {
            "bin_start": 0.022753128555176336,
            "bin_end": 0.0273037542662116,
            "count": 0
           },
           {
            "bin_start": 0.0273037542662116,
            "bin_end": 0.03185437997724687,
            "count": 0
           },
           {
            "bin_start": 0.03185437997724687,
            "bin_end": 0.03640500568828214,
            "count": 0
           },
           {
            "bin_start": 0.03640500568828214,
            "bin_end": 0.040955631399317405,
            "count": 0
           },
           {
            "bin_start": 0.040955631399317405,
            "bin_end": 0.04550625711035267,
            "count": 1
           }
          ]
         }
        },
        {
         "name": "JobRole_Laboratory Technician",
         "dtype": "float64",
         "stats": {
          "unique_count": 2,
          "nan_count": 0,
          "min": "0.0",
          "max": "0.2241183162684869",
          "histogram": [
           {
            "bin_start": 0,
            "bin_end": 0.02241183162684869,
            "count": 1
           },
           {
            "bin_start": 0.02241183162684869,
            "bin_end": 0.04482366325369738,
            "count": 0
           },
           {
            "bin_start": 0.04482366325369738,
            "bin_end": 0.06723549488054607,
            "count": 0
           },
           {
            "bin_start": 0.06723549488054607,
            "bin_end": 0.08964732650739476,
            "count": 0
           },
           {
            "bin_start": 0.08964732650739476,
            "bin_end": 0.11205915813424346,
            "count": 0
           },
           {
            "bin_start": 0.11205915813424346,
            "bin_end": 0.13447098976109215,
            "count": 0
           },
           {
            "bin_start": 0.13447098976109215,
            "bin_end": 0.15688282138794085,
            "count": 0
           },
           {
            "bin_start": 0.15688282138794085,
            "bin_end": 0.17929465301478953,
            "count": 0
           },
           {
            "bin_start": 0.17929465301478953,
            "bin_end": 0.2017064846416382,
            "count": 0
           },
           {
            "bin_start": 0.2017064846416382,
            "bin_end": 0.2241183162684869,
            "count": 1
           }
          ]
         }
        },
        {
         "name": "JobRole_Manager",
         "dtype": "float64",
         "stats": {
          "unique_count": 2,
          "nan_count": 0,
          "min": "0.07053469852104664",
          "max": "0.09887005649717515",
          "histogram": [
           {
            "bin_start": 0.07053469852104664,
            "bin_end": 0.07336823431865949,
            "count": 1
           },
           {
            "bin_start": 0.07336823431865949,
            "bin_end": 0.07620177011627234,
            "count": 0
           },
           {
            "bin_start": 0.07620177011627234,
            "bin_end": 0.07903530591388519,
            "count": 0
           },
           {
            "bin_start": 0.07903530591388519,
            "bin_end": 0.08186884171149804,
            "count": 0
           },
           {
            "bin_start": 0.08186884171149804,
            "bin_end": 0.08470237750911089,
            "count": 0
           },
           {
            "bin_start": 0.08470237750911089,
            "bin_end": 0.08753591330672375,
            "count": 0
           },
           {
            "bin_start": 0.08753591330672375,
            "bin_end": 0.0903694491043366,
            "count": 0
           },
           {
            "bin_start": 0.0903694491043366,
            "bin_end": 0.09320298490194945,
            "count": 0
           },
           {
            "bin_start": 0.09320298490194945,
            "bin_end": 0.0960365206995623,
            "count": 0
           },
           {
            "bin_start": 0.0960365206995623,
            "bin_end": 0.09887005649717515,
            "count": 1
           }
          ]
         }
        },
        {
         "name": "JobRole_Manufacturing Director",
         "dtype": "float64",
         "stats": {
          "unique_count": 2,
          "nan_count": 0,
          "min": "0.0",
          "max": "0.15358361774744028",
          "histogram": [
           {
            "bin_start": 0,
            "bin_end": 0.015358361774744029,
            "count": 1
           },
           {
            "bin_start": 0.015358361774744029,
            "bin_end": 0.030716723549488057,
            "count": 0
           },
           {
            "bin_start": 0.030716723549488057,
            "bin_end": 0.04607508532423209,
            "count": 0
           },
           {
            "bin_start": 0.04607508532423209,
            "bin_end": 0.061433447098976114,
            "count": 0
           },
           {
            "bin_start": 0.061433447098976114,
            "bin_end": 0.07679180887372014,
            "count": 0
           },
           {
            "bin_start": 0.07679180887372014,
            "bin_end": 0.09215017064846417,
            "count": 0
           },
           {
            "bin_start": 0.09215017064846417,
            "bin_end": 0.1075085324232082,
            "count": 0
           },
           {
            "bin_start": 0.1075085324232082,
            "bin_end": 0.12286689419795223,
            "count": 0
           },
           {
            "bin_start": 0.12286689419795223,
            "bin_end": 0.13822525597269625,
            "count": 0
           },
           {
            "bin_start": 0.13822525597269625,
            "bin_end": 0.15358361774744028,
            "count": 1
           }
          ]
         }
        },
        {
         "name": "JobRole_Research Director",
         "dtype": "float64",
         "stats": {
          "unique_count": 2,
          "nan_count": 0,
          "min": "0.0",
          "max": "0.08873720136518772",
          "histogram": [
           {
            "bin_start": 0,
            "bin_end": 0.008873720136518772,
            "count": 1
           },
           {
            "bin_start": 0.008873720136518772,
            "bin_end": 0.017747440273037544,
            "count": 0
           },
           {
            "bin_start": 0.017747440273037544,
            "bin_end": 0.026621160409556317,
            "count": 0
           },
           {
            "bin_start": 0.026621160409556317,
            "bin_end": 0.03549488054607509,
            "count": 0
           },
           {
            "bin_start": 0.03549488054607509,
            "bin_end": 0.04436860068259386,
            "count": 0
           },
           {
            "bin_start": 0.04436860068259386,
            "bin_end": 0.053242320819112635,
            "count": 0
           },
           {
            "bin_start": 0.053242320819112635,
            "bin_end": 0.062116040955631405,
            "count": 0
           },
           {
            "bin_start": 0.062116040955631405,
            "bin_end": 0.07098976109215017,
            "count": 0
           },
           {
            "bin_start": 0.07098976109215017,
            "bin_end": 0.07986348122866894,
            "count": 0
           },
           {
            "bin_start": 0.07986348122866894,
            "bin_end": 0.08873720136518772,
            "count": 1
           }
          ]
         }
        },
        {
         "name": "JobRole_Research Scientist",
         "dtype": "float64",
         "stats": {
          "unique_count": 2,
          "nan_count": 0,
          "min": "0.0",
          "max": "0.2787258248009101",
          "histogram": [
           {
            "bin_start": 0,
            "bin_end": 0.027872582480091012,
            "count": 1
           },
           {
            "bin_start": 0.027872582480091012,
            "bin_end": 0.055745164960182024,
            "count": 0
           },
           {
            "bin_start": 0.055745164960182024,
            "bin_end": 0.08361774744027303,
            "count": 0
           },
           {
            "bin_start": 0.08361774744027303,
            "bin_end": 0.11149032992036405,
            "count": 0
           },
           {
            "bin_start": 0.11149032992036405,
            "bin_end": 0.13936291240045506,
            "count": 0
           },
           {
            "bin_start": 0.13936291240045506,
            "bin_end": 0.16723549488054607,
            "count": 0
           },
           {
            "bin_start": 0.16723549488054607,
            "bin_end": 0.1951080773606371,
            "count": 0
           },
           {
            "bin_start": 0.1951080773606371,
            "bin_end": 0.2229806598407281,
            "count": 0
           },
           {
            "bin_start": 0.2229806598407281,
            "bin_end": 0.2508532423208191,
            "count": 0
           },
           {
            "bin_start": 0.2508532423208191,
            "bin_end": 0.2787258248009101,
            "count": 1
           }
          ]
         }
        },
        {
         "name": "JobRole_Sales Executive",
         "dtype": "float64",
         "stats": {
          "unique_count": 2,
          "nan_count": 0,
          "min": "0.0",
          "max": "0.7598870056497176",
          "histogram": [
           {
            "bin_start": 0,
            "bin_end": 0.07598870056497176,
            "count": 1
           },
           {
            "bin_start": 0.07598870056497176,
            "bin_end": 0.1519774011299435,
            "count": 0
           },
           {
            "bin_start": 0.1519774011299435,
            "bin_end": 0.22796610169491527,
            "count": 0
           },
           {
            "bin_start": 0.22796610169491527,
            "bin_end": 0.303954802259887,
            "count": 0
           },
           {
            "bin_start": 0.303954802259887,
            "bin_end": 0.3799435028248588,
            "count": 0
           },
           {
            "bin_start": 0.3799435028248588,
            "bin_end": 0.45593220338983054,
            "count": 0
           },
           {
            "bin_start": 0.45593220338983054,
            "bin_end": 0.5319209039548023,
            "count": 0
           },
           {
            "bin_start": 0.5319209039548023,
            "bin_end": 0.607909604519774,
            "count": 0
           },
           {
            "bin_start": 0.607909604519774,
            "bin_end": 0.6838983050847458,
            "count": 0
           },
           {
            "bin_start": 0.6838983050847458,
            "bin_end": 0.7598870056497176,
            "count": 1
           }
          ]
         }
        },
        {
         "name": "JobRole_Sales Representative",
         "dtype": "float64",
         "stats": {
          "unique_count": 2,
          "nan_count": 0,
          "min": "0.0",
          "max": "0.14124293785310735",
          "histogram": [
           {
            "bin_start": 0,
            "bin_end": 0.014124293785310734,
            "count": 1
           },
           {
            "bin_start": 0.014124293785310734,
            "bin_end": 0.02824858757062147,
            "count": 0
           },
           {
            "bin_start": 0.02824858757062147,
            "bin_end": 0.0423728813559322,
            "count": 0
           },
           {
            "bin_start": 0.0423728813559322,
            "bin_end": 0.05649717514124294,
            "count": 0
           },
           {
            "bin_start": 0.05649717514124294,
            "bin_end": 0.07062146892655367,
            "count": 0
           },
           {
            "bin_start": 0.07062146892655367,
            "bin_end": 0.0847457627118644,
            "count": 0
           },
           {
            "bin_start": 0.0847457627118644,
            "bin_end": 0.09887005649717515,
            "count": 0
           },
           {
            "bin_start": 0.09887005649717515,
            "bin_end": 0.11299435028248588,
            "count": 0
           },
           {
            "bin_start": 0.11299435028248588,
            "bin_end": 0.1271186440677966,
            "count": 0
           },
           {
            "bin_start": 0.1271186440677966,
            "bin_end": 0.14124293785310735,
            "count": 1
           }
          ]
         }
        },
        {
         "name": "MaritalStatus_Divorced",
         "dtype": "float64",
         "stats": {
          "unique_count": 2,
          "nan_count": 0,
          "min": "0.2175141242937853",
          "max": "0.24687144482366324",
          "histogram": [
           {
            "bin_start": 0.2175141242937853,
            "bin_end": 0.2204498563467731,
            "count": 1
           },
           {
            "bin_start": 0.2204498563467731,
            "bin_end": 0.2233855883997609,
            "count": 0
           },
           {
            "bin_start": 0.2233855883997609,
            "bin_end": 0.2263213204527487,
            "count": 0
           },
           {
            "bin_start": 0.2263213204527487,
            "bin_end": 0.22925705250573647,
            "count": 0
           },
           {
            "bin_start": 0.22925705250573647,
            "bin_end": 0.23219278455872427,
            "count": 0
           },
           {
            "bin_start": 0.23219278455872427,
            "bin_end": 0.23512851661171208,
            "count": 0
           },
           {
            "bin_start": 0.23512851661171208,
            "bin_end": 0.23806424866469986,
            "count": 0
           },
           {
            "bin_start": 0.23806424866469986,
            "bin_end": 0.24099998071768766,
            "count": 0
           },
           {
            "bin_start": 0.24099998071768766,
            "bin_end": 0.24393571277067544,
            "count": 0
           },
           {
            "bin_start": 0.24393571277067544,
            "bin_end": 0.24687144482366324,
            "count": 1
           }
          ]
         }
        },
        {
         "name": "MaritalStatus_Married",
         "dtype": "float64",
         "stats": {
          "unique_count": 2,
          "nan_count": 0,
          "min": "0.46871444823663255",
          "max": "0.5",
          "histogram": [
           {
            "bin_start": 0.46871444823663255,
            "bin_end": 0.4718430034129693,
            "count": 1
           },
           {
            "bin_start": 0.4718430034129693,
            "bin_end": 0.47497155858930606,
            "count": 0
           },
           {
            "bin_start": 0.47497155858930606,
            "bin_end": 0.47810011376564276,
            "count": 0
           },
           {
            "bin_start": 0.47810011376564276,
            "bin_end": 0.4812286689419795,
            "count": 0
           },
           {
            "bin_start": 0.4812286689419795,
            "bin_end": 0.4843572241183163,
            "count": 0
           },
           {
            "bin_start": 0.4843572241183163,
            "bin_end": 0.48748577929465303,
            "count": 0
           },
           {
            "bin_start": 0.48748577929465303,
            "bin_end": 0.4906143344709898,
            "count": 0
           },
           {
            "bin_start": 0.4906143344709898,
            "bin_end": 0.4937428896473265,
            "count": 0
           },
           {
            "bin_start": 0.4937428896473265,
            "bin_end": 0.49687144482366324,
            "count": 0
           },
           {
            "bin_start": 0.49687144482366324,
            "bin_end": 0.5,
            "count": 1
           }
          ]
         }
        },
        {
         "name": "MaritalStatus_Single",
         "dtype": "float64",
         "stats": {
          "unique_count": 2,
          "nan_count": 0,
          "min": "0.2824858757062147",
          "max": "0.2844141069397042",
          "histogram": [
           {
            "bin_start": 0.2824858757062147,
            "bin_end": 0.28267869882956365,
            "count": 1
           },
           {
            "bin_start": 0.28267869882956365,
            "bin_end": 0.2828715219529126,
            "count": 0
           },
           {
            "bin_start": 0.2828715219529126,
            "bin_end": 0.28306434507626155,
            "count": 0
           },
           {
            "bin_start": 0.28306434507626155,
            "bin_end": 0.2832571681996105,
            "count": 0
           },
           {
            "bin_start": 0.2832571681996105,
            "bin_end": 0.28344999132295945,
            "count": 0
           },
           {
            "bin_start": 0.28344999132295945,
            "bin_end": 0.2836428144463084,
            "count": 0
           },
           {
            "bin_start": 0.2836428144463084,
            "bin_end": 0.28383563756965735,
            "count": 0
           },
           {
            "bin_start": 0.28383563756965735,
            "bin_end": 0.2840284606930063,
            "count": 0
           },
           {
            "bin_start": 0.2840284606930063,
            "bin_end": 0.28422128381635525,
            "count": 0
           },
           {
            "bin_start": 0.28422128381635525,
            "bin_end": 0.2844141069397042,
            "count": 1
           }
          ]
         }
        },
        {
         "name": "label",
         "dtype": "int64",
         "stats": {
          "unique_count": 2,
          "nan_count": 0,
          "min": "0",
          "max": "1",
          "histogram": [
           {
            "bin_start": 0,
            "bin_end": 0.1,
            "count": 1
           },
           {
            "bin_start": 0.1,
            "bin_end": 0.2,
            "count": 0
           },
           {
            "bin_start": 0.2,
            "bin_end": 0.30000000000000004,
            "count": 0
           },
           {
            "bin_start": 0.30000000000000004,
            "bin_end": 0.4,
            "count": 0
           },
           {
            "bin_start": 0.4,
            "bin_end": 0.5,
            "count": 0
           },
           {
            "bin_start": 0.5,
            "bin_end": 0.6000000000000001,
            "count": 0
           },
           {
            "bin_start": 0.6000000000000001,
            "bin_end": 0.7000000000000001,
            "count": 0
           },
           {
            "bin_start": 0.7000000000000001,
            "bin_end": 0.8,
            "count": 0
           },
           {
            "bin_start": 0.8,
            "bin_end": 0.9,
            "count": 0
           },
           {
            "bin_start": 0.9,
            "bin_end": 1,
            "count": 1
           }
          ]
         }
        },
        {
         "name": "_deepnote_index_column",
         "dtype": "int64"
        }
       ],
       "rows": [
        {
         "Age": 0.4556093623890234,
         "BusinessTravel": 0.518361581920904,
         "DailyRate": 0.5102398602331873,
         "DistanceFromHome": 0.285411622276029,
         "Education": 0.4901129943502825,
         "EmployeeNumber": 0.498926663056973,
         "EnvironmentSatisfaction": 0.5781544256120528,
         "Gender": 0.5734463276836158,
         "HourlyRate": 0.5127118644067796,
         "JobInvolvement": 0.5875706214689266,
         "JobLevel": 0.3312146892655367,
         "JobSatisfaction": 0.603578154425612,
         "MonthlyIncome": 0.3262212430332674,
         "MonthlyRate": 0.4884697258129906,
         "NumCompaniesWorked": 0.2746390458254865,
         "OverTime": 0.22598870056497175,
         "PercentSalaryHike": 0.2951977401129943,
         "PerformanceRating": 0.1440677966101695,
         "RelationshipSatisfaction": 0.568738229755179,
         "StockOptionLevel": 0.2815442561205273,
         "TotalWorkingYears": 0.30828129646149266,
         "TrainingTimesLastYear": 0.4788135593220339,
         "WorkLifeBalance": 0.6120527306967986,
         "YearsAtCompany": 0.2093449381584975,
         "YearsInCurrentRole": 0.26632140615191463,
         "YearsSinceLastPromotion": 0.15969868173258003,
         "YearsWithCurrManager": 0.27018943170488535,
         "Department_Human Resources": 0,
         "Department_Research & Development": 0,
         "Department_Sales": 1,
         "EducationField_Human Resources": 0,
         "EducationField_Life Sciences": 0.3418079096045198,
         "EducationField_Marketing": 0.3502824858757062,
         "EducationField_Medical": 0.20903954802259886,
         "EducationField_Other": 0.031073446327683617,
         "EducationField_Technical Degree": 0.06779661016949153,
         "JobRole_Healthcare Representative": 0,
         "JobRole_Human Resources": 0,
         "JobRole_Laboratory Technician": 0,
         "JobRole_Manager": 0.09887005649717515,
         "JobRole_Manufacturing Director": 0,
         "JobRole_Research Director": 0,
         "JobRole_Research Scientist": 0,
         "JobRole_Sales Executive": 0.7598870056497176,
         "JobRole_Sales Representative": 0.14124293785310735,
         "MaritalStatus_Divorced": 0.2175141242937853,
         "MaritalStatus_Married": 0.5,
         "MaritalStatus_Single": 0.2824858757062147,
         "label": 0,
         "_deepnote_index_column": 0
        },
        {
         "Age": 0.4698250176065875,
         "BusinessTravel": 0.5324232081911263,
         "DailyRate": 0.5079297991877605,
         "DistanceFromHome": 0.2816105964570128,
         "Education": 0.47838452787258245,
         "EmployeeNumber": 0.4954460703496779,
         "EnvironmentSatisfaction": 0.5953735305271142,
         "Gender": 0.6018202502844141,
         "HourlyRate": 0.5139606695920689,
         "JobInvolvement": 0.5912021236253319,
         "JobLevel": 0.2684869169510808,
         "JobSatisfaction": 0.5885475919605613,
         "MonthlyIncome": 0.29664601497229826,
         "MonthlyRate": 0.48888755493042235,
         "NumCompaniesWorked": 0.3017317658955884,
         "OverTime": 0.23777019340159272,
         "PercentSalaryHike": 0.30505444498618556,
         "PerformanceRating": 0.15699658703071673,
         "RelationshipSatisfaction": 0.5817216533940084,
         "StockOptionLevel": 0.2817595752749336,
         "TotalWorkingYears": 0.31375366744506317,
         "TrainingTimesLastYear": 0.46947288585513836,
         "WorkLifeBalance": 0.5862722791050436,
         "YearsAtCompany": 0.19506195615410635,
         "YearsInCurrentRole": 0.24219441284287702,
         "YearsSinceLastPromotion": 0.1446340538490709,
         "YearsWithCurrManager": 0.251555912467376,
         "Department_Human Resources": 0.05802047781569966,
         "Department_Research & Development": 0.9419795221843004,
         "Department_Sales": 0,
         "EducationField_Human Resources": 0.022753128555176336,
         "EducationField_Life Sciences": 0.45051194539249145,
         "EducationField_Marketing": 0,
         "EducationField_Medical": 0.3720136518771331,
         "EducationField_Other": 0.06825938566552901,
         "EducationField_Technical Degree": 0.08646188850967008,
         "JobRole_Healthcare Representative": 0.13879408418657566,
         "JobRole_Human Resources": 0.04550625711035267,
         "JobRole_Laboratory Technician": 0.2241183162684869,
         "JobRole_Manager": 0.07053469852104664,
         "JobRole_Manufacturing Director": 0.15358361774744028,
         "JobRole_Research Director": 0.08873720136518772,
         "JobRole_Research Scientist": 0.2787258248009101,
         "JobRole_Sales Executive": 0,
         "JobRole_Sales Representative": 0,
         "MaritalStatus_Divorced": 0.24687144482366324,
         "MaritalStatus_Married": 0.46871444823663255,
         "MaritalStatus_Single": 0.2844141069397042,
         "label": 1,
         "_deepnote_index_column": 1
        }
       ]
      },
      "text/plain": "             Age  BusinessTravel  DailyRate  DistanceFromHome  Education  \\\nlabels                                                                     \n0       0.455609        0.518362    0.51024          0.285412   0.490113   \n1       0.469825        0.532423    0.50793          0.281611   0.478385   \n\n        EmployeeNumber  EnvironmentSatisfaction    Gender  HourlyRate  \\\nlabels                                                                  \n0             0.498927                 0.578154  0.573446    0.512712   \n1             0.495446                 0.595374  0.601820    0.513961   \n\n        JobInvolvement  ...  JobRole_Manager  JobRole_Manufacturing Director  \\\nlabels                  ...                                                    \n0             0.587571  ...         0.098870                        0.000000   \n1             0.591202  ...         0.070535                        0.153584   \n\n        JobRole_Research Director  JobRole_Research Scientist  \\\nlabels                                                          \n0                        0.000000                    0.000000   \n1                        0.088737                    0.278726   \n\n        JobRole_Sales Executive  JobRole_Sales Representative  \\\nlabels                                                          \n0                      0.759887                      0.141243   \n1                      0.000000                      0.000000   \n\n        MaritalStatus_Divorced  MaritalStatus_Married  MaritalStatus_Single  \\\nlabels                                                                        \n0                     0.217514               0.500000              0.282486   \n1                     0.246871               0.468714              0.284414   \n\n        label  \nlabels         \n0           0  \n1           1  \n\n[2 rows x 49 columns]",
      "text/html": "<div>\n<style scoped>\n    .dataframe tbody tr th:only-of-type {\n        vertical-align: middle;\n    }\n\n    .dataframe tbody tr th {\n        vertical-align: top;\n    }\n\n    .dataframe thead th {\n        text-align: right;\n    }\n</style>\n<table border=\"1\" class=\"dataframe\">\n  <thead>\n    <tr style=\"text-align: right;\">\n      <th></th>\n      <th>Age</th>\n      <th>BusinessTravel</th>\n      <th>DailyRate</th>\n      <th>DistanceFromHome</th>\n      <th>Education</th>\n      <th>EmployeeNumber</th>\n      <th>EnvironmentSatisfaction</th>\n      <th>Gender</th>\n      <th>HourlyRate</th>\n      <th>JobInvolvement</th>\n      <th>...</th>\n      <th>JobRole_Manager</th>\n      <th>JobRole_Manufacturing Director</th>\n      <th>JobRole_Research Director</th>\n      <th>JobRole_Research Scientist</th>\n      <th>JobRole_Sales Executive</th>\n      <th>JobRole_Sales Representative</th>\n      <th>MaritalStatus_Divorced</th>\n      <th>MaritalStatus_Married</th>\n      <th>MaritalStatus_Single</th>\n      <th>label</th>\n    </tr>\n    <tr>\n      <th>labels</th>\n      <th></th>\n      <th></th>\n      <th></th>\n      <th></th>\n      <th></th>\n      <th></th>\n      <th></th>\n      <th></th>\n      <th></th>\n      <th></th>\n      <th></th>\n      <th></th>\n      <th></th>\n      <th></th>\n      <th></th>\n      <th></th>\n      <th></th>\n      <th></th>\n      <th></th>\n      <th></th>\n      <th></th>\n    </tr>\n  </thead>\n  <tbody>\n    <tr>\n      <th>0</th>\n      <td>0.455609</td>\n      <td>0.518362</td>\n      <td>0.51024</td>\n      <td>0.285412</td>\n      <td>0.490113</td>\n      <td>0.498927</td>\n      <td>0.578154</td>\n      <td>0.573446</td>\n      <td>0.512712</td>\n      <td>0.587571</td>\n      <td>...</td>\n      <td>0.098870</td>\n      <td>0.000000</td>\n      <td>0.000000</td>\n      <td>0.000000</td>\n      <td>0.759887</td>\n      <td>0.141243</td>\n      <td>0.217514</td>\n      <td>0.500000</td>\n      <td>0.282486</td>\n      <td>0</td>\n    </tr>\n    <tr>\n      <th>1</th>\n      <td>0.469825</td>\n      <td>0.532423</td>\n      <td>0.50793</td>\n      <td>0.281611</td>\n      <td>0.478385</td>\n      <td>0.495446</td>\n      <td>0.595374</td>\n      <td>0.601820</td>\n      <td>0.513961</td>\n      <td>0.591202</td>\n      <td>...</td>\n      <td>0.070535</td>\n      <td>0.153584</td>\n      <td>0.088737</td>\n      <td>0.278726</td>\n      <td>0.000000</td>\n      <td>0.000000</td>\n      <td>0.246871</td>\n      <td>0.468714</td>\n      <td>0.284414</td>\n      <td>1</td>\n    </tr>\n  </tbody>\n</table>\n<p>2 rows × 49 columns</p>\n</div>"
     },
     "metadata": {}
    }
   ]
  },
  {
   "cell_type": "code",
   "metadata": {
    "cell_id": "3d856bd3-3156-418c-9369-986b66c740bc",
    "tags": [],
    "deepnote_to_be_reexecuted": false,
    "source_hash": "c5e65054",
    "execution_start": 1646785709605,
    "execution_millis": 4,
    "deepnote_cell_type": "code",
    "deepnote_cell_height": 463.5625,
    "deepnote_output_heights": [
     366.5625
    ]
   },
   "source": "df_HR_KMeans_grouped.columns",
   "execution_count": null,
   "outputs": [
    {
     "output_type": "execute_result",
     "execution_count": 12,
     "data": {
      "text/plain": "Index(['Age', 'BusinessTravel', 'DailyRate', 'DistanceFromHome', 'Education',\n       'EmployeeNumber', 'EnvironmentSatisfaction', 'Gender', 'HourlyRate',\n       'JobInvolvement', 'JobLevel', 'JobSatisfaction', 'MonthlyIncome',\n       'MonthlyRate', 'NumCompaniesWorked', 'OverTime', 'PercentSalaryHike',\n       'PerformanceRating', 'RelationshipSatisfaction', 'StockOptionLevel',\n       'TotalWorkingYears', 'TrainingTimesLastYear', 'WorkLifeBalance',\n       'YearsAtCompany', 'YearsInCurrentRole', 'YearsSinceLastPromotion',\n       'YearsWithCurrManager', 'Department_Human Resources',\n       'Department_Research & Development', 'Department_Sales',\n       'EducationField_Human Resources', 'EducationField_Life Sciences',\n       'EducationField_Marketing', 'EducationField_Medical',\n       'EducationField_Other', 'EducationField_Technical Degree',\n       'JobRole_Healthcare Representative', 'JobRole_Human Resources',\n       'JobRole_Laboratory Technician', 'JobRole_Manager',\n       'JobRole_Manufacturing Director', 'JobRole_Research Director',\n       'JobRole_Research Scientist', 'JobRole_Sales Executive',\n       'JobRole_Sales Representative', 'MaritalStatus_Divorced',\n       'MaritalStatus_Married', 'MaritalStatus_Single', 'label'],\n      dtype='object')"
     },
     "metadata": {}
    }
   ]
  },
  {
   "cell_type": "code",
   "metadata": {
    "cell_id": "b1389ad2-4a37-477c-bf92-9f139213f223",
    "tags": [],
    "deepnote_to_be_reexecuted": false,
    "source_hash": "6691fa59",
    "execution_start": 1646785709674,
    "execution_millis": 1727,
    "deepnote_cell_type": "code",
    "deepnote_cell_height": 778.1875,
    "deepnote_output_heights": [
     21.1875,
     611
    ]
   },
   "source": "fig = plt.figure(figsize=(20,10))\nsns.heatmap(df_HR_KMeans_grouped)",
   "execution_count": null,
   "outputs": [
    {
     "output_type": "execute_result",
     "execution_count": 13,
     "data": {
      "text/plain": "<AxesSubplot:ylabel='labels'>"
     },
     "metadata": {}
    },
    {
     "data": {
      "text/plain": "<Figure size 1440x720 with 2 Axes>",
      "image/png": "[encoded data removed]"
     },
     "metadata": {
      "needs_background": "light",
      "image/png": {
       "width": 1044,
       "height": 761
      }
     },
     "output_type": "display_data"
    }
   ]
  },
  {
   "cell_type": "code",
   "metadata": {
    "cell_id": "6f8b1025-ac01-49a0-b919-550bc01d78a8",
    "tags": [],
    "deepnote_to_be_reexecuted": false,
    "source_hash": "776a98aa",
    "execution_start": 1646785711403,
    "execution_millis": 172,
    "deepnote_cell_type": "code",
    "deepnote_cell_height": 449.1875,
    "deepnote_output_heights": [
     21.1875,
     264
    ]
   },
   "source": "for column in df_HR_KMeans_grouped.columns:\r\n    sns.barplot(x = 'label', y = column ,data = df_HR_KMeans_grouped) \r\n    plt.show()",
   "execution_count": null,
   "outputs": [
    {
     "output_type": "execute_result",
     "execution_count": 14,
     "data": {
      "text/plain": "<AxesSubplot:xlabel='label', ylabel='MaritalStatus_Divorced'>"
     },
     "metadata": {}
    },
    {
     "data": {
      "text/plain": "<Figure size 432x288 with 1 Axes>",
      "image/png": "[encoded data removed]"
     },
     "metadata": {
      "needs_background": "light",
      "image/png": {
       "width": 393,
       "height": 262
      }
     },
     "output_type": "display_data"
    }
   ]
  },
  {
   "cell_type": "markdown",
   "source": "<a style='text-decoration:none;line-height:16px;display:flex;color:#5B5B62;padding:10px;justify-content:end;' href='https://deepnote.com?utm_source=created-in-deepnote-cell&projectId=6bb6c849-6b4b-49a2-8775-80ecb8e8b9b2' target=\"_blank\">\n<img alt='Created in deepnote.com' style='display:inline;max-height:16px;margin:0px;margin-right:7.5px;' src='data:image/svg+xml;base64,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' > </img>\nCreated in <span style='font-weight:600;margin-left:4px;'>Deepnote</span></a>",
   "metadata": {
    "tags": [],
    "created_in_deepnote_cell": true,
    "deepnote_cell_type": "markdown"
   }
  }
 ],
 "nbformat": 4,
 "nbformat_minor": 2,
 "metadata": {
  "orig_nbformat": 2,
  "deepnote": {
   "is_reactive": false
  },
  "deepnote_notebook_id": "a83e7b72-34ad-4c55-92f9-c967a9a2283e",
  "deepnote_execution_queue": []
 }
}