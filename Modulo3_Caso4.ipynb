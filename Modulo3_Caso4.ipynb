{
 "cells": [
  {
   "cell_type": "markdown",
   "source": "\n<figure>\n<img src=\"/work/Modulo3_Caso4/fig/ISEADE LOGO Y ESCUDO.png\" align=\"center\"/> \n</figure> ",
   "metadata": {
    "cell_id": "aadf4d98-553a-430f-8803-072c4de3a998",
    "tags": [],
    "deepnote_cell_type": "markdown",
    "deepnote_cell_height": 387.71875
   }
  },
  {
   "cell_type": "markdown",
   "source": "# Caso 4 - Machine Learnig y K-Medias",
   "metadata": {
    "cell_id": "2f2712fe-912b-4f28-a2bf-62bb70e5c49d",
    "tags": [],
    "deepnote_cell_type": "markdown",
    "deepnote_cell_height": 82
   }
  },
  {
   "cell_type": "markdown",
   "source": "## 4.1. Problema de Negocio\n\nActualmente la empresa en la que se encuentra trabajando està teniendo un problema de retención de talento. Le ha sido asignada la tarea de entender este comportamiento y encontrar la razón por la cual las personas se van de la compañía.",
   "metadata": {
    "cell_id": "1bac6063-479c-41bb-886e-d1942af8652b",
    "tags": [],
    "deepnote_cell_type": "markdown",
    "deepnote_cell_height": 130.78125
   }
  },
  {
   "cell_type": "markdown",
   "source": "## 4.2. Definiciones\n### 4.2.1 Machine Learning\nEl aprendizaje automático es una clase de algoritmos computacionales que \"aprende\" iterativamente una aproximación a alguna función. Hay tres componentes que componen un algoritmo de aprendizaje automático: representación, evaluación y optimización.\nLa **representación** implica la transformación de entradas de un espacio a otro espacio más útil que puede interpretarse más fácilmente.\nLa **evaluación** es esencialmente la función de pérdida. ¿Con qué eficacia su algoritmo transformó sus datos en un espacio más útil?\nLa **optimización** es la última pieza del rompecabezas. Una vez que tenga el componente de evaluación, puede optimizar la función de representación para mejorar su métrica de evaluación.\n\nhttps://towardsdatascience.com/no-machine-learning-is-not-just-glorified-statistics-26d3952234e3\n\n### 4.2.2 Reconocimiento de Patrones\n\nEl reconocimiento de patrones es la búsqueda e identificación de patrones recurrentes con resultados aproximadamente similares.\n\nhttps://towardsdatascience.com/comparing-coffee-using-pattern-recognition-35b92cca4502\n\nhttps://towardsdatascience.com/technical-pattern-recognition-for-trading-in-python-63770aab422f\n\n### 4.2.2 Minería de datos\n\nAl recopilar e inspeccionar  datos, las personas pudieron descubrir algunos patrones. Incluso todo el conjunto de datos es basura, hay algunos patrones ocultos que se pueden extraer combinando múltiples fuentes de datos para proporcionar información valiosa.\n\nhttps://towardsdatascience.com/data-mining-in-brief-26483437f178\n\nhttps://towardsdatascience.com/your-ultimate-data-mining-machine-learning-cheat-sheet-9fce3fa16\n",
   "metadata": {
    "cell_id": "de972755-52bb-4ca4-acef-bf0a5233953c",
    "tags": [],
    "deepnote_cell_type": "markdown",
    "deepnote_cell_height": 608.6875
   }
  },
  {
   "cell_type": "markdown",
   "source": "## 4.3. Importación de Módulos",
   "metadata": {
    "cell_id": "05d56d22-afe0-4d7d-a320-457a7ee2ecf8",
    "tags": [],
    "deepnote_cell_type": "markdown",
    "deepnote_cell_height": 70
   }
  },
  {
   "cell_type": "code",
   "metadata": {
    "cell_id": "a894bd6b-c710-44e5-ab60-6a02d724cf9e",
    "tags": [],
    "deepnote_to_be_reexecuted": false,
    "source_hash": "8017c452",
    "execution_start": 1646737906343,
    "execution_millis": 1247,
    "deepnote_cell_type": "code",
    "deepnote_cell_height": 207
   },
   "source": "import numpy as np \nimport pandas as pd \nimport seaborn as sns \nimport matplotlib.pyplot as plt\nimport sklearn\n\nfrom sklearn.cluster import KMeans\nfrom sklearn.preprocessing import MinMaxScaler, MaxAbsScaler, RobustScaler, StandardScaler, OrdinalEncoder",
   "execution_count": null,
   "outputs": []
  },
  {
   "cell_type": "markdown",
   "source": "## 4.4. Importación de Datos\n\nLa información fue descargada de un conjunto de datos disponible en [Kaggle](https://www.kaggle.com/pavansubhasht/ibm-hr-analytics-attrition-dataset). Estos datos son tabulares, y se encuentran en formato .csv. Por lo tanto pueden ser cargadas como una tabla en python. Esto puede ser realizado por medio de un DataFrame de pandas. ",
   "metadata": {
    "cell_id": "f2cdbd08-2ce0-4df9-b5b6-ef243d197077",
    "tags": [],
    "deepnote_cell_type": "markdown",
    "deepnote_cell_height": 130.78125
   }
  },
  {
   "cell_type": "code",
   "metadata": {
    "cell_id": "cdaa7abe-97f9-4de3-94cf-5aa0565d778a",
    "tags": [],
    "deepnote_to_be_reexecuted": false,
    "source_hash": "463f6aa7",
    "execution_start": 1646737907594,
    "execution_millis": 94,
    "deepnote_cell_type": "code",
    "deepnote_cell_height": 377
   },
   "source": "df_HR = pd.read_csv('/work/Modulo3_Caso4/data/WA_Fn-UseC_-HR-Employee-Attrition.csv')\ndf_HR.head(5)",
   "execution_count": null,
   "outputs": [
    {
     "output_type": "execute_result",
     "execution_count": 3,
     "data": {
      "application/vnd.deepnote.dataframe.v3+json": {
       "column_count": 35,
       "row_count": 5,
       "columns": [
        {
         "name": "Age",
         "dtype": "int64",
         "stats": {
          "unique_count": 5,
          "nan_count": 0,
          "min": "27",
          "max": "49",
          "histogram": [
           {
            "bin_start": 27,
            "bin_end": 29.2,
            "count": 1
           },
           {
            "bin_start": 29.2,
            "bin_end": 31.4,
            "count": 0
           },
           {
            "bin_start": 31.4,
            "bin_end": 33.6,
            "count": 1
           },
           {
            "bin_start": 33.6,
            "bin_end": 35.8,
            "count": 0
           },
           {
            "bin_start": 35.8,
            "bin_end": 38,
            "count": 1
           },
           {
            "bin_start": 38,
            "bin_end": 40.2,
            "count": 0
           },
           {
            "bin_start": 40.2,
            "bin_end": 42.400000000000006,
            "count": 1
           },
           {
            "bin_start": 42.400000000000006,
            "bin_end": 44.6,
            "count": 0
           },
           {
            "bin_start": 44.6,
            "bin_end": 46.8,
            "count": 0
           },
           {
            "bin_start": 46.8,
            "bin_end": 49,
            "count": 1
           }
          ]
         }
        },
        {
         "name": "Attrition",
         "dtype": "object",
         "stats": {
          "unique_count": 2,
          "nan_count": 0,
          "categories": [
           {
            "name": "No",
            "count": 3
           },
           {
            "name": "Yes",
            "count": 2
           }
          ]
         }
        },
        {
         "name": "BusinessTravel",
         "dtype": "object",
         "stats": {
          "unique_count": 2,
          "nan_count": 0,
          "categories": [
           {
            "name": "Travel_Rarely",
            "count": 3
           },
           {
            "name": "Travel_Frequently",
            "count": 2
           }
          ]
         }
        },
        {
         "name": "DailyRate",
         "dtype": "int64",
         "stats": {
          "unique_count": 5,
          "nan_count": 0,
          "min": "279",
          "max": "1392",
          "histogram": [
           {
            "bin_start": 279,
            "bin_end": 390.3,
            "count": 1
           },
           {
            "bin_start": 390.3,
            "bin_end": 501.6,
            "count": 0
           },
           {
            "bin_start": 501.6,
            "bin_end": 612.9,
            "count": 1
           },
           {
            "bin_start": 612.9,
            "bin_end": 724.2,
            "count": 0
           },
           {
            "bin_start": 724.2,
            "bin_end": 835.5,
            "count": 0
           },
           {
            "bin_start": 835.5,
            "bin_end": 946.8,
            "count": 0
           },
           {
            "bin_start": 946.8,
            "bin_end": 1058.1,
            "count": 0
           },
           {
            "bin_start": 1058.1,
            "bin_end": 1169.4,
            "count": 1
           },
           {
            "bin_start": 1169.4,
            "bin_end": 1280.6999999999998,
            "count": 0
           },
           {
            "bin_start": 1280.6999999999998,
            "bin_end": 1392,
            "count": 2
           }
          ]
         }
        },
        {
         "name": "Department",
         "dtype": "object",
         "stats": {
          "unique_count": 2,
          "nan_count": 0,
          "categories": [
           {
            "name": "Research & Development",
            "count": 4
           },
           {
            "name": "Sales",
            "count": 1
           }
          ]
         }
        },
        {
         "name": "DistanceFromHome",
         "dtype": "int64",
         "stats": {
          "unique_count": 4,
          "nan_count": 0,
          "min": "1",
          "max": "8",
          "histogram": [
           {
            "bin_start": 1,
            "bin_end": 1.7,
            "count": 1
           },
           {
            "bin_start": 1.7,
            "bin_end": 2.4,
            "count": 2
           },
           {
            "bin_start": 2.4,
            "bin_end": 3.0999999999999996,
            "count": 1
           },
           {
            "bin_start": 3.0999999999999996,
            "bin_end": 3.8,
            "count": 0
           },
           {
            "bin_start": 3.8,
            "bin_end": 4.5,
            "count": 0
           },
           {
            "bin_start": 4.5,
            "bin_end": 5.199999999999999,
            "count": 0
           },
           {
            "bin_start": 5.199999999999999,
            "bin_end": 5.8999999999999995,
            "count": 0
           },
           {
            "bin_start": 5.8999999999999995,
            "bin_end": 6.6,
            "count": 0
           },
           {
            "bin_start": 6.6,
            "bin_end": 7.3,
            "count": 0
           },
           {
            "bin_start": 7.3,
            "bin_end": 8,
            "count": 1
           }
          ]
         }
        },
        {
         "name": "Education",
         "dtype": "int64",
         "stats": {
          "unique_count": 3,
          "nan_count": 0,
          "min": "1",
          "max": "4",
          "histogram": [
           {
            "bin_start": 1,
            "bin_end": 1.3,
            "count": 2
           },
           {
            "bin_start": 1.3,
            "bin_end": 1.6,
            "count": 0
           },
           {
            "bin_start": 1.6,
            "bin_end": 1.9,
            "count": 0
           },
           {
            "bin_start": 1.9,
            "bin_end": 2.2,
            "count": 2
           },
           {
            "bin_start": 2.2,
            "bin_end": 2.5,
            "count": 0
           },
           {
            "bin_start": 2.5,
            "bin_end": 2.8,
            "count": 0
           },
           {
            "bin_start": 2.8,
            "bin_end": 3.1,
            "count": 0
           },
           {
            "bin_start": 3.1,
            "bin_end": 3.4,
            "count": 0
           },
           {
            "bin_start": 3.4,
            "bin_end": 3.6999999999999997,
            "count": 0
           },
           {
            "bin_start": 3.6999999999999997,
            "bin_end": 4,
            "count": 1
           }
          ]
         }
        },
        {
         "name": "EducationField",
         "dtype": "object",
         "stats": {
          "unique_count": 3,
          "nan_count": 0,
          "categories": [
           {
            "name": "Life Sciences",
            "count": 3
           },
           {
            "name": "Other",
            "count": 1
           },
           {
            "name": "Medical",
            "count": 1
           }
          ]
         }
        },
        {
         "name": "EmployeeCount",
         "dtype": "int64",
         "stats": {
          "unique_count": 1,
          "nan_count": 0,
          "min": "1",
          "max": "1",
          "histogram": [
           {
            "bin_start": 0.5,
            "bin_end": 0.6,
            "count": 0
           },
           {
            "bin_start": 0.6,
            "bin_end": 0.7,
            "count": 0
           },
           {
            "bin_start": 0.7,
            "bin_end": 0.8,
            "count": 0
           },
           {
            "bin_start": 0.8,
            "bin_end": 0.9,
            "count": 0
           },
           {
            "bin_start": 0.9,
            "bin_end": 1,
            "count": 0
           },
           {
            "bin_start": 1,
            "bin_end": 1.1,
            "count": 5
           },
           {
            "bin_start": 1.1,
            "bin_end": 1.2000000000000002,
            "count": 0
           },
           {
            "bin_start": 1.2000000000000002,
            "bin_end": 1.3,
            "count": 0
           },
           {
            "bin_start": 1.3,
            "bin_end": 1.4,
            "count": 0
           },
           {
            "bin_start": 1.4,
            "bin_end": 1.5,
            "count": 0
           }
          ]
         }
        },
        {
         "name": "EmployeeNumber",
         "dtype": "int64",
         "stats": {
          "unique_count": 5,
          "nan_count": 0,
          "min": "1",
          "max": "7",
          "histogram": [
           {
            "bin_start": 1,
            "bin_end": 1.6,
            "count": 1
           },
           {
            "bin_start": 1.6,
            "bin_end": 2.2,
            "count": 1
           },
           {
            "bin_start": 2.2,
            "bin_end": 2.8,
            "count": 0
           },
           {
            "bin_start": 2.8,
            "bin_end": 3.4,
            "count": 0
           },
           {
            "bin_start": 3.4,
            "bin_end": 4,
            "count": 0
           },
           {
            "bin_start": 4,
            "bin_end": 4.6,
            "count": 1
           },
           {
            "bin_start": 4.6,
            "bin_end": 5.2,
            "count": 1
           },
           {
            "bin_start": 5.2,
            "bin_end": 5.8,
            "count": 0
           },
           {
            "bin_start": 5.8,
            "bin_end": 6.3999999999999995,
            "count": 0
           },
           {
            "bin_start": 6.3999999999999995,
            "bin_end": 7,
            "count": 1
           }
          ]
         }
        },
        {
         "name": "EnvironmentSatisfaction",
         "dtype": "int64",
         "stats": {
          "unique_count": 4,
          "nan_count": 0,
          "min": "1",
          "max": "4",
          "histogram": [
           {
            "bin_start": 1,
            "bin_end": 1.3,
            "count": 1
           },
           {
            "bin_start": 1.3,
            "bin_end": 1.6,
            "count": 0
           },
           {
            "bin_start": 1.6,
            "bin_end": 1.9,
            "count": 0
           },
           {
            "bin_start": 1.9,
            "bin_end": 2.2,
            "count": 1
           },
           {
            "bin_start": 2.2,
            "bin_end": 2.5,
            "count": 0
           },
           {
            "bin_start": 2.5,
            "bin_end": 2.8,
            "count": 0
           },
           {
            "bin_start": 2.8,
            "bin_end": 3.1,
            "count": 1
           },
           {
            "bin_start": 3.1,
            "bin_end": 3.4,
            "count": 0
           },
           {
            "bin_start": 3.4,
            "bin_end": 3.6999999999999997,
            "count": 0
           },
           {
            "bin_start": 3.6999999999999997,
            "bin_end": 4,
            "count": 2
           }
          ]
         }
        },
        {
         "name": "Gender",
         "dtype": "object",
         "stats": {
          "unique_count": 2,
          "nan_count": 0,
          "categories": [
           {
            "name": "Male",
            "count": 3
           },
           {
            "name": "Female",
            "count": 2
           }
          ]
         }
        },
        {
         "name": "HourlyRate",
         "dtype": "int64",
         "stats": {
          "unique_count": 5,
          "nan_count": 0,
          "min": "40",
          "max": "94",
          "histogram": [
           {
            "bin_start": 40,
            "bin_end": 45.4,
            "count": 1
           },
           {
            "bin_start": 45.4,
            "bin_end": 50.8,
            "count": 0
           },
           {
            "bin_start": 50.8,
            "bin_end": 56.2,
            "count": 1
           },
           {
            "bin_start": 56.2,
            "bin_end": 61.6,
            "count": 1
           },
           {
            "bin_start": 61.6,
            "bin_end": 67,
            "count": 0
           },
           {
            "bin_start": 67,
            "bin_end": 72.4,
            "count": 0
           },
           {
            "bin_start": 72.4,
            "bin_end": 77.80000000000001,
            "count": 0
           },
           {
            "bin_start": 77.80000000000001,
            "bin_end": 83.2,
            "count": 0
           },
           {
            "bin_start": 83.2,
            "bin_end": 88.6,
            "count": 0
           },
           {
            "bin_start": 88.6,
            "bin_end": 94,
            "count": 2
           }
          ]
         }
        },
        {
         "name": "JobInvolvement",
         "dtype": "int64",
         "stats": {
          "unique_count": 2,
          "nan_count": 0,
          "min": "2",
          "max": "3",
          "histogram": [
           {
            "bin_start": 2,
            "bin_end": 2.1,
            "count": 2
           },
           {
            "bin_start": 2.1,
            "bin_end": 2.2,
            "count": 0
           },
           {
            "bin_start": 2.2,
            "bin_end": 2.3,
            "count": 0
           },
           {
            "bin_start": 2.3,
            "bin_end": 2.4,
            "count": 0
           },
           {
            "bin_start": 2.4,
            "bin_end": 2.5,
            "count": 0
           },
           {
            "bin_start": 2.5,
            "bin_end": 2.6,
            "count": 0
           },
           {
            "bin_start": 2.6,
            "bin_end": 2.7,
            "count": 0
           },
           {
            "bin_start": 2.7,
            "bin_end": 2.8,
            "count": 0
           },
           {
            "bin_start": 2.8,
            "bin_end": 2.9,
            "count": 0
           },
           {
            "bin_start": 2.9,
            "bin_end": 3,
            "count": 3
           }
          ]
         }
        },
        {
         "name": "JobLevel",
         "dtype": "int64",
         "stats": {
          "unique_count": 2,
          "nan_count": 0,
          "min": "1",
          "max": "2",
          "histogram": [
           {
            "bin_start": 1,
            "bin_end": 1.1,
            "count": 3
           },
           {
            "bin_start": 1.1,
            "bin_end": 1.2,
            "count": 0
           },
           {
            "bin_start": 1.2,
            "bin_end": 1.3,
            "count": 0
           },
           {
            "bin_start": 1.3,
            "bin_end": 1.4,
            "count": 0
           },
           {
            "bin_start": 1.4,
            "bin_end": 1.5,
            "count": 0
           },
           {
            "bin_start": 1.5,
            "bin_end": 1.6,
            "count": 0
           },
           {
            "bin_start": 1.6,
            "bin_end": 1.7000000000000002,
            "count": 0
           },
           {
            "bin_start": 1.7000000000000002,
            "bin_end": 1.8,
            "count": 0
           },
           {
            "bin_start": 1.8,
            "bin_end": 1.9,
            "count": 0
           },
           {
            "bin_start": 1.9,
            "bin_end": 2,
            "count": 2
           }
          ]
         }
        },
        {
         "name": "JobRole",
         "dtype": "object",
         "stats": {
          "unique_count": 3,
          "nan_count": 0,
          "categories": [
           {
            "name": "Research Scientist",
            "count": 2
           },
           {
            "name": "Laboratory Technician",
            "count": 2
           },
           {
            "name": "Sales Executive",
            "count": 1
           }
          ]
         }
        },
        {
         "name": "JobSatisfaction",
         "dtype": "int64",
         "stats": {
          "unique_count": 3,
          "nan_count": 0,
          "min": "2",
          "max": "4",
          "histogram": [
           {
            "bin_start": 2,
            "bin_end": 2.2,
            "count": 2
           },
           {
            "bin_start": 2.2,
            "bin_end": 2.4,
            "count": 0
           },
           {
            "bin_start": 2.4,
            "bin_end": 2.6,
            "count": 0
           },
           {
            "bin_start": 2.6,
            "bin_end": 2.8,
            "count": 0
           },
           {
            "bin_start": 2.8,
            "bin_end": 3,
            "count": 0
           },
           {
            "bin_start": 3,
            "bin_end": 3.2,
            "count": 2
           },
           {
            "bin_start": 3.2,
            "bin_end": 3.4000000000000004,
            "count": 0
           },
           {
            "bin_start": 3.4000000000000004,
            "bin_end": 3.6,
            "count": 0
           },
           {
            "bin_start": 3.6,
            "bin_end": 3.8,
            "count": 0
           },
           {
            "bin_start": 3.8,
            "bin_end": 4,
            "count": 1
           }
          ]
         }
        },
        {
         "name": "MaritalStatus",
         "dtype": "object",
         "stats": {
          "unique_count": 2,
          "nan_count": 0,
          "categories": [
           {
            "name": "Married",
            "count": 3
           },
           {
            "name": "Single",
            "count": 2
           }
          ]
         }
        },
        {
         "name": "MonthlyIncome",
         "dtype": "int64",
         "stats": {
          "unique_count": 5,
          "nan_count": 0,
          "min": "2090",
          "max": "5993",
          "histogram": [
           {
            "bin_start": 2090,
            "bin_end": 2480.3,
            "count": 1
           },
           {
            "bin_start": 2480.3,
            "bin_end": 2870.6,
            "count": 0
           },
           {
            "bin_start": 2870.6,
            "bin_end": 3260.9,
            "count": 1
           },
           {
            "bin_start": 3260.9,
            "bin_end": 3651.2,
            "count": 1
           },
           {
            "bin_start": 3651.2,
            "bin_end": 4041.5,
            "count": 0
           },
           {
            "bin_start": 4041.5,
            "bin_end": 4431.8,
            "count": 0
           },
           {
            "bin_start": 4431.8,
            "bin_end": 4822.1,
            "count": 0
           },
           {
            "bin_start": 4822.1,
            "bin_end": 5212.4,
            "count": 1
           },
           {
            "bin_start": 5212.4,
            "bin_end": 5602.700000000001,
            "count": 0
           },
           {
            "bin_start": 5602.700000000001,
            "bin_end": 5993,
            "count": 1
           }
          ]
         }
        },
        {
         "name": "MonthlyRate",
         "dtype": "int64",
         "stats": {
          "unique_count": 5,
          "nan_count": 0,
          "min": "2396",
          "max": "24907",
          "histogram": [
           {
            "bin_start": 2396,
            "bin_end": 4647.1,
            "count": 1
           },
           {
            "bin_start": 4647.1,
            "bin_end": 6898.2,
            "count": 0
           },
           {
            "bin_start": 6898.2,
            "bin_end": 9149.3,
            "count": 0
           },
           {
            "bin_start": 9149.3,
            "bin_end": 11400.4,
            "count": 0
           },
           {
            "bin_start": 11400.4,
            "bin_end": 13651.5,
            "count": 0
           },
           {
            "bin_start": 13651.5,
            "bin_end": 15902.599999999999,
            "count": 0
           },
           {
            "bin_start": 15902.599999999999,
            "bin_end": 18153.699999999997,
            "count": 1
           },
           {
            "bin_start": 18153.699999999997,
            "bin_end": 20404.8,
            "count": 1
           },
           {
            "bin_start": 20404.8,
            "bin_end": 22655.899999999998,
            "count": 0
           },
           {
            "bin_start": 22655.899999999998,
            "bin_end": 24907,
            "count": 2
           }
          ]
         }
        },
        {
         "name": "NumCompaniesWorked",
         "dtype": "int64",
         "stats": {
          "unique_count": 4,
          "nan_count": 0,
          "min": "1",
          "max": "9",
          "histogram": [
           {
            "bin_start": 1,
            "bin_end": 1.8,
            "count": 2
           },
           {
            "bin_start": 1.8,
            "bin_end": 2.6,
            "count": 0
           },
           {
            "bin_start": 2.6,
            "bin_end": 3.4000000000000004,
            "count": 0
           },
           {
            "bin_start": 3.4000000000000004,
            "bin_end": 4.2,
            "count": 0
           },
           {
            "bin_start": 4.2,
            "bin_end": 5,
            "count": 0
           },
           {
            "bin_start": 5,
            "bin_end": 5.800000000000001,
            "count": 0
           },
           {
            "bin_start": 5.800000000000001,
            "bin_end": 6.6000000000000005,
            "count": 1
           },
           {
            "bin_start": 6.6000000000000005,
            "bin_end": 7.4,
            "count": 0
           },
           {
            "bin_start": 7.4,
            "bin_end": 8.2,
            "count": 1
           },
           {
            "bin_start": 8.2,
            "bin_end": 9,
            "count": 1
           }
          ]
         }
        },
        {
         "name": "Over18",
         "dtype": "object",
         "stats": {
          "unique_count": 1,
          "nan_count": 0,
          "categories": [
           {
            "name": "Y",
            "count": 5
           }
          ]
         }
        },
        {
         "name": "OverTime",
         "dtype": "object",
         "stats": {
          "unique_count": 2,
          "nan_count": 0,
          "categories": [
           {
            "name": "Yes",
            "count": 3
           },
           {
            "name": "No",
            "count": 2
           }
          ]
         }
        },
        {
         "name": "PercentSalaryHike",
         "dtype": "int64",
         "stats": {
          "unique_count": 4,
          "nan_count": 0,
          "min": "11",
          "max": "23",
          "histogram": [
           {
            "bin_start": 11,
            "bin_end": 12.2,
            "count": 3
           },
           {
            "bin_start": 12.2,
            "bin_end": 13.4,
            "count": 0
           },
           {
            "bin_start": 13.4,
            "bin_end": 14.6,
            "count": 0
           },
           {
            "bin_start": 14.6,
            "bin_end": 15.8,
            "count": 1
           },
           {
            "bin_start": 15.8,
            "bin_end": 17,
            "count": 0
           },
           {
            "bin_start": 17,
            "bin_end": 18.2,
            "count": 0
           },
           {
            "bin_start": 18.2,
            "bin_end": 19.4,
            "count": 0
           },
           {
            "bin_start": 19.4,
            "bin_end": 20.6,
            "count": 0
           },
           {
            "bin_start": 20.6,
            "bin_end": 21.799999999999997,
            "count": 0
           },
           {
            "bin_start": 21.799999999999997,
            "bin_end": 23,
            "count": 1
           }
          ]
         }
        },
        {
         "name": "PerformanceRating",
         "dtype": "int64",
         "stats": {
          "unique_count": 2,
          "nan_count": 0,
          "min": "3",
          "max": "4",
          "histogram": [
           {
            "bin_start": 3,
            "bin_end": 3.1,
            "count": 4
           },
           {
            "bin_start": 3.1,
            "bin_end": 3.2,
            "count": 0
           },
           {
            "bin_start": 3.2,
            "bin_end": 3.3,
            "count": 0
           },
           {
            "bin_start": 3.3,
            "bin_end": 3.4,
            "count": 0
           },
           {
            "bin_start": 3.4,
            "bin_end": 3.5,
            "count": 0
           },
           {
            "bin_start": 3.5,
            "bin_end": 3.6,
            "count": 0
           },
           {
            "bin_start": 3.6,
            "bin_end": 3.7,
            "count": 0
           },
           {
            "bin_start": 3.7,
            "bin_end": 3.8,
            "count": 0
           },
           {
            "bin_start": 3.8,
            "bin_end": 3.9,
            "count": 0
           },
           {
            "bin_start": 3.9,
            "bin_end": 4,
            "count": 1
           }
          ]
         }
        },
        {
         "name": "RelationshipSatisfaction",
         "dtype": "int64",
         "stats": {
          "unique_count": 4,
          "nan_count": 0,
          "min": "1",
          "max": "4",
          "histogram": [
           {
            "bin_start": 1,
            "bin_end": 1.3,
            "count": 1
           },
           {
            "bin_start": 1.3,
            "bin_end": 1.6,
            "count": 0
           },
           {
            "bin_start": 1.6,
            "bin_end": 1.9,
            "count": 0
           },
           {
            "bin_start": 1.9,
            "bin_end": 2.2,
            "count": 1
           },
           {
            "bin_start": 2.2,
            "bin_end": 2.5,
            "count": 0
           },
           {
            "bin_start": 2.5,
            "bin_end": 2.8,
            "count": 0
           },
           {
            "bin_start": 2.8,
            "bin_end": 3.1,
            "count": 1
           },
           {
            "bin_start": 3.1,
            "bin_end": 3.4,
            "count": 0
           },
           {
            "bin_start": 3.4,
            "bin_end": 3.6999999999999997,
            "count": 0
           },
           {
            "bin_start": 3.6999999999999997,
            "bin_end": 4,
            "count": 2
           }
          ]
         }
        },
        {
         "name": "StandardHours",
         "dtype": "int64",
         "stats": {
          "unique_count": 1,
          "nan_count": 0,
          "min": "80",
          "max": "80",
          "histogram": [
           {
            "bin_start": 79.5,
            "bin_end": 79.6,
            "count": 0
           },
           {
            "bin_start": 79.6,
            "bin_end": 79.7,
            "count": 0
           },
           {
            "bin_start": 79.7,
            "bin_end": 79.8,
            "count": 0
           },
           {
            "bin_start": 79.8,
            "bin_end": 79.9,
            "count": 0
           },
           {
            "bin_start": 79.9,
            "bin_end": 80,
            "count": 0
           },
           {
            "bin_start": 80,
            "bin_end": 80.1,
            "count": 5
           },
           {
            "bin_start": 80.1,
            "bin_end": 80.2,
            "count": 0
           },
           {
            "bin_start": 80.2,
            "bin_end": 80.3,
            "count": 0
           },
           {
            "bin_start": 80.3,
            "bin_end": 80.4,
            "count": 0
           },
           {
            "bin_start": 80.4,
            "bin_end": 80.5,
            "count": 0
           }
          ]
         }
        },
        {
         "name": "StockOptionLevel",
         "dtype": "int64",
         "stats": {
          "unique_count": 2,
          "nan_count": 0,
          "min": "0",
          "max": "1",
          "histogram": [
           {
            "bin_start": 0,
            "bin_end": 0.1,
            "count": 3
           },
           {
            "bin_start": 0.1,
            "bin_end": 0.2,
            "count": 0
           },
           {
            "bin_start": 0.2,
            "bin_end": 0.30000000000000004,
            "count": 0
           },
           {
            "bin_start": 0.30000000000000004,
            "bin_end": 0.4,
            "count": 0
           },
           {
            "bin_start": 0.4,
            "bin_end": 0.5,
            "count": 0
           },
           {
            "bin_start": 0.5,
            "bin_end": 0.6000000000000001,
            "count": 0
           },
           {
            "bin_start": 0.6000000000000001,
            "bin_end": 0.7000000000000001,
            "count": 0
           },
           {
            "bin_start": 0.7000000000000001,
            "bin_end": 0.8,
            "count": 0
           },
           {
            "bin_start": 0.8,
            "bin_end": 0.9,
            "count": 0
           },
           {
            "bin_start": 0.9,
            "bin_end": 1,
            "count": 2
           }
          ]
         }
        },
        {
         "name": "TotalWorkingYears",
         "dtype": "int64",
         "stats": {
          "unique_count": 4,
          "nan_count": 0,
          "min": "6",
          "max": "10",
          "histogram": [
           {
            "bin_start": 6,
            "bin_end": 6.4,
            "count": 1
           },
           {
            "bin_start": 6.4,
            "bin_end": 6.8,
            "count": 0
           },
           {
            "bin_start": 6.8,
            "bin_end": 7.2,
            "count": 1
           },
           {
            "bin_start": 7.2,
            "bin_end": 7.6,
            "count": 0
           },
           {
            "bin_start": 7.6,
            "bin_end": 8,
            "count": 0
           },
           {
            "bin_start": 8,
            "bin_end": 8.4,
            "count": 2
           },
           {
            "bin_start": 8.4,
            "bin_end": 8.8,
            "count": 0
           },
           {
            "bin_start": 8.8,
            "bin_end": 9.2,
            "count": 0
           },
           {
            "bin_start": 9.2,
            "bin_end": 9.6,
            "count": 0
           },
           {
            "bin_start": 9.6,
            "bin_end": 10,
            "count": 1
           }
          ]
         }
        },
        {
         "name": "TrainingTimesLastYear",
         "dtype": "int64",
         "stats": {
          "unique_count": 2,
          "nan_count": 0,
          "min": "0",
          "max": "3",
          "histogram": [
           {
            "bin_start": 0,
            "bin_end": 0.3,
            "count": 1
           },
           {
            "bin_start": 0.3,
            "bin_end": 0.6,
            "count": 0
           },
           {
            "bin_start": 0.6,
            "bin_end": 0.8999999999999999,
            "count": 0
           },
           {
            "bin_start": 0.8999999999999999,
            "bin_end": 1.2,
            "count": 0
           },
           {
            "bin_start": 1.2,
            "bin_end": 1.5,
            "count": 0
           },
           {
            "bin_start": 1.5,
            "bin_end": 1.7999999999999998,
            "count": 0
           },
           {
            "bin_start": 1.7999999999999998,
            "bin_end": 2.1,
            "count": 0
           },
           {
            "bin_start": 2.1,
            "bin_end": 2.4,
            "count": 0
           },
           {
            "bin_start": 2.4,
            "bin_end": 2.6999999999999997,
            "count": 0
           },
           {
            "bin_start": 2.6999999999999997,
            "bin_end": 3,
            "count": 4
           }
          ]
         }
        },
        {
         "name": "WorkLifeBalance",
         "dtype": "int64",
         "stats": {
          "unique_count": 2,
          "nan_count": 0,
          "min": "1",
          "max": "3",
          "histogram": [
           {
            "bin_start": 1,
            "bin_end": 1.2,
            "count": 1
           },
           {
            "bin_start": 1.2,
            "bin_end": 1.4,
            "count": 0
           },
           {
            "bin_start": 1.4,
            "bin_end": 1.6,
            "count": 0
           },
           {
            "bin_start": 1.6,
            "bin_end": 1.8,
            "count": 0
           },
           {
            "bin_start": 1.8,
            "bin_end": 2,
            "count": 0
           },
           {
            "bin_start": 2,
            "bin_end": 2.2,
            "count": 0
           },
           {
            "bin_start": 2.2,
            "bin_end": 2.4000000000000004,
            "count": 0
           },
           {
            "bin_start": 2.4000000000000004,
            "bin_end": 2.6,
            "count": 0
           },
           {
            "bin_start": 2.6,
            "bin_end": 2.8,
            "count": 0
           },
           {
            "bin_start": 2.8,
            "bin_end": 3,
            "count": 4
           }
          ]
         }
        },
        {
         "name": "YearsAtCompany",
         "dtype": "int64",
         "stats": {
          "unique_count": 5,
          "nan_count": 0,
          "min": "0",
          "max": "10",
          "histogram": [
           {
            "bin_start": 0,
            "bin_end": 1,
            "count": 1
           },
           {
            "bin_start": 1,
            "bin_end": 2,
            "count": 0
           },
           {
            "bin_start": 2,
            "bin_end": 3,
            "count": 1
           },
           {
            "bin_start": 3,
            "bin_end": 4,
            "count": 0
           },
           {
            "bin_start": 4,
            "bin_end": 5,
            "count": 0
           },
           {
            "bin_start": 5,
            "bin_end": 6,
            "count": 0
           },
           {
            "bin_start": 6,
            "bin_end": 7,
            "count": 1
           },
           {
            "bin_start": 7,
            "bin_end": 8,
            "count": 0
           },
           {
            "bin_start": 8,
            "bin_end": 9,
            "count": 1
           },
           {
            "bin_start": 9,
            "bin_end": 10,
            "count": 1
           }
          ]
         }
        },
        {
         "name": "YearsInCurrentRole",
         "dtype": "int64",
         "stats": {
          "unique_count": 4,
          "nan_count": 0,
          "min": "0",
          "max": "7",
          "histogram": [
           {
            "bin_start": 0,
            "bin_end": 0.7,
            "count": 1
           },
           {
            "bin_start": 0.7,
            "bin_end": 1.4,
            "count": 0
           },
           {
            "bin_start": 1.4,
            "bin_end": 2.0999999999999996,
            "count": 1
           },
           {
            "bin_start": 2.0999999999999996,
            "bin_end": 2.8,
            "count": 0
           },
           {
            "bin_start": 2.8,
            "bin_end": 3.5,
            "count": 0
           },
           {
            "bin_start": 3.5,
            "bin_end": 4.199999999999999,
            "count": 1
           },
           {
            "bin_start": 4.199999999999999,
            "bin_end": 4.8999999999999995,
            "count": 0
           },
           {
            "bin_start": 4.8999999999999995,
            "bin_end": 5.6,
            "count": 0
           },
           {
            "bin_start": 5.6,
            "bin_end": 6.3,
            "count": 0
           },
           {
            "bin_start": 6.3,
            "bin_end": 7,
            "count": 2
           }
          ]
         }
        },
        {
         "name": "YearsSinceLastPromotion",
         "dtype": "int64",
         "stats": {
          "unique_count": 4,
          "nan_count": 0,
          "min": "0",
          "max": "3",
          "histogram": [
           {
            "bin_start": 0,
            "bin_end": 0.3,
            "count": 2
           },
           {
            "bin_start": 0.3,
            "bin_end": 0.6,
            "count": 0
           },
           {
            "bin_start": 0.6,
            "bin_end": 0.8999999999999999,
            "count": 0
           },
           {
            "bin_start": 0.8999999999999999,
            "bin_end": 1.2,
            "count": 1
           },
           {
            "bin_start": 1.2,
            "bin_end": 1.5,
            "count": 0
           },
           {
            "bin_start": 1.5,
            "bin_end": 1.7999999999999998,
            "count": 0
           },
           {
            "bin_start": 1.7999999999999998,
            "bin_end": 2.1,
            "count": 1
           },
           {
            "bin_start": 2.1,
            "bin_end": 2.4,
            "count": 0
           },
           {
            "bin_start": 2.4,
            "bin_end": 2.6999999999999997,
            "count": 0
           },
           {
            "bin_start": 2.6999999999999997,
            "bin_end": 3,
            "count": 1
           }
          ]
         }
        },
        {
         "name": "YearsWithCurrManager",
         "dtype": "int64",
         "stats": {
          "unique_count": 4,
          "nan_count": 0,
          "min": "0",
          "max": "7",
          "histogram": [
           {
            "bin_start": 0,
            "bin_end": 0.7,
            "count": 2
           },
           {
            "bin_start": 0.7,
            "bin_end": 1.4,
            "count": 0
           },
           {
            "bin_start": 1.4,
            "bin_end": 2.0999999999999996,
            "count": 1
           },
           {
            "bin_start": 2.0999999999999996,
            "bin_end": 2.8,
            "count": 0
           },
           {
            "bin_start": 2.8,
            "bin_end": 3.5,
            "count": 0
           },
           {
            "bin_start": 3.5,
            "bin_end": 4.199999999999999,
            "count": 0
           },
           {
            "bin_start": 4.199999999999999,
            "bin_end": 4.8999999999999995,
            "count": 0
           },
           {
            "bin_start": 4.8999999999999995,
            "bin_end": 5.6,
            "count": 1
           },
           {
            "bin_start": 5.6,
            "bin_end": 6.3,
            "count": 0
           },
           {
            "bin_start": 6.3,
            "bin_end": 7,
            "count": 1
           }
          ]
         }
        },
        {
         "name": "_deepnote_index_column",
         "dtype": "int64"
        }
       ],
       "rows": [
        {
         "Age": 41,
         "Attrition": "Yes",
         "BusinessTravel": "Travel_Rarely",
         "DailyRate": 1102,
         "Department": "Sales",
         "DistanceFromHome": 1,
         "Education": 2,
         "EducationField": "Life Sciences",
         "EmployeeCount": 1,
         "EmployeeNumber": 1,
         "EnvironmentSatisfaction": 2,
         "Gender": "Female",
         "HourlyRate": 94,
         "JobInvolvement": 3,
         "JobLevel": 2,
         "JobRole": "Sales Executive",
         "JobSatisfaction": 4,
         "MaritalStatus": "Single",
         "MonthlyIncome": 5993,
         "MonthlyRate": 19479,
         "NumCompaniesWorked": 8,
         "Over18": "Y",
         "OverTime": "Yes",
         "PercentSalaryHike": 11,
         "PerformanceRating": 3,
         "RelationshipSatisfaction": 1,
         "StandardHours": 80,
         "StockOptionLevel": 0,
         "TotalWorkingYears": 8,
         "TrainingTimesLastYear": 0,
         "WorkLifeBalance": 1,
         "YearsAtCompany": 6,
         "YearsInCurrentRole": 4,
         "YearsSinceLastPromotion": 0,
         "YearsWithCurrManager": 5,
         "_deepnote_index_column": 0
        },
        {
         "Age": 49,
         "Attrition": "No",
         "BusinessTravel": "Travel_Frequently",
         "DailyRate": 279,
         "Department": "Research & Development",
         "DistanceFromHome": 8,
         "Education": 1,
         "EducationField": "Life Sciences",
         "EmployeeCount": 1,
         "EmployeeNumber": 2,
         "EnvironmentSatisfaction": 3,
         "Gender": "Male",
         "HourlyRate": 61,
         "JobInvolvement": 2,
         "JobLevel": 2,
         "JobRole": "Research Scientist",
         "JobSatisfaction": 2,
         "MaritalStatus": "Married",
         "MonthlyIncome": 5130,
         "MonthlyRate": 24907,
         "NumCompaniesWorked": 1,
         "Over18": "Y",
         "OverTime": "No",
         "PercentSalaryHike": 23,
         "PerformanceRating": 4,
         "RelationshipSatisfaction": 4,
         "StandardHours": 80,
         "StockOptionLevel": 1,
         "TotalWorkingYears": 10,
         "TrainingTimesLastYear": 3,
         "WorkLifeBalance": 3,
         "YearsAtCompany": 10,
         "YearsInCurrentRole": 7,
         "YearsSinceLastPromotion": 1,
         "YearsWithCurrManager": 7,
         "_deepnote_index_column": 1
        },
        {
         "Age": 37,
         "Attrition": "Yes",
         "BusinessTravel": "Travel_Rarely",
         "DailyRate": 1373,
         "Department": "Research & Development",
         "DistanceFromHome": 2,
         "Education": 2,
         "EducationField": "Other",
         "EmployeeCount": 1,
         "EmployeeNumber": 4,
         "EnvironmentSatisfaction": 4,
         "Gender": "Male",
         "HourlyRate": 92,
         "JobInvolvement": 2,
         "JobLevel": 1,
         "JobRole": "Laboratory Technician",
         "JobSatisfaction": 3,
         "MaritalStatus": "Single",
         "MonthlyIncome": 2090,
         "MonthlyRate": 2396,
         "NumCompaniesWorked": 6,
         "Over18": "Y",
         "OverTime": "Yes",
         "PercentSalaryHike": 15,
         "PerformanceRating": 3,
         "RelationshipSatisfaction": 2,
         "StandardHours": 80,
         "StockOptionLevel": 0,
         "TotalWorkingYears": 7,
         "TrainingTimesLastYear": 3,
         "WorkLifeBalance": 3,
         "YearsAtCompany": 0,
         "YearsInCurrentRole": 0,
         "YearsSinceLastPromotion": 0,
         "YearsWithCurrManager": 0,
         "_deepnote_index_column": 2
        },
        {
         "Age": 33,
         "Attrition": "No",
         "BusinessTravel": "Travel_Frequently",
         "DailyRate": 1392,
         "Department": "Research & Development",
         "DistanceFromHome": 3,
         "Education": 4,
         "EducationField": "Life Sciences",
         "EmployeeCount": 1,
         "EmployeeNumber": 5,
         "EnvironmentSatisfaction": 4,
         "Gender": "Female",
         "HourlyRate": 56,
         "JobInvolvement": 3,
         "JobLevel": 1,
         "JobRole": "Research Scientist",
         "JobSatisfaction": 3,
         "MaritalStatus": "Married",
         "MonthlyIncome": 2909,
         "MonthlyRate": 23159,
         "NumCompaniesWorked": 1,
         "Over18": "Y",
         "OverTime": "Yes",
         "PercentSalaryHike": 11,
         "PerformanceRating": 3,
         "RelationshipSatisfaction": 3,
         "StandardHours": 80,
         "StockOptionLevel": 0,
         "TotalWorkingYears": 8,
         "TrainingTimesLastYear": 3,
         "WorkLifeBalance": 3,
         "YearsAtCompany": 8,
         "YearsInCurrentRole": 7,
         "YearsSinceLastPromotion": 3,
         "YearsWithCurrManager": 0,
         "_deepnote_index_column": 3
        },
        {
         "Age": 27,
         "Attrition": "No",
         "BusinessTravel": "Travel_Rarely",
         "DailyRate": 591,
         "Department": "Research & Development",
         "DistanceFromHome": 2,
         "Education": 1,
         "EducationField": "Medical",
         "EmployeeCount": 1,
         "EmployeeNumber": 7,
         "EnvironmentSatisfaction": 1,
         "Gender": "Male",
         "HourlyRate": 40,
         "JobInvolvement": 3,
         "JobLevel": 1,
         "JobRole": "Laboratory Technician",
         "JobSatisfaction": 2,
         "MaritalStatus": "Married",
         "MonthlyIncome": 3468,
         "MonthlyRate": 16632,
         "NumCompaniesWorked": 9,
         "Over18": "Y",
         "OverTime": "No",
         "PercentSalaryHike": 12,
         "PerformanceRating": 3,
         "RelationshipSatisfaction": 4,
         "StandardHours": 80,
         "StockOptionLevel": 1,
         "TotalWorkingYears": 6,
         "TrainingTimesLastYear": 3,
         "WorkLifeBalance": 3,
         "YearsAtCompany": 2,
         "YearsInCurrentRole": 2,
         "YearsSinceLastPromotion": 2,
         "YearsWithCurrManager": 2,
         "_deepnote_index_column": 4
        }
       ]
      },
      "text/plain": "   Age Attrition     BusinessTravel  DailyRate              Department  \\\n0   41       Yes      Travel_Rarely       1102                   Sales   \n1   49        No  Travel_Frequently        279  Research & Development   \n2   37       Yes      Travel_Rarely       1373  Research & Development   \n3   33        No  Travel_Frequently       1392  Research & Development   \n4   27        No      Travel_Rarely        591  Research & Development   \n\n   DistanceFromHome  Education EducationField  EmployeeCount  EmployeeNumber  \\\n0                 1          2  Life Sciences              1               1   \n1                 8          1  Life Sciences              1               2   \n2                 2          2          Other              1               4   \n3                 3          4  Life Sciences              1               5   \n4                 2          1        Medical              1               7   \n\n   ...  RelationshipSatisfaction StandardHours  StockOptionLevel  \\\n0  ...                         1            80                 0   \n1  ...                         4            80                 1   \n2  ...                         2            80                 0   \n3  ...                         3            80                 0   \n4  ...                         4            80                 1   \n\n   TotalWorkingYears  TrainingTimesLastYear WorkLifeBalance  YearsAtCompany  \\\n0                  8                      0               1               6   \n1                 10                      3               3              10   \n2                  7                      3               3               0   \n3                  8                      3               3               8   \n4                  6                      3               3               2   \n\n  YearsInCurrentRole  YearsSinceLastPromotion  YearsWithCurrManager  \n0                  4                        0                     5  \n1                  7                        1                     7  \n2                  0                        0                     0  \n3                  7                        3                     0  \n4                  2                        2                     2  \n\n[5 rows x 35 columns]",
      "text/html": "<div>\n<style scoped>\n    .dataframe tbody tr th:only-of-type {\n        vertical-align: middle;\n    }\n\n    .dataframe tbody tr th {\n        vertical-align: top;\n    }\n\n    .dataframe thead th {\n        text-align: right;\n    }\n</style>\n<table border=\"1\" class=\"dataframe\">\n  <thead>\n    <tr style=\"text-align: right;\">\n      <th></th>\n      <th>Age</th>\n      <th>Attrition</th>\n      <th>BusinessTravel</th>\n      <th>DailyRate</th>\n      <th>Department</th>\n      <th>DistanceFromHome</th>\n      <th>Education</th>\n      <th>EducationField</th>\n      <th>EmployeeCount</th>\n      <th>EmployeeNumber</th>\n      <th>...</th>\n      <th>RelationshipSatisfaction</th>\n      <th>StandardHours</th>\n      <th>StockOptionLevel</th>\n      <th>TotalWorkingYears</th>\n      <th>TrainingTimesLastYear</th>\n      <th>WorkLifeBalance</th>\n      <th>YearsAtCompany</th>\n      <th>YearsInCurrentRole</th>\n      <th>YearsSinceLastPromotion</th>\n      <th>YearsWithCurrManager</th>\n    </tr>\n  </thead>\n  <tbody>\n    <tr>\n      <th>0</th>\n      <td>41</td>\n      <td>Yes</td>\n      <td>Travel_Rarely</td>\n      <td>1102</td>\n      <td>Sales</td>\n      <td>1</td>\n      <td>2</td>\n      <td>Life Sciences</td>\n      <td>1</td>\n      <td>1</td>\n      <td>...</td>\n      <td>1</td>\n      <td>80</td>\n      <td>0</td>\n      <td>8</td>\n      <td>0</td>\n      <td>1</td>\n      <td>6</td>\n      <td>4</td>\n      <td>0</td>\n      <td>5</td>\n    </tr>\n    <tr>\n      <th>1</th>\n      <td>49</td>\n      <td>No</td>\n      <td>Travel_Frequently</td>\n      <td>279</td>\n      <td>Research &amp; Development</td>\n      <td>8</td>\n      <td>1</td>\n      <td>Life Sciences</td>\n      <td>1</td>\n      <td>2</td>\n      <td>...</td>\n      <td>4</td>\n      <td>80</td>\n      <td>1</td>\n      <td>10</td>\n      <td>3</td>\n      <td>3</td>\n      <td>10</td>\n      <td>7</td>\n      <td>1</td>\n      <td>7</td>\n    </tr>\n    <tr>\n      <th>2</th>\n      <td>37</td>\n      <td>Yes</td>\n      <td>Travel_Rarely</td>\n      <td>1373</td>\n      <td>Research &amp; Development</td>\n      <td>2</td>\n      <td>2</td>\n      <td>Other</td>\n      <td>1</td>\n      <td>4</td>\n      <td>...</td>\n      <td>2</td>\n      <td>80</td>\n      <td>0</td>\n      <td>7</td>\n      <td>3</td>\n      <td>3</td>\n      <td>0</td>\n      <td>0</td>\n      <td>0</td>\n      <td>0</td>\n    </tr>\n    <tr>\n      <th>3</th>\n      <td>33</td>\n      <td>No</td>\n      <td>Travel_Frequently</td>\n      <td>1392</td>\n      <td>Research &amp; Development</td>\n      <td>3</td>\n      <td>4</td>\n      <td>Life Sciences</td>\n      <td>1</td>\n      <td>5</td>\n      <td>...</td>\n      <td>3</td>\n      <td>80</td>\n      <td>0</td>\n      <td>8</td>\n      <td>3</td>\n      <td>3</td>\n      <td>8</td>\n      <td>7</td>\n      <td>3</td>\n      <td>0</td>\n    </tr>\n    <tr>\n      <th>4</th>\n      <td>27</td>\n      <td>No</td>\n      <td>Travel_Rarely</td>\n      <td>591</td>\n      <td>Research &amp; Development</td>\n      <td>2</td>\n      <td>1</td>\n      <td>Medical</td>\n      <td>1</td>\n      <td>7</td>\n      <td>...</td>\n      <td>4</td>\n      <td>80</td>\n      <td>1</td>\n      <td>6</td>\n      <td>3</td>\n      <td>3</td>\n      <td>2</td>\n      <td>2</td>\n      <td>2</td>\n      <td>2</td>\n    </tr>\n  </tbody>\n</table>\n<p>5 rows × 35 columns</p>\n</div>"
     },
     "metadata": {}
    }
   ]
  },
  {
   "cell_type": "markdown",
   "source": "## 4.5. Análisis Exploratorio de datos",
   "metadata": {
    "cell_id": "2b12719c-0f9a-47b7-85c4-85b4143f49c6",
    "tags": [],
    "deepnote_cell_type": "markdown",
    "deepnote_cell_height": 70
   }
  },
  {
   "cell_type": "code",
   "metadata": {
    "cell_id": "7d0cb923-6cb2-4f71-ac68-a760e151dcad",
    "tags": [],
    "deepnote_to_be_reexecuted": false,
    "source_hash": "8a040dde",
    "execution_start": 1646737907688,
    "execution_millis": 7774,
    "deepnote_cell_type": "code",
    "deepnote_cell_height": 10437,
    "deepnote_output_heights": [
     264,
     264,
     265,
     264,
     266,
     264,
     268,
     264,
     264,
     264,
     264,
     264,
     264,
     264,
     264,
     264,
     264,
     266,
     264,
     264,
     264,
     264,
     264,
     264,
     264,
     264,
     264,
     264,
     264,
     264,
     264,
     264,
     264,
     265,
     264
    ]
   },
   "source": "for column in df_HR.columns:\n    sns.histplot(x= column,data = df_HR)\n    plt.show()",
   "execution_count": null,
   "outputs": [
    {
     "data": {
      "text/plain": "<Figure size 432x288 with 1 Axes>",
      "image/png": "[encoded data removed]"
     },
     "metadata": {
      "needs_background": "light",
      "image/png": {
       "width": 389,
       "height": 262
      }
     },
     "output_type": "display_data"
    },
    {
     "data": {
      "text/plain": "<Figure size 432x288 with 1 Axes>",
      "image/png": "[encoded data removed]"
     },
     "metadata": {
      "needs_background": "light",
      "image/png": {
       "width": 395,
       "height": 262
      }
     },
     "output_type": "display_data"
    },
    {
     "data": {
      "text/plain": "<Figure size 432x288 with 1 Axes>",
      "image/png": "[encoded data removed]"
     },
     "metadata": {
      "needs_background": "light",
      "image/png": {
       "width": 395,
       "height": 263
      }
     },
     "output_type": "display_data"
    },
    {
     "data": {
      "text/plain": "<Figure size 432x288 with 1 Axes>",
      "image/png": "[encoded data removed]"
     },
     "metadata": {
      "needs_background": "light",
      "image/png": {
       "width": 389,
       "height": 262
      }
     },
     "output_type": "display_data"
    },
    {
     "data": {
      "text/plain": "<Figure size 432x288 with 1 Axes>",
      "image/png": "[encoded data removed]"
     },
     "metadata": {
      "needs_background": "light",
      "image/png": {
       "width": 395,
       "height": 264
      }
     },
     "output_type": "display_data"
    },
    {
     "data": {
      "text/plain": "<Figure size 432x288 with 1 Axes>",
      "image/png": "[encoded data removed]"
     },
     "metadata": {
      "needs_background": "light",
      "image/png": {
       "width": 391,
       "height": 262
      }
     },
     "output_type": "display_data"
    },
    {
     "data": {
      "text/plain": "<Figure size 432x288 with 1 Axes>",
      "image/png": "[encoded data removed]"
     },
     "metadata": {
      "needs_background": "light",
      "image/png": {
       "width": 389,
       "height": 266
      }
     },
     "output_type": "display_data"
    },
    {
     "data": {
      "text/plain": "<Figure size 432x288 with 1 Axes>",
      "image/png": "[encoded data removed]"
     },
     "metadata": {
      "needs_background": "light",
      "image/png": {
       "width": 393,
       "height": 262
      }
     },
     "output_type": "display_data"
    },
    {
     "data": {
      "text/plain": "<Figure size 432x288 with 1 Axes>",
      "image/png": "[encoded data removed]"
     },
     "metadata": {
      "needs_background": "light",
      "image/png": {
       "width": 395,
       "height": 262
      }
     },
     "output_type": "display_data"
    },
    {
     "data": {
      "text/plain": "<Figure size 432x288 with 1 Axes>",
      "image/png": "[encoded data removed]"
     },
     "metadata": {
      "needs_background": "light",
      "image/png": {
       "width": 389,
       "height": 262
      }
     },
     "output_type": "display_data"
    },
    {
     "data": {
      "text/plain": "<Figure size 432x288 with 1 Axes>",
      "image/png": "[encoded data removed]"
     },
     "metadata": {
      "needs_background": "light",
      "image/png": {
       "width": 389,
       "height": 262
      }
     },
     "output_type": "display_data"
    },
    {
     "data": {
      "text/plain": "<Figure size 432x288 with 1 Axes>",
      "image/png": "[encoded data removed]"
     },
     "metadata": {
      "needs_background": "light",
      "image/png": {
       "width": 389,
       "height": 262
      }
     },
     "output_type": "display_data"
    },
    {
     "data": {
      "text/plain": "<Figure size 432x288 with 1 Axes>",
      "image/png": "[encoded data removed]"
     },
     "metadata": {
      "needs_background": "light",
      "image/png": {
       "width": 389,
       "height": 262
      }
     },
     "output_type": "display_data"
    },
    {
     "data": {
      "text/plain": "<Figure size 432x288 with 1 Axes>",
      "image/png": "[encoded data removed]"
     },
     "metadata": {
      "needs_background": "light",
      "image/png": {
       "width": 389,
       "height": 262
      }
     },
     "output_type": "display_data"
    },
    {
     "data": {
      "text/plain": "<Figure size 432x288 with 1 Axes>",
      "image/png": "[encoded data removed]"
     },
     "metadata": {
      "needs_background": "light",
      "image/png": {
       "width": 389,
       "height": 262
      }
     },
     "output_type": "display_data"
    },
    {
     "data": {
      "text/plain": "<Figure size 432x288 with 1 Axes>",
      "image/png": "[encoded data removed]"
     },
     "metadata": {
      "needs_background": "light",
      "image/png": {
       "width": 402,
       "height": 262
      }
     },
     "output_type": "display_data"
    },
    {
     "data": {
      "text/plain": "<Figure size 432x288 with 1 Axes>",
      "image/png": "[encoded data removed]"
     },
     "metadata": {
      "needs_background": "light",
      "image/png": {
       "width": 389,
       "height": 262
      }
     },
     "output_type": "display_data"
    },
    {
     "data": {
      "text/plain": "<Figure size 432x288 with 1 Axes>",
      "image/png": "[encoded data removed]"
     },
     "metadata": {
      "needs_background": "light",
      "image/png": {
       "width": 389,
       "height": 264
      }
     },
     "output_type": "display_data"
    },
    {
     "data": {
      "text/plain": "<Figure size 432x288 with 1 Axes>",
      "image/png": "[encoded data removed]"
     },
     "metadata": {
      "needs_background": "light",
      "image/png": {
       "width": 389,
       "height": 262
      }
     },
     "output_type": "display_data"
    },
    {
     "data": {
      "text/plain": "<Figure size 432x288 with 1 Axes>",
      "image/png": "[encoded data removed]"
     },
     "metadata": {
      "needs_background": "light",
      "image/png": {
       "width": 389,
       "height": 262
      }
     },
     "output_type": "display_data"
    },
    {
     "data": {
      "text/plain": "<Figure size 432x288 with 1 Axes>",
      "image/png": "[encoded data removed]"
     },
     "metadata": {
      "needs_background": "light",
      "image/png": {
       "width": 389,
       "height": 262
      }
     },
     "output_type": "display_data"
    },
    {
     "data": {
      "text/plain": "<Figure size 432x288 with 1 Axes>",
      "image/png": "[encoded data removed]"
     },
     "metadata": {
      "needs_background": "light",
      "image/png": {
       "width": 395,
       "height": 262
      }
     },
     "output_type": "display_data"
    },
    {
     "data": {
      "text/plain": "<Figure size 432x288 with 1 Axes>",
      "image/png": "[encoded data removed]"
     },
     "metadata": {
      "needs_background": "light",
      "image/png": {
       "width": 395,
       "height": 262
      }
     },
     "output_type": "display_data"
    },
    {
     "data": {
      "text/plain": "<Figure size 432x288 with 1 Axes>",
      "image/png": "[encoded data removed]"
     },
     "metadata": {
      "needs_background": "light",
      "image/png": {
       "width": 389,
       "height": 262
      }
     },
     "output_type": "display_data"
    },
    {
     "data": {
      "text/plain": "<Figure size 432x288 with 1 Axes>",
      "image/png": "[encoded data removed]"
     },
     "metadata": {
      "needs_background": "light",
      "image/png": {
       "width": 395,
       "height": 262
      }
     },
     "output_type": "display_data"
    },
    {
     "data": {
      "text/plain": "<Figure size 432x288 with 1 Axes>",
      "image/png": "[encoded data removed]"
     },
     "metadata": {
      "needs_background": "light",
      "image/png": {
       "width": 389,
       "height": 262
      }
     },
     "output_type": "display_data"
    },
    {
     "data": {
      "text/plain": "<Figure size 432x288 with 1 Axes>",
      "image/png": "[encoded data removed]"
     },
     "metadata": {
      "needs_background": "light",
      "image/png": {
       "width": 395,
       "height": 262
      }
     },
     "output_type": "display_data"
    },
    {
     "data": {
      "text/plain": "<Figure size 432x288 with 1 Axes>",
      "image/png": "[encoded data removed]"
     },
     "metadata": {
      "needs_background": "light",
      "image/png": {
       "width": 389,
       "height": 262
      }
     },
     "output_type": "display_data"
    },
    {
     "data": {
      "text/plain": "<Figure size 432x288 with 1 Axes>",
      "image/png": "[encoded data removed]"
     },
     "metadata": {
      "needs_background": "light",
      "image/png": {
       "width": 389,
       "height": 262
      }
     },
     "output_type": "display_data"
    },
    {
     "data": {
      "text/plain": "<Figure size 432x288 with 1 Axes>",
      "image/png": "[encoded data removed]"
     },
     "metadata": {
      "needs_background": "light",
      "image/png": {
       "width": 389,
       "height": 262
      }
     },
     "output_type": "display_data"
    },
    {
     "data": {
      "text/plain": "<Figure size 432x288 with 1 Axes>",
      "image/png": "[encoded data removed]"
     },
     "metadata": {
      "needs_background": "light",
      "image/png": {
       "width": 389,
       "height": 262
      }
     },
     "output_type": "display_data"
    },
    {
     "data": {
      "text/plain": "<Figure size 432x288 with 1 Axes>",
      "image/png": "[encoded data removed]"
     },
     "metadata": {
      "needs_background": "light",
      "image/png": {
       "width": 389,
       "height": 262
      }
     },
     "output_type": "display_data"
    },
    {
     "data": {
      "text/plain": "<Figure size 432x288 with 1 Axes>",
      "image/png": "[encoded data removed]"
     },
     "metadata": {
      "needs_background": "light",
      "image/png": {
       "width": 389,
       "height": 262
      }
     },
     "output_type": "display_data"
    },
    {
     "data": {
      "text/plain": "<Figure size 432x288 with 1 Axes>",
      "image/png": "[encoded data removed]"
     },
     "metadata": {
      "needs_background": "light",
      "image/png": {
       "width": 389,
       "height": 263
      }
     },
     "output_type": "display_data"
    },
    {
     "data": {
      "text/plain": "<Figure size 432x288 with 1 Axes>",
      "image/png": "[encoded data removed]"
     },
     "metadata": {
      "needs_background": "light",
      "image/png": {
       "width": 394,
       "height": 262
      }
     },
     "output_type": "display_data"
    }
   ]
  },
  {
   "cell_type": "markdown",
   "source": "## 4.6. Limpieza y Transformación de datos",
   "metadata": {
    "cell_id": "09de6471-ad0f-4918-8ac2-6874dc67e5de",
    "tags": [],
    "deepnote_cell_type": "markdown",
    "deepnote_cell_height": 70
   }
  },
  {
   "cell_type": "code",
   "metadata": {
    "cell_id": "191ce298-d552-4195-b966-310d19ac4233",
    "tags": [],
    "deepnote_to_be_reexecuted": false,
    "source_hash": "6b82fa57",
    "execution_start": 1646737915508,
    "execution_millis": 1,
    "deepnote_cell_type": "code",
    "deepnote_cell_height": 81
   },
   "source": "df_HR.drop(columns = ['EmployeeCount','Over18','StandardHours'],inplace= True)",
   "execution_count": null,
   "outputs": []
  },
  {
   "cell_type": "code",
   "metadata": {
    "cell_id": "4595584c-4001-4597-99f4-e826a21d191a",
    "tags": [],
    "deepnote_to_be_reexecuted": false,
    "source_hash": "4827c891",
    "execution_start": 1646737915510,
    "execution_millis": 28,
    "deepnote_cell_type": "code",
    "deepnote_cell_height": 359
   },
   "source": "df_HR.head(5)",
   "execution_count": null,
   "outputs": [
    {
     "output_type": "execute_result",
     "execution_count": 6,
     "data": {
      "application/vnd.deepnote.dataframe.v3+json": {
       "column_count": 32,
       "row_count": 5,
       "columns": [
        {
         "name": "Age",
         "dtype": "int64",
         "stats": {
          "unique_count": 5,
          "nan_count": 0,
          "min": "27",
          "max": "49",
          "histogram": [
           {
            "bin_start": 27,
            "bin_end": 29.2,
            "count": 1
           },
           {
            "bin_start": 29.2,
            "bin_end": 31.4,
            "count": 0
           },
           {
            "bin_start": 31.4,
            "bin_end": 33.6,
            "count": 1
           },
           {
            "bin_start": 33.6,
            "bin_end": 35.8,
            "count": 0
           },
           {
            "bin_start": 35.8,
            "bin_end": 38,
            "count": 1
           },
           {
            "bin_start": 38,
            "bin_end": 40.2,
            "count": 0
           },
           {
            "bin_start": 40.2,
            "bin_end": 42.400000000000006,
            "count": 1
           },
           {
            "bin_start": 42.400000000000006,
            "bin_end": 44.6,
            "count": 0
           },
           {
            "bin_start": 44.6,
            "bin_end": 46.8,
            "count": 0
           },
           {
            "bin_start": 46.8,
            "bin_end": 49,
            "count": 1
           }
          ]
         }
        },
        {
         "name": "Attrition",
         "dtype": "object",
         "stats": {
          "unique_count": 2,
          "nan_count": 0,
          "categories": [
           {
            "name": "No",
            "count": 3
           },
           {
            "name": "Yes",
            "count": 2
           }
          ]
         }
        },
        {
         "name": "BusinessTravel",
         "dtype": "object",
         "stats": {
          "unique_count": 2,
          "nan_count": 0,
          "categories": [
           {
            "name": "Travel_Rarely",
            "count": 3
           },
           {
            "name": "Travel_Frequently",
            "count": 2
           }
          ]
         }
        },
        {
         "name": "DailyRate",
         "dtype": "int64",
         "stats": {
          "unique_count": 5,
          "nan_count": 0,
          "min": "279",
          "max": "1392",
          "histogram": [
           {
            "bin_start": 279,
            "bin_end": 390.3,
            "count": 1
           },
           {
            "bin_start": 390.3,
            "bin_end": 501.6,
            "count": 0
           },
           {
            "bin_start": 501.6,
            "bin_end": 612.9,
            "count": 1
           },
           {
            "bin_start": 612.9,
            "bin_end": 724.2,
            "count": 0
           },
           {
            "bin_start": 724.2,
            "bin_end": 835.5,
            "count": 0
           },
           {
            "bin_start": 835.5,
            "bin_end": 946.8,
            "count": 0
           },
           {
            "bin_start": 946.8,
            "bin_end": 1058.1,
            "count": 0
           },
           {
            "bin_start": 1058.1,
            "bin_end": 1169.4,
            "count": 1
           },
           {
            "bin_start": 1169.4,
            "bin_end": 1280.6999999999998,
            "count": 0
           },
           {
            "bin_start": 1280.6999999999998,
            "bin_end": 1392,
            "count": 2
           }
          ]
         }
        },
        {
         "name": "Department",
         "dtype": "object",
         "stats": {
          "unique_count": 2,
          "nan_count": 0,
          "categories": [
           {
            "name": "Research & Development",
            "count": 4
           },
           {
            "name": "Sales",
            "count": 1
           }
          ]
         }
        },
        {
         "name": "DistanceFromHome",
         "dtype": "int64",
         "stats": {
          "unique_count": 4,
          "nan_count": 0,
          "min": "1",
          "max": "8",
          "histogram": [
           {
            "bin_start": 1,
            "bin_end": 1.7,
            "count": 1
           },
           {
            "bin_start": 1.7,
            "bin_end": 2.4,
            "count": 2
           },
           {
            "bin_start": 2.4,
            "bin_end": 3.0999999999999996,
            "count": 1
           },
           {
            "bin_start": 3.0999999999999996,
            "bin_end": 3.8,
            "count": 0
           },
           {
            "bin_start": 3.8,
            "bin_end": 4.5,
            "count": 0
           },
           {
            "bin_start": 4.5,
            "bin_end": 5.199999999999999,
            "count": 0
           },
           {
            "bin_start": 5.199999999999999,
            "bin_end": 5.8999999999999995,
            "count": 0
           },
           {
            "bin_start": 5.8999999999999995,
            "bin_end": 6.6,
            "count": 0
           },
           {
            "bin_start": 6.6,
            "bin_end": 7.3,
            "count": 0
           },
           {
            "bin_start": 7.3,
            "bin_end": 8,
            "count": 1
           }
          ]
         }
        },
        {
         "name": "Education",
         "dtype": "int64",
         "stats": {
          "unique_count": 3,
          "nan_count": 0,
          "min": "1",
          "max": "4",
          "histogram": [
           {
            "bin_start": 1,
            "bin_end": 1.3,
            "count": 2
           },
           {
            "bin_start": 1.3,
            "bin_end": 1.6,
            "count": 0
           },
           {
            "bin_start": 1.6,
            "bin_end": 1.9,
            "count": 0
           },
           {
            "bin_start": 1.9,
            "bin_end": 2.2,
            "count": 2
           },
           {
            "bin_start": 2.2,
            "bin_end": 2.5,
            "count": 0
           },
           {
            "bin_start": 2.5,
            "bin_end": 2.8,
            "count": 0
           },
           {
            "bin_start": 2.8,
            "bin_end": 3.1,
            "count": 0
           },
           {
            "bin_start": 3.1,
            "bin_end": 3.4,
            "count": 0
           },
           {
            "bin_start": 3.4,
            "bin_end": 3.6999999999999997,
            "count": 0
           },
           {
            "bin_start": 3.6999999999999997,
            "bin_end": 4,
            "count": 1
           }
          ]
         }
        },
        {
         "name": "EducationField",
         "dtype": "object",
         "stats": {
          "unique_count": 3,
          "nan_count": 0,
          "categories": [
           {
            "name": "Life Sciences",
            "count": 3
           },
           {
            "name": "Other",
            "count": 1
           },
           {
            "name": "Medical",
            "count": 1
           }
          ]
         }
        },
        {
         "name": "EmployeeNumber",
         "dtype": "int64",
         "stats": {
          "unique_count": 5,
          "nan_count": 0,
          "min": "1",
          "max": "7",
          "histogram": [
           {
            "bin_start": 1,
            "bin_end": 1.6,
            "count": 1
           },
           {
            "bin_start": 1.6,
            "bin_end": 2.2,
            "count": 1
           },
           {
            "bin_start": 2.2,
            "bin_end": 2.8,
            "count": 0
           },
           {
            "bin_start": 2.8,
            "bin_end": 3.4,
            "count": 0
           },
           {
            "bin_start": 3.4,
            "bin_end": 4,
            "count": 0
           },
           {
            "bin_start": 4,
            "bin_end": 4.6,
            "count": 1
           },
           {
            "bin_start": 4.6,
            "bin_end": 5.2,
            "count": 1
           },
           {
            "bin_start": 5.2,
            "bin_end": 5.8,
            "count": 0
           },
           {
            "bin_start": 5.8,
            "bin_end": 6.3999999999999995,
            "count": 0
           },
           {
            "bin_start": 6.3999999999999995,
            "bin_end": 7,
            "count": 1
           }
          ]
         }
        },
        {
         "name": "EnvironmentSatisfaction",
         "dtype": "int64",
         "stats": {
          "unique_count": 4,
          "nan_count": 0,
          "min": "1",
          "max": "4",
          "histogram": [
           {
            "bin_start": 1,
            "bin_end": 1.3,
            "count": 1
           },
           {
            "bin_start": 1.3,
            "bin_end": 1.6,
            "count": 0
           },
           {
            "bin_start": 1.6,
            "bin_end": 1.9,
            "count": 0
           },
           {
            "bin_start": 1.9,
            "bin_end": 2.2,
            "count": 1
           },
           {
            "bin_start": 2.2,
            "bin_end": 2.5,
            "count": 0
           },
           {
            "bin_start": 2.5,
            "bin_end": 2.8,
            "count": 0
           },
           {
            "bin_start": 2.8,
            "bin_end": 3.1,
            "count": 1
           },
           {
            "bin_start": 3.1,
            "bin_end": 3.4,
            "count": 0
           },
           {
            "bin_start": 3.4,
            "bin_end": 3.6999999999999997,
            "count": 0
           },
           {
            "bin_start": 3.6999999999999997,
            "bin_end": 4,
            "count": 2
           }
          ]
         }
        },
        {
         "name": "Gender",
         "dtype": "object",
         "stats": {
          "unique_count": 2,
          "nan_count": 0,
          "categories": [
           {
            "name": "Male",
            "count": 3
           },
           {
            "name": "Female",
            "count": 2
           }
          ]
         }
        },
        {
         "name": "HourlyRate",
         "dtype": "int64",
         "stats": {
          "unique_count": 5,
          "nan_count": 0,
          "min": "40",
          "max": "94",
          "histogram": [
           {
            "bin_start": 40,
            "bin_end": 45.4,
            "count": 1
           },
           {
            "bin_start": 45.4,
            "bin_end": 50.8,
            "count": 0
           },
           {
            "bin_start": 50.8,
            "bin_end": 56.2,
            "count": 1
           },
           {
            "bin_start": 56.2,
            "bin_end": 61.6,
            "count": 1
           },
           {
            "bin_start": 61.6,
            "bin_end": 67,
            "count": 0
           },
           {
            "bin_start": 67,
            "bin_end": 72.4,
            "count": 0
           },
           {
            "bin_start": 72.4,
            "bin_end": 77.80000000000001,
            "count": 0
           },
           {
            "bin_start": 77.80000000000001,
            "bin_end": 83.2,
            "count": 0
           },
           {
            "bin_start": 83.2,
            "bin_end": 88.6,
            "count": 0
           },
           {
            "bin_start": 88.6,
            "bin_end": 94,
            "count": 2
           }
          ]
         }
        },
        {
         "name": "JobInvolvement",
         "dtype": "int64",
         "stats": {
          "unique_count": 2,
          "nan_count": 0,
          "min": "2",
          "max": "3",
          "histogram": [
           {
            "bin_start": 2,
            "bin_end": 2.1,
            "count": 2
           },
           {
            "bin_start": 2.1,
            "bin_end": 2.2,
            "count": 0
           },
           {
            "bin_start": 2.2,
            "bin_end": 2.3,
            "count": 0
           },
           {
            "bin_start": 2.3,
            "bin_end": 2.4,
            "count": 0
           },
           {
            "bin_start": 2.4,
            "bin_end": 2.5,
            "count": 0
           },
           {
            "bin_start": 2.5,
            "bin_end": 2.6,
            "count": 0
           },
           {
            "bin_start": 2.6,
            "bin_end": 2.7,
            "count": 0
           },
           {
            "bin_start": 2.7,
            "bin_end": 2.8,
            "count": 0
           },
           {
            "bin_start": 2.8,
            "bin_end": 2.9,
            "count": 0
           },
           {
            "bin_start": 2.9,
            "bin_end": 3,
            "count": 3
           }
          ]
         }
        },
        {
         "name": "JobLevel",
         "dtype": "int64",
         "stats": {
          "unique_count": 2,
          "nan_count": 0,
          "min": "1",
          "max": "2",
          "histogram": [
           {
            "bin_start": 1,
            "bin_end": 1.1,
            "count": 3
           },
           {
            "bin_start": 1.1,
            "bin_end": 1.2,
            "count": 0
           },
           {
            "bin_start": 1.2,
            "bin_end": 1.3,
            "count": 0
           },
           {
            "bin_start": 1.3,
            "bin_end": 1.4,
            "count": 0
           },
           {
            "bin_start": 1.4,
            "bin_end": 1.5,
            "count": 0
           },
           {
            "bin_start": 1.5,
            "bin_end": 1.6,
            "count": 0
           },
           {
            "bin_start": 1.6,
            "bin_end": 1.7000000000000002,
            "count": 0
           },
           {
            "bin_start": 1.7000000000000002,
            "bin_end": 1.8,
            "count": 0
           },
           {
            "bin_start": 1.8,
            "bin_end": 1.9,
            "count": 0
           },
           {
            "bin_start": 1.9,
            "bin_end": 2,
            "count": 2
           }
          ]
         }
        },
        {
         "name": "JobRole",
         "dtype": "object",
         "stats": {
          "unique_count": 3,
          "nan_count": 0,
          "categories": [
           {
            "name": "Research Scientist",
            "count": 2
           },
           {
            "name": "Laboratory Technician",
            "count": 2
           },
           {
            "name": "Sales Executive",
            "count": 1
           }
          ]
         }
        },
        {
         "name": "JobSatisfaction",
         "dtype": "int64",
         "stats": {
          "unique_count": 3,
          "nan_count": 0,
          "min": "2",
          "max": "4",
          "histogram": [
           {
            "bin_start": 2,
            "bin_end": 2.2,
            "count": 2
           },
           {
            "bin_start": 2.2,
            "bin_end": 2.4,
            "count": 0
           },
           {
            "bin_start": 2.4,
            "bin_end": 2.6,
            "count": 0
           },
           {
            "bin_start": 2.6,
            "bin_end": 2.8,
            "count": 0
           },
           {
            "bin_start": 2.8,
            "bin_end": 3,
            "count": 0
           },
           {
            "bin_start": 3,
            "bin_end": 3.2,
            "count": 2
           },
           {
            "bin_start": 3.2,
            "bin_end": 3.4000000000000004,
            "count": 0
           },
           {
            "bin_start": 3.4000000000000004,
            "bin_end": 3.6,
            "count": 0
           },
           {
            "bin_start": 3.6,
            "bin_end": 3.8,
            "count": 0
           },
           {
            "bin_start": 3.8,
            "bin_end": 4,
            "count": 1
           }
          ]
         }
        },
        {
         "name": "MaritalStatus",
         "dtype": "object",
         "stats": {
          "unique_count": 2,
          "nan_count": 0,
          "categories": [
           {
            "name": "Married",
            "count": 3
           },
           {
            "name": "Single",
            "count": 2
           }
          ]
         }
        },
        {
         "name": "MonthlyIncome",
         "dtype": "int64",
         "stats": {
          "unique_count": 5,
          "nan_count": 0,
          "min": "2090",
          "max": "5993",
          "histogram": [
           {
            "bin_start": 2090,
            "bin_end": 2480.3,
            "count": 1
           },
           {
            "bin_start": 2480.3,
            "bin_end": 2870.6,
            "count": 0
           },
           {
            "bin_start": 2870.6,
            "bin_end": 3260.9,
            "count": 1
           },
           {
            "bin_start": 3260.9,
            "bin_end": 3651.2,
            "count": 1
           },
           {
            "bin_start": 3651.2,
            "bin_end": 4041.5,
            "count": 0
           },
           {
            "bin_start": 4041.5,
            "bin_end": 4431.8,
            "count": 0
           },
           {
            "bin_start": 4431.8,
            "bin_end": 4822.1,
            "count": 0
           },
           {
            "bin_start": 4822.1,
            "bin_end": 5212.4,
            "count": 1
           },
           {
            "bin_start": 5212.4,
            "bin_end": 5602.700000000001,
            "count": 0
           },
           {
            "bin_start": 5602.700000000001,
            "bin_end": 5993,
            "count": 1
           }
          ]
         }
        },
        {
         "name": "MonthlyRate",
         "dtype": "int64",
         "stats": {
          "unique_count": 5,
          "nan_count": 0,
          "min": "2396",
          "max": "24907",
          "histogram": [
           {
            "bin_start": 2396,
            "bin_end": 4647.1,
            "count": 1
           },
           {
            "bin_start": 4647.1,
            "bin_end": 6898.2,
            "count": 0
           },
           {
            "bin_start": 6898.2,
            "bin_end": 9149.3,
            "count": 0
           },
           {
            "bin_start": 9149.3,
            "bin_end": 11400.4,
            "count": 0
           },
           {
            "bin_start": 11400.4,
            "bin_end": 13651.5,
            "count": 0
           },
           {
            "bin_start": 13651.5,
            "bin_end": 15902.599999999999,
            "count": 0
           },
           {
            "bin_start": 15902.599999999999,
            "bin_end": 18153.699999999997,
            "count": 1
           },
           {
            "bin_start": 18153.699999999997,
            "bin_end": 20404.8,
            "count": 1
           },
           {
            "bin_start": 20404.8,
            "bin_end": 22655.899999999998,
            "count": 0
           },
           {
            "bin_start": 22655.899999999998,
            "bin_end": 24907,
            "count": 2
           }
          ]
         }
        },
        {
         "name": "NumCompaniesWorked",
         "dtype": "int64",
         "stats": {
          "unique_count": 4,
          "nan_count": 0,
          "min": "1",
          "max": "9",
          "histogram": [
           {
            "bin_start": 1,
            "bin_end": 1.8,
            "count": 2
           },
           {
            "bin_start": 1.8,
            "bin_end": 2.6,
            "count": 0
           },
           {
            "bin_start": 2.6,
            "bin_end": 3.4000000000000004,
            "count": 0
           },
           {
            "bin_start": 3.4000000000000004,
            "bin_end": 4.2,
            "count": 0
           },
           {
            "bin_start": 4.2,
            "bin_end": 5,
            "count": 0
           },
           {
            "bin_start": 5,
            "bin_end": 5.800000000000001,
            "count": 0
           },
           {
            "bin_start": 5.800000000000001,
            "bin_end": 6.6000000000000005,
            "count": 1
           },
           {
            "bin_start": 6.6000000000000005,
            "bin_end": 7.4,
            "count": 0
           },
           {
            "bin_start": 7.4,
            "bin_end": 8.2,
            "count": 1
           },
           {
            "bin_start": 8.2,
            "bin_end": 9,
            "count": 1
           }
          ]
         }
        },
        {
         "name": "OverTime",
         "dtype": "object",
         "stats": {
          "unique_count": 2,
          "nan_count": 0,
          "categories": [
           {
            "name": "Yes",
            "count": 3
           },
           {
            "name": "No",
            "count": 2
           }
          ]
         }
        },
        {
         "name": "PercentSalaryHike",
         "dtype": "int64",
         "stats": {
          "unique_count": 4,
          "nan_count": 0,
          "min": "11",
          "max": "23",
          "histogram": [
           {
            "bin_start": 11,
            "bin_end": 12.2,
            "count": 3
           },
           {
            "bin_start": 12.2,
            "bin_end": 13.4,
            "count": 0
           },
           {
            "bin_start": 13.4,
            "bin_end": 14.6,
            "count": 0
           },
           {
            "bin_start": 14.6,
            "bin_end": 15.8,
            "count": 1
           },
           {
            "bin_start": 15.8,
            "bin_end": 17,
            "count": 0
           },
           {
            "bin_start": 17,
            "bin_end": 18.2,
            "count": 0
           },
           {
            "bin_start": 18.2,
            "bin_end": 19.4,
            "count": 0
           },
           {
            "bin_start": 19.4,
            "bin_end": 20.6,
            "count": 0
           },
           {
            "bin_start": 20.6,
            "bin_end": 21.799999999999997,
            "count": 0
           },
           {
            "bin_start": 21.799999999999997,
            "bin_end": 23,
            "count": 1
           }
          ]
         }
        },
        {
         "name": "PerformanceRating",
         "dtype": "int64",
         "stats": {
          "unique_count": 2,
          "nan_count": 0,
          "min": "3",
          "max": "4",
          "histogram": [
           {
            "bin_start": 3,
            "bin_end": 3.1,
            "count": 4
           },
           {
            "bin_start": 3.1,
            "bin_end": 3.2,
            "count": 0
           },
           {
            "bin_start": 3.2,
            "bin_end": 3.3,
            "count": 0
           },
           {
            "bin_start": 3.3,
            "bin_end": 3.4,
            "count": 0
           },
           {
            "bin_start": 3.4,
            "bin_end": 3.5,
            "count": 0
           },
           {
            "bin_start": 3.5,
            "bin_end": 3.6,
            "count": 0
           },
           {
            "bin_start": 3.6,
            "bin_end": 3.7,
            "count": 0
           },
           {
            "bin_start": 3.7,
            "bin_end": 3.8,
            "count": 0
           },
           {
            "bin_start": 3.8,
            "bin_end": 3.9,
            "count": 0
           },
           {
            "bin_start": 3.9,
            "bin_end": 4,
            "count": 1
           }
          ]
         }
        },
        {
         "name": "RelationshipSatisfaction",
         "dtype": "int64",
         "stats": {
          "unique_count": 4,
          "nan_count": 0,
          "min": "1",
          "max": "4",
          "histogram": [
           {
            "bin_start": 1,
            "bin_end": 1.3,
            "count": 1
           },
           {
            "bin_start": 1.3,
            "bin_end": 1.6,
            "count": 0
           },
           {
            "bin_start": 1.6,
            "bin_end": 1.9,
            "count": 0
           },
           {
            "bin_start": 1.9,
            "bin_end": 2.2,
            "count": 1
           },
           {
            "bin_start": 2.2,
            "bin_end": 2.5,
            "count": 0
           },
           {
            "bin_start": 2.5,
            "bin_end": 2.8,
            "count": 0
           },
           {
            "bin_start": 2.8,
            "bin_end": 3.1,
            "count": 1
           },
           {
            "bin_start": 3.1,
            "bin_end": 3.4,
            "count": 0
           },
           {
            "bin_start": 3.4,
            "bin_end": 3.6999999999999997,
            "count": 0
           },
           {
            "bin_start": 3.6999999999999997,
            "bin_end": 4,
            "count": 2
           }
          ]
         }
        },
        {
         "name": "StockOptionLevel",
         "dtype": "int64",
         "stats": {
          "unique_count": 2,
          "nan_count": 0,
          "min": "0",
          "max": "1",
          "histogram": [
           {
            "bin_start": 0,
            "bin_end": 0.1,
            "count": 3
           },
           {
            "bin_start": 0.1,
            "bin_end": 0.2,
            "count": 0
           },
           {
            "bin_start": 0.2,
            "bin_end": 0.30000000000000004,
            "count": 0
           },
           {
            "bin_start": 0.30000000000000004,
            "bin_end": 0.4,
            "count": 0
           },
           {
            "bin_start": 0.4,
            "bin_end": 0.5,
            "count": 0
           },
           {
            "bin_start": 0.5,
            "bin_end": 0.6000000000000001,
            "count": 0
           },
           {
            "bin_start": 0.6000000000000001,
            "bin_end": 0.7000000000000001,
            "count": 0
           },
           {
            "bin_start": 0.7000000000000001,
            "bin_end": 0.8,
            "count": 0
           },
           {
            "bin_start": 0.8,
            "bin_end": 0.9,
            "count": 0
           },
           {
            "bin_start": 0.9,
            "bin_end": 1,
            "count": 2
           }
          ]
         }
        },
        {
         "name": "TotalWorkingYears",
         "dtype": "int64",
         "stats": {
          "unique_count": 4,
          "nan_count": 0,
          "min": "6",
          "max": "10",
          "histogram": [
           {
            "bin_start": 6,
            "bin_end": 6.4,
            "count": 1
           },
           {
            "bin_start": 6.4,
            "bin_end": 6.8,
            "count": 0
           },
           {
            "bin_start": 6.8,
            "bin_end": 7.2,
            "count": 1
           },
           {
            "bin_start": 7.2,
            "bin_end": 7.6,
            "count": 0
           },
           {
            "bin_start": 7.6,
            "bin_end": 8,
            "count": 0
           },
           {
            "bin_start": 8,
            "bin_end": 8.4,
            "count": 2
           },
           {
            "bin_start": 8.4,
            "bin_end": 8.8,
            "count": 0
           },
           {
            "bin_start": 8.8,
            "bin_end": 9.2,
            "count": 0
           },
           {
            "bin_start": 9.2,
            "bin_end": 9.6,
            "count": 0
           },
           {
            "bin_start": 9.6,
            "bin_end": 10,
            "count": 1
           }
          ]
         }
        },
        {
         "name": "TrainingTimesLastYear",
         "dtype": "int64",
         "stats": {
          "unique_count": 2,
          "nan_count": 0,
          "min": "0",
          "max": "3",
          "histogram": [
           {
            "bin_start": 0,
            "bin_end": 0.3,
            "count": 1
           },
           {
            "bin_start": 0.3,
            "bin_end": 0.6,
            "count": 0
           },
           {
            "bin_start": 0.6,
            "bin_end": 0.8999999999999999,
            "count": 0
           },
           {
            "bin_start": 0.8999999999999999,
            "bin_end": 1.2,
            "count": 0
           },
           {
            "bin_start": 1.2,
            "bin_end": 1.5,
            "count": 0
           },
           {
            "bin_start": 1.5,
            "bin_end": 1.7999999999999998,
            "count": 0
           },
           {
            "bin_start": 1.7999999999999998,
            "bin_end": 2.1,
            "count": 0
           },
           {
            "bin_start": 2.1,
            "bin_end": 2.4,
            "count": 0
           },
           {
            "bin_start": 2.4,
            "bin_end": 2.6999999999999997,
            "count": 0
           },
           {
            "bin_start": 2.6999999999999997,
            "bin_end": 3,
            "count": 4
           }
          ]
         }
        },
        {
         "name": "WorkLifeBalance",
         "dtype": "int64",
         "stats": {
          "unique_count": 2,
          "nan_count": 0,
          "min": "1",
          "max": "3",
          "histogram": [
           {
            "bin_start": 1,
            "bin_end": 1.2,
            "count": 1
           },
           {
            "bin_start": 1.2,
            "bin_end": 1.4,
            "count": 0
           },
           {
            "bin_start": 1.4,
            "bin_end": 1.6,
            "count": 0
           },
           {
            "bin_start": 1.6,
            "bin_end": 1.8,
            "count": 0
           },
           {
            "bin_start": 1.8,
            "bin_end": 2,
            "count": 0
           },
           {
            "bin_start": 2,
            "bin_end": 2.2,
            "count": 0
           },
           {
            "bin_start": 2.2,
            "bin_end": 2.4000000000000004,
            "count": 0
           },
           {
            "bin_start": 2.4000000000000004,
            "bin_end": 2.6,
            "count": 0
           },
           {
            "bin_start": 2.6,
            "bin_end": 2.8,
            "count": 0
           },
           {
            "bin_start": 2.8,
            "bin_end": 3,
            "count": 4
           }
          ]
         }
        },
        {
         "name": "YearsAtCompany",
         "dtype": "int64",
         "stats": {
          "unique_count": 5,
          "nan_count": 0,
          "min": "0",
          "max": "10",
          "histogram": [
           {
            "bin_start": 0,
            "bin_end": 1,
            "count": 1
           },
           {
            "bin_start": 1,
            "bin_end": 2,
            "count": 0
           },
           {
            "bin_start": 2,
            "bin_end": 3,
            "count": 1
           },
           {
            "bin_start": 3,
            "bin_end": 4,
            "count": 0
           },
           {
            "bin_start": 4,
            "bin_end": 5,
            "count": 0
           },
           {
            "bin_start": 5,
            "bin_end": 6,
            "count": 0
           },
           {
            "bin_start": 6,
            "bin_end": 7,
            "count": 1
           },
           {
            "bin_start": 7,
            "bin_end": 8,
            "count": 0
           },
           {
            "bin_start": 8,
            "bin_end": 9,
            "count": 1
           },
           {
            "bin_start": 9,
            "bin_end": 10,
            "count": 1
           }
          ]
         }
        },
        {
         "name": "YearsInCurrentRole",
         "dtype": "int64",
         "stats": {
          "unique_count": 4,
          "nan_count": 0,
          "min": "0",
          "max": "7",
          "histogram": [
           {
            "bin_start": 0,
            "bin_end": 0.7,
            "count": 1
           },
           {
            "bin_start": 0.7,
            "bin_end": 1.4,
            "count": 0
           },
           {
            "bin_start": 1.4,
            "bin_end": 2.0999999999999996,
            "count": 1
           },
           {
            "bin_start": 2.0999999999999996,
            "bin_end": 2.8,
            "count": 0
           },
           {
            "bin_start": 2.8,
            "bin_end": 3.5,
            "count": 0
           },
           {
            "bin_start": 3.5,
            "bin_end": 4.199999999999999,
            "count": 1
           },
           {
            "bin_start": 4.199999999999999,
            "bin_end": 4.8999999999999995,
            "count": 0
           },
           {
            "bin_start": 4.8999999999999995,
            "bin_end": 5.6,
            "count": 0
           },
           {
            "bin_start": 5.6,
            "bin_end": 6.3,
            "count": 0
           },
           {
            "bin_start": 6.3,
            "bin_end": 7,
            "count": 2
           }
          ]
         }
        },
        {
         "name": "YearsSinceLastPromotion",
         "dtype": "int64",
         "stats": {
          "unique_count": 4,
          "nan_count": 0,
          "min": "0",
          "max": "3",
          "histogram": [
           {
            "bin_start": 0,
            "bin_end": 0.3,
            "count": 2
           },
           {
            "bin_start": 0.3,
            "bin_end": 0.6,
            "count": 0
           },
           {
            "bin_start": 0.6,
            "bin_end": 0.8999999999999999,
            "count": 0
           },
           {
            "bin_start": 0.8999999999999999,
            "bin_end": 1.2,
            "count": 1
           },
           {
            "bin_start": 1.2,
            "bin_end": 1.5,
            "count": 0
           },
           {
            "bin_start": 1.5,
            "bin_end": 1.7999999999999998,
            "count": 0
           },
           {
            "bin_start": 1.7999999999999998,
            "bin_end": 2.1,
            "count": 1
           },
           {
            "bin_start": 2.1,
            "bin_end": 2.4,
            "count": 0
           },
           {
            "bin_start": 2.4,
            "bin_end": 2.6999999999999997,
            "count": 0
           },
           {
            "bin_start": 2.6999999999999997,
            "bin_end": 3,
            "count": 1
           }
          ]
         }
        },
        {
         "name": "YearsWithCurrManager",
         "dtype": "int64",
         "stats": {
          "unique_count": 4,
          "nan_count": 0,
          "min": "0",
          "max": "7",
          "histogram": [
           {
            "bin_start": 0,
            "bin_end": 0.7,
            "count": 2
           },
           {
            "bin_start": 0.7,
            "bin_end": 1.4,
            "count": 0
           },
           {
            "bin_start": 1.4,
            "bin_end": 2.0999999999999996,
            "count": 1
           },
           {
            "bin_start": 2.0999999999999996,
            "bin_end": 2.8,
            "count": 0
           },
           {
            "bin_start": 2.8,
            "bin_end": 3.5,
            "count": 0
           },
           {
            "bin_start": 3.5,
            "bin_end": 4.199999999999999,
            "count": 0
           },
           {
            "bin_start": 4.199999999999999,
            "bin_end": 4.8999999999999995,
            "count": 0
           },
           {
            "bin_start": 4.8999999999999995,
            "bin_end": 5.6,
            "count": 1
           },
           {
            "bin_start": 5.6,
            "bin_end": 6.3,
            "count": 0
           },
           {
            "bin_start": 6.3,
            "bin_end": 7,
            "count": 1
           }
          ]
         }
        },
        {
         "name": "_deepnote_index_column",
         "dtype": "int64"
        }
       ],
       "rows": [
        {
         "Age": 41,
         "Attrition": "Yes",
         "BusinessTravel": "Travel_Rarely",
         "DailyRate": 1102,
         "Department": "Sales",
         "DistanceFromHome": 1,
         "Education": 2,
         "EducationField": "Life Sciences",
         "EmployeeNumber": 1,
         "EnvironmentSatisfaction": 2,
         "Gender": "Female",
         "HourlyRate": 94,
         "JobInvolvement": 3,
         "JobLevel": 2,
         "JobRole": "Sales Executive",
         "JobSatisfaction": 4,
         "MaritalStatus": "Single",
         "MonthlyIncome": 5993,
         "MonthlyRate": 19479,
         "NumCompaniesWorked": 8,
         "OverTime": "Yes",
         "PercentSalaryHike": 11,
         "PerformanceRating": 3,
         "RelationshipSatisfaction": 1,
         "StockOptionLevel": 0,
         "TotalWorkingYears": 8,
         "TrainingTimesLastYear": 0,
         "WorkLifeBalance": 1,
         "YearsAtCompany": 6,
         "YearsInCurrentRole": 4,
         "YearsSinceLastPromotion": 0,
         "YearsWithCurrManager": 5,
         "_deepnote_index_column": 0
        },
        {
         "Age": 49,
         "Attrition": "No",
         "BusinessTravel": "Travel_Frequently",
         "DailyRate": 279,
         "Department": "Research & Development",
         "DistanceFromHome": 8,
         "Education": 1,
         "EducationField": "Life Sciences",
         "EmployeeNumber": 2,
         "EnvironmentSatisfaction": 3,
         "Gender": "Male",
         "HourlyRate": 61,
         "JobInvolvement": 2,
         "JobLevel": 2,
         "JobRole": "Research Scientist",
         "JobSatisfaction": 2,
         "MaritalStatus": "Married",
         "MonthlyIncome": 5130,
         "MonthlyRate": 24907,
         "NumCompaniesWorked": 1,
         "OverTime": "No",
         "PercentSalaryHike": 23,
         "PerformanceRating": 4,
         "RelationshipSatisfaction": 4,
         "StockOptionLevel": 1,
         "TotalWorkingYears": 10,
         "TrainingTimesLastYear": 3,
         "WorkLifeBalance": 3,
         "YearsAtCompany": 10,
         "YearsInCurrentRole": 7,
         "YearsSinceLastPromotion": 1,
         "YearsWithCurrManager": 7,
         "_deepnote_index_column": 1
        },
        {
         "Age": 37,
         "Attrition": "Yes",
         "BusinessTravel": "Travel_Rarely",
         "DailyRate": 1373,
         "Department": "Research & Development",
         "DistanceFromHome": 2,
         "Education": 2,
         "EducationField": "Other",
         "EmployeeNumber": 4,
         "EnvironmentSatisfaction": 4,
         "Gender": "Male",
         "HourlyRate": 92,
         "JobInvolvement": 2,
         "JobLevel": 1,
         "JobRole": "Laboratory Technician",
         "JobSatisfaction": 3,
         "MaritalStatus": "Single",
         "MonthlyIncome": 2090,
         "MonthlyRate": 2396,
         "NumCompaniesWorked": 6,
         "OverTime": "Yes",
         "PercentSalaryHike": 15,
         "PerformanceRating": 3,
         "RelationshipSatisfaction": 2,
         "StockOptionLevel": 0,
         "TotalWorkingYears": 7,
         "TrainingTimesLastYear": 3,
         "WorkLifeBalance": 3,
         "YearsAtCompany": 0,
         "YearsInCurrentRole": 0,
         "YearsSinceLastPromotion": 0,
         "YearsWithCurrManager": 0,
         "_deepnote_index_column": 2
        },
        {
         "Age": 33,
         "Attrition": "No",
         "BusinessTravel": "Travel_Frequently",
         "DailyRate": 1392,
         "Department": "Research & Development",
         "DistanceFromHome": 3,
         "Education": 4,
         "EducationField": "Life Sciences",
         "EmployeeNumber": 5,
         "EnvironmentSatisfaction": 4,
         "Gender": "Female",
         "HourlyRate": 56,
         "JobInvolvement": 3,
         "JobLevel": 1,
         "JobRole": "Research Scientist",
         "JobSatisfaction": 3,
         "MaritalStatus": "Married",
         "MonthlyIncome": 2909,
         "MonthlyRate": 23159,
         "NumCompaniesWorked": 1,
         "OverTime": "Yes",
         "PercentSalaryHike": 11,
         "PerformanceRating": 3,
         "RelationshipSatisfaction": 3,
         "StockOptionLevel": 0,
         "TotalWorkingYears": 8,
         "TrainingTimesLastYear": 3,
         "WorkLifeBalance": 3,
         "YearsAtCompany": 8,
         "YearsInCurrentRole": 7,
         "YearsSinceLastPromotion": 3,
         "YearsWithCurrManager": 0,
         "_deepnote_index_column": 3
        },
        {
         "Age": 27,
         "Attrition": "No",
         "BusinessTravel": "Travel_Rarely",
         "DailyRate": 591,
         "Department": "Research & Development",
         "DistanceFromHome": 2,
         "Education": 1,
         "EducationField": "Medical",
         "EmployeeNumber": 7,
         "EnvironmentSatisfaction": 1,
         "Gender": "Male",
         "HourlyRate": 40,
         "JobInvolvement": 3,
         "JobLevel": 1,
         "JobRole": "Laboratory Technician",
         "JobSatisfaction": 2,
         "MaritalStatus": "Married",
         "MonthlyIncome": 3468,
         "MonthlyRate": 16632,
         "NumCompaniesWorked": 9,
         "OverTime": "No",
         "PercentSalaryHike": 12,
         "PerformanceRating": 3,
         "RelationshipSatisfaction": 4,
         "StockOptionLevel": 1,
         "TotalWorkingYears": 6,
         "TrainingTimesLastYear": 3,
         "WorkLifeBalance": 3,
         "YearsAtCompany": 2,
         "YearsInCurrentRole": 2,
         "YearsSinceLastPromotion": 2,
         "YearsWithCurrManager": 2,
         "_deepnote_index_column": 4
        }
       ]
      },
      "text/plain": "   Age Attrition     BusinessTravel  DailyRate              Department  \\\n0   41       Yes      Travel_Rarely       1102                   Sales   \n1   49        No  Travel_Frequently        279  Research & Development   \n2   37       Yes      Travel_Rarely       1373  Research & Development   \n3   33        No  Travel_Frequently       1392  Research & Development   \n4   27        No      Travel_Rarely        591  Research & Development   \n\n   DistanceFromHome  Education EducationField  EmployeeNumber  \\\n0                 1          2  Life Sciences               1   \n1                 8          1  Life Sciences               2   \n2                 2          2          Other               4   \n3                 3          4  Life Sciences               5   \n4                 2          1        Medical               7   \n\n   EnvironmentSatisfaction  ... PerformanceRating  RelationshipSatisfaction  \\\n0                        2  ...                 3                         1   \n1                        3  ...                 4                         4   \n2                        4  ...                 3                         2   \n3                        4  ...                 3                         3   \n4                        1  ...                 3                         4   \n\n   StockOptionLevel  TotalWorkingYears TrainingTimesLastYear  WorkLifeBalance  \\\n0                 0                  8                     0                1   \n1                 1                 10                     3                3   \n2                 0                  7                     3                3   \n3                 0                  8                     3                3   \n4                 1                  6                     3                3   \n\n  YearsAtCompany  YearsInCurrentRole  YearsSinceLastPromotion  \\\n0              6                   4                        0   \n1             10                   7                        1   \n2              0                   0                        0   \n3              8                   7                        3   \n4              2                   2                        2   \n\n   YearsWithCurrManager  \n0                     5  \n1                     7  \n2                     0  \n3                     0  \n4                     2  \n\n[5 rows x 32 columns]",
      "text/html": "<div>\n<style scoped>\n    .dataframe tbody tr th:only-of-type {\n        vertical-align: middle;\n    }\n\n    .dataframe tbody tr th {\n        vertical-align: top;\n    }\n\n    .dataframe thead th {\n        text-align: right;\n    }\n</style>\n<table border=\"1\" class=\"dataframe\">\n  <thead>\n    <tr style=\"text-align: right;\">\n      <th></th>\n      <th>Age</th>\n      <th>Attrition</th>\n      <th>BusinessTravel</th>\n      <th>DailyRate</th>\n      <th>Department</th>\n      <th>DistanceFromHome</th>\n      <th>Education</th>\n      <th>EducationField</th>\n      <th>EmployeeNumber</th>\n      <th>EnvironmentSatisfaction</th>\n      <th>...</th>\n      <th>PerformanceRating</th>\n      <th>RelationshipSatisfaction</th>\n      <th>StockOptionLevel</th>\n      <th>TotalWorkingYears</th>\n      <th>TrainingTimesLastYear</th>\n      <th>WorkLifeBalance</th>\n      <th>YearsAtCompany</th>\n      <th>YearsInCurrentRole</th>\n      <th>YearsSinceLastPromotion</th>\n      <th>YearsWithCurrManager</th>\n    </tr>\n  </thead>\n  <tbody>\n    <tr>\n      <th>0</th>\n      <td>41</td>\n      <td>Yes</td>\n      <td>Travel_Rarely</td>\n      <td>1102</td>\n      <td>Sales</td>\n      <td>1</td>\n      <td>2</td>\n      <td>Life Sciences</td>\n      <td>1</td>\n      <td>2</td>\n      <td>...</td>\n      <td>3</td>\n      <td>1</td>\n      <td>0</td>\n      <td>8</td>\n      <td>0</td>\n      <td>1</td>\n      <td>6</td>\n      <td>4</td>\n      <td>0</td>\n      <td>5</td>\n    </tr>\n    <tr>\n      <th>1</th>\n      <td>49</td>\n      <td>No</td>\n      <td>Travel_Frequently</td>\n      <td>279</td>\n      <td>Research &amp; Development</td>\n      <td>8</td>\n      <td>1</td>\n      <td>Life Sciences</td>\n      <td>2</td>\n      <td>3</td>\n      <td>...</td>\n      <td>4</td>\n      <td>4</td>\n      <td>1</td>\n      <td>10</td>\n      <td>3</td>\n      <td>3</td>\n      <td>10</td>\n      <td>7</td>\n      <td>1</td>\n      <td>7</td>\n    </tr>\n    <tr>\n      <th>2</th>\n      <td>37</td>\n      <td>Yes</td>\n      <td>Travel_Rarely</td>\n      <td>1373</td>\n      <td>Research &amp; Development</td>\n      <td>2</td>\n      <td>2</td>\n      <td>Other</td>\n      <td>4</td>\n      <td>4</td>\n      <td>...</td>\n      <td>3</td>\n      <td>2</td>\n      <td>0</td>\n      <td>7</td>\n      <td>3</td>\n      <td>3</td>\n      <td>0</td>\n      <td>0</td>\n      <td>0</td>\n      <td>0</td>\n    </tr>\n    <tr>\n      <th>3</th>\n      <td>33</td>\n      <td>No</td>\n      <td>Travel_Frequently</td>\n      <td>1392</td>\n      <td>Research &amp; Development</td>\n      <td>3</td>\n      <td>4</td>\n      <td>Life Sciences</td>\n      <td>5</td>\n      <td>4</td>\n      <td>...</td>\n      <td>3</td>\n      <td>3</td>\n      <td>0</td>\n      <td>8</td>\n      <td>3</td>\n      <td>3</td>\n      <td>8</td>\n      <td>7</td>\n      <td>3</td>\n      <td>0</td>\n    </tr>\n    <tr>\n      <th>4</th>\n      <td>27</td>\n      <td>No</td>\n      <td>Travel_Rarely</td>\n      <td>591</td>\n      <td>Research &amp; Development</td>\n      <td>2</td>\n      <td>1</td>\n      <td>Medical</td>\n      <td>7</td>\n      <td>1</td>\n      <td>...</td>\n      <td>3</td>\n      <td>4</td>\n      <td>1</td>\n      <td>6</td>\n      <td>3</td>\n      <td>3</td>\n      <td>2</td>\n      <td>2</td>\n      <td>2</td>\n      <td>2</td>\n    </tr>\n  </tbody>\n</table>\n<p>5 rows × 32 columns</p>\n</div>"
     },
     "metadata": {}
    }
   ]
  },
  {
   "cell_type": "code",
   "metadata": {
    "cell_id": "754174f1-c0fa-4a21-b3e8-ed8c6ecc90c9",
    "tags": [],
    "deepnote_to_be_reexecuted": false,
    "source_hash": "8a874463",
    "execution_start": 1646737915539,
    "execution_millis": 5,
    "deepnote_cell_type": "code",
    "deepnote_cell_height": 118.1875,
    "deepnote_output_heights": [
     21.1875
    ]
   },
   "source": "df_HR['OverTime'].unique()",
   "execution_count": null,
   "outputs": [
    {
     "output_type": "execute_result",
     "execution_count": 7,
     "data": {
      "text/plain": "array(['Yes', 'No'], dtype=object)"
     },
     "metadata": {}
    }
   ]
  },
  {
   "cell_type": "code",
   "metadata": {
    "cell_id": "7f0514d3-fa9d-4e87-924a-117e587397b6",
    "tags": [],
    "deepnote_to_be_reexecuted": false,
    "source_hash": "10792249",
    "execution_start": 1646737915548,
    "execution_millis": 10,
    "deepnote_cell_type": "code",
    "deepnote_cell_height": 225
   },
   "source": "df_HR_KMeans = df_HR.copy()\n\ndf_HR_KMeans['Attrition'].replace(['No','Yes',],[0, 1], inplace=True)\ndf_HR_KMeans = df_HR_KMeans[df_HR_KMeans['Attrition']== 0]\ndf_HR_KMeans.drop(columns=['Attrition'],inplace = True)\ndf_HR_KMeans['Education'].replace(['No','Yes',],[0, 1], inplace=True)\ndf_HR_KMeans['BusinessTravel'].replace([ 'Non-Travel','Travel_Rarely', 'Travel_Frequently'],[0, 1,2], inplace=True)\ndf_HR_KMeans['Gender'].replace(['Female', 'Male'],[0, 1], inplace=True)\ndf_HR_KMeans['OverTime'].replace(['Yes', 'No'],[1, 0], inplace=True)",
   "execution_count": null,
   "outputs": []
  },
  {
   "cell_type": "code",
   "metadata": {
    "cell_id": "3581b4b5-ea46-477c-88d9-cbebf110a771",
    "tags": [],
    "deepnote_to_be_reexecuted": false,
    "source_hash": "29df3af7",
    "execution_start": 1646737915603,
    "execution_millis": 24,
    "deepnote_cell_type": "code",
    "deepnote_cell_height": 359
   },
   "source": "df_HR_KMeans.head(5)",
   "execution_count": null,
   "outputs": [
    {
     "output_type": "execute_result",
     "execution_count": 9,
     "data": {
      "application/vnd.deepnote.dataframe.v3+json": {
       "column_count": 31,
       "row_count": 5,
       "columns": [
        {
         "name": "Age",
         "dtype": "int64",
         "stats": {
          "unique_count": 5,
          "nan_count": 0,
          "min": "27",
          "max": "59",
          "histogram": [
           {
            "bin_start": 27,
            "bin_end": 30.2,
            "count": 1
           },
           {
            "bin_start": 30.2,
            "bin_end": 33.4,
            "count": 2
           },
           {
            "bin_start": 33.4,
            "bin_end": 36.6,
            "count": 0
           },
           {
            "bin_start": 36.6,
            "bin_end": 39.8,
            "count": 0
           },
           {
            "bin_start": 39.8,
            "bin_end": 43,
            "count": 0
           },
           {
            "bin_start": 43,
            "bin_end": 46.2,
            "count": 0
           },
           {
            "bin_start": 46.2,
            "bin_end": 49.400000000000006,
            "count": 1
           },
           {
            "bin_start": 49.400000000000006,
            "bin_end": 52.6,
            "count": 0
           },
           {
            "bin_start": 52.6,
            "bin_end": 55.8,
            "count": 0
           },
           {
            "bin_start": 55.8,
            "bin_end": 59,
            "count": 1
           }
          ]
         }
        },
        {
         "name": "BusinessTravel",
         "dtype": "int64",
         "stats": {
          "unique_count": 2,
          "nan_count": 0,
          "min": "1",
          "max": "2",
          "histogram": [
           {
            "bin_start": 1,
            "bin_end": 1.1,
            "count": 2
           },
           {
            "bin_start": 1.1,
            "bin_end": 1.2,
            "count": 0
           },
           {
            "bin_start": 1.2,
            "bin_end": 1.3,
            "count": 0
           },
           {
            "bin_start": 1.3,
            "bin_end": 1.4,
            "count": 0
           },
           {
            "bin_start": 1.4,
            "bin_end": 1.5,
            "count": 0
           },
           {
            "bin_start": 1.5,
            "bin_end": 1.6,
            "count": 0
           },
           {
            "bin_start": 1.6,
            "bin_end": 1.7000000000000002,
            "count": 0
           },
           {
            "bin_start": 1.7000000000000002,
            "bin_end": 1.8,
            "count": 0
           },
           {
            "bin_start": 1.8,
            "bin_end": 1.9,
            "count": 0
           },
           {
            "bin_start": 1.9,
            "bin_end": 2,
            "count": 3
           }
          ]
         }
        },
        {
         "name": "DailyRate",
         "dtype": "int64",
         "stats": {
          "unique_count": 5,
          "nan_count": 0,
          "min": "279",
          "max": "1392",
          "histogram": [
           {
            "bin_start": 279,
            "bin_end": 390.3,
            "count": 1
           },
           {
            "bin_start": 390.3,
            "bin_end": 501.6,
            "count": 0
           },
           {
            "bin_start": 501.6,
            "bin_end": 612.9,
            "count": 1
           },
           {
            "bin_start": 612.9,
            "bin_end": 724.2,
            "count": 0
           },
           {
            "bin_start": 724.2,
            "bin_end": 835.5,
            "count": 0
           },
           {
            "bin_start": 835.5,
            "bin_end": 946.8,
            "count": 0
           },
           {
            "bin_start": 946.8,
            "bin_end": 1058.1,
            "count": 1
           },
           {
            "bin_start": 1058.1,
            "bin_end": 1169.4,
            "count": 0
           },
           {
            "bin_start": 1169.4,
            "bin_end": 1280.6999999999998,
            "count": 0
           },
           {
            "bin_start": 1280.6999999999998,
            "bin_end": 1392,
            "count": 2
           }
          ]
         }
        },
        {
         "name": "Department",
         "dtype": "object",
         "stats": {
          "unique_count": 1,
          "nan_count": 0,
          "categories": [
           {
            "name": "Research & Development",
            "count": 5
           }
          ]
         }
        },
        {
         "name": "DistanceFromHome",
         "dtype": "int64",
         "stats": {
          "unique_count": 3,
          "nan_count": 0,
          "min": "2",
          "max": "8",
          "histogram": [
           {
            "bin_start": 2,
            "bin_end": 2.6,
            "count": 2
           },
           {
            "bin_start": 2.6,
            "bin_end": 3.2,
            "count": 2
           },
           {
            "bin_start": 3.2,
            "bin_end": 3.8,
            "count": 0
           },
           {
            "bin_start": 3.8,
            "bin_end": 4.4,
            "count": 0
           },
           {
            "bin_start": 4.4,
            "bin_end": 5,
            "count": 0
           },
           {
            "bin_start": 5,
            "bin_end": 5.6,
            "count": 0
           },
           {
            "bin_start": 5.6,
            "bin_end": 6.2,
            "count": 0
           },
           {
            "bin_start": 6.2,
            "bin_end": 6.8,
            "count": 0
           },
           {
            "bin_start": 6.8,
            "bin_end": 7.3999999999999995,
            "count": 0
           },
           {
            "bin_start": 7.3999999999999995,
            "bin_end": 8,
            "count": 1
           }
          ]
         }
        },
        {
         "name": "Education",
         "dtype": "int64",
         "stats": {
          "unique_count": 4,
          "nan_count": 0,
          "min": "1",
          "max": "4",
          "histogram": [
           {
            "bin_start": 1,
            "bin_end": 1.3,
            "count": 2
           },
           {
            "bin_start": 1.3,
            "bin_end": 1.6,
            "count": 0
           },
           {
            "bin_start": 1.6,
            "bin_end": 1.9,
            "count": 0
           },
           {
            "bin_start": 1.9,
            "bin_end": 2.2,
            "count": 1
           },
           {
            "bin_start": 2.2,
            "bin_end": 2.5,
            "count": 0
           },
           {
            "bin_start": 2.5,
            "bin_end": 2.8,
            "count": 0
           },
           {
            "bin_start": 2.8,
            "bin_end": 3.1,
            "count": 1
           },
           {
            "bin_start": 3.1,
            "bin_end": 3.4,
            "count": 0
           },
           {
            "bin_start": 3.4,
            "bin_end": 3.6999999999999997,
            "count": 0
           },
           {
            "bin_start": 3.6999999999999997,
            "bin_end": 4,
            "count": 1
           }
          ]
         }
        },
        {
         "name": "EducationField",
         "dtype": "object",
         "stats": {
          "unique_count": 2,
          "nan_count": 0,
          "categories": [
           {
            "name": "Life Sciences",
            "count": 3
           },
           {
            "name": "Medical",
            "count": 2
           }
          ]
         }
        },
        {
         "name": "EmployeeNumber",
         "dtype": "int64",
         "stats": {
          "unique_count": 5,
          "nan_count": 0,
          "min": "2",
          "max": "10",
          "histogram": [
           {
            "bin_start": 2,
            "bin_end": 2.8,
            "count": 1
           },
           {
            "bin_start": 2.8,
            "bin_end": 3.6,
            "count": 0
           },
           {
            "bin_start": 3.6,
            "bin_end": 4.4,
            "count": 0
           },
           {
            "bin_start": 4.4,
            "bin_end": 5.2,
            "count": 1
           },
           {
            "bin_start": 5.2,
            "bin_end": 6,
            "count": 0
           },
           {
            "bin_start": 6,
            "bin_end": 6.800000000000001,
            "count": 0
           },
           {
            "bin_start": 6.800000000000001,
            "bin_end": 7.6000000000000005,
            "count": 1
           },
           {
            "bin_start": 7.6000000000000005,
            "bin_end": 8.4,
            "count": 1
           },
           {
            "bin_start": 8.4,
            "bin_end": 9.2,
            "count": 0
           },
           {
            "bin_start": 9.2,
            "bin_end": 10,
            "count": 1
           }
          ]
         }
        },
        {
         "name": "EnvironmentSatisfaction",
         "dtype": "int64",
         "stats": {
          "unique_count": 3,
          "nan_count": 0,
          "min": "1",
          "max": "4",
          "histogram": [
           {
            "bin_start": 1,
            "bin_end": 1.3,
            "count": 1
           },
           {
            "bin_start": 1.3,
            "bin_end": 1.6,
            "count": 0
           },
           {
            "bin_start": 1.6,
            "bin_end": 1.9,
            "count": 0
           },
           {
            "bin_start": 1.9,
            "bin_end": 2.2,
            "count": 0
           },
           {
            "bin_start": 2.2,
            "bin_end": 2.5,
            "count": 0
           },
           {
            "bin_start": 2.5,
            "bin_end": 2.8,
            "count": 0
           },
           {
            "bin_start": 2.8,
            "bin_end": 3.1,
            "count": 2
           },
           {
            "bin_start": 3.1,
            "bin_end": 3.4,
            "count": 0
           },
           {
            "bin_start": 3.4,
            "bin_end": 3.6999999999999997,
            "count": 0
           },
           {
            "bin_start": 3.6999999999999997,
            "bin_end": 4,
            "count": 2
           }
          ]
         }
        },
        {
         "name": "Gender",
         "dtype": "int64",
         "stats": {
          "unique_count": 2,
          "nan_count": 0,
          "min": "0",
          "max": "1",
          "histogram": [
           {
            "bin_start": 0,
            "bin_end": 0.1,
            "count": 2
           },
           {
            "bin_start": 0.1,
            "bin_end": 0.2,
            "count": 0
           },
           {
            "bin_start": 0.2,
            "bin_end": 0.30000000000000004,
            "count": 0
           },
           {
            "bin_start": 0.30000000000000004,
            "bin_end": 0.4,
            "count": 0
           },
           {
            "bin_start": 0.4,
            "bin_end": 0.5,
            "count": 0
           },
           {
            "bin_start": 0.5,
            "bin_end": 0.6000000000000001,
            "count": 0
           },
           {
            "bin_start": 0.6000000000000001,
            "bin_end": 0.7000000000000001,
            "count": 0
           },
           {
            "bin_start": 0.7000000000000001,
            "bin_end": 0.8,
            "count": 0
           },
           {
            "bin_start": 0.8,
            "bin_end": 0.9,
            "count": 0
           },
           {
            "bin_start": 0.9,
            "bin_end": 1,
            "count": 3
           }
          ]
         }
        },
        {
         "name": "HourlyRate",
         "dtype": "int64",
         "stats": {
          "unique_count": 5,
          "nan_count": 0,
          "min": "40",
          "max": "81",
          "histogram": [
           {
            "bin_start": 40,
            "bin_end": 44.1,
            "count": 1
           },
           {
            "bin_start": 44.1,
            "bin_end": 48.2,
            "count": 0
           },
           {
            "bin_start": 48.2,
            "bin_end": 52.3,
            "count": 0
           },
           {
            "bin_start": 52.3,
            "bin_end": 56.4,
            "count": 1
           },
           {
            "bin_start": 56.4,
            "bin_end": 60.5,
            "count": 0
           },
           {
            "bin_start": 60.5,
            "bin_end": 64.6,
            "count": 1
           },
           {
            "bin_start": 64.6,
            "bin_end": 68.69999999999999,
            "count": 0
           },
           {
            "bin_start": 68.69999999999999,
            "bin_end": 72.8,
            "count": 0
           },
           {
            "bin_start": 72.8,
            "bin_end": 76.9,
            "count": 0
           },
           {
            "bin_start": 76.9,
            "bin_end": 81,
            "count": 2
           }
          ]
         }
        },
        {
         "name": "JobInvolvement",
         "dtype": "int64",
         "stats": {
          "unique_count": 3,
          "nan_count": 0,
          "min": "2",
          "max": "4",
          "histogram": [
           {
            "bin_start": 2,
            "bin_end": 2.2,
            "count": 1
           },
           {
            "bin_start": 2.2,
            "bin_end": 2.4,
            "count": 0
           },
           {
            "bin_start": 2.4,
            "bin_end": 2.6,
            "count": 0
           },
           {
            "bin_start": 2.6,
            "bin_end": 2.8,
            "count": 0
           },
           {
            "bin_start": 2.8,
            "bin_end": 3,
            "count": 0
           },
           {
            "bin_start": 3,
            "bin_end": 3.2,
            "count": 3
           },
           {
            "bin_start": 3.2,
            "bin_end": 3.4000000000000004,
            "count": 0
           },
           {
            "bin_start": 3.4000000000000004,
            "bin_end": 3.6,
            "count": 0
           },
           {
            "bin_start": 3.6,
            "bin_end": 3.8,
            "count": 0
           },
           {
            "bin_start": 3.8,
            "bin_end": 4,
            "count": 1
           }
          ]
         }
        },
        {
         "name": "JobLevel",
         "dtype": "int64",
         "stats": {
          "unique_count": 2,
          "nan_count": 0,
          "min": "1",
          "max": "2",
          "histogram": [
           {
            "bin_start": 1,
            "bin_end": 1.1,
            "count": 4
           },
           {
            "bin_start": 1.1,
            "bin_end": 1.2,
            "count": 0
           },
           {
            "bin_start": 1.2,
            "bin_end": 1.3,
            "count": 0
           },
           {
            "bin_start": 1.3,
            "bin_end": 1.4,
            "count": 0
           },
           {
            "bin_start": 1.4,
            "bin_end": 1.5,
            "count": 0
           },
           {
            "bin_start": 1.5,
            "bin_end": 1.6,
            "count": 0
           },
           {
            "bin_start": 1.6,
            "bin_end": 1.7000000000000002,
            "count": 0
           },
           {
            "bin_start": 1.7000000000000002,
            "bin_end": 1.8,
            "count": 0
           },
           {
            "bin_start": 1.8,
            "bin_end": 1.9,
            "count": 0
           },
           {
            "bin_start": 1.9,
            "bin_end": 2,
            "count": 1
           }
          ]
         }
        },
        {
         "name": "JobRole",
         "dtype": "object",
         "stats": {
          "unique_count": 2,
          "nan_count": 0,
          "categories": [
           {
            "name": "Laboratory Technician",
            "count": 3
           },
           {
            "name": "Research Scientist",
            "count": 2
           }
          ]
         }
        },
        {
         "name": "JobSatisfaction",
         "dtype": "int64",
         "stats": {
          "unique_count": 4,
          "nan_count": 0,
          "min": "1",
          "max": "4",
          "histogram": [
           {
            "bin_start": 1,
            "bin_end": 1.3,
            "count": 1
           },
           {
            "bin_start": 1.3,
            "bin_end": 1.6,
            "count": 0
           },
           {
            "bin_start": 1.6,
            "bin_end": 1.9,
            "count": 0
           },
           {
            "bin_start": 1.9,
            "bin_end": 2.2,
            "count": 2
           },
           {
            "bin_start": 2.2,
            "bin_end": 2.5,
            "count": 0
           },
           {
            "bin_start": 2.5,
            "bin_end": 2.8,
            "count": 0
           },
           {
            "bin_start": 2.8,
            "bin_end": 3.1,
            "count": 1
           },
           {
            "bin_start": 3.1,
            "bin_end": 3.4,
            "count": 0
           },
           {
            "bin_start": 3.4,
            "bin_end": 3.6999999999999997,
            "count": 0
           },
           {
            "bin_start": 3.6999999999999997,
            "bin_end": 4,
            "count": 1
           }
          ]
         }
        },
        {
         "name": "MaritalStatus",
         "dtype": "object",
         "stats": {
          "unique_count": 2,
          "nan_count": 0,
          "categories": [
           {
            "name": "Married",
            "count": 4
           },
           {
            "name": "Single",
            "count": 1
           }
          ]
         }
        },
        {
         "name": "MonthlyIncome",
         "dtype": "int64",
         "stats": {
          "unique_count": 5,
          "nan_count": 0,
          "min": "2670",
          "max": "5130",
          "histogram": [
           {
            "bin_start": 2670,
            "bin_end": 2916,
            "count": 2
           },
           {
            "bin_start": 2916,
            "bin_end": 3162,
            "count": 1
           },
           {
            "bin_start": 3162,
            "bin_end": 3408,
            "count": 0
           },
           {
            "bin_start": 3408,
            "bin_end": 3654,
            "count": 1
           },
           {
            "bin_start": 3654,
            "bin_end": 3900,
            "count": 0
           },
           {
            "bin_start": 3900,
            "bin_end": 4146,
            "count": 0
           },
           {
            "bin_start": 4146,
            "bin_end": 4392,
            "count": 0
           },
           {
            "bin_start": 4392,
            "bin_end": 4638,
            "count": 0
           },
           {
            "bin_start": 4638,
            "bin_end": 4884,
            "count": 0
           },
           {
            "bin_start": 4884,
            "bin_end": 5130,
            "count": 1
           }
          ]
         }
        },
        {
         "name": "MonthlyRate",
         "dtype": "int64",
         "stats": {
          "unique_count": 5,
          "nan_count": 0,
          "min": "9964",
          "max": "24907",
          "histogram": [
           {
            "bin_start": 9964,
            "bin_end": 11458.3,
            "count": 1
           },
           {
            "bin_start": 11458.3,
            "bin_end": 12952.6,
            "count": 1
           },
           {
            "bin_start": 12952.6,
            "bin_end": 14446.9,
            "count": 0
           },
           {
            "bin_start": 14446.9,
            "bin_end": 15941.2,
            "count": 0
           },
           {
            "bin_start": 15941.2,
            "bin_end": 17435.5,
            "count": 1
           },
           {
            "bin_start": 17435.5,
            "bin_end": 18929.8,
            "count": 0
           },
           {
            "bin_start": 18929.8,
            "bin_end": 20424.1,
            "count": 0
           },
           {
            "bin_start": 20424.1,
            "bin_end": 21918.4,
            "count": 0
           },
           {
            "bin_start": 21918.4,
            "bin_end": 23412.699999999997,
            "count": 1
           },
           {
            "bin_start": 23412.699999999997,
            "bin_end": 24907,
            "count": 1
           }
          ]
         }
        },
        {
         "name": "NumCompaniesWorked",
         "dtype": "int64",
         "stats": {
          "unique_count": 4,
          "nan_count": 0,
          "min": "0",
          "max": "9",
          "histogram": [
           {
            "bin_start": 0,
            "bin_end": 0.9,
            "count": 1
           },
           {
            "bin_start": 0.9,
            "bin_end": 1.8,
            "count": 2
           },
           {
            "bin_start": 1.8,
            "bin_end": 2.7,
            "count": 0
           },
           {
            "bin_start": 2.7,
            "bin_end": 3.6,
            "count": 0
           },
           {
            "bin_start": 3.6,
            "bin_end": 4.5,
            "count": 1
           },
           {
            "bin_start": 4.5,
            "bin_end": 5.4,
            "count": 0
           },
           {
            "bin_start": 5.4,
            "bin_end": 6.3,
            "count": 0
           },
           {
            "bin_start": 6.3,
            "bin_end": 7.2,
            "count": 0
           },
           {
            "bin_start": 7.2,
            "bin_end": 8.1,
            "count": 0
           },
           {
            "bin_start": 8.1,
            "bin_end": 9,
            "count": 1
           }
          ]
         }
        },
        {
         "name": "OverTime",
         "dtype": "int64",
         "stats": {
          "unique_count": 2,
          "nan_count": 0,
          "min": "0",
          "max": "1",
          "histogram": [
           {
            "bin_start": 0,
            "bin_end": 0.1,
            "count": 3
           },
           {
            "bin_start": 0.1,
            "bin_end": 0.2,
            "count": 0
           },
           {
            "bin_start": 0.2,
            "bin_end": 0.30000000000000004,
            "count": 0
           },
           {
            "bin_start": 0.30000000000000004,
            "bin_end": 0.4,
            "count": 0
           },
           {
            "bin_start": 0.4,
            "bin_end": 0.5,
            "count": 0
           },
           {
            "bin_start": 0.5,
            "bin_end": 0.6000000000000001,
            "count": 0
           },
           {
            "bin_start": 0.6000000000000001,
            "bin_end": 0.7000000000000001,
            "count": 0
           },
           {
            "bin_start": 0.7000000000000001,
            "bin_end": 0.8,
            "count": 0
           },
           {
            "bin_start": 0.8,
            "bin_end": 0.9,
            "count": 0
           },
           {
            "bin_start": 0.9,
            "bin_end": 1,
            "count": 2
           }
          ]
         }
        },
        {
         "name": "PercentSalaryHike",
         "dtype": "int64",
         "stats": {
          "unique_count": 5,
          "nan_count": 0,
          "min": "11",
          "max": "23",
          "histogram": [
           {
            "bin_start": 11,
            "bin_end": 12.2,
            "count": 2
           },
           {
            "bin_start": 12.2,
            "bin_end": 13.4,
            "count": 1
           },
           {
            "bin_start": 13.4,
            "bin_end": 14.6,
            "count": 0
           },
           {
            "bin_start": 14.6,
            "bin_end": 15.8,
            "count": 0
           },
           {
            "bin_start": 15.8,
            "bin_end": 17,
            "count": 0
           },
           {
            "bin_start": 17,
            "bin_end": 18.2,
            "count": 0
           },
           {
            "bin_start": 18.2,
            "bin_end": 19.4,
            "count": 0
           },
           {
            "bin_start": 19.4,
            "bin_end": 20.6,
            "count": 1
           },
           {
            "bin_start": 20.6,
            "bin_end": 21.799999999999997,
            "count": 0
           },
           {
            "bin_start": 21.799999999999997,
            "bin_end": 23,
            "count": 1
           }
          ]
         }
        },
        {
         "name": "PerformanceRating",
         "dtype": "int64",
         "stats": {
          "unique_count": 2,
          "nan_count": 0,
          "min": "3",
          "max": "4",
          "histogram": [
           {
            "bin_start": 3,
            "bin_end": 3.1,
            "count": 3
           },
           {
            "bin_start": 3.1,
            "bin_end": 3.2,
            "count": 0
           },
           {
            "bin_start": 3.2,
            "bin_end": 3.3,
            "count": 0
           },
           {
            "bin_start": 3.3,
            "bin_end": 3.4,
            "count": 0
           },
           {
            "bin_start": 3.4,
            "bin_end": 3.5,
            "count": 0
           },
           {
            "bin_start": 3.5,
            "bin_end": 3.6,
            "count": 0
           },
           {
            "bin_start": 3.6,
            "bin_end": 3.7,
            "count": 0
           },
           {
            "bin_start": 3.7,
            "bin_end": 3.8,
            "count": 0
           },
           {
            "bin_start": 3.8,
            "bin_end": 3.9,
            "count": 0
           },
           {
            "bin_start": 3.9,
            "bin_end": 4,
            "count": 2
           }
          ]
         }
        },
        {
         "name": "RelationshipSatisfaction",
         "dtype": "int64",
         "stats": {
          "unique_count": 3,
          "nan_count": 0,
          "min": "1",
          "max": "4",
          "histogram": [
           {
            "bin_start": 1,
            "bin_end": 1.3,
            "count": 1
           },
           {
            "bin_start": 1.3,
            "bin_end": 1.6,
            "count": 0
           },
           {
            "bin_start": 1.6,
            "bin_end": 1.9,
            "count": 0
           },
           {
            "bin_start": 1.9,
            "bin_end": 2.2,
            "count": 0
           },
           {
            "bin_start": 2.2,
            "bin_end": 2.5,
            "count": 0
           },
           {
            "bin_start": 2.5,
            "bin_end": 2.8,
            "count": 0
           },
           {
            "bin_start": 2.8,
            "bin_end": 3.1,
            "count": 2
           },
           {
            "bin_start": 3.1,
            "bin_end": 3.4,
            "count": 0
           },
           {
            "bin_start": 3.4,
            "bin_end": 3.6999999999999997,
            "count": 0
           },
           {
            "bin_start": 3.6999999999999997,
            "bin_end": 4,
            "count": 2
           }
          ]
         }
        },
        {
         "name": "StockOptionLevel",
         "dtype": "int64",
         "stats": {
          "unique_count": 3,
          "nan_count": 0,
          "min": "0",
          "max": "3",
          "histogram": [
           {
            "bin_start": 0,
            "bin_end": 0.3,
            "count": 2
           },
           {
            "bin_start": 0.3,
            "bin_end": 0.6,
            "count": 0
           },
           {
            "bin_start": 0.6,
            "bin_end": 0.8999999999999999,
            "count": 0
           },
           {
            "bin_start": 0.8999999999999999,
            "bin_end": 1.2,
            "count": 2
           },
           {
            "bin_start": 1.2,
            "bin_end": 1.5,
            "count": 0
           },
           {
            "bin_start": 1.5,
            "bin_end": 1.7999999999999998,
            "count": 0
           },
           {
            "bin_start": 1.7999999999999998,
            "bin_end": 2.1,
            "count": 0
           },
           {
            "bin_start": 2.1,
            "bin_end": 2.4,
            "count": 0
           },
           {
            "bin_start": 2.4,
            "bin_end": 2.6999999999999997,
            "count": 0
           },
           {
            "bin_start": 2.6999999999999997,
            "bin_end": 3,
            "count": 1
           }
          ]
         }
        },
        {
         "name": "TotalWorkingYears",
         "dtype": "int64",
         "stats": {
          "unique_count": 4,
          "nan_count": 0,
          "min": "6",
          "max": "12",
          "histogram": [
           {
            "bin_start": 6,
            "bin_end": 6.6,
            "count": 1
           },
           {
            "bin_start": 6.6,
            "bin_end": 7.2,
            "count": 0
           },
           {
            "bin_start": 7.2,
            "bin_end": 7.8,
            "count": 0
           },
           {
            "bin_start": 7.8,
            "bin_end": 8.4,
            "count": 2
           },
           {
            "bin_start": 8.4,
            "bin_end": 9,
            "count": 0
           },
           {
            "bin_start": 9,
            "bin_end": 9.6,
            "count": 0
           },
           {
            "bin_start": 9.6,
            "bin_end": 10.2,
            "count": 1
           },
           {
            "bin_start": 10.2,
            "bin_end": 10.8,
            "count": 0
           },
           {
            "bin_start": 10.8,
            "bin_end": 11.399999999999999,
            "count": 0
           },
           {
            "bin_start": 11.399999999999999,
            "bin_end": 12,
            "count": 1
           }
          ]
         }
        },
        {
         "name": "TrainingTimesLastYear",
         "dtype": "int64",
         "stats": {
          "unique_count": 2,
          "nan_count": 0,
          "min": "2",
          "max": "3",
          "histogram": [
           {
            "bin_start": 2,
            "bin_end": 2.1,
            "count": 1
           },
           {
            "bin_start": 2.1,
            "bin_end": 2.2,
            "count": 0
           },
           {
            "bin_start": 2.2,
            "bin_end": 2.3,
            "count": 0
           },
           {
            "bin_start": 2.3,
            "bin_end": 2.4,
            "count": 0
           },
           {
            "bin_start": 2.4,
            "bin_end": 2.5,
            "count": 0
           },
           {
            "bin_start": 2.5,
            "bin_end": 2.6,
            "count": 0
           },
           {
            "bin_start": 2.6,
            "bin_end": 2.7,
            "count": 0
           },
           {
            "bin_start": 2.7,
            "bin_end": 2.8,
            "count": 0
           },
           {
            "bin_start": 2.8,
            "bin_end": 2.9,
            "count": 0
           },
           {
            "bin_start": 2.9,
            "bin_end": 3,
            "count": 4
           }
          ]
         }
        },
        {
         "name": "WorkLifeBalance",
         "dtype": "int64",
         "stats": {
          "unique_count": 2,
          "nan_count": 0,
          "min": "2",
          "max": "3",
          "histogram": [
           {
            "bin_start": 2,
            "bin_end": 2.1,
            "count": 2
           },
           {
            "bin_start": 2.1,
            "bin_end": 2.2,
            "count": 0
           },
           {
            "bin_start": 2.2,
            "bin_end": 2.3,
            "count": 0
           },
           {
            "bin_start": 2.3,
            "bin_end": 2.4,
            "count": 0
           },
           {
            "bin_start": 2.4,
            "bin_end": 2.5,
            "count": 0
           },
           {
            "bin_start": 2.5,
            "bin_end": 2.6,
            "count": 0
           },
           {
            "bin_start": 2.6,
            "bin_end": 2.7,
            "count": 0
           },
           {
            "bin_start": 2.7,
            "bin_end": 2.8,
            "count": 0
           },
           {
            "bin_start": 2.8,
            "bin_end": 2.9,
            "count": 0
           },
           {
            "bin_start": 2.9,
            "bin_end": 3,
            "count": 3
           }
          ]
         }
        },
        {
         "name": "YearsAtCompany",
         "dtype": "int64",
         "stats": {
          "unique_count": 5,
          "nan_count": 0,
          "min": "1",
          "max": "10",
          "histogram": [
           {
            "bin_start": 1,
            "bin_end": 1.9,
            "count": 1
           },
           {
            "bin_start": 1.9,
            "bin_end": 2.8,
            "count": 1
           },
           {
            "bin_start": 2.8,
            "bin_end": 3.7,
            "count": 0
           },
           {
            "bin_start": 3.7,
            "bin_end": 4.6,
            "count": 0
           },
           {
            "bin_start": 4.6,
            "bin_end": 5.5,
            "count": 0
           },
           {
            "bin_start": 5.5,
            "bin_end": 6.4,
            "count": 0
           },
           {
            "bin_start": 6.4,
            "bin_end": 7.3,
            "count": 1
           },
           {
            "bin_start": 7.3,
            "bin_end": 8.2,
            "count": 1
           },
           {
            "bin_start": 8.2,
            "bin_end": 9.1,
            "count": 0
           },
           {
            "bin_start": 9.1,
            "bin_end": 10,
            "count": 1
           }
          ]
         }
        },
        {
         "name": "YearsInCurrentRole",
         "dtype": "int64",
         "stats": {
          "unique_count": 3,
          "nan_count": 0,
          "min": "0",
          "max": "7",
          "histogram": [
           {
            "bin_start": 0,
            "bin_end": 0.7,
            "count": 1
           },
           {
            "bin_start": 0.7,
            "bin_end": 1.4,
            "count": 0
           },
           {
            "bin_start": 1.4,
            "bin_end": 2.0999999999999996,
            "count": 1
           },
           {
            "bin_start": 2.0999999999999996,
            "bin_end": 2.8,
            "count": 0
           },
           {
            "bin_start": 2.8,
            "bin_end": 3.5,
            "count": 0
           },
           {
            "bin_start": 3.5,
            "bin_end": 4.199999999999999,
            "count": 0
           },
           {
            "bin_start": 4.199999999999999,
            "bin_end": 4.8999999999999995,
            "count": 0
           },
           {
            "bin_start": 4.8999999999999995,
            "bin_end": 5.6,
            "count": 0
           },
           {
            "bin_start": 5.6,
            "bin_end": 6.3,
            "count": 0
           },
           {
            "bin_start": 6.3,
            "bin_end": 7,
            "count": 3
           }
          ]
         }
        },
        {
         "name": "YearsSinceLastPromotion",
         "dtype": "int64",
         "stats": {
          "unique_count": 4,
          "nan_count": 0,
          "min": "0",
          "max": "3",
          "histogram": [
           {
            "bin_start": 0,
            "bin_end": 0.3,
            "count": 1
           },
           {
            "bin_start": 0.3,
            "bin_end": 0.6,
            "count": 0
           },
           {
            "bin_start": 0.6,
            "bin_end": 0.8999999999999999,
            "count": 0
           },
           {
            "bin_start": 0.8999999999999999,
            "bin_end": 1.2,
            "count": 1
           },
           {
            "bin_start": 1.2,
            "bin_end": 1.5,
            "count": 0
           },
           {
            "bin_start": 1.5,
            "bin_end": 1.7999999999999998,
            "count": 0
           },
           {
            "bin_start": 1.7999999999999998,
            "bin_end": 2.1,
            "count": 1
           },
           {
            "bin_start": 2.1,
            "bin_end": 2.4,
            "count": 0
           },
           {
            "bin_start": 2.4,
            "bin_end": 2.6999999999999997,
            "count": 0
           },
           {
            "bin_start": 2.6999999999999997,
            "bin_end": 3,
            "count": 2
           }
          ]
         }
        },
        {
         "name": "YearsWithCurrManager",
         "dtype": "int64",
         "stats": {
          "unique_count": 4,
          "nan_count": 0,
          "min": "0",
          "max": "7",
          "histogram": [
           {
            "bin_start": 0,
            "bin_end": 0.7,
            "count": 2
           },
           {
            "bin_start": 0.7,
            "bin_end": 1.4,
            "count": 0
           },
           {
            "bin_start": 1.4,
            "bin_end": 2.0999999999999996,
            "count": 1
           },
           {
            "bin_start": 2.0999999999999996,
            "bin_end": 2.8,
            "count": 0
           },
           {
            "bin_start": 2.8,
            "bin_end": 3.5,
            "count": 0
           },
           {
            "bin_start": 3.5,
            "bin_end": 4.199999999999999,
            "count": 0
           },
           {
            "bin_start": 4.199999999999999,
            "bin_end": 4.8999999999999995,
            "count": 0
           },
           {
            "bin_start": 4.8999999999999995,
            "bin_end": 5.6,
            "count": 0
           },
           {
            "bin_start": 5.6,
            "bin_end": 6.3,
            "count": 1
           },
           {
            "bin_start": 6.3,
            "bin_end": 7,
            "count": 1
           }
          ]
         }
        },
        {
         "name": "_deepnote_index_column",
         "dtype": "int64"
        }
       ],
       "rows": [
        {
         "Age": 49,
         "BusinessTravel": 2,
         "DailyRate": 279,
         "Department": "Research & Development",
         "DistanceFromHome": 8,
         "Education": 1,
         "EducationField": "Life Sciences",
         "EmployeeNumber": 2,
         "EnvironmentSatisfaction": 3,
         "Gender": 1,
         "HourlyRate": 61,
         "JobInvolvement": 2,
         "JobLevel": 2,
         "JobRole": "Research Scientist",
         "JobSatisfaction": 2,
         "MaritalStatus": "Married",
         "MonthlyIncome": 5130,
         "MonthlyRate": 24907,
         "NumCompaniesWorked": 1,
         "OverTime": 0,
         "PercentSalaryHike": 23,
         "PerformanceRating": 4,
         "RelationshipSatisfaction": 4,
         "StockOptionLevel": 1,
         "TotalWorkingYears": 10,
         "TrainingTimesLastYear": 3,
         "WorkLifeBalance": 3,
         "YearsAtCompany": 10,
         "YearsInCurrentRole": 7,
         "YearsSinceLastPromotion": 1,
         "YearsWithCurrManager": 7,
         "_deepnote_index_column": 1
        },
        {
         "Age": 33,
         "BusinessTravel": 2,
         "DailyRate": 1392,
         "Department": "Research & Development",
         "DistanceFromHome": 3,
         "Education": 4,
         "EducationField": "Life Sciences",
         "EmployeeNumber": 5,
         "EnvironmentSatisfaction": 4,
         "Gender": 0,
         "HourlyRate": 56,
         "JobInvolvement": 3,
         "JobLevel": 1,
         "JobRole": "Research Scientist",
         "JobSatisfaction": 3,
         "MaritalStatus": "Married",
         "MonthlyIncome": 2909,
         "MonthlyRate": 23159,
         "NumCompaniesWorked": 1,
         "OverTime": 1,
         "PercentSalaryHike": 11,
         "PerformanceRating": 3,
         "RelationshipSatisfaction": 3,
         "StockOptionLevel": 0,
         "TotalWorkingYears": 8,
         "TrainingTimesLastYear": 3,
         "WorkLifeBalance": 3,
         "YearsAtCompany": 8,
         "YearsInCurrentRole": 7,
         "YearsSinceLastPromotion": 3,
         "YearsWithCurrManager": 0,
         "_deepnote_index_column": 3
        },
        {
         "Age": 27,
         "BusinessTravel": 1,
         "DailyRate": 591,
         "Department": "Research & Development",
         "DistanceFromHome": 2,
         "Education": 1,
         "EducationField": "Medical",
         "EmployeeNumber": 7,
         "EnvironmentSatisfaction": 1,
         "Gender": 1,
         "HourlyRate": 40,
         "JobInvolvement": 3,
         "JobLevel": 1,
         "JobRole": "Laboratory Technician",
         "JobSatisfaction": 2,
         "MaritalStatus": "Married",
         "MonthlyIncome": 3468,
         "MonthlyRate": 16632,
         "NumCompaniesWorked": 9,
         "OverTime": 0,
         "PercentSalaryHike": 12,
         "PerformanceRating": 3,
         "RelationshipSatisfaction": 4,
         "StockOptionLevel": 1,
         "TotalWorkingYears": 6,
         "TrainingTimesLastYear": 3,
         "WorkLifeBalance": 3,
         "YearsAtCompany": 2,
         "YearsInCurrentRole": 2,
         "YearsSinceLastPromotion": 2,
         "YearsWithCurrManager": 2,
         "_deepnote_index_column": 4
        },
        {
         "Age": 32,
         "BusinessTravel": 2,
         "DailyRate": 1005,
         "Department": "Research & Development",
         "DistanceFromHome": 2,
         "Education": 2,
         "EducationField": "Life Sciences",
         "EmployeeNumber": 8,
         "EnvironmentSatisfaction": 4,
         "Gender": 1,
         "HourlyRate": 79,
         "JobInvolvement": 3,
         "JobLevel": 1,
         "JobRole": "Laboratory Technician",
         "JobSatisfaction": 4,
         "MaritalStatus": "Single",
         "MonthlyIncome": 3068,
         "MonthlyRate": 11864,
         "NumCompaniesWorked": 0,
         "OverTime": 0,
         "PercentSalaryHike": 13,
         "PerformanceRating": 3,
         "RelationshipSatisfaction": 3,
         "StockOptionLevel": 0,
         "TotalWorkingYears": 8,
         "TrainingTimesLastYear": 2,
         "WorkLifeBalance": 2,
         "YearsAtCompany": 7,
         "YearsInCurrentRole": 7,
         "YearsSinceLastPromotion": 3,
         "YearsWithCurrManager": 6,
         "_deepnote_index_column": 5
        },
        {
         "Age": 59,
         "BusinessTravel": 1,
         "DailyRate": 1324,
         "Department": "Research & Development",
         "DistanceFromHome": 3,
         "Education": 3,
         "EducationField": "Medical",
         "EmployeeNumber": 10,
         "EnvironmentSatisfaction": 3,
         "Gender": 0,
         "HourlyRate": 81,
         "JobInvolvement": 4,
         "JobLevel": 1,
         "JobRole": "Laboratory Technician",
         "JobSatisfaction": 1,
         "MaritalStatus": "Married",
         "MonthlyIncome": 2670,
         "MonthlyRate": 9964,
         "NumCompaniesWorked": 4,
         "OverTime": 1,
         "PercentSalaryHike": 20,
         "PerformanceRating": 4,
         "RelationshipSatisfaction": 1,
         "StockOptionLevel": 3,
         "TotalWorkingYears": 12,
         "TrainingTimesLastYear": 3,
         "WorkLifeBalance": 2,
         "YearsAtCompany": 1,
         "YearsInCurrentRole": 0,
         "YearsSinceLastPromotion": 0,
         "YearsWithCurrManager": 0,
         "_deepnote_index_column": 6
        }
       ]
      },
      "text/plain": "   Age  BusinessTravel  DailyRate              Department  DistanceFromHome  \\\n1   49               2        279  Research & Development                 8   \n3   33               2       1392  Research & Development                 3   \n4   27               1        591  Research & Development                 2   \n5   32               2       1005  Research & Development                 2   \n6   59               1       1324  Research & Development                 3   \n\n   Education EducationField  EmployeeNumber  EnvironmentSatisfaction  Gender  \\\n1          1  Life Sciences               2                        3       1   \n3          4  Life Sciences               5                        4       0   \n4          1        Medical               7                        1       1   \n5          2  Life Sciences               8                        4       1   \n6          3        Medical              10                        3       0   \n\n   ...  PerformanceRating  RelationshipSatisfaction  StockOptionLevel  \\\n1  ...                  4                         4                 1   \n3  ...                  3                         3                 0   \n4  ...                  3                         4                 1   \n5  ...                  3                         3                 0   \n6  ...                  4                         1                 3   \n\n  TotalWorkingYears  TrainingTimesLastYear WorkLifeBalance  YearsAtCompany  \\\n1                10                      3               3              10   \n3                 8                      3               3               8   \n4                 6                      3               3               2   \n5                 8                      2               2               7   \n6                12                      3               2               1   \n\n   YearsInCurrentRole  YearsSinceLastPromotion  YearsWithCurrManager  \n1                   7                        1                     7  \n3                   7                        3                     0  \n4                   2                        2                     2  \n5                   7                        3                     6  \n6                   0                        0                     0  \n\n[5 rows x 31 columns]",
      "text/html": "<div>\n<style scoped>\n    .dataframe tbody tr th:only-of-type {\n        vertical-align: middle;\n    }\n\n    .dataframe tbody tr th {\n        vertical-align: top;\n    }\n\n    .dataframe thead th {\n        text-align: right;\n    }\n</style>\n<table border=\"1\" class=\"dataframe\">\n  <thead>\n    <tr style=\"text-align: right;\">\n      <th></th>\n      <th>Age</th>\n      <th>BusinessTravel</th>\n      <th>DailyRate</th>\n      <th>Department</th>\n      <th>DistanceFromHome</th>\n      <th>Education</th>\n      <th>EducationField</th>\n      <th>EmployeeNumber</th>\n      <th>EnvironmentSatisfaction</th>\n      <th>Gender</th>\n      <th>...</th>\n      <th>PerformanceRating</th>\n      <th>RelationshipSatisfaction</th>\n      <th>StockOptionLevel</th>\n      <th>TotalWorkingYears</th>\n      <th>TrainingTimesLastYear</th>\n      <th>WorkLifeBalance</th>\n      <th>YearsAtCompany</th>\n      <th>YearsInCurrentRole</th>\n      <th>YearsSinceLastPromotion</th>\n      <th>YearsWithCurrManager</th>\n    </tr>\n  </thead>\n  <tbody>\n    <tr>\n      <th>1</th>\n      <td>49</td>\n      <td>2</td>\n      <td>279</td>\n      <td>Research &amp; Development</td>\n      <td>8</td>\n      <td>1</td>\n      <td>Life Sciences</td>\n      <td>2</td>\n      <td>3</td>\n      <td>1</td>\n      <td>...</td>\n      <td>4</td>\n      <td>4</td>\n      <td>1</td>\n      <td>10</td>\n      <td>3</td>\n      <td>3</td>\n      <td>10</td>\n      <td>7</td>\n      <td>1</td>\n      <td>7</td>\n    </tr>\n    <tr>\n      <th>3</th>\n      <td>33</td>\n      <td>2</td>\n      <td>1392</td>\n      <td>Research &amp; Development</td>\n      <td>3</td>\n      <td>4</td>\n      <td>Life Sciences</td>\n      <td>5</td>\n      <td>4</td>\n      <td>0</td>\n      <td>...</td>\n      <td>3</td>\n      <td>3</td>\n      <td>0</td>\n      <td>8</td>\n      <td>3</td>\n      <td>3</td>\n      <td>8</td>\n      <td>7</td>\n      <td>3</td>\n      <td>0</td>\n    </tr>\n    <tr>\n      <th>4</th>\n      <td>27</td>\n      <td>1</td>\n      <td>591</td>\n      <td>Research &amp; Development</td>\n      <td>2</td>\n      <td>1</td>\n      <td>Medical</td>\n      <td>7</td>\n      <td>1</td>\n      <td>1</td>\n      <td>...</td>\n      <td>3</td>\n      <td>4</td>\n      <td>1</td>\n      <td>6</td>\n      <td>3</td>\n      <td>3</td>\n      <td>2</td>\n      <td>2</td>\n      <td>2</td>\n      <td>2</td>\n    </tr>\n    <tr>\n      <th>5</th>\n      <td>32</td>\n      <td>2</td>\n      <td>1005</td>\n      <td>Research &amp; Development</td>\n      <td>2</td>\n      <td>2</td>\n      <td>Life Sciences</td>\n      <td>8</td>\n      <td>4</td>\n      <td>1</td>\n      <td>...</td>\n      <td>3</td>\n      <td>3</td>\n      <td>0</td>\n      <td>8</td>\n      <td>2</td>\n      <td>2</td>\n      <td>7</td>\n      <td>7</td>\n      <td>3</td>\n      <td>6</td>\n    </tr>\n    <tr>\n      <th>6</th>\n      <td>59</td>\n      <td>1</td>\n      <td>1324</td>\n      <td>Research &amp; Development</td>\n      <td>3</td>\n      <td>3</td>\n      <td>Medical</td>\n      <td>10</td>\n      <td>3</td>\n      <td>0</td>\n      <td>...</td>\n      <td>4</td>\n      <td>1</td>\n      <td>3</td>\n      <td>12</td>\n      <td>3</td>\n      <td>2</td>\n      <td>1</td>\n      <td>0</td>\n      <td>0</td>\n      <td>0</td>\n    </tr>\n  </tbody>\n</table>\n<p>5 rows × 31 columns</p>\n</div>"
     },
     "metadata": {}
    }
   ]
  },
  {
   "cell_type": "code",
   "metadata": {
    "cell_id": "1bda92b6-e246-411c-8870-eb106291f9d2",
    "tags": [],
    "deepnote_to_be_reexecuted": false,
    "source_hash": "b5235bb0",
    "execution_start": 1646737915634,
    "execution_millis": 132,
    "deepnote_cell_type": "code",
    "deepnote_cell_height": 503
   },
   "source": "df_HR_dummies = pd.get_dummies(df_HR_KMeans[['Department','EducationField','JobRole','MaritalStatus']])\ndf_HR_KMeans = pd.concat([df_HR_KMeans,df_HR_dummies],axis=1)\ndf_HR_KMeans.drop(columns = ['Department','EducationField','JobRole','MaritalStatus'],inplace=True)\n\n\nfor column in df_HR_KMeans.columns:\n    scaler = MinMaxScaler()\n    df_HR_KMeans[column] = scaler.fit_transform(df_HR_KMeans[column].values.reshape(-1,1))\ndf_HR_KMeans.head(5)",
   "execution_count": null,
   "outputs": [
    {
     "output_type": "execute_result",
     "execution_count": 10,
     "data": {
      "application/vnd.deepnote.dataframe.v3+json": {
       "column_count": 48,
       "row_count": 5,
       "columns": [
        {
         "name": "Age",
         "dtype": "float64",
         "stats": {
          "unique_count": 5,
          "nan_count": 0,
          "min": "0.21428571428571425",
          "max": "0.976190476190476",
          "histogram": [
           {
            "bin_start": 0.21428571428571425,
            "bin_end": 0.29047619047619044,
            "count": 1
           },
           {
            "bin_start": 0.29047619047619044,
            "bin_end": 0.3666666666666666,
            "count": 2
           },
           {
            "bin_start": 0.3666666666666666,
            "bin_end": 0.4428571428571428,
            "count": 0
           },
           {
            "bin_start": 0.4428571428571428,
            "bin_end": 0.519047619047619,
            "count": 0
           },
           {
            "bin_start": 0.519047619047619,
            "bin_end": 0.5952380952380951,
            "count": 0
           },
           {
            "bin_start": 0.5952380952380951,
            "bin_end": 0.6714285714285713,
            "count": 0
           },
           {
            "bin_start": 0.6714285714285713,
            "bin_end": 0.7476190476190476,
            "count": 1
           },
           {
            "bin_start": 0.7476190476190476,
            "bin_end": 0.8238095238095238,
            "count": 0
           },
           {
            "bin_start": 0.8238095238095238,
            "bin_end": 0.8999999999999999,
            "count": 0
           },
           {
            "bin_start": 0.8999999999999999,
            "bin_end": 0.976190476190476,
            "count": 1
           }
          ]
         }
        },
        {
         "name": "BusinessTravel",
         "dtype": "float64",
         "stats": {
          "unique_count": 2,
          "nan_count": 0,
          "min": "0.5",
          "max": "1.0",
          "histogram": [
           {
            "bin_start": 0.5,
            "bin_end": 0.55,
            "count": 2
           },
           {
            "bin_start": 0.55,
            "bin_end": 0.6,
            "count": 0
           },
           {
            "bin_start": 0.6,
            "bin_end": 0.65,
            "count": 0
           },
           {
            "bin_start": 0.65,
            "bin_end": 0.7,
            "count": 0
           },
           {
            "bin_start": 0.7,
            "bin_end": 0.75,
            "count": 0
           },
           {
            "bin_start": 0.75,
            "bin_end": 0.8,
            "count": 0
           },
           {
            "bin_start": 0.8,
            "bin_end": 0.8500000000000001,
            "count": 0
           },
           {
            "bin_start": 0.8500000000000001,
            "bin_end": 0.9,
            "count": 0
           },
           {
            "bin_start": 0.9,
            "bin_end": 0.95,
            "count": 0
           },
           {
            "bin_start": 0.95,
            "bin_end": 1,
            "count": 3
           }
          ]
         }
        },
        {
         "name": "DailyRate",
         "dtype": "float64",
         "stats": {
          "unique_count": 5,
          "nan_count": 0,
          "min": "0.12670007158196134",
          "max": "0.9234073013600572",
          "histogram": [
           {
            "bin_start": 0.12670007158196134,
            "bin_end": 0.20637079455977092,
            "count": 1
           },
           {
            "bin_start": 0.20637079455977092,
            "bin_end": 0.28604151753758056,
            "count": 0
           },
           {
            "bin_start": 0.28604151753758056,
            "bin_end": 0.36571224051539014,
            "count": 1
           },
           {
            "bin_start": 0.36571224051539014,
            "bin_end": 0.4453829634931997,
            "count": 0
           },
           {
            "bin_start": 0.4453829634931997,
            "bin_end": 0.5250536864710094,
            "count": 0
           },
           {
            "bin_start": 0.5250536864710094,
            "bin_end": 0.6047244094488189,
            "count": 0
           },
           {
            "bin_start": 0.6047244094488189,
            "bin_end": 0.6843951324266284,
            "count": 1
           },
           {
            "bin_start": 0.6843951324266284,
            "bin_end": 0.7640658554044382,
            "count": 0
           },
           {
            "bin_start": 0.7640658554044382,
            "bin_end": 0.8437365783822477,
            "count": 0
           },
           {
            "bin_start": 0.8437365783822477,
            "bin_end": 0.9234073013600572,
            "count": 2
           }
          ]
         }
        },
        {
         "name": "DistanceFromHome",
         "dtype": "float64",
         "stats": {
          "unique_count": 3,
          "nan_count": 0,
          "min": "0.03571428571428571",
          "max": "0.25",
          "histogram": [
           {
            "bin_start": 0.03571428571428571,
            "bin_end": 0.05714285714285714,
            "count": 2
           },
           {
            "bin_start": 0.05714285714285714,
            "bin_end": 0.07857142857142857,
            "count": 2
           },
           {
            "bin_start": 0.07857142857142857,
            "bin_end": 0.09999999999999999,
            "count": 0
           },
           {
            "bin_start": 0.09999999999999999,
            "bin_end": 0.12142857142857143,
            "count": 0
           },
           {
            "bin_start": 0.12142857142857143,
            "bin_end": 0.14285714285714285,
            "count": 0
           },
           {
            "bin_start": 0.14285714285714285,
            "bin_end": 0.16428571428571426,
            "count": 0
           },
           {
            "bin_start": 0.16428571428571426,
            "bin_end": 0.18571428571428572,
            "count": 0
           },
           {
            "bin_start": 0.18571428571428572,
            "bin_end": 0.20714285714285713,
            "count": 0
           },
           {
            "bin_start": 0.20714285714285713,
            "bin_end": 0.2285714285714286,
            "count": 0
           },
           {
            "bin_start": 0.2285714285714286,
            "bin_end": 0.25,
            "count": 1
           }
          ]
         }
        },
        {
         "name": "Education",
         "dtype": "float64",
         "stats": {
          "unique_count": 4,
          "nan_count": 0,
          "min": "0.0",
          "max": "0.75",
          "histogram": [
           {
            "bin_start": 0,
            "bin_end": 0.075,
            "count": 2
           },
           {
            "bin_start": 0.075,
            "bin_end": 0.15,
            "count": 0
           },
           {
            "bin_start": 0.15,
            "bin_end": 0.22499999999999998,
            "count": 0
           },
           {
            "bin_start": 0.22499999999999998,
            "bin_end": 0.3,
            "count": 1
           },
           {
            "bin_start": 0.3,
            "bin_end": 0.375,
            "count": 0
           },
           {
            "bin_start": 0.375,
            "bin_end": 0.44999999999999996,
            "count": 0
           },
           {
            "bin_start": 0.44999999999999996,
            "bin_end": 0.525,
            "count": 1
           },
           {
            "bin_start": 0.525,
            "bin_end": 0.6,
            "count": 0
           },
           {
            "bin_start": 0.6,
            "bin_end": 0.6749999999999999,
            "count": 0
           },
           {
            "bin_start": 0.6749999999999999,
            "bin_end": 0.75,
            "count": 1
           }
          ]
         }
        },
        {
         "name": "EmployeeNumber",
         "dtype": "float64",
         "stats": {
          "unique_count": 5,
          "nan_count": 0,
          "min": "0.0",
          "max": "0.0038722168441432726",
          "histogram": [
           {
            "bin_start": 0,
            "bin_end": 0.0003872216844143273,
            "count": 1
           },
           {
            "bin_start": 0.0003872216844143273,
            "bin_end": 0.0007744433688286546,
            "count": 0
           },
           {
            "bin_start": 0.0007744433688286546,
            "bin_end": 0.0011616650532429817,
            "count": 0
           },
           {
            "bin_start": 0.0011616650532429817,
            "bin_end": 0.0015488867376573091,
            "count": 1
           },
           {
            "bin_start": 0.0015488867376573091,
            "bin_end": 0.0019361084220716365,
            "count": 0
           },
           {
            "bin_start": 0.0019361084220716365,
            "bin_end": 0.0023233301064859635,
            "count": 0
           },
           {
            "bin_start": 0.0023233301064859635,
            "bin_end": 0.002710551790900291,
            "count": 1
           },
           {
            "bin_start": 0.002710551790900291,
            "bin_end": 0.0030977734753146182,
            "count": 1
           },
           {
            "bin_start": 0.0030977734753146182,
            "bin_end": 0.0034849951597289456,
            "count": 0
           },
           {
            "bin_start": 0.0034849951597289456,
            "bin_end": 0.0038722168441432726,
            "count": 1
           }
          ]
         }
        },
        {
         "name": "EnvironmentSatisfaction",
         "dtype": "float64",
         "stats": {
          "unique_count": 3,
          "nan_count": 0,
          "min": "0.0",
          "max": "1.0",
          "histogram": [
           {
            "bin_start": 0,
            "bin_end": 0.1,
            "count": 1
           },
           {
            "bin_start": 0.1,
            "bin_end": 0.2,
            "count": 0
           },
           {
            "bin_start": 0.2,
            "bin_end": 0.30000000000000004,
            "count": 0
           },
           {
            "bin_start": 0.30000000000000004,
            "bin_end": 0.4,
            "count": 0
           },
           {
            "bin_start": 0.4,
            "bin_end": 0.5,
            "count": 0
           },
           {
            "bin_start": 0.5,
            "bin_end": 0.6000000000000001,
            "count": 0
           },
           {
            "bin_start": 0.6000000000000001,
            "bin_end": 0.7000000000000001,
            "count": 2
           },
           {
            "bin_start": 0.7000000000000001,
            "bin_end": 0.8,
            "count": 0
           },
           {
            "bin_start": 0.8,
            "bin_end": 0.9,
            "count": 0
           },
           {
            "bin_start": 0.9,
            "bin_end": 1,
            "count": 2
           }
          ]
         }
        },
        {
         "name": "Gender",
         "dtype": "float64",
         "stats": {
          "unique_count": 2,
          "nan_count": 0,
          "min": "0.0",
          "max": "1.0",
          "histogram": [
           {
            "bin_start": 0,
            "bin_end": 0.1,
            "count": 2
           },
           {
            "bin_start": 0.1,
            "bin_end": 0.2,
            "count": 0
           },
           {
            "bin_start": 0.2,
            "bin_end": 0.30000000000000004,
            "count": 0
           },
           {
            "bin_start": 0.30000000000000004,
            "bin_end": 0.4,
            "count": 0
           },
           {
            "bin_start": 0.4,
            "bin_end": 0.5,
            "count": 0
           },
           {
            "bin_start": 0.5,
            "bin_end": 0.6000000000000001,
            "count": 0
           },
           {
            "bin_start": 0.6000000000000001,
            "bin_end": 0.7000000000000001,
            "count": 0
           },
           {
            "bin_start": 0.7000000000000001,
            "bin_end": 0.8,
            "count": 0
           },
           {
            "bin_start": 0.8,
            "bin_end": 0.9,
            "count": 0
           },
           {
            "bin_start": 0.9,
            "bin_end": 1,
            "count": 3
           }
          ]
         }
        },
        {
         "name": "HourlyRate",
         "dtype": "float64",
         "stats": {
          "unique_count": 5,
          "nan_count": 0,
          "min": "0.14285714285714285",
          "max": "0.7285714285714284",
          "histogram": [
           {
            "bin_start": 0.14285714285714285,
            "bin_end": 0.2014285714285714,
            "count": 1
           },
           {
            "bin_start": 0.2014285714285714,
            "bin_end": 0.26,
            "count": 0
           },
           {
            "bin_start": 0.26,
            "bin_end": 0.31857142857142856,
            "count": 0
           },
           {
            "bin_start": 0.31857142857142856,
            "bin_end": 0.3771428571428571,
            "count": 1
           },
           {
            "bin_start": 0.3771428571428571,
            "bin_end": 0.43571428571428567,
            "count": 0
           },
           {
            "bin_start": 0.43571428571428567,
            "bin_end": 0.4942857142857143,
            "count": 1
           },
           {
            "bin_start": 0.4942857142857143,
            "bin_end": 0.5528571428571428,
            "count": 0
           },
           {
            "bin_start": 0.5528571428571428,
            "bin_end": 0.6114285714285714,
            "count": 0
           },
           {
            "bin_start": 0.6114285714285714,
            "bin_end": 0.6699999999999999,
            "count": 0
           },
           {
            "bin_start": 0.6699999999999999,
            "bin_end": 0.7285714285714284,
            "count": 2
           }
          ]
         }
        },
        {
         "name": "JobInvolvement",
         "dtype": "float64",
         "stats": {
          "unique_count": 3,
          "nan_count": 0,
          "min": "0.3333333333333333",
          "max": "1.0",
          "histogram": [
           {
            "bin_start": 0.3333333333333333,
            "bin_end": 0.4,
            "count": 1
           },
           {
            "bin_start": 0.4,
            "bin_end": 0.4666666666666667,
            "count": 0
           },
           {
            "bin_start": 0.4666666666666667,
            "bin_end": 0.5333333333333333,
            "count": 0
           },
           {
            "bin_start": 0.5333333333333333,
            "bin_end": 0.6000000000000001,
            "count": 0
           },
           {
            "bin_start": 0.6000000000000001,
            "bin_end": 0.6666666666666667,
            "count": 0
           },
           {
            "bin_start": 0.6666666666666667,
            "bin_end": 0.7333333333333334,
            "count": 3
           },
           {
            "bin_start": 0.7333333333333334,
            "bin_end": 0.8,
            "count": 0
           },
           {
            "bin_start": 0.8,
            "bin_end": 0.8666666666666667,
            "count": 0
           },
           {
            "bin_start": 0.8666666666666667,
            "bin_end": 0.9333333333333333,
            "count": 0
           },
           {
            "bin_start": 0.9333333333333333,
            "bin_end": 1,
            "count": 1
           }
          ]
         }
        },
        {
         "name": "JobLevel",
         "dtype": "float64",
         "stats": {
          "unique_count": 2,
          "nan_count": 0,
          "min": "0.0",
          "max": "0.25",
          "histogram": [
           {
            "bin_start": 0,
            "bin_end": 0.025,
            "count": 4
           },
           {
            "bin_start": 0.025,
            "bin_end": 0.05,
            "count": 0
           },
           {
            "bin_start": 0.05,
            "bin_end": 0.07500000000000001,
            "count": 0
           },
           {
            "bin_start": 0.07500000000000001,
            "bin_end": 0.1,
            "count": 0
           },
           {
            "bin_start": 0.1,
            "bin_end": 0.125,
            "count": 0
           },
           {
            "bin_start": 0.125,
            "bin_end": 0.15000000000000002,
            "count": 0
           },
           {
            "bin_start": 0.15000000000000002,
            "bin_end": 0.17500000000000002,
            "count": 0
           },
           {
            "bin_start": 0.17500000000000002,
            "bin_end": 0.2,
            "count": 0
           },
           {
            "bin_start": 0.2,
            "bin_end": 0.225,
            "count": 0
           },
           {
            "bin_start": 0.225,
            "bin_end": 0.25,
            "count": 1
           }
          ]
         }
        },
        {
         "name": "JobSatisfaction",
         "dtype": "float64",
         "stats": {
          "unique_count": 4,
          "nan_count": 0,
          "min": "0.0",
          "max": "1.0",
          "histogram": [
           {
            "bin_start": 0,
            "bin_end": 0.1,
            "count": 1
           },
           {
            "bin_start": 0.1,
            "bin_end": 0.2,
            "count": 0
           },
           {
            "bin_start": 0.2,
            "bin_end": 0.30000000000000004,
            "count": 0
           },
           {
            "bin_start": 0.30000000000000004,
            "bin_end": 0.4,
            "count": 2
           },
           {
            "bin_start": 0.4,
            "bin_end": 0.5,
            "count": 0
           },
           {
            "bin_start": 0.5,
            "bin_end": 0.6000000000000001,
            "count": 0
           },
           {
            "bin_start": 0.6000000000000001,
            "bin_end": 0.7000000000000001,
            "count": 1
           },
           {
            "bin_start": 0.7000000000000001,
            "bin_end": 0.8,
            "count": 0
           },
           {
            "bin_start": 0.8,
            "bin_end": 0.9,
            "count": 0
           },
           {
            "bin_start": 0.9,
            "bin_end": 1,
            "count": 1
           }
          ]
         }
        },
        {
         "name": "MonthlyIncome",
         "dtype": "float64",
         "stats": {
          "unique_count": 5,
          "nan_count": 0,
          "min": "0.08544437407641967",
          "max": "0.21527337977622968",
          "histogram": [
           {
            "bin_start": 0.08544437407641967,
            "bin_end": 0.09842727464640066,
            "count": 2
           },
           {
            "bin_start": 0.09842727464640066,
            "bin_end": 0.11141017521638166,
            "count": 1
           },
           {
            "bin_start": 0.11141017521638166,
            "bin_end": 0.12439307578636268,
            "count": 0
           },
           {
            "bin_start": 0.12439307578636268,
            "bin_end": 0.1373759763563437,
            "count": 1
           },
           {
            "bin_start": 0.1373759763563437,
            "bin_end": 0.15035887692632466,
            "count": 0
           },
           {
            "bin_start": 0.15035887692632466,
            "bin_end": 0.16334177749630568,
            "count": 0
           },
           {
            "bin_start": 0.16334177749630568,
            "bin_end": 0.17632467806628668,
            "count": 0
           },
           {
            "bin_start": 0.17632467806628668,
            "bin_end": 0.18930757863626768,
            "count": 0
           },
           {
            "bin_start": 0.18930757863626768,
            "bin_end": 0.20229047920624868,
            "count": 0
           },
           {
            "bin_start": 0.20229047920624868,
            "bin_end": 0.21527337977622968,
            "count": 1
           }
          ]
         }
        },
        {
         "name": "MonthlyRate",
         "dtype": "float64",
         "stats": {
          "unique_count": 5,
          "nan_count": 0,
          "min": "0.31602618158454804",
          "max": "0.9160743685499739",
          "histogram": [
           {
            "bin_start": 0.31602618158454804,
            "bin_end": 0.37603100028109065,
            "count": 1
           },
           {
            "bin_start": 0.37603100028109065,
            "bin_end": 0.4360358189776332,
            "count": 1
           },
           {
            "bin_start": 0.4360358189776332,
            "bin_end": 0.49604063767417583,
            "count": 0
           },
           {
            "bin_start": 0.49604063767417583,
            "bin_end": 0.5560454563707184,
            "count": 0
           },
           {
            "bin_start": 0.5560454563707184,
            "bin_end": 0.616050275067261,
            "count": 1
           },
           {
            "bin_start": 0.616050275067261,
            "bin_end": 0.6760550937638037,
            "count": 0
           },
           {
            "bin_start": 0.6760550937638037,
            "bin_end": 0.7360599124603462,
            "count": 0
           },
           {
            "bin_start": 0.7360599124603462,
            "bin_end": 0.7960647311568888,
            "count": 0
           },
           {
            "bin_start": 0.7960647311568888,
            "bin_end": 0.8560695498534314,
            "count": 1
           },
           {
            "bin_start": 0.8560695498534314,
            "bin_end": 0.9160743685499739,
            "count": 1
           }
          ]
         }
        },
        {
         "name": "NumCompaniesWorked",
         "dtype": "float64",
         "stats": {
          "unique_count": 4,
          "nan_count": 0,
          "min": "0.0",
          "max": "1.0",
          "histogram": [
           {
            "bin_start": 0,
            "bin_end": 0.1,
            "count": 1
           },
           {
            "bin_start": 0.1,
            "bin_end": 0.2,
            "count": 2
           },
           {
            "bin_start": 0.2,
            "bin_end": 0.30000000000000004,
            "count": 0
           },
           {
            "bin_start": 0.30000000000000004,
            "bin_end": 0.4,
            "count": 0
           },
           {
            "bin_start": 0.4,
            "bin_end": 0.5,
            "count": 1
           },
           {
            "bin_start": 0.5,
            "bin_end": 0.6000000000000001,
            "count": 0
           },
           {
            "bin_start": 0.6000000000000001,
            "bin_end": 0.7000000000000001,
            "count": 0
           },
           {
            "bin_start": 0.7000000000000001,
            "bin_end": 0.8,
            "count": 0
           },
           {
            "bin_start": 0.8,
            "bin_end": 0.9,
            "count": 0
           },
           {
            "bin_start": 0.9,
            "bin_end": 1,
            "count": 1
           }
          ]
         }
        },
        {
         "name": "OverTime",
         "dtype": "float64",
         "stats": {
          "unique_count": 2,
          "nan_count": 0,
          "min": "0.0",
          "max": "1.0",
          "histogram": [
           {
            "bin_start": 0,
            "bin_end": 0.1,
            "count": 3
           },
           {
            "bin_start": 0.1,
            "bin_end": 0.2,
            "count": 0
           },
           {
            "bin_start": 0.2,
            "bin_end": 0.30000000000000004,
            "count": 0
           },
           {
            "bin_start": 0.30000000000000004,
            "bin_end": 0.4,
            "count": 0
           },
           {
            "bin_start": 0.4,
            "bin_end": 0.5,
            "count": 0
           },
           {
            "bin_start": 0.5,
            "bin_end": 0.6000000000000001,
            "count": 0
           },
           {
            "bin_start": 0.6000000000000001,
            "bin_end": 0.7000000000000001,
            "count": 0
           },
           {
            "bin_start": 0.7000000000000001,
            "bin_end": 0.8,
            "count": 0
           },
           {
            "bin_start": 0.8,
            "bin_end": 0.9,
            "count": 0
           },
           {
            "bin_start": 0.9,
            "bin_end": 1,
            "count": 2
           }
          ]
         }
        },
        {
         "name": "PercentSalaryHike",
         "dtype": "float64",
         "stats": {
          "unique_count": 5,
          "nan_count": 0,
          "min": "0.0",
          "max": "0.8571428571428571",
          "histogram": [
           {
            "bin_start": 0,
            "bin_end": 0.08571428571428572,
            "count": 2
           },
           {
            "bin_start": 0.08571428571428572,
            "bin_end": 0.17142857142857143,
            "count": 1
           },
           {
            "bin_start": 0.17142857142857143,
            "bin_end": 0.2571428571428571,
            "count": 0
           },
           {
            "bin_start": 0.2571428571428571,
            "bin_end": 0.34285714285714286,
            "count": 0
           },
           {
            "bin_start": 0.34285714285714286,
            "bin_end": 0.4285714285714286,
            "count": 0
           },
           {
            "bin_start": 0.4285714285714286,
            "bin_end": 0.5142857142857142,
            "count": 0
           },
           {
            "bin_start": 0.5142857142857142,
            "bin_end": 0.6,
            "count": 0
           },
           {
            "bin_start": 0.6,
            "bin_end": 0.6857142857142857,
            "count": 1
           },
           {
            "bin_start": 0.6857142857142857,
            "bin_end": 0.7714285714285715,
            "count": 0
           },
           {
            "bin_start": 0.7714285714285715,
            "bin_end": 0.8571428571428571,
            "count": 1
           }
          ]
         }
        },
        {
         "name": "PerformanceRating",
         "dtype": "float64",
         "stats": {
          "unique_count": 2,
          "nan_count": 0,
          "min": "0.0",
          "max": "1.0",
          "histogram": [
           {
            "bin_start": 0,
            "bin_end": 0.1,
            "count": 3
           },
           {
            "bin_start": 0.1,
            "bin_end": 0.2,
            "count": 0
           },
           {
            "bin_start": 0.2,
            "bin_end": 0.30000000000000004,
            "count": 0
           },
           {
            "bin_start": 0.30000000000000004,
            "bin_end": 0.4,
            "count": 0
           },
           {
            "bin_start": 0.4,
            "bin_end": 0.5,
            "count": 0
           },
           {
            "bin_start": 0.5,
            "bin_end": 0.6000000000000001,
            "count": 0
           },
           {
            "bin_start": 0.6000000000000001,
            "bin_end": 0.7000000000000001,
            "count": 0
           },
           {
            "bin_start": 0.7000000000000001,
            "bin_end": 0.8,
            "count": 0
           },
           {
            "bin_start": 0.8,
            "bin_end": 0.9,
            "count": 0
           },
           {
            "bin_start": 0.9,
            "bin_end": 1,
            "count": 2
           }
          ]
         }
        },
        {
         "name": "RelationshipSatisfaction",
         "dtype": "float64",
         "stats": {
          "unique_count": 3,
          "nan_count": 0,
          "min": "0.0",
          "max": "1.0",
          "histogram": [
           {
            "bin_start": 0,
            "bin_end": 0.1,
            "count": 1
           },
           {
            "bin_start": 0.1,
            "bin_end": 0.2,
            "count": 0
           },
           {
            "bin_start": 0.2,
            "bin_end": 0.30000000000000004,
            "count": 0
           },
           {
            "bin_start": 0.30000000000000004,
            "bin_end": 0.4,
            "count": 0
           },
           {
            "bin_start": 0.4,
            "bin_end": 0.5,
            "count": 0
           },
           {
            "bin_start": 0.5,
            "bin_end": 0.6000000000000001,
            "count": 0
           },
           {
            "bin_start": 0.6000000000000001,
            "bin_end": 0.7000000000000001,
            "count": 2
           },
           {
            "bin_start": 0.7000000000000001,
            "bin_end": 0.8,
            "count": 0
           },
           {
            "bin_start": 0.8,
            "bin_end": 0.9,
            "count": 0
           },
           {
            "bin_start": 0.9,
            "bin_end": 1,
            "count": 2
           }
          ]
         }
        },
        {
         "name": "StockOptionLevel",
         "dtype": "float64",
         "stats": {
          "unique_count": 3,
          "nan_count": 0,
          "min": "0.0",
          "max": "1.0",
          "histogram": [
           {
            "bin_start": 0,
            "bin_end": 0.1,
            "count": 2
           },
           {
            "bin_start": 0.1,
            "bin_end": 0.2,
            "count": 0
           },
           {
            "bin_start": 0.2,
            "bin_end": 0.30000000000000004,
            "count": 0
           },
           {
            "bin_start": 0.30000000000000004,
            "bin_end": 0.4,
            "count": 2
           },
           {
            "bin_start": 0.4,
            "bin_end": 0.5,
            "count": 0
           },
           {
            "bin_start": 0.5,
            "bin_end": 0.6000000000000001,
            "count": 0
           },
           {
            "bin_start": 0.6000000000000001,
            "bin_end": 0.7000000000000001,
            "count": 0
           },
           {
            "bin_start": 0.7000000000000001,
            "bin_end": 0.8,
            "count": 0
           },
           {
            "bin_start": 0.8,
            "bin_end": 0.9,
            "count": 0
           },
           {
            "bin_start": 0.9,
            "bin_end": 1,
            "count": 1
           }
          ]
         }
        },
        {
         "name": "TotalWorkingYears",
         "dtype": "float64",
         "stats": {
          "unique_count": 4,
          "nan_count": 0,
          "min": "0.15789473684210525",
          "max": "0.3157894736842105",
          "histogram": [
           {
            "bin_start": 0.15789473684210525,
            "bin_end": 0.17368421052631577,
            "count": 1
           },
           {
            "bin_start": 0.17368421052631577,
            "bin_end": 0.1894736842105263,
            "count": 0
           },
           {
            "bin_start": 0.1894736842105263,
            "bin_end": 0.20526315789473684,
            "count": 0
           },
           {
            "bin_start": 0.20526315789473684,
            "bin_end": 0.22105263157894736,
            "count": 2
           },
           {
            "bin_start": 0.22105263157894736,
            "bin_end": 0.23684210526315788,
            "count": 0
           },
           {
            "bin_start": 0.23684210526315788,
            "bin_end": 0.25263157894736843,
            "count": 0
           },
           {
            "bin_start": 0.25263157894736843,
            "bin_end": 0.26842105263157895,
            "count": 1
           },
           {
            "bin_start": 0.26842105263157895,
            "bin_end": 0.28421052631578947,
            "count": 0
           },
           {
            "bin_start": 0.28421052631578947,
            "bin_end": 0.3,
            "count": 0
           },
           {
            "bin_start": 0.3,
            "bin_end": 0.3157894736842105,
            "count": 1
           }
          ]
         }
        },
        {
         "name": "TrainingTimesLastYear",
         "dtype": "float64",
         "stats": {
          "unique_count": 2,
          "nan_count": 0,
          "min": "0.3333333333333333",
          "max": "0.5",
          "histogram": [
           {
            "bin_start": 0.3333333333333333,
            "bin_end": 0.35,
            "count": 1
           },
           {
            "bin_start": 0.35,
            "bin_end": 0.36666666666666664,
            "count": 0
           },
           {
            "bin_start": 0.36666666666666664,
            "bin_end": 0.3833333333333333,
            "count": 0
           },
           {
            "bin_start": 0.3833333333333333,
            "bin_end": 0.4,
            "count": 0
           },
           {
            "bin_start": 0.4,
            "bin_end": 0.41666666666666663,
            "count": 0
           },
           {
            "bin_start": 0.41666666666666663,
            "bin_end": 0.43333333333333335,
            "count": 0
           },
           {
            "bin_start": 0.43333333333333335,
            "bin_end": 0.45,
            "count": 0
           },
           {
            "bin_start": 0.45,
            "bin_end": 0.4666666666666667,
            "count": 0
           },
           {
            "bin_start": 0.4666666666666667,
            "bin_end": 0.48333333333333334,
            "count": 0
           },
           {
            "bin_start": 0.48333333333333334,
            "bin_end": 0.5,
            "count": 4
           }
          ]
         }
        },
        {
         "name": "WorkLifeBalance",
         "dtype": "float64",
         "stats": {
          "unique_count": 2,
          "nan_count": 0,
          "min": "0.3333333333333333",
          "max": "0.6666666666666667",
          "histogram": [
           {
            "bin_start": 0.3333333333333333,
            "bin_end": 0.36666666666666664,
            "count": 2
           },
           {
            "bin_start": 0.36666666666666664,
            "bin_end": 0.4,
            "count": 0
           },
           {
            "bin_start": 0.4,
            "bin_end": 0.43333333333333335,
            "count": 0
           },
           {
            "bin_start": 0.43333333333333335,
            "bin_end": 0.4666666666666667,
            "count": 0
           },
           {
            "bin_start": 0.4666666666666667,
            "bin_end": 0.5,
            "count": 0
           },
           {
            "bin_start": 0.5,
            "bin_end": 0.5333333333333333,
            "count": 0
           },
           {
            "bin_start": 0.5333333333333333,
            "bin_end": 0.5666666666666667,
            "count": 0
           },
           {
            "bin_start": 0.5666666666666667,
            "bin_end": 0.6000000000000001,
            "count": 0
           },
           {
            "bin_start": 0.6000000000000001,
            "bin_end": 0.6333333333333333,
            "count": 0
           },
           {
            "bin_start": 0.6333333333333333,
            "bin_end": 0.6666666666666667,
            "count": 3
           }
          ]
         }
        },
        {
         "name": "YearsAtCompany",
         "dtype": "float64",
         "stats": {
          "unique_count": 5,
          "nan_count": 0,
          "min": "0.02702702702702703",
          "max": "0.2702702702702703",
          "histogram": [
           {
            "bin_start": 0.02702702702702703,
            "bin_end": 0.051351351351351354,
            "count": 1
           },
           {
            "bin_start": 0.051351351351351354,
            "bin_end": 0.07567567567567568,
            "count": 1
           },
           {
            "bin_start": 0.07567567567567568,
            "bin_end": 0.1,
            "count": 0
           },
           {
            "bin_start": 0.1,
            "bin_end": 0.12432432432432433,
            "count": 0
           },
           {
            "bin_start": 0.12432432432432433,
            "bin_end": 0.14864864864864866,
            "count": 0
           },
           {
            "bin_start": 0.14864864864864866,
            "bin_end": 0.17297297297297298,
            "count": 0
           },
           {
            "bin_start": 0.17297297297297298,
            "bin_end": 0.1972972972972973,
            "count": 1
           },
           {
            "bin_start": 0.1972972972972973,
            "bin_end": 0.22162162162162163,
            "count": 1
           },
           {
            "bin_start": 0.22162162162162163,
            "bin_end": 0.24594594594594596,
            "count": 0
           },
           {
            "bin_start": 0.24594594594594596,
            "bin_end": 0.2702702702702703,
            "count": 1
           }
          ]
         }
        },
        {
         "name": "YearsInCurrentRole",
         "dtype": "float64",
         "stats": {
          "unique_count": 3,
          "nan_count": 0,
          "min": "0.0",
          "max": "0.38888888888888884",
          "histogram": [
           {
            "bin_start": 0,
            "bin_end": 0.03888888888888888,
            "count": 1
           },
           {
            "bin_start": 0.03888888888888888,
            "bin_end": 0.07777777777777777,
            "count": 0
           },
           {
            "bin_start": 0.07777777777777777,
            "bin_end": 0.11666666666666664,
            "count": 1
           },
           {
            "bin_start": 0.11666666666666664,
            "bin_end": 0.15555555555555553,
            "count": 0
           },
           {
            "bin_start": 0.15555555555555553,
            "bin_end": 0.19444444444444442,
            "count": 0
           },
           {
            "bin_start": 0.19444444444444442,
            "bin_end": 0.23333333333333328,
            "count": 0
           },
           {
            "bin_start": 0.23333333333333328,
            "bin_end": 0.2722222222222222,
            "count": 0
           },
           {
            "bin_start": 0.2722222222222222,
            "bin_end": 0.31111111111111106,
            "count": 0
           },
           {
            "bin_start": 0.31111111111111106,
            "bin_end": 0.3499999999999999,
            "count": 0
           },
           {
            "bin_start": 0.3499999999999999,
            "bin_end": 0.38888888888888884,
            "count": 3
           }
          ]
         }
        },
        {
         "name": "YearsSinceLastPromotion",
         "dtype": "float64",
         "stats": {
          "unique_count": 4,
          "nan_count": 0,
          "min": "0.0",
          "max": "0.2",
          "histogram": [
           {
            "bin_start": 0,
            "bin_end": 0.02,
            "count": 1
           },
           {
            "bin_start": 0.02,
            "bin_end": 0.04,
            "count": 0
           },
           {
            "bin_start": 0.04,
            "bin_end": 0.06,
            "count": 0
           },
           {
            "bin_start": 0.06,
            "bin_end": 0.08,
            "count": 1
           },
           {
            "bin_start": 0.08,
            "bin_end": 0.1,
            "count": 0
           },
           {
            "bin_start": 0.1,
            "bin_end": 0.12,
            "count": 0
           },
           {
            "bin_start": 0.12,
            "bin_end": 0.14,
            "count": 1
           },
           {
            "bin_start": 0.14,
            "bin_end": 0.16,
            "count": 0
           },
           {
            "bin_start": 0.16,
            "bin_end": 0.18,
            "count": 0
           },
           {
            "bin_start": 0.18,
            "bin_end": 0.2,
            "count": 2
           }
          ]
         }
        },
        {
         "name": "YearsWithCurrManager",
         "dtype": "float64",
         "stats": {
          "unique_count": 4,
          "nan_count": 0,
          "min": "0.0",
          "max": "0.4117647058823529",
          "histogram": [
           {
            "bin_start": 0,
            "bin_end": 0.041176470588235294,
            "count": 2
           },
           {
            "bin_start": 0.041176470588235294,
            "bin_end": 0.08235294117647059,
            "count": 0
           },
           {
            "bin_start": 0.08235294117647059,
            "bin_end": 0.12352941176470589,
            "count": 1
           },
           {
            "bin_start": 0.12352941176470589,
            "bin_end": 0.16470588235294117,
            "count": 0
           },
           {
            "bin_start": 0.16470588235294117,
            "bin_end": 0.20588235294117646,
            "count": 0
           },
           {
            "bin_start": 0.20588235294117646,
            "bin_end": 0.24705882352941178,
            "count": 0
           },
           {
            "bin_start": 0.24705882352941178,
            "bin_end": 0.28823529411764703,
            "count": 0
           },
           {
            "bin_start": 0.28823529411764703,
            "bin_end": 0.32941176470588235,
            "count": 0
           },
           {
            "bin_start": 0.32941176470588235,
            "bin_end": 0.37058823529411766,
            "count": 1
           },
           {
            "bin_start": 0.37058823529411766,
            "bin_end": 0.4117647058823529,
            "count": 1
           }
          ]
         }
        },
        {
         "name": "Department_Human Resources",
         "dtype": "float64",
         "stats": {
          "unique_count": 1,
          "nan_count": 0,
          "min": "0.0",
          "max": "0.0",
          "histogram": [
           {
            "bin_start": -0.5,
            "bin_end": -0.4,
            "count": 0
           },
           {
            "bin_start": -0.4,
            "bin_end": -0.3,
            "count": 0
           },
           {
            "bin_start": -0.3,
            "bin_end": -0.19999999999999996,
            "count": 0
           },
           {
            "bin_start": -0.19999999999999996,
            "bin_end": -0.09999999999999998,
            "count": 0
           },
           {
            "bin_start": -0.09999999999999998,
            "bin_end": 0,
            "count": 0
           },
           {
            "bin_start": 0,
            "bin_end": 0.10000000000000009,
            "count": 5
           },
           {
            "bin_start": 0.10000000000000009,
            "bin_end": 0.20000000000000007,
            "count": 0
           },
           {
            "bin_start": 0.20000000000000007,
            "bin_end": 0.30000000000000004,
            "count": 0
           },
           {
            "bin_start": 0.30000000000000004,
            "bin_end": 0.4,
            "count": 0
           },
           {
            "bin_start": 0.4,
            "bin_end": 0.5,
            "count": 0
           }
          ]
         }
        },
        {
         "name": "Department_Research & Development",
         "dtype": "float64",
         "stats": {
          "unique_count": 1,
          "nan_count": 0,
          "min": "1.0",
          "max": "1.0",
          "histogram": [
           {
            "bin_start": 0.5,
            "bin_end": 0.6,
            "count": 0
           },
           {
            "bin_start": 0.6,
            "bin_end": 0.7,
            "count": 0
           },
           {
            "bin_start": 0.7,
            "bin_end": 0.8,
            "count": 0
           },
           {
            "bin_start": 0.8,
            "bin_end": 0.9,
            "count": 0
           },
           {
            "bin_start": 0.9,
            "bin_end": 1,
            "count": 0
           },
           {
            "bin_start": 1,
            "bin_end": 1.1,
            "count": 5
           },
           {
            "bin_start": 1.1,
            "bin_end": 1.2000000000000002,
            "count": 0
           },
           {
            "bin_start": 1.2000000000000002,
            "bin_end": 1.3,
            "count": 0
           },
           {
            "bin_start": 1.3,
            "bin_end": 1.4,
            "count": 0
           },
           {
            "bin_start": 1.4,
            "bin_end": 1.5,
            "count": 0
           }
          ]
         }
        },
        {
         "name": "Department_Sales",
         "dtype": "float64",
         "stats": {
          "unique_count": 1,
          "nan_count": 0,
          "min": "0.0",
          "max": "0.0",
          "histogram": [
           {
            "bin_start": -0.5,
            "bin_end": -0.4,
            "count": 0
           },
           {
            "bin_start": -0.4,
            "bin_end": -0.3,
            "count": 0
           },
           {
            "bin_start": -0.3,
            "bin_end": -0.19999999999999996,
            "count": 0
           },
           {
            "bin_start": -0.19999999999999996,
            "bin_end": -0.09999999999999998,
            "count": 0
           },
           {
            "bin_start": -0.09999999999999998,
            "bin_end": 0,
            "count": 0
           },
           {
            "bin_start": 0,
            "bin_end": 0.10000000000000009,
            "count": 5
           },
           {
            "bin_start": 0.10000000000000009,
            "bin_end": 0.20000000000000007,
            "count": 0
           },
           {
            "bin_start": 0.20000000000000007,
            "bin_end": 0.30000000000000004,
            "count": 0
           },
           {
            "bin_start": 0.30000000000000004,
            "bin_end": 0.4,
            "count": 0
           },
           {
            "bin_start": 0.4,
            "bin_end": 0.5,
            "count": 0
           }
          ]
         }
        },
        {
         "name": "EducationField_Human Resources",
         "dtype": "float64",
         "stats": {
          "unique_count": 1,
          "nan_count": 0,
          "min": "0.0",
          "max": "0.0",
          "histogram": [
           {
            "bin_start": -0.5,
            "bin_end": -0.4,
            "count": 0
           },
           {
            "bin_start": -0.4,
            "bin_end": -0.3,
            "count": 0
           },
           {
            "bin_start": -0.3,
            "bin_end": -0.19999999999999996,
            "count": 0
           },
           {
            "bin_start": -0.19999999999999996,
            "bin_end": -0.09999999999999998,
            "count": 0
           },
           {
            "bin_start": -0.09999999999999998,
            "bin_end": 0,
            "count": 0
           },
           {
            "bin_start": 0,
            "bin_end": 0.10000000000000009,
            "count": 5
           },
           {
            "bin_start": 0.10000000000000009,
            "bin_end": 0.20000000000000007,
            "count": 0
           },
           {
            "bin_start": 0.20000000000000007,
            "bin_end": 0.30000000000000004,
            "count": 0
           },
           {
            "bin_start": 0.30000000000000004,
            "bin_end": 0.4,
            "count": 0
           },
           {
            "bin_start": 0.4,
            "bin_end": 0.5,
            "count": 0
           }
          ]
         }
        },
        {
         "name": "EducationField_Life Sciences",
         "dtype": "float64",
         "stats": {
          "unique_count": 2,
          "nan_count": 0,
          "min": "0.0",
          "max": "1.0",
          "histogram": [
           {
            "bin_start": 0,
            "bin_end": 0.1,
            "count": 2
           },
           {
            "bin_start": 0.1,
            "bin_end": 0.2,
            "count": 0
           },
           {
            "bin_start": 0.2,
            "bin_end": 0.30000000000000004,
            "count": 0
           },
           {
            "bin_start": 0.30000000000000004,
            "bin_end": 0.4,
            "count": 0
           },
           {
            "bin_start": 0.4,
            "bin_end": 0.5,
            "count": 0
           },
           {
            "bin_start": 0.5,
            "bin_end": 0.6000000000000001,
            "count": 0
           },
           {
            "bin_start": 0.6000000000000001,
            "bin_end": 0.7000000000000001,
            "count": 0
           },
           {
            "bin_start": 0.7000000000000001,
            "bin_end": 0.8,
            "count": 0
           },
           {
            "bin_start": 0.8,
            "bin_end": 0.9,
            "count": 0
           },
           {
            "bin_start": 0.9,
            "bin_end": 1,
            "count": 3
           }
          ]
         }
        },
        {
         "name": "EducationField_Marketing",
         "dtype": "float64",
         "stats": {
          "unique_count": 1,
          "nan_count": 0,
          "min": "0.0",
          "max": "0.0",
          "histogram": [
           {
            "bin_start": -0.5,
            "bin_end": -0.4,
            "count": 0
           },
           {
            "bin_start": -0.4,
            "bin_end": -0.3,
            "count": 0
           },
           {
            "bin_start": -0.3,
            "bin_end": -0.19999999999999996,
            "count": 0
           },
           {
            "bin_start": -0.19999999999999996,
            "bin_end": -0.09999999999999998,
            "count": 0
           },
           {
            "bin_start": -0.09999999999999998,
            "bin_end": 0,
            "count": 0
           },
           {
            "bin_start": 0,
            "bin_end": 0.10000000000000009,
            "count": 5
           },
           {
            "bin_start": 0.10000000000000009,
            "bin_end": 0.20000000000000007,
            "count": 0
           },
           {
            "bin_start": 0.20000000000000007,
            "bin_end": 0.30000000000000004,
            "count": 0
           },
           {
            "bin_start": 0.30000000000000004,
            "bin_end": 0.4,
            "count": 0
           },
           {
            "bin_start": 0.4,
            "bin_end": 0.5,
            "count": 0
           }
          ]
         }
        },
        {
         "name": "EducationField_Medical",
         "dtype": "float64",
         "stats": {
          "unique_count": 2,
          "nan_count": 0,
          "min": "0.0",
          "max": "1.0",
          "histogram": [
           {
            "bin_start": 0,
            "bin_end": 0.1,
            "count": 3
           },
           {
            "bin_start": 0.1,
            "bin_end": 0.2,
            "count": 0
           },
           {
            "bin_start": 0.2,
            "bin_end": 0.30000000000000004,
            "count": 0
           },
           {
            "bin_start": 0.30000000000000004,
            "bin_end": 0.4,
            "count": 0
           },
           {
            "bin_start": 0.4,
            "bin_end": 0.5,
            "count": 0
           },
           {
            "bin_start": 0.5,
            "bin_end": 0.6000000000000001,
            "count": 0
           },
           {
            "bin_start": 0.6000000000000001,
            "bin_end": 0.7000000000000001,
            "count": 0
           },
           {
            "bin_start": 0.7000000000000001,
            "bin_end": 0.8,
            "count": 0
           },
           {
            "bin_start": 0.8,
            "bin_end": 0.9,
            "count": 0
           },
           {
            "bin_start": 0.9,
            "bin_end": 1,
            "count": 2
           }
          ]
         }
        },
        {
         "name": "EducationField_Other",
         "dtype": "float64",
         "stats": {
          "unique_count": 1,
          "nan_count": 0,
          "min": "0.0",
          "max": "0.0",
          "histogram": [
           {
            "bin_start": -0.5,
            "bin_end": -0.4,
            "count": 0
           },
           {
            "bin_start": -0.4,
            "bin_end": -0.3,
            "count": 0
           },
           {
            "bin_start": -0.3,
            "bin_end": -0.19999999999999996,
            "count": 0
           },
           {
            "bin_start": -0.19999999999999996,
            "bin_end": -0.09999999999999998,
            "count": 0
           },
           {
            "bin_start": -0.09999999999999998,
            "bin_end": 0,
            "count": 0
           },
           {
            "bin_start": 0,
            "bin_end": 0.10000000000000009,
            "count": 5
           },
           {
            "bin_start": 0.10000000000000009,
            "bin_end": 0.20000000000000007,
            "count": 0
           },
           {
            "bin_start": 0.20000000000000007,
            "bin_end": 0.30000000000000004,
            "count": 0
           },
           {
            "bin_start": 0.30000000000000004,
            "bin_end": 0.4,
            "count": 0
           },
           {
            "bin_start": 0.4,
            "bin_end": 0.5,
            "count": 0
           }
          ]
         }
        },
        {
         "name": "EducationField_Technical Degree",
         "dtype": "float64",
         "stats": {
          "unique_count": 1,
          "nan_count": 0,
          "min": "0.0",
          "max": "0.0",
          "histogram": [
           {
            "bin_start": -0.5,
            "bin_end": -0.4,
            "count": 0
           },
           {
            "bin_start": -0.4,
            "bin_end": -0.3,
            "count": 0
           },
           {
            "bin_start": -0.3,
            "bin_end": -0.19999999999999996,
            "count": 0
           },
           {
            "bin_start": -0.19999999999999996,
            "bin_end": -0.09999999999999998,
            "count": 0
           },
           {
            "bin_start": -0.09999999999999998,
            "bin_end": 0,
            "count": 0
           },
           {
            "bin_start": 0,
            "bin_end": 0.10000000000000009,
            "count": 5
           },
           {
            "bin_start": 0.10000000000000009,
            "bin_end": 0.20000000000000007,
            "count": 0
           },
           {
            "bin_start": 0.20000000000000007,
            "bin_end": 0.30000000000000004,
            "count": 0
           },
           {
            "bin_start": 0.30000000000000004,
            "bin_end": 0.4,
            "count": 0
           },
           {
            "bin_start": 0.4,
            "bin_end": 0.5,
            "count": 0
           }
          ]
         }
        },
        {
         "name": "JobRole_Healthcare Representative",
         "dtype": "float64",
         "stats": {
          "unique_count": 1,
          "nan_count": 0,
          "min": "0.0",
          "max": "0.0",
          "histogram": [
           {
            "bin_start": -0.5,
            "bin_end": -0.4,
            "count": 0
           },
           {
            "bin_start": -0.4,
            "bin_end": -0.3,
            "count": 0
           },
           {
            "bin_start": -0.3,
            "bin_end": -0.19999999999999996,
            "count": 0
           },
           {
            "bin_start": -0.19999999999999996,
            "bin_end": -0.09999999999999998,
            "count": 0
           },
           {
            "bin_start": -0.09999999999999998,
            "bin_end": 0,
            "count": 0
           },
           {
            "bin_start": 0,
            "bin_end": 0.10000000000000009,
            "count": 5
           },
           {
            "bin_start": 0.10000000000000009,
            "bin_end": 0.20000000000000007,
            "count": 0
           },
           {
            "bin_start": 0.20000000000000007,
            "bin_end": 0.30000000000000004,
            "count": 0
           },
           {
            "bin_start": 0.30000000000000004,
            "bin_end": 0.4,
            "count": 0
           },
           {
            "bin_start": 0.4,
            "bin_end": 0.5,
            "count": 0
           }
          ]
         }
        },
        {
         "name": "JobRole_Human Resources",
         "dtype": "float64",
         "stats": {
          "unique_count": 1,
          "nan_count": 0,
          "min": "0.0",
          "max": "0.0",
          "histogram": [
           {
            "bin_start": -0.5,
            "bin_end": -0.4,
            "count": 0
           },
           {
            "bin_start": -0.4,
            "bin_end": -0.3,
            "count": 0
           },
           {
            "bin_start": -0.3,
            "bin_end": -0.19999999999999996,
            "count": 0
           },
           {
            "bin_start": -0.19999999999999996,
            "bin_end": -0.09999999999999998,
            "count": 0
           },
           {
            "bin_start": -0.09999999999999998,
            "bin_end": 0,
            "count": 0
           },
           {
            "bin_start": 0,
            "bin_end": 0.10000000000000009,
            "count": 5
           },
           {
            "bin_start": 0.10000000000000009,
            "bin_end": 0.20000000000000007,
            "count": 0
           },
           {
            "bin_start": 0.20000000000000007,
            "bin_end": 0.30000000000000004,
            "count": 0
           },
           {
            "bin_start": 0.30000000000000004,
            "bin_end": 0.4,
            "count": 0
           },
           {
            "bin_start": 0.4,
            "bin_end": 0.5,
            "count": 0
           }
          ]
         }
        },
        {
         "name": "JobRole_Laboratory Technician",
         "dtype": "float64",
         "stats": {
          "unique_count": 2,
          "nan_count": 0,
          "min": "0.0",
          "max": "1.0",
          "histogram": [
           {
            "bin_start": 0,
            "bin_end": 0.1,
            "count": 2
           },
           {
            "bin_start": 0.1,
            "bin_end": 0.2,
            "count": 0
           },
           {
            "bin_start": 0.2,
            "bin_end": 0.30000000000000004,
            "count": 0
           },
           {
            "bin_start": 0.30000000000000004,
            "bin_end": 0.4,
            "count": 0
           },
           {
            "bin_start": 0.4,
            "bin_end": 0.5,
            "count": 0
           },
           {
            "bin_start": 0.5,
            "bin_end": 0.6000000000000001,
            "count": 0
           },
           {
            "bin_start": 0.6000000000000001,
            "bin_end": 0.7000000000000001,
            "count": 0
           },
           {
            "bin_start": 0.7000000000000001,
            "bin_end": 0.8,
            "count": 0
           },
           {
            "bin_start": 0.8,
            "bin_end": 0.9,
            "count": 0
           },
           {
            "bin_start": 0.9,
            "bin_end": 1,
            "count": 3
           }
          ]
         }
        },
        {
         "name": "JobRole_Manager",
         "dtype": "float64",
         "stats": {
          "unique_count": 1,
          "nan_count": 0,
          "min": "0.0",
          "max": "0.0",
          "histogram": [
           {
            "bin_start": -0.5,
            "bin_end": -0.4,
            "count": 0
           },
           {
            "bin_start": -0.4,
            "bin_end": -0.3,
            "count": 0
           },
           {
            "bin_start": -0.3,
            "bin_end": -0.19999999999999996,
            "count": 0
           },
           {
            "bin_start": -0.19999999999999996,
            "bin_end": -0.09999999999999998,
            "count": 0
           },
           {
            "bin_start": -0.09999999999999998,
            "bin_end": 0,
            "count": 0
           },
           {
            "bin_start": 0,
            "bin_end": 0.10000000000000009,
            "count": 5
           },
           {
            "bin_start": 0.10000000000000009,
            "bin_end": 0.20000000000000007,
            "count": 0
           },
           {
            "bin_start": 0.20000000000000007,
            "bin_end": 0.30000000000000004,
            "count": 0
           },
           {
            "bin_start": 0.30000000000000004,
            "bin_end": 0.4,
            "count": 0
           },
           {
            "bin_start": 0.4,
            "bin_end": 0.5,
            "count": 0
           }
          ]
         }
        },
        {
         "name": "JobRole_Manufacturing Director",
         "dtype": "float64",
         "stats": {
          "unique_count": 1,
          "nan_count": 0,
          "min": "0.0",
          "max": "0.0",
          "histogram": [
           {
            "bin_start": -0.5,
            "bin_end": -0.4,
            "count": 0
           },
           {
            "bin_start": -0.4,
            "bin_end": -0.3,
            "count": 0
           },
           {
            "bin_start": -0.3,
            "bin_end": -0.19999999999999996,
            "count": 0
           },
           {
            "bin_start": -0.19999999999999996,
            "bin_end": -0.09999999999999998,
            "count": 0
           },
           {
            "bin_start": -0.09999999999999998,
            "bin_end": 0,
            "count": 0
           },
           {
            "bin_start": 0,
            "bin_end": 0.10000000000000009,
            "count": 5
           },
           {
            "bin_start": 0.10000000000000009,
            "bin_end": 0.20000000000000007,
            "count": 0
           },
           {
            "bin_start": 0.20000000000000007,
            "bin_end": 0.30000000000000004,
            "count": 0
           },
           {
            "bin_start": 0.30000000000000004,
            "bin_end": 0.4,
            "count": 0
           },
           {
            "bin_start": 0.4,
            "bin_end": 0.5,
            "count": 0
           }
          ]
         }
        },
        {
         "name": "JobRole_Research Director",
         "dtype": "float64",
         "stats": {
          "unique_count": 1,
          "nan_count": 0,
          "min": "0.0",
          "max": "0.0",
          "histogram": [
           {
            "bin_start": -0.5,
            "bin_end": -0.4,
            "count": 0
           },
           {
            "bin_start": -0.4,
            "bin_end": -0.3,
            "count": 0
           },
           {
            "bin_start": -0.3,
            "bin_end": -0.19999999999999996,
            "count": 0
           },
           {
            "bin_start": -0.19999999999999996,
            "bin_end": -0.09999999999999998,
            "count": 0
           },
           {
            "bin_start": -0.09999999999999998,
            "bin_end": 0,
            "count": 0
           },
           {
            "bin_start": 0,
            "bin_end": 0.10000000000000009,
            "count": 5
           },
           {
            "bin_start": 0.10000000000000009,
            "bin_end": 0.20000000000000007,
            "count": 0
           },
           {
            "bin_start": 0.20000000000000007,
            "bin_end": 0.30000000000000004,
            "count": 0
           },
           {
            "bin_start": 0.30000000000000004,
            "bin_end": 0.4,
            "count": 0
           },
           {
            "bin_start": 0.4,
            "bin_end": 0.5,
            "count": 0
           }
          ]
         }
        },
        {
         "name": "JobRole_Research Scientist",
         "dtype": "float64",
         "stats": {
          "unique_count": 2,
          "nan_count": 0,
          "min": "0.0",
          "max": "1.0",
          "histogram": [
           {
            "bin_start": 0,
            "bin_end": 0.1,
            "count": 3
           },
           {
            "bin_start": 0.1,
            "bin_end": 0.2,
            "count": 0
           },
           {
            "bin_start": 0.2,
            "bin_end": 0.30000000000000004,
            "count": 0
           },
           {
            "bin_start": 0.30000000000000004,
            "bin_end": 0.4,
            "count": 0
           },
           {
            "bin_start": 0.4,
            "bin_end": 0.5,
            "count": 0
           },
           {
            "bin_start": 0.5,
            "bin_end": 0.6000000000000001,
            "count": 0
           },
           {
            "bin_start": 0.6000000000000001,
            "bin_end": 0.7000000000000001,
            "count": 0
           },
           {
            "bin_start": 0.7000000000000001,
            "bin_end": 0.8,
            "count": 0
           },
           {
            "bin_start": 0.8,
            "bin_end": 0.9,
            "count": 0
           },
           {
            "bin_start": 0.9,
            "bin_end": 1,
            "count": 2
           }
          ]
         }
        },
        {
         "name": "JobRole_Sales Executive",
         "dtype": "float64",
         "stats": {
          "unique_count": 1,
          "nan_count": 0,
          "min": "0.0",
          "max": "0.0",
          "histogram": [
           {
            "bin_start": -0.5,
            "bin_end": -0.4,
            "count": 0
           },
           {
            "bin_start": -0.4,
            "bin_end": -0.3,
            "count": 0
           },
           {
            "bin_start": -0.3,
            "bin_end": -0.19999999999999996,
            "count": 0
           },
           {
            "bin_start": -0.19999999999999996,
            "bin_end": -0.09999999999999998,
            "count": 0
           },
           {
            "bin_start": -0.09999999999999998,
            "bin_end": 0,
            "count": 0
           },
           {
            "bin_start": 0,
            "bin_end": 0.10000000000000009,
            "count": 5
           },
           {
            "bin_start": 0.10000000000000009,
            "bin_end": 0.20000000000000007,
            "count": 0
           },
           {
            "bin_start": 0.20000000000000007,
            "bin_end": 0.30000000000000004,
            "count": 0
           },
           {
            "bin_start": 0.30000000000000004,
            "bin_end": 0.4,
            "count": 0
           },
           {
            "bin_start": 0.4,
            "bin_end": 0.5,
            "count": 0
           }
          ]
         }
        },
        {
         "name": "JobRole_Sales Representative",
         "dtype": "float64",
         "stats": {
          "unique_count": 1,
          "nan_count": 0,
          "min": "0.0",
          "max": "0.0",
          "histogram": [
           {
            "bin_start": -0.5,
            "bin_end": -0.4,
            "count": 0
           },
           {
            "bin_start": -0.4,
            "bin_end": -0.3,
            "count": 0
           },
           {
            "bin_start": -0.3,
            "bin_end": -0.19999999999999996,
            "count": 0
           },
           {
            "bin_start": -0.19999999999999996,
            "bin_end": -0.09999999999999998,
            "count": 0
           },
           {
            "bin_start": -0.09999999999999998,
            "bin_end": 0,
            "count": 0
           },
           {
            "bin_start": 0,
            "bin_end": 0.10000000000000009,
            "count": 5
           },
           {
            "bin_start": 0.10000000000000009,
            "bin_end": 0.20000000000000007,
            "count": 0
           },
           {
            "bin_start": 0.20000000000000007,
            "bin_end": 0.30000000000000004,
            "count": 0
           },
           {
            "bin_start": 0.30000000000000004,
            "bin_end": 0.4,
            "count": 0
           },
           {
            "bin_start": 0.4,
            "bin_end": 0.5,
            "count": 0
           }
          ]
         }
        },
        {
         "name": "MaritalStatus_Divorced",
         "dtype": "float64",
         "stats": {
          "unique_count": 1,
          "nan_count": 0,
          "min": "0.0",
          "max": "0.0",
          "histogram": [
           {
            "bin_start": -0.5,
            "bin_end": -0.4,
            "count": 0
           },
           {
            "bin_start": -0.4,
            "bin_end": -0.3,
            "count": 0
           },
           {
            "bin_start": -0.3,
            "bin_end": -0.19999999999999996,
            "count": 0
           },
           {
            "bin_start": -0.19999999999999996,
            "bin_end": -0.09999999999999998,
            "count": 0
           },
           {
            "bin_start": -0.09999999999999998,
            "bin_end": 0,
            "count": 0
           },
           {
            "bin_start": 0,
            "bin_end": 0.10000000000000009,
            "count": 5
           },
           {
            "bin_start": 0.10000000000000009,
            "bin_end": 0.20000000000000007,
            "count": 0
           },
           {
            "bin_start": 0.20000000000000007,
            "bin_end": 0.30000000000000004,
            "count": 0
           },
           {
            "bin_start": 0.30000000000000004,
            "bin_end": 0.4,
            "count": 0
           },
           {
            "bin_start": 0.4,
            "bin_end": 0.5,
            "count": 0
           }
          ]
         }
        },
        {
         "name": "MaritalStatus_Married",
         "dtype": "float64",
         "stats": {
          "unique_count": 2,
          "nan_count": 0,
          "min": "0.0",
          "max": "1.0",
          "histogram": [
           {
            "bin_start": 0,
            "bin_end": 0.1,
            "count": 1
           },
           {
            "bin_start": 0.1,
            "bin_end": 0.2,
            "count": 0
           },
           {
            "bin_start": 0.2,
            "bin_end": 0.30000000000000004,
            "count": 0
           },
           {
            "bin_start": 0.30000000000000004,
            "bin_end": 0.4,
            "count": 0
           },
           {
            "bin_start": 0.4,
            "bin_end": 0.5,
            "count": 0
           },
           {
            "bin_start": 0.5,
            "bin_end": 0.6000000000000001,
            "count": 0
           },
           {
            "bin_start": 0.6000000000000001,
            "bin_end": 0.7000000000000001,
            "count": 0
           },
           {
            "bin_start": 0.7000000000000001,
            "bin_end": 0.8,
            "count": 0
           },
           {
            "bin_start": 0.8,
            "bin_end": 0.9,
            "count": 0
           },
           {
            "bin_start": 0.9,
            "bin_end": 1,
            "count": 4
           }
          ]
         }
        },
        {
         "name": "MaritalStatus_Single",
         "dtype": "float64",
         "stats": {
          "unique_count": 2,
          "nan_count": 0,
          "min": "0.0",
          "max": "1.0",
          "histogram": [
           {
            "bin_start": 0,
            "bin_end": 0.1,
            "count": 4
           },
           {
            "bin_start": 0.1,
            "bin_end": 0.2,
            "count": 0
           },
           {
            "bin_start": 0.2,
            "bin_end": 0.30000000000000004,
            "count": 0
           },
           {
            "bin_start": 0.30000000000000004,
            "bin_end": 0.4,
            "count": 0
           },
           {
            "bin_start": 0.4,
            "bin_end": 0.5,
            "count": 0
           },
           {
            "bin_start": 0.5,
            "bin_end": 0.6000000000000001,
            "count": 0
           },
           {
            "bin_start": 0.6000000000000001,
            "bin_end": 0.7000000000000001,
            "count": 0
           },
           {
            "bin_start": 0.7000000000000001,
            "bin_end": 0.8,
            "count": 0
           },
           {
            "bin_start": 0.8,
            "bin_end": 0.9,
            "count": 0
           },
           {
            "bin_start": 0.9,
            "bin_end": 1,
            "count": 1
           }
          ]
         }
        },
        {
         "name": "_deepnote_index_column",
         "dtype": "int64"
        }
       ],
       "rows": [
        {
         "Age": 0.7380952380952379,
         "BusinessTravel": 1,
         "DailyRate": 0.12670007158196134,
         "DistanceFromHome": 0.25,
         "Education": 0,
         "EmployeeNumber": 0,
         "EnvironmentSatisfaction": 0.6666666666666667,
         "Gender": 1,
         "HourlyRate": 0.4428571428571429,
         "JobInvolvement": 0.3333333333333333,
         "JobLevel": 0.25,
         "JobSatisfaction": 0.3333333333333333,
         "MonthlyIncome": 0.21527337977622968,
         "MonthlyRate": 0.9160743685499739,
         "NumCompaniesWorked": 0.1111111111111111,
         "OverTime": 0,
         "PercentSalaryHike": 0.8571428571428571,
         "PerformanceRating": 1,
         "RelationshipSatisfaction": 1,
         "StockOptionLevel": 0.3333333333333333,
         "TotalWorkingYears": 0.2631578947368421,
         "TrainingTimesLastYear": 0.5,
         "WorkLifeBalance": 0.6666666666666667,
         "YearsAtCompany": 0.2702702702702703,
         "YearsInCurrentRole": 0.38888888888888884,
         "YearsSinceLastPromotion": 0.06666666666666667,
         "YearsWithCurrManager": 0.4117647058823529,
         "Department_Human Resources": 0,
         "Department_Research & Development": 1,
         "Department_Sales": 0,
         "EducationField_Human Resources": 0,
         "EducationField_Life Sciences": 1,
         "EducationField_Marketing": 0,
         "EducationField_Medical": 0,
         "EducationField_Other": 0,
         "EducationField_Technical Degree": 0,
         "JobRole_Healthcare Representative": 0,
         "JobRole_Human Resources": 0,
         "JobRole_Laboratory Technician": 0,
         "JobRole_Manager": 0,
         "JobRole_Manufacturing Director": 0,
         "JobRole_Research Director": 0,
         "JobRole_Research Scientist": 1,
         "JobRole_Sales Executive": 0,
         "JobRole_Sales Representative": 0,
         "MaritalStatus_Divorced": 0,
         "MaritalStatus_Married": 1,
         "MaritalStatus_Single": 0,
         "_deepnote_index_column": 1
        },
        {
         "Age": 0.35714285714285715,
         "BusinessTravel": 1,
         "DailyRate": 0.9234073013600572,
         "DistanceFromHome": 0.07142857142857142,
         "Education": 0.75,
         "EmployeeNumber": 0.0014520813165537273,
         "EnvironmentSatisfaction": 1,
         "Gender": 0,
         "HourlyRate": 0.3714285714285714,
         "JobInvolvement": 0.6666666666666667,
         "JobLevel": 0,
         "JobSatisfaction": 0.6666666666666667,
         "MonthlyIncome": 0.09805784251636057,
         "MonthlyRate": 0.8458820222463157,
         "NumCompaniesWorked": 0.1111111111111111,
         "OverTime": 1,
         "PercentSalaryHike": 0,
         "PerformanceRating": 0,
         "RelationshipSatisfaction": 0.6666666666666667,
         "StockOptionLevel": 0,
         "TotalWorkingYears": 0.21052631578947367,
         "TrainingTimesLastYear": 0.5,
         "WorkLifeBalance": 0.6666666666666667,
         "YearsAtCompany": 0.21621621621621623,
         "YearsInCurrentRole": 0.38888888888888884,
         "YearsSinceLastPromotion": 0.2,
         "YearsWithCurrManager": 0,
         "Department_Human Resources": 0,
         "Department_Research & Development": 1,
         "Department_Sales": 0,
         "EducationField_Human Resources": 0,
         "EducationField_Life Sciences": 1,
         "EducationField_Marketing": 0,
         "EducationField_Medical": 0,
         "EducationField_Other": 0,
         "EducationField_Technical Degree": 0,
         "JobRole_Healthcare Representative": 0,
         "JobRole_Human Resources": 0,
         "JobRole_Laboratory Technician": 0,
         "JobRole_Manager": 0,
         "JobRole_Manufacturing Director": 0,
         "JobRole_Research Director": 0,
         "JobRole_Research Scientist": 1,
         "JobRole_Sales Executive": 0,
         "JobRole_Sales Representative": 0,
         "MaritalStatus_Divorced": 0,
         "MaritalStatus_Married": 1,
         "MaritalStatus_Single": 0,
         "_deepnote_index_column": 3
        },
        {
         "Age": 0.21428571428571425,
         "BusinessTravel": 0.5,
         "DailyRate": 0.35003579098067283,
         "DistanceFromHome": 0.03571428571428571,
         "Education": 0,
         "EmployeeNumber": 0.002420135527589545,
         "EnvironmentSatisfaction": 0,
         "Gender": 1,
         "HourlyRate": 0.14285714285714285,
         "JobInvolvement": 0.6666666666666667,
         "JobLevel": 0,
         "JobSatisfaction": 0.3333333333333333,
         "MonthlyIncome": 0.1275596369009922,
         "MonthlyRate": 0.5837850861342007,
         "NumCompaniesWorked": 1,
         "OverTime": 0,
         "PercentSalaryHike": 0.0714285714285714,
         "PerformanceRating": 0,
         "RelationshipSatisfaction": 1,
         "StockOptionLevel": 0.3333333333333333,
         "TotalWorkingYears": 0.15789473684210525,
         "TrainingTimesLastYear": 0.5,
         "WorkLifeBalance": 0.6666666666666667,
         "YearsAtCompany": 0.05405405405405406,
         "YearsInCurrentRole": 0.1111111111111111,
         "YearsSinceLastPromotion": 0.13333333333333333,
         "YearsWithCurrManager": 0.11764705882352941,
         "Department_Human Resources": 0,
         "Department_Research & Development": 1,
         "Department_Sales": 0,
         "EducationField_Human Resources": 0,
         "EducationField_Life Sciences": 0,
         "EducationField_Marketing": 0,
         "EducationField_Medical": 1,
         "EducationField_Other": 0,
         "EducationField_Technical Degree": 0,
         "JobRole_Healthcare Representative": 0,
         "JobRole_Human Resources": 0,
         "JobRole_Laboratory Technician": 1,
         "JobRole_Manager": 0,
         "JobRole_Manufacturing Director": 0,
         "JobRole_Research Director": 0,
         "JobRole_Research Scientist": 0,
         "JobRole_Sales Executive": 0,
         "JobRole_Sales Representative": 0,
         "MaritalStatus_Divorced": 0,
         "MaritalStatus_Married": 1,
         "MaritalStatus_Single": 0,
         "_deepnote_index_column": 4
        },
        {
         "Age": 0.3333333333333333,
         "BusinessTravel": 1,
         "DailyRate": 0.64638511095204,
         "DistanceFromHome": 0.03571428571428571,
         "Education": 0.25,
         "EmployeeNumber": 0.002904162633107454,
         "EnvironmentSatisfaction": 1,
         "Gender": 1,
         "HourlyRate": 0.7,
         "JobInvolvement": 0.6666666666666667,
         "JobLevel": 0,
         "JobSatisfaction": 1,
         "MonthlyIncome": 0.10644922947012878,
         "MonthlyRate": 0.39232221017548086,
         "NumCompaniesWorked": 0,
         "OverTime": 0,
         "PercentSalaryHike": 0.1428571428571428,
         "PerformanceRating": 0,
         "RelationshipSatisfaction": 0.6666666666666667,
         "StockOptionLevel": 0,
         "TotalWorkingYears": 0.21052631578947367,
         "TrainingTimesLastYear": 0.3333333333333333,
         "WorkLifeBalance": 0.3333333333333333,
         "YearsAtCompany": 0.1891891891891892,
         "YearsInCurrentRole": 0.38888888888888884,
         "YearsSinceLastPromotion": 0.2,
         "YearsWithCurrManager": 0.3529411764705882,
         "Department_Human Resources": 0,
         "Department_Research & Development": 1,
         "Department_Sales": 0,
         "EducationField_Human Resources": 0,
         "EducationField_Life Sciences": 1,
         "EducationField_Marketing": 0,
         "EducationField_Medical": 0,
         "EducationField_Other": 0,
         "EducationField_Technical Degree": 0,
         "JobRole_Healthcare Representative": 0,
         "JobRole_Human Resources": 0,
         "JobRole_Laboratory Technician": 1,
         "JobRole_Manager": 0,
         "JobRole_Manufacturing Director": 0,
         "JobRole_Research Director": 0,
         "JobRole_Research Scientist": 0,
         "JobRole_Sales Executive": 0,
         "JobRole_Sales Representative": 0,
         "MaritalStatus_Divorced": 0,
         "MaritalStatus_Married": 0,
         "MaritalStatus_Single": 1,
         "_deepnote_index_column": 5
        },
        {
         "Age": 0.976190476190476,
         "BusinessTravel": 0.5,
         "DailyRate": 0.8747315676449534,
         "DistanceFromHome": 0.07142857142857142,
         "Education": 0.5,
         "EmployeeNumber": 0.0038722168441432726,
         "EnvironmentSatisfaction": 0.6666666666666667,
         "Gender": 0,
         "HourlyRate": 0.7285714285714284,
         "JobInvolvement": 1,
         "JobLevel": 0,
         "JobSatisfaction": 0,
         "MonthlyIncome": 0.08544437407641967,
         "MonthlyRate": 0.31602618158454804,
         "NumCompaniesWorked": 0.4444444444444444,
         "OverTime": 1,
         "PercentSalaryHike": 0.6428571428571427,
         "PerformanceRating": 1,
         "RelationshipSatisfaction": 0,
         "StockOptionLevel": 1,
         "TotalWorkingYears": 0.3157894736842105,
         "TrainingTimesLastYear": 0.5,
         "WorkLifeBalance": 0.3333333333333333,
         "YearsAtCompany": 0.02702702702702703,
         "YearsInCurrentRole": 0,
         "YearsSinceLastPromotion": 0,
         "YearsWithCurrManager": 0,
         "Department_Human Resources": 0,
         "Department_Research & Development": 1,
         "Department_Sales": 0,
         "EducationField_Human Resources": 0,
         "EducationField_Life Sciences": 0,
         "EducationField_Marketing": 0,
         "EducationField_Medical": 1,
         "EducationField_Other": 0,
         "EducationField_Technical Degree": 0,
         "JobRole_Healthcare Representative": 0,
         "JobRole_Human Resources": 0,
         "JobRole_Laboratory Technician": 1,
         "JobRole_Manager": 0,
         "JobRole_Manufacturing Director": 0,
         "JobRole_Research Director": 0,
         "JobRole_Research Scientist": 0,
         "JobRole_Sales Executive": 0,
         "JobRole_Sales Representative": 0,
         "MaritalStatus_Divorced": 0,
         "MaritalStatus_Married": 1,
         "MaritalStatus_Single": 0,
         "_deepnote_index_column": 6
        }
       ]
      },
      "text/plain": "        Age  BusinessTravel  DailyRate  DistanceFromHome  Education  \\\n1  0.738095             1.0   0.126700          0.250000       0.00   \n3  0.357143             1.0   0.923407          0.071429       0.75   \n4  0.214286             0.5   0.350036          0.035714       0.00   \n5  0.333333             1.0   0.646385          0.035714       0.25   \n6  0.976190             0.5   0.874732          0.071429       0.50   \n\n   EmployeeNumber  EnvironmentSatisfaction  Gender  HourlyRate  \\\n1        0.000000                 0.666667     1.0    0.442857   \n3        0.001452                 1.000000     0.0    0.371429   \n4        0.002420                 0.000000     1.0    0.142857   \n5        0.002904                 1.000000     1.0    0.700000   \n6        0.003872                 0.666667     0.0    0.728571   \n\n   JobInvolvement  ...  JobRole_Laboratory Technician  JobRole_Manager  \\\n1        0.333333  ...                            0.0              0.0   \n3        0.666667  ...                            0.0              0.0   \n4        0.666667  ...                            1.0              0.0   \n5        0.666667  ...                            1.0              0.0   \n6        1.000000  ...                            1.0              0.0   \n\n   JobRole_Manufacturing Director  JobRole_Research Director  \\\n1                             0.0                        0.0   \n3                             0.0                        0.0   \n4                             0.0                        0.0   \n5                             0.0                        0.0   \n6                             0.0                        0.0   \n\n   JobRole_Research Scientist  JobRole_Sales Executive  \\\n1                         1.0                      0.0   \n3                         1.0                      0.0   \n4                         0.0                      0.0   \n5                         0.0                      0.0   \n6                         0.0                      0.0   \n\n   JobRole_Sales Representative  MaritalStatus_Divorced  \\\n1                           0.0                     0.0   \n3                           0.0                     0.0   \n4                           0.0                     0.0   \n5                           0.0                     0.0   \n6                           0.0                     0.0   \n\n   MaritalStatus_Married  MaritalStatus_Single  \n1                    1.0                   0.0  \n3                    1.0                   0.0  \n4                    1.0                   0.0  \n5                    0.0                   1.0  \n6                    1.0                   0.0  \n\n[5 rows x 48 columns]",
      "text/html": "<div>\n<style scoped>\n    .dataframe tbody tr th:only-of-type {\n        vertical-align: middle;\n    }\n\n    .dataframe tbody tr th {\n        vertical-align: top;\n    }\n\n    .dataframe thead th {\n        text-align: right;\n    }\n</style>\n<table border=\"1\" class=\"dataframe\">\n  <thead>\n    <tr style=\"text-align: right;\">\n      <th></th>\n      <th>Age</th>\n      <th>BusinessTravel</th>\n      <th>DailyRate</th>\n      <th>DistanceFromHome</th>\n      <th>Education</th>\n      <th>EmployeeNumber</th>\n      <th>EnvironmentSatisfaction</th>\n      <th>Gender</th>\n      <th>HourlyRate</th>\n      <th>JobInvolvement</th>\n      <th>...</th>\n      <th>JobRole_Laboratory Technician</th>\n      <th>JobRole_Manager</th>\n      <th>JobRole_Manufacturing Director</th>\n      <th>JobRole_Research Director</th>\n      <th>JobRole_Research Scientist</th>\n      <th>JobRole_Sales Executive</th>\n      <th>JobRole_Sales Representative</th>\n      <th>MaritalStatus_Divorced</th>\n      <th>MaritalStatus_Married</th>\n      <th>MaritalStatus_Single</th>\n    </tr>\n  </thead>\n  <tbody>\n    <tr>\n      <th>1</th>\n      <td>0.738095</td>\n      <td>1.0</td>\n      <td>0.126700</td>\n      <td>0.250000</td>\n      <td>0.00</td>\n      <td>0.000000</td>\n      <td>0.666667</td>\n      <td>1.0</td>\n      <td>0.442857</td>\n      <td>0.333333</td>\n      <td>...</td>\n      <td>0.0</td>\n      <td>0.0</td>\n      <td>0.0</td>\n      <td>0.0</td>\n      <td>1.0</td>\n      <td>0.0</td>\n      <td>0.0</td>\n      <td>0.0</td>\n      <td>1.0</td>\n      <td>0.0</td>\n    </tr>\n    <tr>\n      <th>3</th>\n      <td>0.357143</td>\n      <td>1.0</td>\n      <td>0.923407</td>\n      <td>0.071429</td>\n      <td>0.75</td>\n      <td>0.001452</td>\n      <td>1.000000</td>\n      <td>0.0</td>\n      <td>0.371429</td>\n      <td>0.666667</td>\n      <td>...</td>\n      <td>0.0</td>\n      <td>0.0</td>\n      <td>0.0</td>\n      <td>0.0</td>\n      <td>1.0</td>\n      <td>0.0</td>\n      <td>0.0</td>\n      <td>0.0</td>\n      <td>1.0</td>\n      <td>0.0</td>\n    </tr>\n    <tr>\n      <th>4</th>\n      <td>0.214286</td>\n      <td>0.5</td>\n      <td>0.350036</td>\n      <td>0.035714</td>\n      <td>0.00</td>\n      <td>0.002420</td>\n      <td>0.000000</td>\n      <td>1.0</td>\n      <td>0.142857</td>\n      <td>0.666667</td>\n      <td>...</td>\n      <td>1.0</td>\n      <td>0.0</td>\n      <td>0.0</td>\n      <td>0.0</td>\n      <td>0.0</td>\n      <td>0.0</td>\n      <td>0.0</td>\n      <td>0.0</td>\n      <td>1.0</td>\n      <td>0.0</td>\n    </tr>\n    <tr>\n      <th>5</th>\n      <td>0.333333</td>\n      <td>1.0</td>\n      <td>0.646385</td>\n      <td>0.035714</td>\n      <td>0.25</td>\n      <td>0.002904</td>\n      <td>1.000000</td>\n      <td>1.0</td>\n      <td>0.700000</td>\n      <td>0.666667</td>\n      <td>...</td>\n      <td>1.0</td>\n      <td>0.0</td>\n      <td>0.0</td>\n      <td>0.0</td>\n      <td>0.0</td>\n      <td>0.0</td>\n      <td>0.0</td>\n      <td>0.0</td>\n      <td>0.0</td>\n      <td>1.0</td>\n    </tr>\n    <tr>\n      <th>6</th>\n      <td>0.976190</td>\n      <td>0.5</td>\n      <td>0.874732</td>\n      <td>0.071429</td>\n      <td>0.50</td>\n      <td>0.003872</td>\n      <td>0.666667</td>\n      <td>0.0</td>\n      <td>0.728571</td>\n      <td>1.000000</td>\n      <td>...</td>\n      <td>1.0</td>\n      <td>0.0</td>\n      <td>0.0</td>\n      <td>0.0</td>\n      <td>0.0</td>\n      <td>0.0</td>\n      <td>0.0</td>\n      <td>0.0</td>\n      <td>1.0</td>\n      <td>0.0</td>\n    </tr>\n  </tbody>\n</table>\n<p>5 rows × 48 columns</p>\n</div>"
     },
     "metadata": {}
    }
   ]
  },
  {
   "cell_type": "markdown",
   "source": "## 4.7. Machine Learning\n",
   "metadata": {
    "cell_id": "40bcdbe8-d36c-4d75-a98c-b9644d70d6e4",
    "tags": [],
    "deepnote_cell_type": "markdown"
   }
  },
  {
   "cell_type": "markdown",
   "source": "### 4.7.1. Aprendizaje No Supervisado\n\n",
   "metadata": {
    "cell_id": "a08dfe2f-3154-40d2-9129-a66175a796c0",
    "tags": [],
    "deepnote_cell_type": "markdown"
   }
  },
  {
   "cell_type": "markdown",
   "source": "Se utiliza cuando deseamos aprender la estructura inherente de nuestros datos sin usar etiquetas proporcionadas explícitamente. Es muy útil en el análisis exploratorio porque puede identificar automáticamente la estructura de los datos.\n<figure>\n<img src=\"/work/Modulo3_Caso4/fig/unsupervised_learning.png\" align=\"center\"/> \n</figure> \n\n\nhttps://towardsdatascience.com/supervised-vs-unsupervised-learning-14f68e32ea8d",
   "metadata": {
    "cell_id": "8efea7a6-edc0-407e-a775-6a1cbed94a7a",
    "tags": [],
    "deepnote_cell_type": "markdown"
   }
  },
  {
   "cell_type": "markdown",
   "source": "#### 4.7.1.1. Algoritmos de Agrupación: K-Medias\n\n",
   "metadata": {
    "cell_id": "effe91bc-227b-42df-a8da-d409d5148c0c",
    "tags": [],
    "deepnote_cell_type": "markdown"
   }
  },
  {
   "cell_type": "markdown",
   "source": "El objetivo de K-means es simple: agrupar puntos de datos similares y descubrir patrones subyacentes. Para lograr este objetivo, K-means busca un número fijo (k) de clústeres en un dataset.\n\n<figure>\n<img src=\"/work/Modulo3_Caso4/fig/K-means clustering.png\" align=\"center\"/> \n</figure> ",
   "metadata": {
    "cell_id": "f7e3bb62-2027-4d04-bac5-450310cf4e7d",
    "tags": [],
    "deepnote_cell_type": "markdown"
   }
  },
  {
   "cell_type": "code",
   "metadata": {
    "cell_id": "4e1a2f7f-2ab5-4955-87b5-5132c560d95e",
    "tags": [],
    "deepnote_to_be_reexecuted": false,
    "source_hash": "3aaaa7ef",
    "execution_start": 1646737915768,
    "execution_millis": 9922,
    "deepnote_cell_type": "code",
    "deepnote_cell_height": 426
   },
   "source": "sum_sq_d = []\nK = range(1,11)\n\nfor k in K:\n    km = KMeans(n_clusters=k)\n    km = km.fit(df_HR_KMeans)\n    sum_sq_d.append(km.inertia_)\n    \nplt.figure(figsize=(8,6))\n\nplt.plot(K, sum_sq_d, 'rx-.')\n\nplt.xlabel('Number of Clusters, k', fontsize=12)\nplt.xticks(range(1,11), fontsize=12)\n\nplt.ylabel('Sum of Squared Distances', fontsize=12)\nplt.xticks(fontsize=12)\n\nplt.title('Elbow Method For Determining k', fontsize=16)\n\nplt.show()",
   "execution_count": null,
   "outputs": [
    {
     "data": {
      "text/plain": "<Figure size 576x432 with 1 Axes>",
      "image/png": "[encoded data removed]"
     },
     "metadata": {
      "needs_background": "light",
      "image/png": {
       "width": 510,
       "height": 395
      }
     },
     "output_type": "display_data"
    }
   ]
  },
  {
   "cell_type": "code",
   "metadata": {
    "cell_id": "d3950d5e-ebcf-4f35-969c-6739a9bbda8a",
    "tags": [],
    "deepnote_to_be_reexecuted": false,
    "source_hash": "b5436e10",
    "execution_start": 1646738229203,
    "execution_millis": 948,
    "deepnote_cell_type": "code",
    "deepnote_cell_height": 228
   },
   "source": "k = 2\n\nkmeans = KMeans(n_clusters=k, init='k-means++')\nkmeans.fit(df_HR_KMeans)\nlabels = kmeans.predict(df_HR_KMeans)\n\ndf_HR_KMeans['labels']=labels\n\ndf_HR_KMeans_grouped = df_HR_KMeans.groupby(['labels']).mean()\ndf_HR_KMeans_grouped.head(5)",
   "execution_count": null,
   "outputs": [
    {
     "output_type": "execute_result",
     "execution_count": 14,
     "data": {
      "application/vnd.deepnote.dataframe.v3+json": {
       "column_count": 48,
       "row_count": 2,
       "columns": [
        {
         "name": "Age",
         "dtype": "float64",
         "stats": {
          "unique_count": 2,
          "nan_count": 0,
          "min": "0.45068590350047294",
          "max": "0.48020289196759786",
          "histogram": [
           {
            "bin_start": 0.45068590350047294,
            "bin_end": 0.4536376023471854,
            "count": 1
           },
           {
            "bin_start": 0.4536376023471854,
            "bin_end": 0.4565893011938979,
            "count": 0
           },
           {
            "bin_start": 0.4565893011938979,
            "bin_end": 0.45954100004061044,
            "count": 0
           },
           {
            "bin_start": 0.45954100004061044,
            "bin_end": 0.4624926988873229,
            "count": 0
           },
           {
            "bin_start": 0.4624926988873229,
            "bin_end": 0.4654443977340354,
            "count": 0
           },
           {
            "bin_start": 0.4654443977340354,
            "bin_end": 0.4683960965807479,
            "count": 0
           },
           {
            "bin_start": 0.4683960965807479,
            "bin_end": 0.47134779542746036,
            "count": 0
           },
           {
            "bin_start": 0.47134779542746036,
            "bin_end": 0.4742994942741729,
            "count": 0
           },
           {
            "bin_start": 0.4742994942741729,
            "bin_end": 0.4772511931208854,
            "count": 0
           },
           {
            "bin_start": 0.4772511931208854,
            "bin_end": 0.48020289196759786,
            "count": 1
           }
          ]
         }
        },
        {
         "name": "BusinessTravel",
         "dtype": "float64",
         "stats": {
          "unique_count": 2,
          "nan_count": 0,
          "min": "0.527317880794702",
          "max": "0.5294117647058824",
          "histogram": [
           {
            "bin_start": 0.527317880794702,
            "bin_end": 0.52752726918582,
            "count": 1
           },
           {
            "bin_start": 0.52752726918582,
            "bin_end": 0.5277366575769381,
            "count": 0
           },
           {
            "bin_start": 0.5277366575769381,
            "bin_end": 0.527946045968056,
            "count": 0
           },
           {
            "bin_start": 0.527946045968056,
            "bin_end": 0.5281554343591741,
            "count": 0
           },
           {
            "bin_start": 0.5281554343591741,
            "bin_end": 0.5283648227502922,
            "count": 0
           },
           {
            "bin_start": 0.5283648227502922,
            "bin_end": 0.5285742111414102,
            "count": 0
           },
           {
            "bin_start": 0.5285742111414102,
            "bin_end": 0.5287835995325283,
            "count": 0
           },
           {
            "bin_start": 0.5287835995325283,
            "bin_end": 0.5289929879236462,
            "count": 0
           },
           {
            "bin_start": 0.5289929879236462,
            "bin_end": 0.5292023763147643,
            "count": 0
           },
           {
            "bin_start": 0.5292023763147643,
            "bin_end": 0.5294117647058824,
            "count": 1
           }
          ]
         }
        },
        {
         "name": "DailyRate",
         "dtype": "float64",
         "stats": {
          "unique_count": 2,
          "nan_count": 0,
          "min": "0.4907026409477262",
          "max": "0.5257723511544725",
          "histogram": [
           {
            "bin_start": 0.4907026409477262,
            "bin_end": 0.49420961196840085,
            "count": 1
           },
           {
            "bin_start": 0.49420961196840085,
            "bin_end": 0.49771658298907545,
            "count": 0
           },
           {
            "bin_start": 0.49771658298907545,
            "bin_end": 0.50122355400975,
            "count": 0
           },
           {
            "bin_start": 0.50122355400975,
            "bin_end": 0.5047305250304247,
            "count": 0
           },
           {
            "bin_start": 0.5047305250304247,
            "bin_end": 0.5082374960510994,
            "count": 0
           },
           {
            "bin_start": 0.5082374960510994,
            "bin_end": 0.511744467071774,
            "count": 0
           },
           {
            "bin_start": 0.511744467071774,
            "bin_end": 0.5152514380924487,
            "count": 0
           },
           {
            "bin_start": 0.5152514380924487,
            "bin_end": 0.5187584091131232,
            "count": 0
           },
           {
            "bin_start": 0.5187584091131232,
            "bin_end": 0.5222653801337979,
            "count": 0
           },
           {
            "bin_start": 0.5222653801337979,
            "bin_end": 0.5257723511544725,
            "count": 1
           }
          ]
         }
        },
        {
         "name": "DistanceFromHome",
         "dtype": "float64",
         "stats": {
          "unique_count": 2,
          "nan_count": 0,
          "min": "0.2788552507095553",
          "max": "0.2863956393368158",
          "histogram": [
           {
            "bin_start": 0.2788552507095553,
            "bin_end": 0.27960928957228137,
            "count": 1
           },
           {
            "bin_start": 0.27960928957228137,
            "bin_end": 0.2803633284350074,
            "count": 0
           },
           {
            "bin_start": 0.2803633284350074,
            "bin_end": 0.28111736729773346,
            "count": 0
           },
           {
            "bin_start": 0.28111736729773346,
            "bin_end": 0.28187140616045947,
            "count": 0
           },
           {
            "bin_start": 0.28187140616045947,
            "bin_end": 0.28262544502318554,
            "count": 0
           },
           {
            "bin_start": 0.28262544502318554,
            "bin_end": 0.2833794838859116,
            "count": 0
           },
           {
            "bin_start": 0.2833794838859116,
            "bin_end": 0.2841335227486376,
            "count": 0
           },
           {
            "bin_start": 0.2841335227486376,
            "bin_end": 0.2848875616113637,
            "count": 0
           },
           {
            "bin_start": 0.2848875616113637,
            "bin_end": 0.2856416004740897,
            "count": 0
           },
           {
            "bin_start": 0.2856416004740897,
            "bin_end": 0.2863956393368158,
            "count": 1
           }
          ]
         }
        },
        {
         "name": "Education",
         "dtype": "float64",
         "stats": {
          "unique_count": 2,
          "nan_count": 0,
          "min": "0.47456279809220986",
          "max": "0.48923841059602646",
          "histogram": [
           {
            "bin_start": 0.47456279809220986,
            "bin_end": 0.4760303593425915,
            "count": 1
           },
           {
            "bin_start": 0.4760303593425915,
            "bin_end": 0.4774979205929732,
            "count": 0
           },
           {
            "bin_start": 0.4774979205929732,
            "bin_end": 0.47896548184335486,
            "count": 0
           },
           {
            "bin_start": 0.47896548184335486,
            "bin_end": 0.4804330430937365,
            "count": 0
           },
           {
            "bin_start": 0.4804330430937365,
            "bin_end": 0.4819006043441182,
            "count": 0
           },
           {
            "bin_start": 0.4819006043441182,
            "bin_end": 0.4833681655944998,
            "count": 0
           },
           {
            "bin_start": 0.4833681655944998,
            "bin_end": 0.48483572684488146,
            "count": 0
           },
           {
            "bin_start": 0.48483572684488146,
            "bin_end": 0.48630328809526313,
            "count": 0
           },
           {
            "bin_start": 0.48630328809526313,
            "bin_end": 0.4877708493456448,
            "count": 0
           },
           {
            "bin_start": 0.4877708493456448,
            "bin_end": 0.48923841059602646,
            "count": 1
           }
          ]
         }
        },
        {
         "name": "EmployeeNumber",
         "dtype": "float64",
         "stats": {
          "unique_count": 2,
          "nan_count": 0,
          "min": "0.4946292224152632",
          "max": "0.4981893230853996",
          "histogram": [
           {
            "bin_start": 0.4946292224152632,
            "bin_end": 0.4949852324822768,
            "count": 1
           },
           {
            "bin_start": 0.4949852324822768,
            "bin_end": 0.49534124254929046,
            "count": 0
           },
           {
            "bin_start": 0.49534124254929046,
            "bin_end": 0.4956972526163041,
            "count": 0
           },
           {
            "bin_start": 0.4956972526163041,
            "bin_end": 0.49605326268331773,
            "count": 0
           },
           {
            "bin_start": 0.49605326268331773,
            "bin_end": 0.4964092727503314,
            "count": 0
           },
           {
            "bin_start": 0.4964092727503314,
            "bin_end": 0.49676528281734506,
            "count": 0
           },
           {
            "bin_start": 0.49676528281734506,
            "bin_end": 0.4971212928843587,
            "count": 0
           },
           {
            "bin_start": 0.4971212928843587,
            "bin_end": 0.4974773029513723,
            "count": 0
           },
           {
            "bin_start": 0.4974773029513723,
            "bin_end": 0.49783331301838596,
            "count": 0
           },
           {
            "bin_start": 0.49783331301838596,
            "bin_end": 0.4981893230853996,
            "count": 1
           }
          ]
         }
        },
        {
         "name": "EnvironmentSatisfaction",
         "dtype": "float64",
         "stats": {
          "unique_count": 2,
          "nan_count": 0,
          "min": "0.5903550609432963",
          "max": "0.5905077262693157",
          "histogram": [
           {
            "bin_start": 0.5903550609432963,
            "bin_end": 0.5903703274758982,
            "count": 1
           },
           {
            "bin_start": 0.5903703274758982,
            "bin_end": 0.5903855940085001,
            "count": 0
           },
           {
            "bin_start": 0.5903855940085001,
            "bin_end": 0.5904008605411021,
            "count": 0
           },
           {
            "bin_start": 0.5904008605411021,
            "bin_end": 0.5904161270737041,
            "count": 0
           },
           {
            "bin_start": 0.5904161270737041,
            "bin_end": 0.5904313936063059,
            "count": 0
           },
           {
            "bin_start": 0.5904313936063059,
            "bin_end": 0.5904466601389079,
            "count": 0
           },
           {
            "bin_start": 0.5904466601389079,
            "bin_end": 0.5904619266715099,
            "count": 0
           },
           {
            "bin_start": 0.5904619266715099,
            "bin_end": 0.5904771932041118,
            "count": 0
           },
           {
            "bin_start": 0.5904771932041118,
            "bin_end": 0.5904924597367137,
            "count": 0
           },
           {
            "bin_start": 0.5904924597367137,
            "bin_end": 0.5905077262693157,
            "count": 1
           }
          ]
         }
        },
        {
         "name": "Gender",
         "dtype": "float64",
         "stats": {
          "unique_count": 2,
          "nan_count": 0,
          "min": "0.5629139072847682",
          "max": "0.6232114467408585",
          "histogram": [
           {
            "bin_start": 0.5629139072847682,
            "bin_end": 0.5689436612303772,
            "count": 1
           },
           {
            "bin_start": 0.5689436612303772,
            "bin_end": 0.5749734151759862,
            "count": 0
           },
           {
            "bin_start": 0.5749734151759862,
            "bin_end": 0.5810031691215953,
            "count": 0
           },
           {
            "bin_start": 0.5810031691215953,
            "bin_end": 0.5870329230672043,
            "count": 0
           },
           {
            "bin_start": 0.5870329230672043,
            "bin_end": 0.5930626770128133,
            "count": 0
           },
           {
            "bin_start": 0.5930626770128133,
            "bin_end": 0.5990924309584224,
            "count": 0
           },
           {
            "bin_start": 0.5990924309584224,
            "bin_end": 0.6051221849040314,
            "count": 0
           },
           {
            "bin_start": 0.6051221849040314,
            "bin_end": 0.6111519388496405,
            "count": 0
           },
           {
            "bin_start": 0.6111519388496405,
            "bin_end": 0.6171816927952495,
            "count": 0
           },
           {
            "bin_start": 0.6171816927952495,
            "bin_end": 0.6232114467408585,
            "count": 1
           }
          ]
         }
        },
        {
         "name": "HourlyRate",
         "dtype": "float64",
         "stats": {
          "unique_count": 2,
          "nan_count": 0,
          "min": "0.5052034058656575",
          "max": "0.521667045196457",
          "histogram": [
           {
            "bin_start": 0.5052034058656575,
            "bin_end": 0.5068497697987374,
            "count": 1
           },
           {
            "bin_start": 0.5068497697987374,
            "bin_end": 0.5084961337318173,
            "count": 0
           },
           {
            "bin_start": 0.5084961337318173,
            "bin_end": 0.5101424976648974,
            "count": 0
           },
           {
            "bin_start": 0.5101424976648974,
            "bin_end": 0.5117888615979773,
            "count": 0
           },
           {
            "bin_start": 0.5117888615979773,
            "bin_end": 0.5134352255310572,
            "count": 0
           },
           {
            "bin_start": 0.5134352255310572,
            "bin_end": 0.5150815894641372,
            "count": 0
           },
           {
            "bin_start": 0.5150815894641372,
            "bin_end": 0.5167279533972171,
            "count": 0
           },
           {
            "bin_start": 0.5167279533972171,
            "bin_end": 0.5183743173302972,
            "count": 0
           },
           {
            "bin_start": 0.5183743173302972,
            "bin_end": 0.5200206812633771,
            "count": 0
           },
           {
            "bin_start": 0.5200206812633771,
            "bin_end": 0.521667045196457,
            "count": 1
           }
          ]
         }
        },
        {
         "name": "JobInvolvement",
         "dtype": "float64",
         "stats": {
          "unique_count": 2,
          "nan_count": 0,
          "min": "0.5838852097130243",
          "max": "0.5961844197138315",
          "histogram": [
           {
            "bin_start": 0.5838852097130243,
            "bin_end": 0.585115130713105,
            "count": 1
           },
           {
            "bin_start": 0.585115130713105,
            "bin_end": 0.5863450517131857,
            "count": 0
           },
           {
            "bin_start": 0.5863450517131857,
            "bin_end": 0.5875749727132664,
            "count": 0
           },
           {
            "bin_start": 0.5875749727132664,
            "bin_end": 0.5888048937133472,
            "count": 0
           },
           {
            "bin_start": 0.5888048937133472,
            "bin_end": 0.5900348147134279,
            "count": 0
           },
           {
            "bin_start": 0.5900348147134279,
            "bin_end": 0.5912647357135086,
            "count": 0
           },
           {
            "bin_start": 0.5912647357135086,
            "bin_end": 0.5924946567135894,
            "count": 0
           },
           {
            "bin_start": 0.5924946567135894,
            "bin_end": 0.59372457771367,
            "count": 0
           },
           {
            "bin_start": 0.59372457771367,
            "bin_end": 0.5949544987137508,
            "count": 0
           },
           {
            "bin_start": 0.5949544987137508,
            "bin_end": 0.5961844197138315,
            "count": 1
           }
          ]
         }
        },
        {
         "name": "JobLevel",
         "dtype": "float64",
         "stats": {
          "unique_count": 2,
          "nan_count": 0,
          "min": "0.27782193958664547",
          "max": "0.2955298013245033",
          "histogram": [
           {
            "bin_start": 0.27782193958664547,
            "bin_end": 0.27959272576043126,
            "count": 1
           },
           {
            "bin_start": 0.27959272576043126,
            "bin_end": 0.28136351193421705,
            "count": 0
           },
           {
            "bin_start": 0.28136351193421705,
            "bin_end": 0.28313429810800284,
            "count": 0
           },
           {
            "bin_start": 0.28313429810800284,
            "bin_end": 0.2849050842817886,
            "count": 0
           },
           {
            "bin_start": 0.2849050842817886,
            "bin_end": 0.2866758704555744,
            "count": 0
           },
           {
            "bin_start": 0.2866758704555744,
            "bin_end": 0.28844665662936014,
            "count": 0
           },
           {
            "bin_start": 0.28844665662936014,
            "bin_end": 0.29021744280314593,
            "count": 0
           },
           {
            "bin_start": 0.29021744280314593,
            "bin_end": 0.2919882289769317,
            "count": 0
           },
           {
            "bin_start": 0.2919882289769317,
            "bin_end": 0.2937590151507175,
            "count": 0
           },
           {
            "bin_start": 0.2937590151507175,
            "bin_end": 0.2955298013245033,
            "count": 1
           }
          ]
         }
        },
        {
         "name": "JobSatisfaction",
         "dtype": "float64",
         "stats": {
          "unique_count": 2,
          "nan_count": 0,
          "min": "0.5723370429252782",
          "max": "0.6142384105960265",
          "histogram": [
           {
            "bin_start": 0.5723370429252782,
            "bin_end": 0.576527179692353,
            "count": 1
           },
           {
            "bin_start": 0.576527179692353,
            "bin_end": 0.5807173164594278,
            "count": 0
           },
           {
            "bin_start": 0.5807173164594278,
            "bin_end": 0.5849074532265027,
            "count": 0
           },
           {
            "bin_start": 0.5849074532265027,
            "bin_end": 0.5890975899935775,
            "count": 0
           },
           {
            "bin_start": 0.5890975899935775,
            "bin_end": 0.5932877267606523,
            "count": 0
           },
           {
            "bin_start": 0.5932877267606523,
            "bin_end": 0.5974778635277271,
            "count": 0
           },
           {
            "bin_start": 0.5974778635277271,
            "bin_end": 0.6016680002948019,
            "count": 0
           },
           {
            "bin_start": 0.6016680002948019,
            "bin_end": 0.6058581370618769,
            "count": 0
           },
           {
            "bin_start": 0.6058581370618769,
            "bin_end": 0.6100482738289517,
            "count": 0
           },
           {
            "bin_start": 0.6100482738289517,
            "bin_end": 0.6142384105960265,
            "count": 1
           }
          ]
         }
        },
        {
         "name": "MonthlyIncome",
         "dtype": "float64",
         "stats": {
          "unique_count": 2,
          "nan_count": 0,
          "min": "0.30484634139862743",
          "max": "0.30541649759881706",
          "histogram": [
           {
            "bin_start": 0.30484634139862743,
            "bin_end": 0.3049033570186464,
            "count": 1
           },
           {
            "bin_start": 0.3049033570186464,
            "bin_end": 0.3049603726386654,
            "count": 0
           },
           {
            "bin_start": 0.3049603726386654,
            "bin_end": 0.3050173882586843,
            "count": 0
           },
           {
            "bin_start": 0.3050173882586843,
            "bin_end": 0.30507440387870327,
            "count": 0
           },
           {
            "bin_start": 0.30507440387870327,
            "bin_end": 0.30513141949872225,
            "count": 0
           },
           {
            "bin_start": 0.30513141949872225,
            "bin_end": 0.3051884351187412,
            "count": 0
           },
           {
            "bin_start": 0.3051884351187412,
            "bin_end": 0.3052454507387602,
            "count": 0
           },
           {
            "bin_start": 0.3052454507387602,
            "bin_end": 0.3053024663587791,
            "count": 0
           },
           {
            "bin_start": 0.3053024663587791,
            "bin_end": 0.3053594819787981,
            "count": 0
           },
           {
            "bin_start": 0.3053594819787981,
            "bin_end": 0.30541649759881706,
            "count": 1
           }
          ]
         }
        },
        {
         "name": "MonthlyRate",
         "dtype": "float64",
         "stats": {
          "unique_count": 2,
          "nan_count": 0,
          "min": "0.4817143936598007",
          "max": "0.49611273196957834",
          "histogram": [
           {
            "bin_start": 0.4817143936598007,
            "bin_end": 0.48315422749077847,
            "count": 1
           },
           {
            "bin_start": 0.48315422749077847,
            "bin_end": 0.4845940613217562,
            "count": 0
           },
           {
            "bin_start": 0.4845940613217562,
            "bin_end": 0.486033895152734,
            "count": 0
           },
           {
            "bin_start": 0.486033895152734,
            "bin_end": 0.4874737289837117,
            "count": 0
           },
           {
            "bin_start": 0.4874737289837117,
            "bin_end": 0.4889135628146895,
            "count": 0
           },
           {
            "bin_start": 0.4889135628146895,
            "bin_end": 0.4903533966456673,
            "count": 0
           },
           {
            "bin_start": 0.4903533966456673,
            "bin_end": 0.491793230476645,
            "count": 0
           },
           {
            "bin_start": 0.491793230476645,
            "bin_end": 0.4932330643076228,
            "count": 0
           },
           {
            "bin_start": 0.4932330643076228,
            "bin_end": 0.49467289813860055,
            "count": 0
           },
           {
            "bin_start": 0.49467289813860055,
            "bin_end": 0.49611273196957834,
            "count": 1
           }
          ]
         }
        },
        {
         "name": "NumCompaniesWorked",
         "dtype": "float64",
         "stats": {
          "unique_count": 2,
          "nan_count": 0,
          "min": "0.28550404709345106",
          "max": "0.302066772655008",
          "histogram": [
           {
            "bin_start": 0.28550404709345106,
            "bin_end": 0.28716031964960675,
            "count": 1
           },
           {
            "bin_start": 0.28716031964960675,
            "bin_end": 0.28881659220576245,
            "count": 0
           },
           {
            "bin_start": 0.28881659220576245,
            "bin_end": 0.29047286476191814,
            "count": 0
           },
           {
            "bin_start": 0.29047286476191814,
            "bin_end": 0.29212913731807383,
            "count": 0
           },
           {
            "bin_start": 0.29212913731807383,
            "bin_end": 0.2937854098742295,
            "count": 0
           },
           {
            "bin_start": 0.2937854098742295,
            "bin_end": 0.2954416824303852,
            "count": 0
           },
           {
            "bin_start": 0.2954416824303852,
            "bin_end": 0.2970979549865409,
            "count": 0
           },
           {
            "bin_start": 0.2970979549865409,
            "bin_end": 0.2987542275426966,
            "count": 0
           },
           {
            "bin_start": 0.2987542275426966,
            "bin_end": 0.3004105000988523,
            "count": 0
           },
           {
            "bin_start": 0.3004105000988523,
            "bin_end": 0.302066772655008,
            "count": 1
           }
          ]
         }
        },
        {
         "name": "OverTime",
         "dtype": "float64",
         "stats": {
          "unique_count": 2,
          "nan_count": 0,
          "min": "0.21357615894039736",
          "max": "0.2543720190779014",
          "histogram": [
           {
            "bin_start": 0.21357615894039736,
            "bin_end": 0.21765574495414777,
            "count": 1
           },
           {
            "bin_start": 0.21765574495414777,
            "bin_end": 0.22173533096789816,
            "count": 0
           },
           {
            "bin_start": 0.22173533096789816,
            "bin_end": 0.22581491698164857,
            "count": 0
           },
           {
            "bin_start": 0.22581491698164857,
            "bin_end": 0.22989450299539899,
            "count": 0
           },
           {
            "bin_start": 0.22989450299539899,
            "bin_end": 0.2339740890091494,
            "count": 0
           },
           {
            "bin_start": 0.2339740890091494,
            "bin_end": 0.23805367502289979,
            "count": 0
           },
           {
            "bin_start": 0.23805367502289979,
            "bin_end": 0.2421332610366502,
            "count": 0
           },
           {
            "bin_start": 0.2421332610366502,
            "bin_end": 0.24621284705040059,
            "count": 0
           },
           {
            "bin_start": 0.24621284705040059,
            "bin_end": 0.250292433064151,
            "count": 0
           },
           {
            "bin_start": 0.250292433064151,
            "bin_end": 0.2543720190779014,
            "count": 1
           }
          ]
         }
        },
        {
         "name": "PercentSalaryHike",
         "dtype": "float64",
         "stats": {
          "unique_count": 2,
          "nan_count": 0,
          "min": "0.2943472090823084",
          "max": "0.3097887803770156",
          "histogram": [
           {
            "bin_start": 0.2943472090823084,
            "bin_end": 0.2958913662117791,
            "count": 1
           },
           {
            "bin_start": 0.2958913662117791,
            "bin_end": 0.29743552334124984,
            "count": 0
           },
           {
            "bin_start": 0.29743552334124984,
            "bin_end": 0.29897968047072054,
            "count": 0
           },
           {
            "bin_start": 0.29897968047072054,
            "bin_end": 0.3005238376001913,
            "count": 0
           },
           {
            "bin_start": 0.3005238376001913,
            "bin_end": 0.302067994729662,
            "count": 0
           },
           {
            "bin_start": 0.302067994729662,
            "bin_end": 0.3036121518591327,
            "count": 0
           },
           {
            "bin_start": 0.3036121518591327,
            "bin_end": 0.30515630898860346,
            "count": 0
           },
           {
            "bin_start": 0.30515630898860346,
            "bin_end": 0.30670046611807417,
            "count": 0
           },
           {
            "bin_start": 0.30670046611807417,
            "bin_end": 0.3082446232475449,
            "count": 0
           },
           {
            "bin_start": 0.3082446232475449,
            "bin_end": 0.3097887803770156,
            "count": 1
           }
          ]
         }
        },
        {
         "name": "PerformanceRating",
         "dtype": "float64",
         "stats": {
          "unique_count": 2,
          "nan_count": 0,
          "min": "0.14072847682119205",
          "max": "0.16534181240063592",
          "histogram": [
           {
            "bin_start": 0.14072847682119205,
            "bin_end": 0.14318981037913645,
            "count": 1
           },
           {
            "bin_start": 0.14318981037913645,
            "bin_end": 0.1456511439370808,
            "count": 0
           },
           {
            "bin_start": 0.1456511439370808,
            "bin_end": 0.1481124774950252,
            "count": 0
           },
           {
            "bin_start": 0.1481124774950252,
            "bin_end": 0.1505738110529696,
            "count": 0
           },
           {
            "bin_start": 0.1505738110529696,
            "bin_end": 0.153035144610914,
            "count": 0
           },
           {
            "bin_start": 0.153035144610914,
            "bin_end": 0.15549647816885837,
            "count": 0
           },
           {
            "bin_start": 0.15549647816885837,
            "bin_end": 0.15795781172680276,
            "count": 0
           },
           {
            "bin_start": 0.15795781172680276,
            "bin_end": 0.16041914528474716,
            "count": 0
           },
           {
            "bin_start": 0.16041914528474716,
            "bin_end": 0.16288047884269152,
            "count": 0
           },
           {
            "bin_start": 0.16288047884269152,
            "bin_end": 0.16534181240063592,
            "count": 1
           }
          ]
         }
        },
        {
         "name": "RelationshipSatisfaction",
         "dtype": "float64",
         "stats": {
          "unique_count": 2,
          "nan_count": 0,
          "min": "0.5627980922098569",
          "max": "0.5938189845474614",
          "histogram": [
           {
            "bin_start": 0.5627980922098569,
            "bin_end": 0.5659001814436173,
            "count": 1
           },
           {
            "bin_start": 0.5659001814436173,
            "bin_end": 0.5690022706773777,
            "count": 0
           },
           {
            "bin_start": 0.5690022706773777,
            "bin_end": 0.5721043599111383,
            "count": 0
           },
           {
            "bin_start": 0.5721043599111383,
            "bin_end": 0.5752064491448987,
            "count": 0
           },
           {
            "bin_start": 0.5752064491448987,
            "bin_end": 0.5783085383786591,
            "count": 0
           },
           {
            "bin_start": 0.5783085383786591,
            "bin_end": 0.5814106276124196,
            "count": 0
           },
           {
            "bin_start": 0.5814106276124196,
            "bin_end": 0.58451271684618,
            "count": 0
           },
           {
            "bin_start": 0.58451271684618,
            "bin_end": 0.5876148060799405,
            "count": 0
           },
           {
            "bin_start": 0.5876148060799405,
            "bin_end": 0.590716895313701,
            "count": 0
           },
           {
            "bin_start": 0.590716895313701,
            "bin_end": 0.5938189845474614,
            "count": 1
           }
          ]
         }
        },
        {
         "name": "StockOptionLevel",
         "dtype": "float64",
         "stats": {
          "unique_count": 2,
          "nan_count": 0,
          "min": "0.1650110375275938",
          "max": "0.3937466878643349",
          "histogram": [
           {
            "bin_start": 0.1650110375275938,
            "bin_end": 0.1878846025612679,
            "count": 1
           },
           {
            "bin_start": 0.1878846025612679,
            "bin_end": 0.21075816759494204,
            "count": 0
           },
           {
            "bin_start": 0.21075816759494204,
            "bin_end": 0.23363173262861614,
            "count": 0
           },
           {
            "bin_start": 0.23363173262861614,
            "bin_end": 0.25650529766229024,
            "count": 0
           },
           {
            "bin_start": 0.25650529766229024,
            "bin_end": 0.27937886269596435,
            "count": 0
           },
           {
            "bin_start": 0.27937886269596435,
            "bin_end": 0.30225242772963845,
            "count": 0
           },
           {
            "bin_start": 0.30225242772963845,
            "bin_end": 0.32512599276331255,
            "count": 0
           },
           {
            "bin_start": 0.32512599276331255,
            "bin_end": 0.34799955779698666,
            "count": 0
           },
           {
            "bin_start": 0.34799955779698666,
            "bin_end": 0.37087312283066076,
            "count": 0
           },
           {
            "bin_start": 0.37087312283066076,
            "bin_end": 0.3937466878643349,
            "count": 1
           }
          ]
         }
        },
        {
         "name": "TotalWorkingYears",
         "dtype": "float64",
         "stats": {
          "unique_count": 2,
          "nan_count": 0,
          "min": "0.30629139072847683",
          "max": "0.31783951133796334",
          "histogram": [
           {
            "bin_start": 0.30629139072847683,
            "bin_end": 0.30744620278942547,
            "count": 1
           },
           {
            "bin_start": 0.30744620278942547,
            "bin_end": 0.3086010148503741,
            "count": 0
           },
           {
            "bin_start": 0.3086010148503741,
            "bin_end": 0.3097558269113228,
            "count": 0
           },
           {
            "bin_start": 0.3097558269113228,
            "bin_end": 0.31091063897227145,
            "count": 0
           },
           {
            "bin_start": 0.31091063897227145,
            "bin_end": 0.3120654510332201,
            "count": 0
           },
           {
            "bin_start": 0.3120654510332201,
            "bin_end": 0.3132202630941687,
            "count": 0
           },
           {
            "bin_start": 0.3132202630941687,
            "bin_end": 0.31437507515511737,
            "count": 0
           },
           {
            "bin_start": 0.31437507515511737,
            "bin_end": 0.31552988721606606,
            "count": 0
           },
           {
            "bin_start": 0.31552988721606606,
            "bin_end": 0.3166846992770147,
            "count": 0
           },
           {
            "bin_start": 0.3166846992770147,
            "bin_end": 0.31783951133796334,
            "count": 1
           }
          ]
         }
        },
        {
         "name": "TrainingTimesLastYear",
         "dtype": "float64",
         "stats": {
          "unique_count": 2,
          "nan_count": 0,
          "min": "0.46184419713831476",
          "max": "0.4828918322295805",
          "histogram": [
           {
            "bin_start": 0.46184419713831476,
            "bin_end": 0.46394896064744134,
            "count": 1
           },
           {
            "bin_start": 0.46394896064744134,
            "bin_end": 0.46605372415656793,
            "count": 0
           },
           {
            "bin_start": 0.46605372415656793,
            "bin_end": 0.46815848766569446,
            "count": 0
           },
           {
            "bin_start": 0.46815848766569446,
            "bin_end": 0.47026325117482104,
            "count": 0
           },
           {
            "bin_start": 0.47026325117482104,
            "bin_end": 0.4723680146839476,
            "count": 0
           },
           {
            "bin_start": 0.4723680146839476,
            "bin_end": 0.4744727781930742,
            "count": 0
           },
           {
            "bin_start": 0.4744727781930742,
            "bin_end": 0.4765775417022008,
            "count": 0
           },
           {
            "bin_start": 0.4765775417022008,
            "bin_end": 0.4786823052113273,
            "count": 0
           },
           {
            "bin_start": 0.4786823052113273,
            "bin_end": 0.4807870687204539,
            "count": 0
           },
           {
            "bin_start": 0.4807870687204539,
            "bin_end": 0.4828918322295805,
            "count": 1
           }
          ]
         }
        },
        {
         "name": "WorkLifeBalance",
         "dtype": "float64",
         "stats": {
          "unique_count": 2,
          "nan_count": 0,
          "min": "0.5818759936406995",
          "max": "0.6059602649006622",
          "histogram": [
           {
            "bin_start": 0.5818759936406995,
            "bin_end": 0.5842844207666958,
            "count": 1
           },
           {
            "bin_start": 0.5842844207666958,
            "bin_end": 0.586692847892692,
            "count": 0
           },
           {
            "bin_start": 0.586692847892692,
            "bin_end": 0.5891012750186884,
            "count": 0
           },
           {
            "bin_start": 0.5891012750186884,
            "bin_end": 0.5915097021446846,
            "count": 0
           },
           {
            "bin_start": 0.5915097021446846,
            "bin_end": 0.5939181292706809,
            "count": 0
           },
           {
            "bin_start": 0.5939181292706809,
            "bin_end": 0.5963265563966772,
            "count": 0
           },
           {
            "bin_start": 0.5963265563966772,
            "bin_end": 0.5987349835226734,
            "count": 0
           },
           {
            "bin_start": 0.5987349835226734,
            "bin_end": 0.6011434106486697,
            "count": 0
           },
           {
            "bin_start": 0.6011434106486697,
            "bin_end": 0.6035518377746659,
            "count": 0
           },
           {
            "bin_start": 0.6035518377746659,
            "bin_end": 0.6059602649006622,
            "count": 1
           }
          ]
         }
        },
        {
         "name": "YearsAtCompany",
         "dtype": "float64",
         "stats": {
          "unique_count": 2,
          "nan_count": 0,
          "min": "0.19795954895292645",
          "max": "0.2003179650238474",
          "histogram": [
           {
            "bin_start": 0.19795954895292645,
            "bin_end": 0.19819539056001853,
            "count": 1
           },
           {
            "bin_start": 0.19819539056001853,
            "bin_end": 0.19843123216711064,
            "count": 0
           },
           {
            "bin_start": 0.19843123216711064,
            "bin_end": 0.19866707377420273,
            "count": 0
           },
           {
            "bin_start": 0.19866707377420273,
            "bin_end": 0.19890291538129484,
            "count": 0
           },
           {
            "bin_start": 0.19890291538129484,
            "bin_end": 0.19913875698838693,
            "count": 0
           },
           {
            "bin_start": 0.19913875698838693,
            "bin_end": 0.199374598595479,
            "count": 0
           },
           {
            "bin_start": 0.199374598595479,
            "bin_end": 0.19961044020257113,
            "count": 0
           },
           {
            "bin_start": 0.19961044020257113,
            "bin_end": 0.1998462818096632,
            "count": 0
           },
           {
            "bin_start": 0.1998462818096632,
            "bin_end": 0.20008212341675533,
            "count": 0
           },
           {
            "bin_start": 0.20008212341675533,
            "bin_end": 0.2003179650238474,
            "count": 1
           }
          ]
         }
        },
        {
         "name": "YearsInCurrentRole",
         "dtype": "float64",
         "stats": {
          "unique_count": 2,
          "nan_count": 0,
          "min": "0.24827768945416004",
          "max": "0.25",
          "histogram": [
           {
            "bin_start": 0.24827768945416004,
            "bin_end": 0.24844992050874404,
            "count": 1
           },
           {
            "bin_start": 0.24844992050874404,
            "bin_end": 0.24862215156332804,
            "count": 0
           },
           {
            "bin_start": 0.24862215156332804,
            "bin_end": 0.24879438261791204,
            "count": 0
           },
           {
            "bin_start": 0.24879438261791204,
            "bin_end": 0.24896661367249603,
            "count": 0
           },
           {
            "bin_start": 0.24896661367249603,
            "bin_end": 0.24913884472708003,
            "count": 0
           },
           {
            "bin_start": 0.24913884472708003,
            "bin_end": 0.249311075781664,
            "count": 0
           },
           {
            "bin_start": 0.249311075781664,
            "bin_end": 0.249483306836248,
            "count": 0
           },
           {
            "bin_start": 0.249483306836248,
            "bin_end": 0.249655537890832,
            "count": 0
           },
           {
            "bin_start": 0.249655537890832,
            "bin_end": 0.249827768945416,
            "count": 0
           },
           {
            "bin_start": 0.249827768945416,
            "bin_end": 0.25,
            "count": 1
           }
          ]
         }
        },
        {
         "name": "YearsSinceLastPromotion",
         "dtype": "float64",
         "stats": {
          "unique_count": 2,
          "nan_count": 0,
          "min": "0.14812362030905077",
          "max": "0.14976152623211447",
          "histogram": [
           {
            "bin_start": 0.14812362030905077,
            "bin_end": 0.14828741090135714,
            "count": 1
           },
           {
            "bin_start": 0.14828741090135714,
            "bin_end": 0.1484512014936635,
            "count": 0
           },
           {
            "bin_start": 0.1484512014936635,
            "bin_end": 0.14861499208596987,
            "count": 0
           },
           {
            "bin_start": 0.14861499208596987,
            "bin_end": 0.14877878267827624,
            "count": 0
           },
           {
            "bin_start": 0.14877878267827624,
            "bin_end": 0.14894257327058263,
            "count": 0
           },
           {
            "bin_start": 0.14894257327058263,
            "bin_end": 0.149106363862889,
            "count": 0
           },
           {
            "bin_start": 0.149106363862889,
            "bin_end": 0.14927015445519537,
            "count": 0
           },
           {
            "bin_start": 0.14927015445519537,
            "bin_end": 0.14943394504750174,
            "count": 0
           },
           {
            "bin_start": 0.14943394504750174,
            "bin_end": 0.1495977356398081,
            "count": 0
           },
           {
            "bin_start": 0.1495977356398081,
            "bin_end": 0.14976152623211447,
            "count": 1
           }
          ]
         }
        },
        {
         "name": "YearsWithCurrManager",
         "dtype": "float64",
         "stats": {
          "unique_count": 2,
          "nan_count": 0,
          "min": "0.25399794257925745",
          "max": "0.2599337748344371",
          "histogram": [
           {
            "bin_start": 0.25399794257925745,
            "bin_end": 0.2545915258047754,
            "count": 1
           },
           {
            "bin_start": 0.2545915258047754,
            "bin_end": 0.2551851090302934,
            "count": 0
           },
           {
            "bin_start": 0.2551851090302934,
            "bin_end": 0.25577869225581135,
            "count": 0
           },
           {
            "bin_start": 0.25577869225581135,
            "bin_end": 0.2563722754813293,
            "count": 0
           },
           {
            "bin_start": 0.2563722754813293,
            "bin_end": 0.2569658587068473,
            "count": 0
           },
           {
            "bin_start": 0.2569658587068473,
            "bin_end": 0.25755944193236524,
            "count": 0
           },
           {
            "bin_start": 0.25755944193236524,
            "bin_end": 0.2581530251578832,
            "count": 0
           },
           {
            "bin_start": 0.2581530251578832,
            "bin_end": 0.25874660838340113,
            "count": 0
           },
           {
            "bin_start": 0.25874660838340113,
            "bin_end": 0.25934019160891914,
            "count": 0
           },
           {
            "bin_start": 0.25934019160891914,
            "bin_end": 0.2599337748344371,
            "count": 1
           }
          ]
         }
        },
        {
         "name": "Department_Human Resources",
         "dtype": "float64",
         "stats": {
          "unique_count": 2,
          "nan_count": 0,
          "min": "0.019867549668874173",
          "max": "0.06200317965023847",
          "histogram": [
           {
            "bin_start": 0.019867549668874173,
            "bin_end": 0.0240811126670106,
            "count": 1
           },
           {
            "bin_start": 0.0240811126670106,
            "bin_end": 0.028294675665147033,
            "count": 0
           },
           {
            "bin_start": 0.028294675665147033,
            "bin_end": 0.032508238663283465,
            "count": 0
           },
           {
            "bin_start": 0.032508238663283465,
            "bin_end": 0.03672180166141989,
            "count": 0
           },
           {
            "bin_start": 0.03672180166141989,
            "bin_end": 0.04093536465955633,
            "count": 0
           },
           {
            "bin_start": 0.04093536465955633,
            "bin_end": 0.04514892765769275,
            "count": 0
           },
           {
            "bin_start": 0.04514892765769275,
            "bin_end": 0.04936249065582918,
            "count": 0
           },
           {
            "bin_start": 0.04936249065582918,
            "bin_end": 0.053576053653965616,
            "count": 0
           },
           {
            "bin_start": 0.053576053653965616,
            "bin_end": 0.05778961665210204,
            "count": 0
           },
           {
            "bin_start": 0.05778961665210204,
            "bin_end": 0.06200317965023847,
            "count": 1
           }
          ]
         }
        },
        {
         "name": "Department_Research & Development",
         "dtype": "float64",
         "stats": {
          "unique_count": 2,
          "nan_count": 0,
          "min": "0.39403973509933776",
          "max": "0.9379968203497615",
          "histogram": [
           {
            "bin_start": 0.39403973509933776,
            "bin_end": 0.44843544362438015,
            "count": 1
           },
           {
            "bin_start": 0.44843544362438015,
            "bin_end": 0.5028311521494225,
            "count": 0
           },
           {
            "bin_start": 0.5028311521494225,
            "bin_end": 0.5572268606744648,
            "count": 0
           },
           {
            "bin_start": 0.5572268606744648,
            "bin_end": 0.6116225691995072,
            "count": 0
           },
           {
            "bin_start": 0.6116225691995072,
            "bin_end": 0.6660182777245496,
            "count": 0
           },
           {
            "bin_start": 0.6660182777245496,
            "bin_end": 0.720413986249592,
            "count": 0
           },
           {
            "bin_start": 0.720413986249592,
            "bin_end": 0.7748096947746343,
            "count": 0
           },
           {
            "bin_start": 0.7748096947746343,
            "bin_end": 0.8292054032996767,
            "count": 0
           },
           {
            "bin_start": 0.8292054032996767,
            "bin_end": 0.8836011118247191,
            "count": 0
           },
           {
            "bin_start": 0.8836011118247191,
            "bin_end": 0.9379968203497615,
            "count": 1
           }
          ]
         }
        },
        {
         "name": "Department_Sales",
         "dtype": "float64",
         "stats": {
          "unique_count": 2,
          "nan_count": 0,
          "min": "0.0",
          "max": "0.5860927152317881",
          "histogram": [
           {
            "bin_start": 0,
            "bin_end": 0.05860927152317881,
            "count": 1
           },
           {
            "bin_start": 0.05860927152317881,
            "bin_end": 0.11721854304635762,
            "count": 0
           },
           {
            "bin_start": 0.11721854304635762,
            "bin_end": 0.17582781456953644,
            "count": 0
           },
           {
            "bin_start": 0.17582781456953644,
            "bin_end": 0.23443708609271524,
            "count": 0
           },
           {
            "bin_start": 0.23443708609271524,
            "bin_end": 0.29304635761589404,
            "count": 0
           },
           {
            "bin_start": 0.29304635761589404,
            "bin_end": 0.3516556291390729,
            "count": 0
           },
           {
            "bin_start": 0.3516556291390729,
            "bin_end": 0.4102649006622517,
            "count": 0
           },
           {
            "bin_start": 0.4102649006622517,
            "bin_end": 0.4688741721854305,
            "count": 0
           },
           {
            "bin_start": 0.4688741721854305,
            "bin_end": 0.5274834437086093,
            "count": 0
           },
           {
            "bin_start": 0.5274834437086093,
            "bin_end": 0.5860927152317881,
            "count": 1
           }
          ]
         }
        },
        {
         "name": "EducationField_Human Resources",
         "dtype": "float64",
         "stats": {
          "unique_count": 2,
          "nan_count": 0,
          "min": "0.0033112582781456954",
          "max": "0.028616852146263912",
          "histogram": [
           {
            "bin_start": 0.0033112582781456954,
            "bin_end": 0.005841817664957517,
            "count": 1
           },
           {
            "bin_start": 0.005841817664957517,
            "bin_end": 0.008372377051769339,
            "count": 0
           },
           {
            "bin_start": 0.008372377051769339,
            "bin_end": 0.01090293643858116,
            "count": 0
           },
           {
            "bin_start": 0.01090293643858116,
            "bin_end": 0.013433495825392982,
            "count": 0
           },
           {
            "bin_start": 0.013433495825392982,
            "bin_end": 0.015964055212204804,
            "count": 0
           },
           {
            "bin_start": 0.015964055212204804,
            "bin_end": 0.018494614599016624,
            "count": 0
           },
           {
            "bin_start": 0.018494614599016624,
            "bin_end": 0.021025173985828448,
            "count": 0
           },
           {
            "bin_start": 0.021025173985828448,
            "bin_end": 0.023555733372640268,
            "count": 0
           },
           {
            "bin_start": 0.023555733372640268,
            "bin_end": 0.02608629275945209,
            "count": 0
           },
           {
            "bin_start": 0.02608629275945209,
            "bin_end": 0.028616852146263912,
            "count": 1
           }
          ]
         }
        },
        {
         "name": "EducationField_Life Sciences",
         "dtype": "float64",
         "stats": {
          "unique_count": 2,
          "nan_count": 0,
          "min": "0.38576158940397354",
          "max": "0.45151033386327505",
          "histogram": [
           {
            "bin_start": 0.38576158940397354,
            "bin_end": 0.39233646384990367,
            "count": 1
           },
           {
            "bin_start": 0.39233646384990367,
            "bin_end": 0.39891133829583386,
            "count": 0
           },
           {
            "bin_start": 0.39891133829583386,
            "bin_end": 0.405486212741764,
            "count": 0
           },
           {
            "bin_start": 0.405486212741764,
            "bin_end": 0.41206108718769413,
            "count": 0
           },
           {
            "bin_start": 0.41206108718769413,
            "bin_end": 0.41863596163362427,
            "count": 0
           },
           {
            "bin_start": 0.41863596163362427,
            "bin_end": 0.42521083607955446,
            "count": 0
           },
           {
            "bin_start": 0.42521083607955446,
            "bin_end": 0.4317857105254846,
            "count": 0
           },
           {
            "bin_start": 0.4317857105254846,
            "bin_end": 0.4383605849714147,
            "count": 0
           },
           {
            "bin_start": 0.4383605849714147,
            "bin_end": 0.4449354594173449,
            "count": 0
           },
           {
            "bin_start": 0.4449354594173449,
            "bin_end": 0.45151033386327505,
            "count": 1
           }
          ]
         }
        },
        {
         "name": "EducationField_Marketing",
         "dtype": "float64",
         "stats": {
          "unique_count": 2,
          "nan_count": 0,
          "min": "0.0",
          "max": "0.2052980132450331",
          "histogram": [
           {
            "bin_start": 0,
            "bin_end": 0.02052980132450331,
            "count": 1
           },
           {
            "bin_start": 0.02052980132450331,
            "bin_end": 0.04105960264900662,
            "count": 0
           },
           {
            "bin_start": 0.04105960264900662,
            "bin_end": 0.061589403973509926,
            "count": 0
           },
           {
            "bin_start": 0.061589403973509926,
            "bin_end": 0.08211920529801324,
            "count": 0
           },
           {
            "bin_start": 0.08211920529801324,
            "bin_end": 0.10264900662251655,
            "count": 0
           },
           {
            "bin_start": 0.10264900662251655,
            "bin_end": 0.12317880794701985,
            "count": 0
           },
           {
            "bin_start": 0.12317880794701985,
            "bin_end": 0.14370860927152318,
            "count": 0
           },
           {
            "bin_start": 0.14370860927152318,
            "bin_end": 0.16423841059602648,
            "count": 0
           },
           {
            "bin_start": 0.16423841059602648,
            "bin_end": 0.18476821192052978,
            "count": 0
           },
           {
            "bin_start": 0.18476821192052978,
            "bin_end": 0.2052980132450331,
            "count": 1
           }
          ]
         }
        },
        {
         "name": "EducationField_Medical",
         "dtype": "float64",
         "stats": {
          "unique_count": 2,
          "nan_count": 0,
          "min": "0.2847682119205298",
          "max": "0.3640699523052464",
          "histogram": [
           {
            "bin_start": 0.2847682119205298,
            "bin_end": 0.2926983859590015,
            "count": 1
           },
           {
            "bin_start": 0.2926983859590015,
            "bin_end": 0.3006285599974731,
            "count": 0
           },
           {
            "bin_start": 0.3006285599974731,
            "bin_end": 0.3085587340359448,
            "count": 0
           },
           {
            "bin_start": 0.3085587340359448,
            "bin_end": 0.31648890807441643,
            "count": 0
           },
           {
            "bin_start": 0.31648890807441643,
            "bin_end": 0.3244190821128881,
            "count": 0
           },
           {
            "bin_start": 0.3244190821128881,
            "bin_end": 0.3323492561513598,
            "count": 0
           },
           {
            "bin_start": 0.3323492561513598,
            "bin_end": 0.3402794301898314,
            "count": 0
           },
           {
            "bin_start": 0.3402794301898314,
            "bin_end": 0.3482096042283031,
            "count": 0
           },
           {
            "bin_start": 0.3482096042283031,
            "bin_end": 0.35613977826677473,
            "count": 0
           },
           {
            "bin_start": 0.35613977826677473,
            "bin_end": 0.3640699523052464,
            "count": 1
           }
          ]
         }
        },
        {
         "name": "EducationField_Other",
         "dtype": "float64",
         "stats": {
          "unique_count": 2,
          "nan_count": 0,
          "min": "0.04470198675496689",
          "max": "0.06995230524642289",
          "histogram": [
           {
            "bin_start": 0.04470198675496689,
            "bin_end": 0.047227018604112485,
            "count": 1
           },
           {
            "bin_start": 0.047227018604112485,
            "bin_end": 0.04975205045325809,
            "count": 0
           },
           {
            "bin_start": 0.04975205045325809,
            "bin_end": 0.05227708230240369,
            "count": 0
           },
           {
            "bin_start": 0.05227708230240369,
            "bin_end": 0.054802114151549286,
            "count": 0
           },
           {
            "bin_start": 0.054802114151549286,
            "bin_end": 0.057327146000694884,
            "count": 0
           },
           {
            "bin_start": 0.057327146000694884,
            "bin_end": 0.05985217784984049,
            "count": 0
           },
           {
            "bin_start": 0.05985217784984049,
            "bin_end": 0.06237720969898609,
            "count": 0
           },
           {
            "bin_start": 0.06237720969898609,
            "bin_end": 0.06490224154813169,
            "count": 0
           },
           {
            "bin_start": 0.06490224154813169,
            "bin_end": 0.06742727339727729,
            "count": 0
           },
           {
            "bin_start": 0.06742727339727729,
            "bin_end": 0.06995230524642289,
            "count": 1
           }
          ]
         }
        },
        {
         "name": "EducationField_Technical Degree",
         "dtype": "float64",
         "stats": {
          "unique_count": 2,
          "nan_count": 0,
          "min": "0.076158940397351",
          "max": "0.08585055643879173",
          "histogram": [
           {
            "bin_start": 0.076158940397351,
            "bin_end": 0.07712810200149507,
            "count": 1
           },
           {
            "bin_start": 0.07712810200149507,
            "bin_end": 0.07809726360563914,
            "count": 0
           },
           {
            "bin_start": 0.07809726360563914,
            "bin_end": 0.07906642520978321,
            "count": 0
           },
           {
            "bin_start": 0.07906642520978321,
            "bin_end": 0.08003558681392729,
            "count": 0
           },
           {
            "bin_start": 0.08003558681392729,
            "bin_end": 0.08100474841807137,
            "count": 0
           },
           {
            "bin_start": 0.08100474841807137,
            "bin_end": 0.08197391002221543,
            "count": 0
           },
           {
            "bin_start": 0.08197391002221543,
            "bin_end": 0.08294307162635951,
            "count": 0
           },
           {
            "bin_start": 0.08294307162635951,
            "bin_end": 0.08391223323050359,
            "count": 0
           },
           {
            "bin_start": 0.08391223323050359,
            "bin_end": 0.08488139483464766,
            "count": 0
           },
           {
            "bin_start": 0.08488139483464766,
            "bin_end": 0.08585055643879173,
            "count": 1
           }
          ]
         }
        },
        {
         "name": "JobRole_Healthcare Representative",
         "dtype": "float64",
         "stats": {
          "unique_count": 2,
          "nan_count": 0,
          "min": "0.056291390728476824",
          "max": "0.13990461049284578",
          "histogram": [
           {
            "bin_start": 0.056291390728476824,
            "bin_end": 0.06465271270491371,
            "count": 1
           },
           {
            "bin_start": 0.06465271270491371,
            "bin_end": 0.07301403468135062,
            "count": 0
           },
           {
            "bin_start": 0.07301403468135062,
            "bin_end": 0.0813753566577875,
            "count": 0
           },
           {
            "bin_start": 0.0813753566577875,
            "bin_end": 0.08973667863422441,
            "count": 0
           },
           {
            "bin_start": 0.08973667863422441,
            "bin_end": 0.09809800061066129,
            "count": 0
           },
           {
            "bin_start": 0.09809800061066129,
            "bin_end": 0.1064593225870982,
            "count": 0
           },
           {
            "bin_start": 0.1064593225870982,
            "bin_end": 0.11482064456353508,
            "count": 0
           },
           {
            "bin_start": 0.11482064456353508,
            "bin_end": 0.12318196653997199,
            "count": 0
           },
           {
            "bin_start": 0.12318196653997199,
            "bin_end": 0.13154328851640887,
            "count": 0
           },
           {
            "bin_start": 0.13154328851640887,
            "bin_end": 0.13990461049284578,
            "count": 1
           }
          ]
         }
        },
        {
         "name": "JobRole_Human Resources",
         "dtype": "float64",
         "stats": {
          "unique_count": 2,
          "nan_count": 0,
          "min": "0.014900662251655629",
          "max": "0.0492845786963434",
          "histogram": [
           {
            "bin_start": 0.014900662251655629,
            "bin_end": 0.018339053896124405,
            "count": 1
           },
           {
            "bin_start": 0.018339053896124405,
            "bin_end": 0.021777445540593184,
            "count": 0
           },
           {
            "bin_start": 0.021777445540593184,
            "bin_end": 0.02521583718506196,
            "count": 0
           },
           {
            "bin_start": 0.02521583718506196,
            "bin_end": 0.02865422882953074,
            "count": 0
           },
           {
            "bin_start": 0.02865422882953074,
            "bin_end": 0.032092620473999516,
            "count": 0
           },
           {
            "bin_start": 0.032092620473999516,
            "bin_end": 0.03553101211846829,
            "count": 0
           },
           {
            "bin_start": 0.03553101211846829,
            "bin_end": 0.038969403762937074,
            "count": 0
           },
           {
            "bin_start": 0.038969403762937074,
            "bin_end": 0.04240779540740584,
            "count": 0
           },
           {
            "bin_start": 0.04240779540740584,
            "bin_end": 0.045846187051874626,
            "count": 0
           },
           {
            "bin_start": 0.045846187051874626,
            "bin_end": 0.0492845786963434,
            "count": 1
           }
          ]
         }
        },
        {
         "name": "JobRole_Laboratory Technician",
         "dtype": "float64",
         "stats": {
          "unique_count": 2,
          "nan_count": 0,
          "min": "0.09437086092715231",
          "max": "0.22257551669316375",
          "histogram": [
           {
            "bin_start": 0.09437086092715231,
            "bin_end": 0.10719132650375346,
            "count": 1
           },
           {
            "bin_start": 0.10719132650375346,
            "bin_end": 0.12001179208035459,
            "count": 0
           },
           {
            "bin_start": 0.12001179208035459,
            "bin_end": 0.13283225765695572,
            "count": 0
           },
           {
            "bin_start": 0.13283225765695572,
            "bin_end": 0.14565272323355688,
            "count": 0
           },
           {
            "bin_start": 0.14565272323355688,
            "bin_end": 0.15847318881015804,
            "count": 0
           },
           {
            "bin_start": 0.15847318881015804,
            "bin_end": 0.17129365438675914,
            "count": 0
           },
           {
            "bin_start": 0.17129365438675914,
            "bin_end": 0.1841141199633603,
            "count": 0
           },
           {
            "bin_start": 0.1841141199633603,
            "bin_end": 0.19693458553996146,
            "count": 0
           },
           {
            "bin_start": 0.19693458553996146,
            "bin_end": 0.2097550511165626,
            "count": 0
           },
           {
            "bin_start": 0.2097550511165626,
            "bin_end": 0.22257551669316375,
            "count": 1
           }
          ]
         }
        },
        {
         "name": "JobRole_Manager",
         "dtype": "float64",
         "stats": {
          "unique_count": 2,
          "nan_count": 0,
          "min": "0.07631160572337042",
          "max": "0.08112582781456953",
          "histogram": [
           {
            "bin_start": 0.07631160572337042,
            "bin_end": 0.07679302793249033,
            "count": 1
           },
           {
            "bin_start": 0.07679302793249033,
            "bin_end": 0.07727445014161025,
            "count": 0
           },
           {
            "bin_start": 0.07727445014161025,
            "bin_end": 0.07775587235073016,
            "count": 0
           },
           {
            "bin_start": 0.07775587235073016,
            "bin_end": 0.07823729455985007,
            "count": 0
           },
           {
            "bin_start": 0.07823729455985007,
            "bin_end": 0.07871871676896998,
            "count": 0
           },
           {
            "bin_start": 0.07871871676896998,
            "bin_end": 0.07920013897808989,
            "count": 0
           },
           {
            "bin_start": 0.07920013897808989,
            "bin_end": 0.0796815611872098,
            "count": 0
           },
           {
            "bin_start": 0.0796815611872098,
            "bin_end": 0.08016298339632971,
            "count": 0
           },
           {
            "bin_start": 0.08016298339632971,
            "bin_end": 0.08064440560544962,
            "count": 0
           },
           {
            "bin_start": 0.08064440560544962,
            "bin_end": 0.08112582781456953,
            "count": 1
           }
          ]
         }
        },
        {
         "name": "JobRole_Manufacturing Director",
         "dtype": "float64",
         "stats": {
          "unique_count": 2,
          "nan_count": 0,
          "min": "0.06456953642384106",
          "max": "0.15262321144674085",
          "histogram": [
           {
            "bin_start": 0.06456953642384106,
            "bin_end": 0.07337490392613104,
            "count": 1
           },
           {
            "bin_start": 0.07337490392613104,
            "bin_end": 0.08218027142842102,
            "count": 0
           },
           {
            "bin_start": 0.08218027142842102,
            "bin_end": 0.09098563893071099,
            "count": 0
           },
           {
            "bin_start": 0.09098563893071099,
            "bin_end": 0.09979100643300097,
            "count": 0
           },
           {
            "bin_start": 0.09979100643300097,
            "bin_end": 0.10859637393529095,
            "count": 0
           },
           {
            "bin_start": 0.10859637393529095,
            "bin_end": 0.11740174143758092,
            "count": 0
           },
           {
            "bin_start": 0.11740174143758092,
            "bin_end": 0.12620710893987092,
            "count": 0
           },
           {
            "bin_start": 0.12620710893987092,
            "bin_end": 0.13501247644216088,
            "count": 0
           },
           {
            "bin_start": 0.13501247644216088,
            "bin_end": 0.14381784394445085,
            "count": 0
           },
           {
            "bin_start": 0.14381784394445085,
            "bin_end": 0.15262321144674085,
            "count": 1
           }
          ]
         }
        },
        {
         "name": "JobRole_Research Director",
         "dtype": "float64",
         "stats": {
          "unique_count": 2,
          "nan_count": 0,
          "min": "0.029801324503311258",
          "max": "0.09538950715421304",
          "histogram": [
           {
            "bin_start": 0.029801324503311258,
            "bin_end": 0.03636014276840144,
            "count": 1
           },
           {
            "bin_start": 0.03636014276840144,
            "bin_end": 0.04291896103349162,
            "count": 0
           },
           {
            "bin_start": 0.04291896103349162,
            "bin_end": 0.04947777929858179,
            "count": 0
           },
           {
            "bin_start": 0.04947777929858179,
            "bin_end": 0.05603659756367197,
            "count": 0
           },
           {
            "bin_start": 0.05603659756367197,
            "bin_end": 0.06259541582876216,
            "count": 0
           },
           {
            "bin_start": 0.06259541582876216,
            "bin_end": 0.06915423409385232,
            "count": 0
           },
           {
            "bin_start": 0.06915423409385232,
            "bin_end": 0.0757130523589425,
            "count": 0
           },
           {
            "bin_start": 0.0757130523589425,
            "bin_end": 0.08227187062403268,
            "count": 0
           },
           {
            "bin_start": 0.08227187062403268,
            "bin_end": 0.08883068888912286,
            "count": 0
           },
           {
            "bin_start": 0.08883068888912286,
            "bin_end": 0.09538950715421304,
            "count": 1
           }
          ]
         }
        },
        {
         "name": "JobRole_Research Scientist",
         "dtype": "float64",
         "stats": {
          "unique_count": 2,
          "nan_count": 0,
          "min": "0.13079470198675497",
          "max": "0.26391096979332274",
          "histogram": [
           {
            "bin_start": 0.13079470198675497,
            "bin_end": 0.14410632876741175,
            "count": 1
           },
           {
            "bin_start": 0.14410632876741175,
            "bin_end": 0.15741795554806853,
            "count": 0
           },
           {
            "bin_start": 0.15741795554806853,
            "bin_end": 0.17072958232872532,
            "count": 0
           },
           {
            "bin_start": 0.17072958232872532,
            "bin_end": 0.18404120910938207,
            "count": 0
           },
           {
            "bin_start": 0.18404120910938207,
            "bin_end": 0.19735283589003885,
            "count": 0
           },
           {
            "bin_start": 0.19735283589003885,
            "bin_end": 0.21066446267069563,
            "count": 0
           },
           {
            "bin_start": 0.21066446267069563,
            "bin_end": 0.2239760894513524,
            "count": 0
           },
           {
            "bin_start": 0.2239760894513524,
            "bin_end": 0.23728771623200917,
            "count": 0
           },
           {
            "bin_start": 0.23728771623200917,
            "bin_end": 0.25059934301266595,
            "count": 0
           },
           {
            "bin_start": 0.25059934301266595,
            "bin_end": 0.26391096979332274,
            "count": 1
           }
          ]
         }
        },
        {
         "name": "JobRole_Sales Executive",
         "dtype": "float64",
         "stats": {
          "unique_count": 2,
          "nan_count": 0,
          "min": "0.0",
          "max": "0.445364238410596",
          "histogram": [
           {
            "bin_start": 0,
            "bin_end": 0.0445364238410596,
            "count": 1
           },
           {
            "bin_start": 0.0445364238410596,
            "bin_end": 0.0890728476821192,
            "count": 0
           },
           {
            "bin_start": 0.0890728476821192,
            "bin_end": 0.1336092715231788,
            "count": 0
           },
           {
            "bin_start": 0.1336092715231788,
            "bin_end": 0.1781456953642384,
            "count": 0
           },
           {
            "bin_start": 0.1781456953642384,
            "bin_end": 0.222682119205298,
            "count": 0
           },
           {
            "bin_start": 0.222682119205298,
            "bin_end": 0.2672185430463576,
            "count": 0
           },
           {
            "bin_start": 0.2672185430463576,
            "bin_end": 0.3117549668874172,
            "count": 0
           },
           {
            "bin_start": 0.3117549668874172,
            "bin_end": 0.3562913907284768,
            "count": 0
           },
           {
            "bin_start": 0.3562913907284768,
            "bin_end": 0.4008278145695364,
            "count": 0
           },
           {
            "bin_start": 0.4008278145695364,
            "bin_end": 0.445364238410596,
            "count": 1
           }
          ]
         }
        },
        {
         "name": "JobRole_Sales Representative",
         "dtype": "float64",
         "stats": {
          "unique_count": 2,
          "nan_count": 0,
          "min": "0.0",
          "max": "0.08278145695364239",
          "histogram": [
           {
            "bin_start": 0,
            "bin_end": 0.008278145695364239,
            "count": 1
           },
           {
            "bin_start": 0.008278145695364239,
            "bin_end": 0.016556291390728478,
            "count": 0
           },
           {
            "bin_start": 0.016556291390728478,
            "bin_end": 0.024834437086092717,
            "count": 0
           },
           {
            "bin_start": 0.024834437086092717,
            "bin_end": 0.033112582781456956,
            "count": 0
           },
           {
            "bin_start": 0.033112582781456956,
            "bin_end": 0.041390728476821195,
            "count": 0
           },
           {
            "bin_start": 0.041390728476821195,
            "bin_end": 0.049668874172185434,
            "count": 0
           },
           {
            "bin_start": 0.049668874172185434,
            "bin_end": 0.05794701986754967,
            "count": 0
           },
           {
            "bin_start": 0.05794701986754967,
            "bin_end": 0.06622516556291391,
            "count": 0
           },
           {
            "bin_start": 0.06622516556291391,
            "bin_end": 0.07450331125827815,
            "count": 0
           },
           {
            "bin_start": 0.07450331125827815,
            "bin_end": 0.08278145695364239,
            "count": 1
           }
          ]
         }
        },
        {
         "name": "MaritalStatus_Divorced",
         "dtype": "float64",
         "stats": {
          "unique_count": 2,
          "nan_count": 0,
          "min": "0.12748344370860928",
          "max": "0.3449920508744038",
          "histogram": [
           {
            "bin_start": 0.12748344370860928,
            "bin_end": 0.14923430442518873,
            "count": 1
           },
           {
            "bin_start": 0.14923430442518873,
            "bin_end": 0.1709851651417682,
            "count": 0
           },
           {
            "bin_start": 0.1709851651417682,
            "bin_end": 0.19273602585834765,
            "count": 0
           },
           {
            "bin_start": 0.19273602585834765,
            "bin_end": 0.2144868865749271,
            "count": 0
           },
           {
            "bin_start": 0.2144868865749271,
            "bin_end": 0.23623774729150654,
            "count": 0
           },
           {
            "bin_start": 0.23623774729150654,
            "bin_end": 0.257988608008086,
            "count": 0
           },
           {
            "bin_start": 0.257988608008086,
            "bin_end": 0.2797394687246655,
            "count": 0
           },
           {
            "bin_start": 0.2797394687246655,
            "bin_end": 0.3014903294412449,
            "count": 0
           },
           {
            "bin_start": 0.3014903294412449,
            "bin_end": 0.3232411901578244,
            "count": 0
           },
           {
            "bin_start": 0.3232411901578244,
            "bin_end": 0.3449920508744038,
            "count": 1
           }
          ]
         }
        },
        {
         "name": "MaritalStatus_Married",
         "dtype": "float64",
         "stats": {
          "unique_count": 2,
          "nan_count": 0,
          "min": "0.29304635761589404",
          "max": "0.6550079491255962",
          "histogram": [
           {
            "bin_start": 0.29304635761589404,
            "bin_end": 0.3292425167668643,
            "count": 1
           },
           {
            "bin_start": 0.3292425167668643,
            "bin_end": 0.36543867591783447,
            "count": 0
           },
           {
            "bin_start": 0.36543867591783447,
            "bin_end": 0.4016348350688047,
            "count": 0
           },
           {
            "bin_start": 0.4016348350688047,
            "bin_end": 0.4378309942197749,
            "count": 0
           },
           {
            "bin_start": 0.4378309942197749,
            "bin_end": 0.47402715337074514,
            "count": 0
           },
           {
            "bin_start": 0.47402715337074514,
            "bin_end": 0.5102233125217154,
            "count": 0
           },
           {
            "bin_start": 0.5102233125217154,
            "bin_end": 0.5464194716726856,
            "count": 0
           },
           {
            "bin_start": 0.5464194716726856,
            "bin_end": 0.5826156308236559,
            "count": 0
           },
           {
            "bin_start": 0.5826156308236559,
            "bin_end": 0.618811789974626,
            "count": 0
           },
           {
            "bin_start": 0.618811789974626,
            "bin_end": 0.6550079491255962,
            "count": 1
           }
          ]
         }
        },
        {
         "name": "MaritalStatus_Single",
         "dtype": "float64",
         "stats": {
          "unique_count": 2,
          "nan_count": 0,
          "min": "0.0",
          "max": "0.5794701986754967",
          "histogram": [
           {
            "bin_start": 0,
            "bin_end": 0.057947019867549666,
            "count": 1
           },
           {
            "bin_start": 0.057947019867549666,
            "bin_end": 0.11589403973509933,
            "count": 0
           },
           {
            "bin_start": 0.11589403973509933,
            "bin_end": 0.173841059602649,
            "count": 0
           },
           {
            "bin_start": 0.173841059602649,
            "bin_end": 0.23178807947019867,
            "count": 0
           },
           {
            "bin_start": 0.23178807947019867,
            "bin_end": 0.2897350993377483,
            "count": 0
           },
           {
            "bin_start": 0.2897350993377483,
            "bin_end": 0.347682119205298,
            "count": 0
           },
           {
            "bin_start": 0.347682119205298,
            "bin_end": 0.40562913907284764,
            "count": 0
           },
           {
            "bin_start": 0.40562913907284764,
            "bin_end": 0.46357615894039733,
            "count": 0
           },
           {
            "bin_start": 0.46357615894039733,
            "bin_end": 0.521523178807947,
            "count": 0
           },
           {
            "bin_start": 0.521523178807947,
            "bin_end": 0.5794701986754967,
            "count": 1
           }
          ]
         }
        },
        {
         "name": "_deepnote_index_column",
         "dtype": "int64"
        }
       ],
       "rows": [
        {
         "Age": 0.48020289196759786,
         "BusinessTravel": 0.5294117647058824,
         "DailyRate": 0.5257723511544725,
         "DistanceFromHome": 0.2863956393368158,
         "Education": 0.47456279809220986,
         "EmployeeNumber": 0.4981893230853996,
         "EnvironmentSatisfaction": 0.5903550609432963,
         "Gender": 0.6232114467408585,
         "HourlyRate": 0.521667045196457,
         "JobInvolvement": 0.5961844197138315,
         "JobLevel": 0.27782193958664547,
         "JobSatisfaction": 0.5723370429252782,
         "MonthlyIncome": 0.30541649759881706,
         "MonthlyRate": 0.4817143936598007,
         "NumCompaniesWorked": 0.302066772655008,
         "OverTime": 0.2543720190779014,
         "PercentSalaryHike": 0.3097887803770156,
         "PerformanceRating": 0.16534181240063592,
         "RelationshipSatisfaction": 0.5627980922098569,
         "StockOptionLevel": 0.3937466878643349,
         "TotalWorkingYears": 0.31783951133796334,
         "TrainingTimesLastYear": 0.46184419713831476,
         "WorkLifeBalance": 0.5818759936406995,
         "YearsAtCompany": 0.2003179650238474,
         "YearsInCurrentRole": 0.24827768945416004,
         "YearsSinceLastPromotion": 0.14976152623211447,
         "YearsWithCurrManager": 0.25399794257925745,
         "Department_Human Resources": 0.06200317965023847,
         "Department_Research & Development": 0.9379968203497615,
         "Department_Sales": 0,
         "EducationField_Human Resources": 0.028616852146263912,
         "EducationField_Life Sciences": 0.45151033386327505,
         "EducationField_Marketing": 0,
         "EducationField_Medical": 0.3640699523052464,
         "EducationField_Other": 0.06995230524642289,
         "EducationField_Technical Degree": 0.08585055643879173,
         "JobRole_Healthcare Representative": 0.13990461049284578,
         "JobRole_Human Resources": 0.0492845786963434,
         "JobRole_Laboratory Technician": 0.22257551669316375,
         "JobRole_Manager": 0.07631160572337042,
         "JobRole_Manufacturing Director": 0.15262321144674085,
         "JobRole_Research Director": 0.09538950715421304,
         "JobRole_Research Scientist": 0.26391096979332274,
         "JobRole_Sales Executive": 0,
         "JobRole_Sales Representative": 0,
         "MaritalStatus_Divorced": 0.3449920508744038,
         "MaritalStatus_Married": 0.6550079491255962,
         "MaritalStatus_Single": 0,
         "_deepnote_index_column": 0
        },
        {
         "Age": 0.45068590350047294,
         "BusinessTravel": 0.527317880794702,
         "DailyRate": 0.4907026409477262,
         "DistanceFromHome": 0.2788552507095553,
         "Education": 0.48923841059602646,
         "EmployeeNumber": 0.4946292224152632,
         "EnvironmentSatisfaction": 0.5905077262693157,
         "Gender": 0.5629139072847682,
         "HourlyRate": 0.5052034058656575,
         "JobInvolvement": 0.5838852097130243,
         "JobLevel": 0.2955298013245033,
         "JobSatisfaction": 0.6142384105960265,
         "MonthlyIncome": 0.30484634139862743,
         "MonthlyRate": 0.49611273196957834,
         "NumCompaniesWorked": 0.28550404709345106,
         "OverTime": 0.21357615894039736,
         "PercentSalaryHike": 0.2943472090823084,
         "PerformanceRating": 0.14072847682119205,
         "RelationshipSatisfaction": 0.5938189845474614,
         "StockOptionLevel": 0.1650110375275938,
         "TotalWorkingYears": 0.30629139072847683,
         "TrainingTimesLastYear": 0.4828918322295805,
         "WorkLifeBalance": 0.6059602649006622,
         "YearsAtCompany": 0.19795954895292645,
         "YearsInCurrentRole": 0.25,
         "YearsSinceLastPromotion": 0.14812362030905077,
         "YearsWithCurrManager": 0.2599337748344371,
         "Department_Human Resources": 0.019867549668874173,
         "Department_Research & Development": 0.39403973509933776,
         "Department_Sales": 0.5860927152317881,
         "EducationField_Human Resources": 0.0033112582781456954,
         "EducationField_Life Sciences": 0.38576158940397354,
         "EducationField_Marketing": 0.2052980132450331,
         "EducationField_Medical": 0.2847682119205298,
         "EducationField_Other": 0.04470198675496689,
         "EducationField_Technical Degree": 0.076158940397351,
         "JobRole_Healthcare Representative": 0.056291390728476824,
         "JobRole_Human Resources": 0.014900662251655629,
         "JobRole_Laboratory Technician": 0.09437086092715231,
         "JobRole_Manager": 0.08112582781456953,
         "JobRole_Manufacturing Director": 0.06456953642384106,
         "JobRole_Research Director": 0.029801324503311258,
         "JobRole_Research Scientist": 0.13079470198675497,
         "JobRole_Sales Executive": 0.445364238410596,
         "JobRole_Sales Representative": 0.08278145695364239,
         "MaritalStatus_Divorced": 0.12748344370860928,
         "MaritalStatus_Married": 0.29304635761589404,
         "MaritalStatus_Single": 0.5794701986754967,
         "_deepnote_index_column": 1
        }
       ]
      },
      "text/plain": "             Age  BusinessTravel  DailyRate  DistanceFromHome  Education  \\\nlabels                                                                     \n0       0.480203        0.529412   0.525772          0.286396   0.474563   \n1       0.450686        0.527318   0.490703          0.278855   0.489238   \n\n        EmployeeNumber  EnvironmentSatisfaction    Gender  HourlyRate  \\\nlabels                                                                  \n0             0.498189                 0.590355  0.623211    0.521667   \n1             0.494629                 0.590508  0.562914    0.505203   \n\n        JobInvolvement  ...  JobRole_Laboratory Technician  JobRole_Manager  \\\nlabels                  ...                                                   \n0             0.596184  ...                       0.222576         0.076312   \n1             0.583885  ...                       0.094371         0.081126   \n\n        JobRole_Manufacturing Director  JobRole_Research Director  \\\nlabels                                                              \n0                             0.152623                   0.095390   \n1                             0.064570                   0.029801   \n\n        JobRole_Research Scientist  JobRole_Sales Executive  \\\nlabels                                                        \n0                         0.263911                 0.000000   \n1                         0.130795                 0.445364   \n\n        JobRole_Sales Representative  MaritalStatus_Divorced  \\\nlabels                                                         \n0                           0.000000                0.344992   \n1                           0.082781                0.127483   \n\n        MaritalStatus_Married  MaritalStatus_Single  \nlabels                                               \n0                    0.655008               0.00000  \n1                    0.293046               0.57947  \n\n[2 rows x 48 columns]",
      "text/html": "<div>\n<style scoped>\n    .dataframe tbody tr th:only-of-type {\n        vertical-align: middle;\n    }\n\n    .dataframe tbody tr th {\n        vertical-align: top;\n    }\n\n    .dataframe thead th {\n        text-align: right;\n    }\n</style>\n<table border=\"1\" class=\"dataframe\">\n  <thead>\n    <tr style=\"text-align: right;\">\n      <th></th>\n      <th>Age</th>\n      <th>BusinessTravel</th>\n      <th>DailyRate</th>\n      <th>DistanceFromHome</th>\n      <th>Education</th>\n      <th>EmployeeNumber</th>\n      <th>EnvironmentSatisfaction</th>\n      <th>Gender</th>\n      <th>HourlyRate</th>\n      <th>JobInvolvement</th>\n      <th>...</th>\n      <th>JobRole_Laboratory Technician</th>\n      <th>JobRole_Manager</th>\n      <th>JobRole_Manufacturing Director</th>\n      <th>JobRole_Research Director</th>\n      <th>JobRole_Research Scientist</th>\n      <th>JobRole_Sales Executive</th>\n      <th>JobRole_Sales Representative</th>\n      <th>MaritalStatus_Divorced</th>\n      <th>MaritalStatus_Married</th>\n      <th>MaritalStatus_Single</th>\n    </tr>\n    <tr>\n      <th>labels</th>\n      <th></th>\n      <th></th>\n      <th></th>\n      <th></th>\n      <th></th>\n      <th></th>\n      <th></th>\n      <th></th>\n      <th></th>\n      <th></th>\n      <th></th>\n      <th></th>\n      <th></th>\n      <th></th>\n      <th></th>\n      <th></th>\n      <th></th>\n      <th></th>\n      <th></th>\n      <th></th>\n      <th></th>\n    </tr>\n  </thead>\n  <tbody>\n    <tr>\n      <th>0</th>\n      <td>0.480203</td>\n      <td>0.529412</td>\n      <td>0.525772</td>\n      <td>0.286396</td>\n      <td>0.474563</td>\n      <td>0.498189</td>\n      <td>0.590355</td>\n      <td>0.623211</td>\n      <td>0.521667</td>\n      <td>0.596184</td>\n      <td>...</td>\n      <td>0.222576</td>\n      <td>0.076312</td>\n      <td>0.152623</td>\n      <td>0.095390</td>\n      <td>0.263911</td>\n      <td>0.000000</td>\n      <td>0.000000</td>\n      <td>0.344992</td>\n      <td>0.655008</td>\n      <td>0.00000</td>\n    </tr>\n    <tr>\n      <th>1</th>\n      <td>0.450686</td>\n      <td>0.527318</td>\n      <td>0.490703</td>\n      <td>0.278855</td>\n      <td>0.489238</td>\n      <td>0.494629</td>\n      <td>0.590508</td>\n      <td>0.562914</td>\n      <td>0.505203</td>\n      <td>0.583885</td>\n      <td>...</td>\n      <td>0.094371</td>\n      <td>0.081126</td>\n      <td>0.064570</td>\n      <td>0.029801</td>\n      <td>0.130795</td>\n      <td>0.445364</td>\n      <td>0.082781</td>\n      <td>0.127483</td>\n      <td>0.293046</td>\n      <td>0.57947</td>\n    </tr>\n  </tbody>\n</table>\n<p>2 rows × 48 columns</p>\n</div>"
     },
     "metadata": {}
    }
   ]
  },
  {
   "cell_type": "code",
   "metadata": {
    "cell_id": "b1389ad2-4a37-477c-bf92-9f139213f223",
    "tags": [],
    "deepnote_to_be_reexecuted": false,
    "source_hash": "6691fa59",
    "execution_start": 1646738655531,
    "execution_millis": 1198,
    "deepnote_cell_type": "code",
    "deepnote_cell_height": 84
   },
   "source": "fig = plt.figure(figsize=(20,10))\nsns.heatmap(df_HR_KMeans_grouped)",
   "execution_count": null,
   "outputs": [
    {
     "output_type": "execute_result",
     "execution_count": 19,
     "data": {
      "text/plain": "<AxesSubplot:ylabel='labels'>"
     },
     "metadata": {}
    },
    {
     "data": {
      "text/plain": "<Figure size 1440x720 with 2 Axes>",
      "image/png": "[encoded data removed]"
     },
     "metadata": {
      "needs_background": "light",
      "image/png": {
       "width": 1044,
       "height": 757
      }
     },
     "output_type": "display_data"
    }
   ]
  },
  {
   "cell_type": "markdown",
   "source": "<a style='text-decoration:none;line-height:16px;display:flex;color:#5B5B62;padding:10px;justify-content:end;' href='https://deepnote.com?utm_source=created-in-deepnote-cell&projectId=6bb6c849-6b4b-49a2-8775-80ecb8e8b9b2' target=\"_blank\">\n<img alt='Created in deepnote.com' style='display:inline;max-height:16px;margin:0px;margin-right:7.5px;' src='data:image/svg+xml;base64,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' > </img>\nCreated in <span style='font-weight:600;margin-left:4px;'>Deepnote</span></a>",
   "metadata": {
    "tags": [],
    "created_in_deepnote_cell": true,
    "deepnote_cell_type": "markdown"
   }
  }
 ],
 "nbformat": 4,
 "nbformat_minor": 2,
 "metadata": {
  "orig_nbformat": 2,
  "deepnote": {
   "is_reactive": false
  },
  "deepnote_notebook_id": "a83e7b72-34ad-4c55-92f9-c967a9a2283e",
  "deepnote_execution_queue": []
 }
}